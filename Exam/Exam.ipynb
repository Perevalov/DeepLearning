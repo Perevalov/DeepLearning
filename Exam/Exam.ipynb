{
 "cells": [
  {
   "cell_type": "code",
   "execution_count": 1,
   "metadata": {
    "collapsed": true
   },
   "outputs": [],
   "source": [
    "import os\n",
    "\n",
    "import numpy as np\n",
    "\n",
    "from sklearn.neighbors import NearestNeighbors\n",
    "\n",
    "import matplotlib\n",
    "import matplotlib.pyplot as plt\n",
    "import seaborn as sns\n",
    "%matplotlib inline"
   ]
  },
  {
   "cell_type": "code",
   "execution_count": 2,
   "metadata": {
    "collapsed": true
   },
   "outputs": [],
   "source": [
    "sns.set(style=\"whitegrid\", font_scale=1.3)\n",
    "matplotlib.rcParams[\"legend.framealpha\"] = 1\n",
    "matplotlib.rcParams[\"legend.frameon\"] = True"
   ]
  },
  {
   "cell_type": "markdown",
   "metadata": {},
   "source": [
    "Deep Learning Course \n",
    " \n",
    "November, 2017\n",
    "\n",
    "**PLEASE Complete the following:**\n",
    "\n",
    "**Student Name:** [First Name, Last Name]\n",
    "\n",
    "**Email:** [e-mail]\n",
    "\n",
    "\n",
    "1. Please submit your question responses [here](https://canvas.instructure.com/courses/1234737/quizzes/2434840) and upload your exam notebook [here](https://canvas.instructure.com/courses/1234737/assignments/7347367) \n",
    "\n",
    "* Please keep all your work and responses in ONE (1) notebook only\n",
    "\n",
    "* Please do NOT discuss this exam with anyone (including your class mates) during exam time.  \n",
    "\n",
    "* please use the $\\textbf{np.round()}$ function to the required level of precision when providing numerical responses.\n",
    "\n",
    "\n",
    "This is an open book exam meaning you can consult webpages and textbooks, class notes, slides etc. but you can not each other or any other person/group. Please complete this exam by yourself within the time limit. \n",
    "\n",
    "* For markdown help in iPython Notebooks please see [here](https://sourceforge.net/p/ipython/discussion/markdown_syntax)"
   ]
  },
  {
   "cell_type": "markdown",
   "metadata": {},
   "source": [
    "# Question : Deep Learning"
   ]
  },
  {
   "cell_type": "markdown",
   "metadata": {},
   "source": [
    "## Task"
   ]
  },
  {
   "cell_type": "markdown",
   "metadata": {},
   "source": [
    "In the following list please indicate the items that make Deep Learning different from shallow Neural Nets? In other words, which of the following are features that were  used or invented to make deep learning work?\n",
    "\n",
    "1. GPU\n",
    "* CPU\n",
    "* Dropout\n",
    "* Many layers (>7)\n",
    "* BackProp\n",
    "\n",
    "Select the single most correct response from the following: \n",
    "\n",
    "+ 1,3,4\n",
    "+ 1,3,4,5\n",
    "+ 1,2,3,4\n",
    "+ NA"
   ]
  },
  {
   "cell_type": "markdown",
   "metadata": {},
   "source": [
    "## Answer"
   ]
  },
  {
   "cell_type": "code",
   "execution_count": null,
   "metadata": {
    "collapsed": true
   },
   "outputs": [],
   "source": []
  },
  {
   "cell_type": "markdown",
   "metadata": {},
   "source": [
    "# Introduction: Problem-Activation-Loss"
   ]
  },
  {
   "cell_type": "markdown",
   "metadata": {},
   "source": [
    "## Task"
   ]
  },
  {
   "cell_type": "markdown",
   "metadata": {},
   "source": [
    "Using the following table match up the type of supervised machine learning problem with a corresponding neural network activation function (output layer node) and loss function:\n",
    "\n",
    "| Problem | Activation | Loss\n",
    "| :- |:------------- | :-\n",
    "| 1. Regression | 4. Sigmoid  | 7. Categorical Crossentropy\n",
    "| 2. Binary Classification | 5. Softmax | 8. MSE\n",
    "| 3. Multiclass Classification | 6. Linear | 9. Binary Crossentropy\n",
    "\n",
    "E.g., a hypoothetical response could be 147, which would indicate that regression problems require a sigmoid activation fucntion in the output layer and a Categorical Crossentropy loss function. \n",
    "\n",
    "Here are possible combinations of *Problem, Activation, and Loss*. Select the single most correct response from the following\n",
    "\n",
    "* 169, 247, 349\n",
    "* 168, 249, 357\n",
    "* 167, 248, 349\n",
    "* 169, 247, 348"
   ]
  },
  {
   "cell_type": "markdown",
   "metadata": {},
   "source": [
    "## Answer"
   ]
  },
  {
   "cell_type": "code",
   "execution_count": null,
   "metadata": {
    "collapsed": true
   },
   "outputs": [],
   "source": []
  },
  {
   "cell_type": "markdown",
   "metadata": {},
   "source": [
    "# Classification: Perpendicular Distance"
   ]
  },
  {
   "cell_type": "markdown",
   "metadata": {},
   "source": [
    "## Task"
   ]
  },
  {
   "cell_type": "markdown",
   "metadata": {},
   "source": [
    "Calculate the signed normalizaed perpendicular distance from hyperplane $4x + 3y = 2$ to the point $(1; 3)$\n",
    "Please provide a response  within two decimal digits of precision in the form on LMS."
   ]
  },
  {
   "cell_type": "code",
   "execution_count": 3,
   "metadata": {},
   "outputs": [
    {
     "data": {
      "image/png": "[encoded data removed]",
      "text/plain": [
       "<matplotlib.figure.Figure at 0x7f20f6a2be80>"
      ]
     },
     "metadata": {},
     "output_type": "display_data"
    }
   ],
   "source": [
    "x = np.arange(-2, 5)\n",
    "plt.plot(x, (2. - 4. * x) / 3., lw=3)\n",
    "plt.gca().set_aspect('equal', adjustable='box')\n",
    "plt.scatter([1],[3], c=\"r\", s=80)\n",
    "plt.xlim([-2, 4])\n",
    "plt.ylim([-2, 4])\n",
    "plt.show()"
   ]
  },
  {
   "cell_type": "markdown",
   "metadata": {},
   "source": [
    "## Answer"
   ]
  },
  {
   "cell_type": "code",
   "execution_count": null,
   "metadata": {
    "collapsed": true
   },
   "outputs": [],
   "source": []
  },
  {
   "cell_type": "markdown",
   "metadata": {},
   "source": [
    "# Classification: Scores"
   ]
  },
  {
   "cell_type": "markdown",
   "metadata": {},
   "source": [
    "## Task"
   ]
  },
  {
   "cell_type": "markdown",
   "metadata": {},
   "source": [
    "Consider a three-class classification problem with the following separating hyperplanes:\n",
    "\n",
    "$$\n",
    "\\begin{align}\n",
    "4x + 3y - 9 = 0 & & 1^{\\text{st}} \\text{ class}\\\\\n",
    "-4x + 3y - 11 = 0 & & 2^{\\text{nd}} \\text{ class}\\\\\n",
    "-x - 3y - 1 = 0 & & 3^{\\text{rd}} \\text{ class}\n",
    "\\end{align}\n",
    "$$\n",
    "\n",
    "Calculate the score (unnormalized perpendicular distance) for each class.\n",
    "\n",
    "As a response provide all class scores within two decimal digits precision. Provide your response in the form on LMS"
   ]
  },
  {
   "cell_type": "code",
   "execution_count": 4,
   "metadata": {},
   "outputs": [
    {
     "data": {
      "image/png": "[encoded data removed]",
      "text/plain": [
       "<matplotlib.figure.Figure at 0x7f20f31bc940>"
      ]
     },
     "metadata": {},
     "output_type": "display_data"
    }
   ],
   "source": [
    "x = np.arange(-3, 5)\n",
    "plt.plot(x, (9. - 4. * x) / 3., label=\"1st\", lw=3)\n",
    "plt.plot(x, (11. + 4. * x) / 3., label=\"2nd\", lw=3)\n",
    "plt.plot(x, (-1. - 1. * x) / 3., label=\"3rd\", lw=3)\n",
    "plt.gca().set_aspect('equal', adjustable='box')\n",
    "plt.scatter([0], [1], c=\"k\", s=80)\n",
    "plt.xlim([-3, 4])\n",
    "plt.ylim([-3, 4])\n",
    "plt.legend()\n",
    "plt.show()"
   ]
  },
  {
   "cell_type": "code",
   "execution_count": 5,
   "metadata": {
    "collapsed": true
   },
   "outputs": [],
   "source": [
    "W = np.array([[4., 3.], \n",
    "              [-4., 3.], \n",
    "              [-1., -3.]])\n",
    "b = np.array([[-9.], \n",
    "              [-11.], \n",
    "              [-1.]])"
   ]
  },
  {
   "cell_type": "code",
   "execution_count": 6,
   "metadata": {
    "collapsed": true
   },
   "outputs": [],
   "source": [
    "x = np.array([[0.], \n",
    "              [1.]])"
   ]
  },
  {
   "cell_type": "markdown",
   "metadata": {},
   "source": [
    "## Answer"
   ]
  },
  {
   "cell_type": "code",
   "execution_count": null,
   "metadata": {
    "collapsed": true
   },
   "outputs": [],
   "source": []
  },
  {
   "cell_type": "markdown",
   "metadata": {},
   "source": [
    "# Classification: Probabilities"
   ]
  },
  {
   "cell_type": "markdown",
   "metadata": {},
   "source": [
    "## Task"
   ]
  },
  {
   "cell_type": "markdown",
   "metadata": {},
   "source": [
    "Using the setting from question 4 above please calculate the probabilities for each class using softmax.\n",
    "\n",
    "As a response provide all class probabilities within **five** decimal digits precision. Provide your response in the form on LMS"
   ]
  },
  {
   "cell_type": "markdown",
   "metadata": {},
   "source": [
    "## Answer"
   ]
  },
  {
   "cell_type": "code",
   "execution_count": null,
   "metadata": {
    "collapsed": true
   },
   "outputs": [],
   "source": []
  },
  {
   "cell_type": "markdown",
   "metadata": {},
   "source": [
    "# Classification: Predict Class"
   ]
  },
  {
   "cell_type": "markdown",
   "metadata": {},
   "source": [
    "## Task"
   ]
  },
  {
   "cell_type": "markdown",
   "metadata": {},
   "source": [
    "Take the data from question 5 above and predict the right class.\n",
    "\n",
    "Provide the number of a class ($1$, $2$ or $3$) as an answer."
   ]
  },
  {
   "cell_type": "markdown",
   "metadata": {},
   "source": [
    "## Answer"
   ]
  },
  {
   "cell_type": "code",
   "execution_count": null,
   "metadata": {
    "collapsed": true
   },
   "outputs": [],
   "source": []
  },
  {
   "cell_type": "markdown",
   "metadata": {},
   "source": [
    "# Optimization: Learning Rate"
   ]
  },
  {
   "cell_type": "markdown",
   "metadata": {},
   "source": [
    "## Task"
   ]
  },
  {
   "cell_type": "markdown",
   "metadata": {},
   "source": [
    "What is the purpose of learning rate when applying first order optimization methods to deep learning problems (e.g. Gradient Descent, AdaGrad, ADAM etc.)? \n",
    "\n",
    "Using the following statements:\n",
    "\n",
    "1. Avoids the calculation of the Hessian matrix\n",
    "* Prevents overfitting\n",
    "* Enables progress towards a good solution in the chosen gradient update direction (in each gradient update iteration)\n",
    "* Enables detection of a solution\n",
    "\n",
    "\n",
    "Select the single most correct response from the following: \n",
    "\n",
    "+ 1, 3 \n",
    "+ 1, 2, 3\n",
    "+ 3\n",
    "+ NA\n"
   ]
  },
  {
   "cell_type": "markdown",
   "metadata": {},
   "source": [
    "## Answer"
   ]
  },
  {
   "cell_type": "code",
   "execution_count": null,
   "metadata": {
    "collapsed": true
   },
   "outputs": [],
   "source": []
  },
  {
   "cell_type": "markdown",
   "metadata": {},
   "source": [
    "# Optimization: Optimal Conditions"
   ]
  },
  {
   "cell_type": "markdown",
   "metadata": {},
   "source": [
    "## Task"
   ]
  },
  {
   "cell_type": "markdown",
   "metadata": {},
   "source": [
    "In the case of unconstrained optimization problems select  the statements are true:\n",
    "\n",
    "1. In convex unconstrained optimization problems satisfying the first order condition is sufficient for determining a global extrema\n",
    "*  In non-convex unconstrained optimization problems satisfying the first order condition is sufficient for determining a global extrema\n",
    "*  In non-convex unconstrained optimization problems satisfying the first order condition and second order conditions are sufficient for determining a global extrema\n",
    "* Learning a multilayer Neural network is an example of convex optimization problem\n",
    "* Logistic regression is an example of convex optimization problem\n",
    "\n",
    "Choose the most correct of the following:\n",
    "\n",
    "* 1, 5\n",
    "* 1\n",
    "* 1, 3\n",
    "* 1, 3, 5\n",
    "* 2, 4"
   ]
  },
  {
   "cell_type": "markdown",
   "metadata": {},
   "source": [
    "## Answer"
   ]
  },
  {
   "cell_type": "code",
   "execution_count": null,
   "metadata": {
    "collapsed": true
   },
   "outputs": [],
   "source": []
  },
  {
   "cell_type": "markdown",
   "metadata": {},
   "source": [
    "# Optimization: GD step for Regression"
   ]
  },
  {
   "cell_type": "markdown",
   "metadata": {},
   "source": [
    "## Task"
   ]
  },
  {
   "cell_type": "markdown",
   "metadata": {},
   "source": [
    "Given the current weight vector of a linear regression model (**bias** term is **included** at the index of 0):\n",
    "\n",
    "$$\n",
    "\\mathbf{w}_{t}^{\\text{T}} = \n",
    "\\begin{bmatrix}\n",
    "4\\\\\n",
    "-8\\\\\n",
    "-1\\\\\n",
    "3\\\\\n",
    "\\end{bmatrix}\n",
    "$$\n",
    "\n",
    "and single training data point:\n",
    "\n",
    "$$\n",
    "\\mathbf{x} = \n",
    "\\begin{bmatrix}\n",
    "1\\\\\n",
    "2\\\\\n",
    "3\\\\\n",
    "\\end{bmatrix},\n",
    "\\,\\,\n",
    "y = 2\n",
    "$$\n",
    "\n",
    "calculate the next weight vector $\\mathbf{w}_{t+1}$ after one step of vanilla gradient descent algorithm\n",
    "\n",
    "$$\n",
    "\\mathbf{w}_{t+1} = \\mathbf{w}_{t} - \\alpha \\cdot \\nabla_{\\mathbf{w}}E(\\mathbf{w}, \\mathbf{x}), \\\\\n",
    "\\alpha = 0.18\n",
    "$$\n",
    "\n",
    "in case of **Linear Regression** algorithm. Use **MSE** as an objective function (as opposed to halved MSE).\n",
    "\n",
    "As a response provide all the components of $\\mathbf{w}_{t+1}$ as well as the error value within two decimal digits precision. Provide your response in the form on the LMS."
   ]
  },
  {
   "cell_type": "code",
   "execution_count": 7,
   "metadata": {
    "collapsed": true
   },
   "outputs": [],
   "source": [
    "W = np.array([4, -8, -1, 3])\n",
    "x = np.array([[1],\n",
    "              [1], \n",
    "              [2], \n",
    "              [3]])\n",
    "y = 2\n",
    "alpha = 0.18"
   ]
  },
  {
   "cell_type": "markdown",
   "metadata": {},
   "source": [
    "## Answer"
   ]
  },
  {
   "cell_type": "code",
   "execution_count": null,
   "metadata": {
    "collapsed": true
   },
   "outputs": [],
   "source": []
  },
  {
   "cell_type": "markdown",
   "metadata": {},
   "source": [
    "# CNN: Spatial Dimension Reduction"
   ]
  },
  {
   "cell_type": "markdown",
   "metadata": {},
   "source": [
    "## Task"
   ]
  },
  {
   "cell_type": "markdown",
   "metadata": {},
   "source": [
    "In the CNNs there is a tendency to shrink the spatial dimensions of the data going from the beginning of the network to its end. There are couple reasons for that: reducing the number of trainable parameters in the network, learn the invariance to the movements in the initial signal, etc.\n",
    "\n",
    "For now consider two ways of doing downsampling:\n",
    "* Max pooling (downsampling kernel)\n",
    "* Convolutions with the same stride (an alternative downsampling layer with a corresponding upsampling counterpart; please see [here](https://github.com/vdumoulin/conv_arithmetic) for a more information) \n",
    "\n",
    "In which aspects is a maxpooling layer more favourable than using  Convolutional layer with a kernel that has the same stride (hint: choose options that are clearcut):\n",
    "1. Faster training of the whole network  \n",
    "* Bigger learning capacity\n",
    "* Less number of parameters\n",
    "* Possibly better KPIs such as MSE, CX, DCG, etc.\n",
    "* NA\n",
    "\n",
    "There might be multiple correct answers and one should mark all of them."
   ]
  },
  {
   "cell_type": "markdown",
   "metadata": {},
   "source": [
    "## Answer"
   ]
  },
  {
   "cell_type": "code",
   "execution_count": null,
   "metadata": {
    "collapsed": true
   },
   "outputs": [],
   "source": []
  },
  {
   "cell_type": "markdown",
   "metadata": {},
   "source": [
    "# CNN: Innovations"
   ]
  },
  {
   "cell_type": "markdown",
   "metadata": {},
   "source": [
    "## Task"
   ]
  },
  {
   "cell_type": "markdown",
   "metadata": {},
   "source": [
    "What are the major innovative features in ResNet compared to AlexNet?\n",
    "1. Residual Connections\n",
    "* Conv-Pooling blocks\n",
    "* GPU training\n",
    "* Dropout\n",
    "* $>50$ layers\n",
    "* NA\n",
    "\n",
    "There might be multiple correct answers and one should mark all of them."
   ]
  },
  {
   "cell_type": "markdown",
   "metadata": {},
   "source": [
    "## Answer"
   ]
  },
  {
   "cell_type": "code",
   "execution_count": null,
   "metadata": {
    "collapsed": true
   },
   "outputs": [],
   "source": []
  },
  {
   "cell_type": "markdown",
   "metadata": {},
   "source": [
    "# Embeddings: The Closest Word"
   ]
  },
  {
   "cell_type": "markdown",
   "metadata": {},
   "source": [
    "## Task"
   ]
  },
  {
   "cell_type": "markdown",
   "metadata": {},
   "source": [
    "Using the pre-trained embeddings find the top-3 closest words to the word \"iphone\"\n",
    "\n",
    "Pre-trained embedding can be found [here](https://www.dropbox.com/s/9pu6mt769kj8803/pretrained_embedding.tar.gz?dl=0)"
   ]
  },
  {
   "cell_type": "markdown",
   "metadata": {},
   "source": [
    "## Answer"
   ]
  },
  {
   "cell_type": "markdown",
   "metadata": {},
   "source": [
    "Download word2vec embeddings"
   ]
  },
  {
   "cell_type": "code",
   "execution_count": 19,
   "metadata": {},
   "outputs": [
    {
     "name": "stdout",
     "output_type": "stream",
     "text": [
      "--2017-11-13 17:25:18--  https://www.dropbox.com/s/9pu6mt769kj8803/pretrained_embedding.tar.gz\n",
      "Resolving www.dropbox.com (www.dropbox.com)... 162.125.66.1, 2620:100:6022:1::a27d:4201\n",
      "Connecting to www.dropbox.com (www.dropbox.com)|162.125.66.1|:443... connected.\n",
      "HTTP request sent, awaiting response... 302 Found\n",
      "Location: https://dl.dropboxusercontent.com/content_link/tVhrNrUz4wCxCIhexaE7gzrsz6f8roIDnb0riqaCWhZpXiUkVUzdBCybQBG3NECX/file [following]\n",
      "--2017-11-13 17:25:19--  https://dl.dropboxusercontent.com/content_link/tVhrNrUz4wCxCIhexaE7gzrsz6f8roIDnb0riqaCWhZpXiUkVUzdBCybQBG3NECX/file\n",
      "Resolving dl.dropboxusercontent.com (dl.dropboxusercontent.com)... 162.125.66.6, 2620:100:6022:6::a27d:4206\n",
      "Connecting to dl.dropboxusercontent.com (dl.dropboxusercontent.com)|162.125.66.6|:443... connected.\n",
      "HTTP request sent, awaiting response... 200 OK\n",
      "Length: 866689471 (827M) [application/octet-stream]\n",
      "Saving to: 'pretrained_embedding.tar.gz'\n",
      "\n",
      "pretrained_embeddin 100%[===================>] 826.54M  9.73MB/s    in 31s     \n",
      "\n",
      "2017-11-13 17:25:52 (26.6 MB/s) - 'pretrained_embedding.tar.gz' saved [866689471/866689471]\n",
      "\n",
      "wiki_w2v.vec\n"
     ]
    }
   ],
   "source": [
    "!wget https://www.dropbox.com/s/9pu6mt769kj8803/pretrained_embedding.tar.gz\n",
    "!tar -xvzf pretrained_embedding.tar.gz"
   ]
  },
  {
   "cell_type": "markdown",
   "metadata": {},
   "source": [
    "Load vocabulary"
   ]
  },
  {
   "cell_type": "code",
   "execution_count": 20,
   "metadata": {
    "collapsed": true
   },
   "outputs": [],
   "source": [
    "embeddings_index = {}\n",
    "f = open(\"./wiki_w2v.vec\")\n",
    "f.readline()\n",
    "for line in f:\n",
    "    values = line.split()\n",
    "    word = values[0]\n",
    "    coefs = np.asarray(values[1:], dtype=\"float32\")\n",
    "    embeddings_index[word] = coefs\n",
    "f.close()"
   ]
  },
  {
   "cell_type": "code",
   "execution_count": 21,
   "metadata": {
    "collapsed": true
   },
   "outputs": [],
   "source": [
    "# please put all your code here"
   ]
  },
  {
   "cell_type": "markdown",
   "metadata": {},
   "source": [
    "# Embeddings: Analogical Reasoning"
   ]
  },
  {
   "cell_type": "markdown",
   "metadata": {},
   "source": [
    "## Task"
   ]
  },
  {
   "cell_type": "markdown",
   "metadata": {},
   "source": [
    "This task is to perform an analogical reasoning check of the embeddings (for the definition see lectures or [original paper](https://arxiv.org/pdf/1301.3781.pdf))\n",
    "\n",
    "Here you are to explore semantic relations, e.g., **Capital-Country**\n",
    "\n",
    "The question is what relates to \"france\" the same as \"berlin\" relates to \"germany\"?\n",
    "\n",
    "The task is to find top-3 answers."
   ]
  },
  {
   "cell_type": "markdown",
   "metadata": {},
   "source": [
    "## Answer"
   ]
  },
  {
   "cell_type": "code",
   "execution_count": null,
   "metadata": {
    "collapsed": true
   },
   "outputs": [],
   "source": []
  },
  {
   "cell_type": "markdown",
   "metadata": {
    "collapsed": true
   },
   "source": [
    "# RNN: Problem-Architecture"
   ]
  },
  {
   "cell_type": "markdown",
   "metadata": {},
   "source": [
    "## Task"
   ]
  },
  {
   "cell_type": "markdown",
   "metadata": {},
   "source": [
    "Using the following table match up the problem with a suitable RNN architecture:\n",
    "\n",
    "| Problem | Architecture\n",
    "| :- |:-------------\n",
    "| 1. Image Captioning |\n",
    "| 2. Speech Recognition | 7. Vector-2-Sequence\n",
    "| 3. Speech Sentiment Analysis | 8. Seuqence-2-Vector\n",
    "| 4. Image Classification | 9. Sequence-2-Sequence\n",
    "| 5. Video Classification |\n",
    "\n",
    "E.g., a hypoothetical response could be 59, which would indicate that Video Classification problem is appropriate to be solved with Sequence-2-Sequence RNN architecture.\n",
    "\n",
    "Note that some of the problems on the left might not have the suitable architectures on the right. In this case one should NOT include this problem to the answer.\n",
    "\n",
    "Here are possible combinations of *Problem, Architecture*. Select the single most correct response from the following\n",
    "\n",
    "* 19, 27, 37, 48\n",
    "* 17, 29, 38, 58\n",
    "* 19, 28, 47\n",
    "* 19, 27\n",
    "* 17, 29, 58"
   ]
  },
  {
   "cell_type": "markdown",
   "metadata": {},
   "source": [
    "## Answer"
   ]
  },
  {
   "cell_type": "code",
   "execution_count": null,
   "metadata": {
    "collapsed": true
   },
   "outputs": [],
   "source": []
  },
  {
   "cell_type": "markdown",
   "metadata": {
    "collapsed": true
   },
   "source": [
    "# RNN: Translation"
   ]
  },
  {
   "cell_type": "markdown",
   "metadata": {},
   "source": [
    "## Task"
   ]
  },
  {
   "cell_type": "markdown",
   "metadata": {},
   "source": [
    "What is the main reason people use encoder-decoder RNNs rather than plain Sequence-2-Sequence RNNs for automatic translation?\n",
    "\n",
    "1. The Sequence-2-Sequnece architecture can be used just as effectively as Encoder-Decoder architecture for machine translation\n",
    "* Input and output sequences might be of a different length so the Sequence-to-Sequnece architecture is more appropriate to use\n",
    "* Encoder-Decoder architecture is considerably faster to train\n",
    "* NA\n",
    "\n",
    "\n",
    "There is only one correct answer"
   ]
  },
  {
   "cell_type": "markdown",
   "metadata": {},
   "source": [
    "## Answer"
   ]
  },
  {
   "cell_type": "code",
   "execution_count": null,
   "metadata": {
    "collapsed": true
   },
   "outputs": [],
   "source": []
  },
  {
   "cell_type": "markdown",
   "metadata": {},
   "source": [
    "# Regularization: Which Regularizer is used"
   ]
  },
  {
   "cell_type": "markdown",
   "metadata": {},
   "source": [
    "## Task"
   ]
  },
  {
   "cell_type": "markdown",
   "metadata": {},
   "source": [
    "Assume that we have the following weight vector (**bias** is included as a **first** component) denoting the output layer neuron of a deep learning model,  a sample training example, and its corresponding target value\n",
    "\n",
    "$$\n",
    "\\mathbf{w}^{\\text{T}} = \n",
    "\\begin{bmatrix}\n",
    "4\\\\\n",
    "6\\\\\n",
    "-3\\\\\n",
    "-2\\\\\n",
    "1\\\\\n",
    "\\end{bmatrix},\\,\\,\n",
    "\\mathbf{x} = \n",
    "\\begin{bmatrix}\n",
    "1\\\\\n",
    "2\\\\\n",
    "3\\\\\n",
    "4\\\\\n",
    "\\end{bmatrix},\\,\\,\n",
    "y = 2\n",
    "$$\n",
    "\n",
    "Calculate the prediction using sigmoid activation function.  Assuming that the loss function is made up of  an **MSE** component and a regularization component with $\\lambda=0.1$ for any regularization components used,  we get a total loss of $7.45261518$.\n",
    "\n",
    "What type of regularization we used?\n",
    "\n",
    "Select the single most correct response from the following: \n",
    "+ L1 \n",
    "+ L2\n",
    "+ ElacticNet (L1+L2)\n",
    "+ NA"
   ]
  },
  {
   "cell_type": "code",
   "execution_count": 9,
   "metadata": {
    "collapsed": true
   },
   "outputs": [],
   "source": [
    "W = np.array([4, 6, -3, -2, 1])\n",
    "x = np.array([[1], \n",
    "              [1], \n",
    "              [2], \n",
    "              [3], \n",
    "              [4]])\n",
    "y = 2\n",
    "lam = 0.1\n",
    "total_loss = 7.45261518"
   ]
  },
  {
   "cell_type": "markdown",
   "metadata": {},
   "source": [
    "## Answer"
   ]
  },
  {
   "cell_type": "code",
   "execution_count": null,
   "metadata": {
    "collapsed": true
   },
   "outputs": [],
   "source": []
  },
  {
   "cell_type": "markdown",
   "metadata": {},
   "source": [
    "# Regularization: ElasticNet for Linear Regression"
   ]
  },
  {
   "cell_type": "markdown",
   "metadata": {},
   "source": [
    "## Task"
   ]
  },
  {
   "cell_type": "markdown",
   "metadata": {},
   "source": [
    "Take $\\text{BasicLinearRegressionHomegrown}$ *python class* from the first assignment and implement **ElasticNet** regularization which is L1 and L2 at the same time (with different regularization constants)\n",
    "\n",
    "$$\n",
    "\\text{obj} = \\|\\text{X}\\cdot\\boldsymbol{\\theta} + \\mathbf{b} - \\mathbf{y}\\|_2^2 + \\lambda_1 \\|\\boldsymbol{\\theta}\\|_1 + \\lambda_2 \\|\\boldsymbol{\\theta}\\|_2^2\n",
    "$$\n",
    "\n",
    "Provide the value of the objective function for $\\lambda_1 = 0.1,\\, \\lambda_2 = 0.2$ and with two decimal digits of precision. "
   ]
  },
  {
   "cell_type": "code",
   "execution_count": 10,
   "metadata": {
    "collapsed": true
   },
   "outputs": [],
   "source": [
    "# generate data artificially\n",
    "X = np.arange(1, 20)\n",
    "\n",
    "k, b = 1.5, 3\n",
    "\n",
    "y = k * X + b\n",
    "\n",
    "np.random.seed(21)\n",
    "y += np.random.normal(loc=0.0, scale=3.0, size=len(X))"
   ]
  },
  {
   "cell_type": "code",
   "execution_count": 11,
   "metadata": {},
   "outputs": [
    {
     "data": {
      "image/png": "[encoded data removed]",
      "text/plain": [
       "<matplotlib.figure.Figure at 0x7f20f31bc860>"
      ]
     },
     "metadata": {},
     "output_type": "display_data"
    }
   ],
   "source": [
    "plt.scatter(X, y, label=\"Empirical data\")\n",
    "plt.plot([0, 20], [b, k * 20 + b], \"r\", linewidth=2, label=\"Real dependency\")\n",
    "plt.xlim([0, 20])\n",
    "plt.ylim([0, 35])\n",
    "plt.legend(loc=\"lower right\")\n",
    "plt.show()"
   ]
  },
  {
   "cell_type": "code",
   "execution_count": 12,
   "metadata": {
    "collapsed": true
   },
   "outputs": [],
   "source": [
    "X = X.reshape(-1, 1)"
   ]
  },
  {
   "cell_type": "code",
   "execution_count": 13,
   "metadata": {
    "collapsed": true
   },
   "outputs": [],
   "source": [
    "class BasicLinearRegressionHomegrown(object):\n",
    "    \n",
    "    def __init__(self, l1=0.0, l2=0.0):\n",
    "        self.coef_ = None       # weight vector\n",
    "        self.intercept_ = None  # bias term\n",
    "        self._theta = None      # augmented weight vector, i.e., bias + weights\n",
    "                                # this allows to treat all decision variables homogeneously\n",
    "        self.l1 = l1\n",
    "        self.l2 = l2\n",
    "        \n",
    "    # calculate gradient of objective function\n",
    "    def _grad(self, X, y):\n",
    "        pred = np.dot(X, self._theta)\n",
    "        error = pred - y\n",
    "        gradient = 2 * np.dot(error, X) / X.shape[0]\n",
    "        return gradient\n",
    "    \n",
    "    # full gradient descent, i.e., not stochastic gd\n",
    "    def _gd(self, X, y, max_iter, alpha=0.005):\n",
    "        for i in range(max_iter):\n",
    "            # calculate gradient\n",
    "            grad = self._grad(X, y)\n",
    "            # do gradient step\n",
    "            self._theta -= alpha * grad\n",
    "    \n",
    "    # public API for fitting a linear regression model\n",
    "    def fit(self, X, y, max_iter=1000):\n",
    "        # Augment the data with the bias term.\n",
    "        # So we can treat the the input variables and the bias term homogeneously \n",
    "        # from a vectorization perspective\n",
    "        X = np.c_[np.ones(X.shape[0]), X]\n",
    "        # initialize if the first step\n",
    "        if self._theta is None:\n",
    "            np.random.seed(21)\n",
    "            self._theta = np.random.rand(X.shape[1])\n",
    "        \n",
    "        # do full gradient descent\n",
    "        self._gd(X, y, max_iter)\n",
    "        \n",
    "        self.intercept_ = self._theta[0]\n",
    "        self.coef_ = self._theta[1:]\n",
    "        \n",
    "    def score(self, X, y):\n",
    "        pred = self.predict(X)\n",
    "        error = pred - y\n",
    "        obj = np.sum(error ** 2) / X.shape[0]\n",
    "        return obj\n",
    "        \n",
    "    def predict(self, X):\n",
    "        # check whether X has appended bias feature or not\n",
    "        if X.shape[1] == len(self._theta):\n",
    "            pred = np.dot(X, self._theta)\n",
    "        else:\n",
    "            pred = np.dot(X, self.coef_) + self.intercept_\n",
    "        return pred"
   ]
  },
  {
   "cell_type": "markdown",
   "metadata": {},
   "source": [
    "## Answer"
   ]
  },
  {
   "cell_type": "code",
   "execution_count": null,
   "metadata": {
    "collapsed": true
   },
   "outputs": [],
   "source": []
  },
  {
   "cell_type": "markdown",
   "metadata": {},
   "source": [
    "# Regularization: L1/L2 for Linear Regression"
   ]
  },
  {
   "cell_type": "markdown",
   "metadata": {},
   "source": [
    "## Task"
   ]
  },
  {
   "cell_type": "markdown",
   "metadata": {},
   "source": [
    "There is an another way of combining L1 and L2 regularizers in machine learning - you can glue them together and define a piecewise regularizer function.\n",
    "\n",
    "$$\n",
    "\\text{obj} = \\|\\text{X}\\cdot\\boldsymbol{\\theta} + \\mathbf{b} - \\mathbf{y}\\|_2^2 + \\mu \\sum_{j=1}^{m}R_{\\lambda}(\\theta_j),\\\\\n",
    "\\text{where}\\\\\n",
    "R_{\\lambda}(\\theta_j) = \n",
    "\\begin{cases}\n",
    "2 \\lambda \\cdot |\\theta_j|, & |\\theta_j| \\leq \\lambda\\\\\n",
    "\\lambda^2 + \\theta_j^2, & |\\theta_j| \\geq \\lambda\n",
    "\\end{cases}\n",
    "$$\n",
    "\n",
    "![l1l2](l1l2.png)\n",
    "\n",
    "Implement this type of regularization for $\\text{BasicLinearRegressionHomegrown}$ class (that was used in question 15 above).\n",
    "\n",
    "Provide the value of the objective function for $\\lambda = 1,\\, \\mu = 0.5$ and with two decimal digits of precision. "
   ]
  },
  {
   "cell_type": "code",
   "execution_count": 14,
   "metadata": {
    "collapsed": true
   },
   "outputs": [],
   "source": [
    "class BasicLinearRegressionHomegrown(object):\n",
    "    \n",
    "    def __init__(self, l=0.0, mu=0.0):\n",
    "        self.coef_ = None       # weight vector\n",
    "        self.intercept_ = None  # bias term\n",
    "        self._theta = None      # augmented weight vector, i.e., bias + weights\n",
    "                                # this allows to treat all decision variables homogeneously\n",
    "        self.l = l\n",
    "        self.mu = mu\n",
    "    \n",
    "    # calculate gradient of objective function\n",
    "    def _grad(self, X, y):\n",
    "        pred = np.dot(X, self._theta)\n",
    "        error = pred - y\n",
    "        gradient = 2 * np.dot(error, X) / X.shape[0]\n",
    "        return gradient\n",
    "    \n",
    "    # full gradient descent, i.e., not stochastic gd\n",
    "    def _gd(self, X, y, max_iter, alpha=0.005):\n",
    "        for i in range(max_iter):\n",
    "            # calculate gradient\n",
    "            grad = self._grad(X, y)\n",
    "            # do gradient step\n",
    "            self._theta -= alpha * grad\n",
    "    \n",
    "    # public API for fitting a linear regression model\n",
    "    def fit(self, X, y, max_iter=1000):\n",
    "        # Augment the data with the bias term.\n",
    "        # So we can treat the the input variables and the bias term homogeneously \n",
    "        # from a vectorization perspective\n",
    "        X = np.c_[np.ones(X.shape[0]), X]\n",
    "        # initialize if the first step\n",
    "        if self._theta is None:\n",
    "            np.random.seed(21)\n",
    "            self._theta = np.random.rand(X.shape[1])\n",
    "        \n",
    "        # do full gradient descent\n",
    "        self._gd(X, y, max_iter)\n",
    "        \n",
    "        self.intercept_ = self._theta[0]\n",
    "        self.coef_ = self._theta[1:]\n",
    "        \n",
    "    \n",
    "    def score(self, X, y):\n",
    "        pred = self.predict(X)\n",
    "        error = pred - y\n",
    "        obj = np.sum(error ** 2) / X.shape[0]\n",
    "        return obj\n",
    "        \n",
    "    def predict(self, X):\n",
    "        # check whether X has appended bias feature or not\n",
    "        if X.shape[1] == len(self._theta):\n",
    "            pred = np.dot(X, self._theta)\n",
    "        else:\n",
    "            pred = np.dot(X, self.coef_) + self.intercept_\n",
    "        return pred"
   ]
  },
  {
   "cell_type": "markdown",
   "metadata": {},
   "source": [
    "## Answer"
   ]
  },
  {
   "cell_type": "code",
   "execution_count": null,
   "metadata": {
    "collapsed": true
   },
   "outputs": [],
   "source": []
  },
  {
   "cell_type": "markdown",
   "metadata": {},
   "source": [
    "# Regularization: Dropout"
   ]
  },
  {
   "cell_type": "markdown",
   "metadata": {},
   "source": [
    "## Task"
   ]
  },
  {
   "cell_type": "markdown",
   "metadata": {},
   "source": [
    "Implement Dropout technique for simple and simulated no-hidden-layers (10 - 4) neural net with sigmoid activation and MSE loss function only for forward pass.\n",
    "\n",
    "The weight matrix is denoted as $\\text{W}$ (please do not account for bias). $\\text{X}$ and $\\mathbf{y}$ are generated randomly using the code provided below.\n",
    "![dropout](dropout.png)\n",
    "\n",
    "Using these generated data provide a value of the objective function after doing a dropout (for nodes) with the probability $p=0.5$ with 2 digits of decimal precision."
   ]
  },
  {
   "cell_type": "code",
   "execution_count": 15,
   "metadata": {
    "collapsed": true
   },
   "outputs": [],
   "source": [
    "D = 100 # features\n",
    "K = 4   # outputs\n",
    "N = 500 # number of examples\n",
    "p = 0.5 # dropout rate\n",
    "\n",
    "np.random.seed(21)\n",
    "W = np.random.rand(D, K)\n",
    "\n",
    "X = np.random.rand(N, D) * 10 - 5\n",
    "y = np.random.rand(N, K)"
   ]
  },
  {
   "cell_type": "markdown",
   "metadata": {},
   "source": [
    "## Answer"
   ]
  },
  {
   "cell_type": "code",
   "execution_count": 16,
   "metadata": {
    "collapsed": true
   },
   "outputs": [],
   "source": [
    "np.random.seed(21)\n",
    "# please put all your code here"
   ]
  },
  {
   "cell_type": "markdown",
   "metadata": {},
   "source": [
    "#  Regularization: DropConnect"
   ]
  },
  {
   "cell_type": "markdown",
   "metadata": {},
   "source": [
    "## Task"
   ]
  },
  {
   "cell_type": "markdown",
   "metadata": {},
   "source": [
    "Implement DropConnect technique for simple and simulated no-hidden-layers (10 - 4) neural net with sigmoid activation and MSE loss function only for forward pass.\n",
    "\n",
    "The weight matrix and is denoted as $\\text{W}$ (do not account for bias). $\\text{X}$ and $\\mathbf{y}$ are generated randomly using the code provided below.\n",
    "![dropconnect](dropconnect.jpg)\n",
    "\n",
    "Using these generated data provide a value of the objective function after doing a DropConnect with the probability $p=0.5$ with 2 digits of decimal precision."
   ]
  },
  {
   "cell_type": "code",
   "execution_count": 17,
   "metadata": {
    "collapsed": true
   },
   "outputs": [],
   "source": [
    "D = 100 # features\n",
    "K = 4   # outputs\n",
    "N = 500 # number of examples\n",
    "p = 0.5 # dropconnect rate\n",
    "\n",
    "np.random.seed(21)\n",
    "W = np.random.rand(D, K)\n",
    "\n",
    "X = np.random.rand(N, D) * 10 - 5\n",
    "y = np.random.rand(N, K)"
   ]
  },
  {
   "cell_type": "markdown",
   "metadata": {},
   "source": [
    "## Answer"
   ]
  },
  {
   "cell_type": "code",
   "execution_count": 18,
   "metadata": {
    "collapsed": true
   },
   "outputs": [],
   "source": [
    "np.random.seed(21)\n",
    "# please put all your code here"
   ]
  }
 ],
 "metadata": {
  "anaconda-cloud": {},
  "kernelspec": {
   "display_name": "Python 3",
   "language": "python",
   "name": "python3"
  },
  "language_info": {
   "codemirror_mode": {
    "name": "ipython",
    "version": 3
   },
   "file_extension": ".py",
   "mimetype": "text/x-python",
   "name": "python",
   "nbconvert_exporter": "python",
   "pygments_lexer": "ipython3",
   "version": "3.6.0"
  },
  "toc": {
   "colors": {
    "hover_highlight": "#DAA520",
    "navigate_num": "#000000",
    "navigate_text": "#333333",
    "running_highlight": "#FF0000",
    "selected_highlight": "#FFD700",
    "sidebar_border": "#EEEEEE",
    "wrapper_background": "#FFFFFF"
   },
   "moveMenuLeft": true,
   "nav_menu": {
    "height": "512px",
    "width": "252px"
   },
   "navigate_menu": true,
   "number_sections": true,
   "sideBar": true,
   "skip_h1_title": false,
   "threshold": 4,
   "toc_cell": false,
   "toc_position": {
    "height": "1003px",
    "left": "0px",
    "right": "1339px",
    "top": "107px",
    "width": "363px"
   },
   "toc_section_display": "block",
   "toc_window_display": true,
   "widenNotebook": false
  }
 },
 "nbformat": 4,
 "nbformat_minor": 1
}
