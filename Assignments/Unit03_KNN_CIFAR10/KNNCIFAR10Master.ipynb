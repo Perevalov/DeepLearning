{
 "cells": [
  {
   "cell_type": "markdown",
   "metadata": {},
   "source": [
    "# CIFAR10"
   ]
  },
  {
   "cell_type": "markdown",
   "metadata": {},
   "source": [
    "DOWNLOAD DATA FROM [HERE](http://www.cs.toronto.edu/~kriz/cifar-10-python.tar.gz) AND PUT IT TO THE DATA FOLDER\n",
    "\n",
    "The [CIFAR-10](http://www.cs.toronto.edu/~kriz/cifar.html) dataset consists of 60000 32x32 colour images in 10 classes, with 6000 images per class. There are 50000 training images and 10000 test images.\n",
    "\n",
    "The classes are completely mutually exclusive. There is no overlap between automobiles and trucks. \"Automobile\" includes sedans, SUVs, things of that sort. \"Truck\" includes only big trucks. Neither includes pickup trucks. Such a situation is called **multiclass** classification in oppose to **multilabel** classification when each example may have multiple label.\n",
    "\n",
    "One can see state-of-the-art results [here](http://rodrigob.github.io/are_we_there_yet/build/classification_datasets_results.html)"
   ]
  },
  {
   "cell_type": "code",
   "execution_count": 1,
   "metadata": {
    "collapsed": true
   },
   "outputs": [],
   "source": [
    "import _pickle as cPickle\n",
    "import tarfile\n",
    "\n",
    "import numpy as np\n",
    "import pandas as pd\n",
    "\n",
    "from sklearn.linear_model import SGDClassifier\n",
    "from sklearn.neighbors import KNeighborsClassifier\n",
    "from sklearn.model_selection import train_test_split, GridSearchCV, PredefinedSplit\n",
    "from sklearn.metrics import accuracy_score\n",
    "\n",
    "import matplotlib\n",
    "import matplotlib.pyplot as plt\n",
    "import seaborn as sns\n",
    "\n",
    "%matplotlib inline"
   ]
  },
  {
   "cell_type": "markdown",
   "metadata": {},
   "source": [
    "Set style for plotting"
   ]
  },
  {
   "cell_type": "code",
   "execution_count": 2,
   "metadata": {
    "collapsed": true
   },
   "outputs": [],
   "source": [
    "sns.set(style=\"whitegrid\", font_scale=1.3)\n",
    "matplotlib.rcParams[\"legend.framealpha\"] = 1\n",
    "matplotlib.rcParams[\"legend.frameon\"] = True"
   ]
  },
  {
   "cell_type": "markdown",
   "metadata": {},
   "source": [
    "Fix random seed for reproducibility"
   ]
  },
  {
   "cell_type": "code",
   "execution_count": 3,
   "metadata": {
    "collapsed": true
   },
   "outputs": [],
   "source": [
    "np.random.seed(42)"
   ]
  },
  {
   "cell_type": "markdown",
   "metadata": {},
   "source": [
    "# Data"
   ]
  },
  {
   "cell_type": "markdown",
   "metadata": {},
   "source": [
    "Unarchive data"
   ]
  },
  {
   "cell_type": "code",
   "execution_count": 4,
   "metadata": {
    "collapsed": true
   },
   "outputs": [],
   "source": [
    "tar = tarfile.open(\"data/cifar-10-python.tar.gz\", \"r:gz\")\n",
    "tar.extractall(\"data\")\n",
    "tar.close()"
   ]
  },
  {
   "cell_type": "markdown",
   "metadata": {},
   "source": [
    "## Reading"
   ]
  },
  {
   "cell_type": "markdown",
   "metadata": {},
   "source": [
    "Data are stored as a memory dump with python $\\text{dict}$ object. It was created using **pickle** function. To read one should \"unpickle\" it."
   ]
  },
  {
   "cell_type": "code",
   "execution_count": 5,
   "metadata": {
    "collapsed": true
   },
   "outputs": [],
   "source": [
    "def unpickle(file):\n",
    "    fo = open(file, 'rb')\n",
    "    dict = cPickle.load(fo, encoding='latin1')\n",
    "    fo.close()\n",
    "    return dict"
   ]
  },
  {
   "cell_type": "markdown",
   "metadata": {},
   "source": [
    "Data are also splitted in to 5 pieces for conveniece. Let's read them all and concatenate"
   ]
  },
  {
   "cell_type": "code",
   "execution_count": 6,
   "metadata": {
    "collapsed": true
   },
   "outputs": [],
   "source": [
    "for b in range(1, 6):\n",
    "    data_batch = unpickle(\"data/cifar-10-batches-py/data_batch_\" + str(b))\n",
    "    if b == 1:\n",
    "        X_train = data_batch[\"data\"]\n",
    "        y_train = np.array(data_batch[\"labels\"])\n",
    "    else:\n",
    "        X_train = np.append(X_train, data_batch[\"data\"], axis=0)\n",
    "        y_train = np.append(y_train, data_batch[\"labels\"], axis=0)"
   ]
  },
  {
   "cell_type": "markdown",
   "metadata": {},
   "source": [
    "Read test data. In this dataset train/test split is provided by authors of the dataset to be able to consistently evaluate solutions"
   ]
  },
  {
   "cell_type": "code",
   "execution_count": 7,
   "metadata": {
    "collapsed": true
   },
   "outputs": [],
   "source": [
    "data_batch = unpickle(\"data/cifar-10-batches-py/test_batch\")\n",
    "X_test = data_batch[\"data\"]\n",
    "y_test = np.array(data_batch[\"labels\"])"
   ]
  },
  {
   "cell_type": "markdown",
   "metadata": {},
   "source": [
    "Read meta-information file with the names of the classes"
   ]
  },
  {
   "cell_type": "code",
   "execution_count": 8,
   "metadata": {
    "collapsed": true
   },
   "outputs": [],
   "source": [
    "classes = unpickle(\"data/cifar-10-batches-py/batches.meta\")[\"label_names\"]"
   ]
  },
  {
   "cell_type": "markdown",
   "metadata": {},
   "source": [
    "## Pre-processing"
   ]
  },
  {
   "cell_type": "markdown",
   "metadata": {},
   "source": [
    "We have too many data"
   ]
  },
  {
   "cell_type": "code",
   "execution_count": 9,
   "metadata": {},
   "outputs": [
    {
     "name": "stdout",
     "output_type": "stream",
     "text": [
      "Train size: 50000\n",
      "Test size: 10000\n"
     ]
    }
   ],
   "source": [
    "print(\"Train size:\", X_train.shape[0])\n",
    "print(\"Test size:\", X_test.shape[0])"
   ]
  },
  {
   "cell_type": "markdown",
   "metadata": {},
   "source": [
    "Let's take only 10% of them to train faster"
   ]
  },
  {
   "cell_type": "code",
   "execution_count": 10,
   "metadata": {
    "collapsed": true
   },
   "outputs": [],
   "source": [
    "subsample_rate = 0.1"
   ]
  },
  {
   "cell_type": "markdown",
   "metadata": {},
   "source": [
    "We want to preserve the same quantity ratio between classes. In python such an option is called **stratification**. Let's randomly (with fixed initial seed for the sake of reproducibility) divide part of train data"
   ]
  },
  {
   "cell_type": "code",
   "execution_count": 11,
   "metadata": {},
   "outputs": [
    {
     "name": "stderr",
     "output_type": "stream",
     "text": [
      "/opt/conda/lib/python3.6/site-packages/sklearn/model_selection/_split.py:2010: FutureWarning: From version 0.21, test_size will always complement train_size unless both are specified.\n",
      "  FutureWarning)\n"
     ]
    }
   ],
   "source": [
    "X_train, _, y_train, _ = train_test_split(X_train, y_train, stratify=y_train, train_size=subsample_rate, random_state=42)"
   ]
  },
  {
   "cell_type": "markdown",
   "metadata": {},
   "source": [
    "The same for test"
   ]
  },
  {
   "cell_type": "code",
   "execution_count": 12,
   "metadata": {},
   "outputs": [
    {
     "name": "stderr",
     "output_type": "stream",
     "text": [
      "/opt/conda/lib/python3.6/site-packages/sklearn/model_selection/_split.py:2010: FutureWarning: From version 0.21, test_size will always complement train_size unless both are specified.\n",
      "  FutureWarning)\n"
     ]
    }
   ],
   "source": [
    "X_test, _, y_test, _ = train_test_split(X_test, y_test, stratify=y_test, train_size=subsample_rate, random_state=42)"
   ]
  },
  {
   "cell_type": "markdown",
   "metadata": {},
   "source": [
    "Indeed, we preserved the number of objects of each class"
   ]
  },
  {
   "cell_type": "code",
   "execution_count": 13,
   "metadata": {},
   "outputs": [
    {
     "data": {
      "text/plain": [
       "[('airplane', 500),\n",
       " ('automobile', 500),\n",
       " ('bird', 500),\n",
       " ('cat', 500),\n",
       " ('deer', 500),\n",
       " ('dog', 500),\n",
       " ('frog', 500),\n",
       " ('horse', 500),\n",
       " ('ship', 500),\n",
       " ('truck', 500)]"
      ]
     },
     "execution_count": 13,
     "metadata": {},
     "output_type": "execute_result"
    }
   ],
   "source": [
    "unique_train = np.unique(y_train, return_counts=True)\n",
    "list(zip(np.array(classes)[unique_train[0]], unique_train[1]))"
   ]
  },
  {
   "cell_type": "markdown",
   "metadata": {},
   "source": [
    "## Visualization"
   ]
  },
  {
   "cell_type": "markdown",
   "metadata": {},
   "source": [
    "For now each object has the following shape"
   ]
  },
  {
   "cell_type": "code",
   "execution_count": 14,
   "metadata": {},
   "outputs": [
    {
     "data": {
      "text/plain": [
       "(3072,)"
      ]
     },
     "execution_count": 14,
     "metadata": {},
     "output_type": "execute_result"
    }
   ],
   "source": [
    "X_train[0].shape"
   ]
  },
  {
   "cell_type": "markdown",
   "metadata": {},
   "source": [
    "$3072 = 32 \\times 32 \\times 3$ where $32 \\times 32$ is the size of the image in pixels and $3$ is the number of channels (RGB)\n",
    "\n",
    "To show this array as an image let's reshape it in the needed from with the shape $(32, 32, 1)$"
   ]
  },
  {
   "cell_type": "code",
   "execution_count": 15,
   "metadata": {
    "collapsed": true
   },
   "outputs": [],
   "source": [
    "def show_pic(x):\n",
    "    plt.imshow(x.reshape((3, 32, 32)).transpose(1, 2, 0).astype(\"uint8\"))\n",
    "    plt.axis(\"off\")"
   ]
  },
  {
   "cell_type": "markdown",
   "metadata": {},
   "source": [
    "Draw one pic from each class"
   ]
  },
  {
   "cell_type": "code",
   "execution_count": 16,
   "metadata": {
    "collapsed": true
   },
   "outputs": [],
   "source": [
    "classes_idx_examples = np.zeros(10, dtype=np.int)\n",
    "for i in range(10):\n",
    "    classes_idx_examples[i] = np.where(y_train == i)[0][0]"
   ]
  },
  {
   "cell_type": "code",
   "execution_count": 17,
   "metadata": {},
   "outputs": [
    {
     "data": {
      "image/png": "[encoded data removed]",
      "text/plain": [
       "<matplotlib.figure.Figure at 0x7fc8ceecbfd0>"
      ]
     },
     "metadata": {},
     "output_type": "display_data"
    }
   ],
   "source": [
    "plt.figure(figsize=(12, 5))\n",
    "for i in range(10):\n",
    "    plt.subplot(2, 5, i + 1)\n",
    "    show_pic(X_train[classes_idx_examples[i]])\n",
    "    plt.title(classes[i])"
   ]
  },
  {
   "cell_type": "markdown",
   "metadata": {},
   "source": [
    "# Bultin Models"
   ]
  },
  {
   "cell_type": "markdown",
   "metadata": {},
   "source": [
    "Let's use Sklearn implementation of algorithms to have a benchmark.\n",
    "\n",
    "Also one should **always** track the results of the experiments to be able to compare different approaches. Let's create pandas $\\text{DataFrame}$ for this purpose."
   ]
  },
  {
   "cell_type": "code",
   "execution_count": 18,
   "metadata": {
    "collapsed": true
   },
   "outputs": [],
   "source": [
    "results = pd.DataFrame(columns=[\"Model\", \"Test Accuracy\"])"
   ]
  },
  {
   "cell_type": "markdown",
   "metadata": {},
   "source": [
    "For now it is empty, but will be filled in later"
   ]
  },
  {
   "cell_type": "code",
   "execution_count": 19,
   "metadata": {},
   "outputs": [
    {
     "data": {
      "text/html": [
       "<div>\n",
       "<style>\n",
       "    .dataframe thead tr:only-child th {\n",
       "        text-align: right;\n",
       "    }\n",
       "\n",
       "    .dataframe thead th {\n",
       "        text-align: left;\n",
       "    }\n",
       "\n",
       "    .dataframe tbody tr th {\n",
       "        vertical-align: top;\n",
       "    }\n",
       "</style>\n",
       "<table border=\"1\" class=\"dataframe\">\n",
       "  <thead>\n",
       "    <tr style=\"text-align: right;\">\n",
       "      <th></th>\n",
       "      <th>Model</th>\n",
       "      <th>Test Accuracy</th>\n",
       "    </tr>\n",
       "  </thead>\n",
       "  <tbody>\n",
       "  </tbody>\n",
       "</table>\n",
       "</div>"
      ],
      "text/plain": [
       "Empty DataFrame\n",
       "Columns: [Model, Test Accuracy]\n",
       "Index: []"
      ]
     },
     "execution_count": 19,
     "metadata": {},
     "output_type": "execute_result"
    }
   ],
   "source": [
    "results"
   ]
  },
  {
   "cell_type": "markdown",
   "metadata": {},
   "source": [
    "## KNN"
   ]
  },
  {
   "cell_type": "markdown",
   "metadata": {},
   "source": [
    "In this section the K Nearest Neighbors implementation from sklearn is presented (see theory below and in lectures)\n",
    "\n",
    "For the beginning let's use default parametrs of KNN Sklearn classifier which are:\n",
    "* $\\text{n_neighbors} = 5$\n",
    "* $L_2$ metric"
   ]
  },
  {
   "cell_type": "code",
   "execution_count": 20,
   "metadata": {
    "collapsed": true
   },
   "outputs": [],
   "source": [
    "# n_jobs is responsible for number of CPU cores used for computation\n",
    "# -1 means use all available\n",
    "model_knn_sklearn = KNeighborsClassifier(n_jobs=-1)"
   ]
  },
  {
   "cell_type": "markdown",
   "metadata": {},
   "source": [
    "### Fitting"
   ]
  },
  {
   "cell_type": "code",
   "execution_count": 21,
   "metadata": {},
   "outputs": [
    {
     "data": {
      "text/plain": [
       "KNeighborsClassifier(algorithm='auto', leaf_size=30, metric='minkowski',\n",
       "           metric_params=None, n_jobs=-1, n_neighbors=5, p=2,\n",
       "           weights='uniform')"
      ]
     },
     "execution_count": 21,
     "metadata": {},
     "output_type": "execute_result"
    }
   ],
   "source": [
    "model_knn_sklearn.fit(X_train, y_train)"
   ]
  },
  {
   "cell_type": "markdown",
   "metadata": {},
   "source": [
    "### Evaluation"
   ]
  },
  {
   "cell_type": "markdown",
   "metadata": {},
   "source": [
    "Predict answers on the test set"
   ]
  },
  {
   "cell_type": "code",
   "execution_count": 22,
   "metadata": {
    "collapsed": true
   },
   "outputs": [],
   "source": [
    "y_pred_test = model_knn_sklearn.predict(X_test)"
   ]
  },
  {
   "cell_type": "markdown",
   "metadata": {},
   "source": [
    "Accuracy score with sklearn function"
   ]
  },
  {
   "cell_type": "code",
   "execution_count": 23,
   "metadata": {
    "collapsed": true
   },
   "outputs": [],
   "source": [
    "acc = accuracy_score(y_test, y_pred_test)"
   ]
  },
  {
   "cell_type": "markdown",
   "metadata": {},
   "source": [
    "Append first row to the results table"
   ]
  },
  {
   "cell_type": "code",
   "execution_count": 24,
   "metadata": {},
   "outputs": [
    {
     "data": {
      "text/html": [
       "<div>\n",
       "<style>\n",
       "    .dataframe thead tr:only-child th {\n",
       "        text-align: right;\n",
       "    }\n",
       "\n",
       "    .dataframe thead th {\n",
       "        text-align: left;\n",
       "    }\n",
       "\n",
       "    .dataframe tbody tr th {\n",
       "        vertical-align: top;\n",
       "    }\n",
       "</style>\n",
       "<table border=\"1\" class=\"dataframe\">\n",
       "  <thead>\n",
       "    <tr style=\"text-align: right;\">\n",
       "      <th></th>\n",
       "      <th>Model</th>\n",
       "      <th>Test Accuracy</th>\n",
       "    </tr>\n",
       "  </thead>\n",
       "  <tbody>\n",
       "    <tr>\n",
       "      <th>0</th>\n",
       "      <td>KNN Arbitary Sklearn</td>\n",
       "      <td>0.262</td>\n",
       "    </tr>\n",
       "  </tbody>\n",
       "</table>\n",
       "</div>"
      ],
      "text/plain": [
       "                  Model  Test Accuracy\n",
       "0  KNN Arbitary Sklearn          0.262"
      ]
     },
     "execution_count": 24,
     "metadata": {},
     "output_type": "execute_result"
    }
   ],
   "source": [
    "results.loc[len(results)] = [\"KNN Arbitary Sklearn\", np.round(acc, 3)]\n",
    "results"
   ]
  },
  {
   "cell_type": "markdown",
   "metadata": {},
   "source": [
    "### Insight into predictions"
   ]
  },
  {
   "cell_type": "markdown",
   "metadata": {},
   "source": [
    "Let's take one correct prediction from test set and look onto its nearest neighbors"
   ]
  },
  {
   "cell_type": "code",
   "execution_count": 25,
   "metadata": {
    "collapsed": true
   },
   "outputs": [],
   "source": [
    "correct_idx = np.where(y_pred_test == y_test)[0][0]"
   ]
  },
  {
   "cell_type": "markdown",
   "metadata": {},
   "source": [
    "Get $k$ nearest neighbors via Sklearn interface (method $\\text{kneighbors}$)"
   ]
  },
  {
   "cell_type": "code",
   "execution_count": 26,
   "metadata": {
    "collapsed": true
   },
   "outputs": [],
   "source": [
    "neighbors = model_knn_sklearn.kneighbors(X=[X_test[correct_idx]], return_distance=False)[0]"
   ]
  },
  {
   "cell_type": "markdown",
   "metadata": {},
   "source": [
    "Let's see what examples are"
   ]
  },
  {
   "cell_type": "code",
   "execution_count": 27,
   "metadata": {},
   "outputs": [
    {
     "data": {
      "image/png": "[encoded data removed]",
      "text/plain": [
       "<matplotlib.figure.Figure at 0x7fc8c6330a20>"
      ]
     },
     "metadata": {},
     "output_type": "display_data"
    },
    {
     "data": {
      "image/png": "[encoded data removed]",
      "text/plain": [
       "<matplotlib.figure.Figure at 0x7fc8c63301d0>"
      ]
     },
     "metadata": {},
     "output_type": "display_data"
    }
   ],
   "source": [
    "show_pic(X_test[correct_idx])\n",
    "plt.title(\"Test image\\nClass: \" + classes[y_test[correct_idx]])\n",
    "plt.show()\n",
    "plt.figure(figsize=(15, 3))\n",
    "for i, neighbor_idx in enumerate(neighbors):\n",
    "    plt.subplot(1, 5, i + 1)\n",
    "    show_pic(X_train[neighbor_idx])\n",
    "    plt.title(str(i + 1) + \" closest example\\nClass: \" + classes[y_train[neighbor_idx]])\n",
    "plt.show()"
   ]
  },
  {
   "cell_type": "markdown",
   "metadata": {},
   "source": [
    "Indeed, among five closest objects we have three frogs and ship pic which is very close to the initial frog pic.\n",
    "\n",
    "It's **good** even the accuracy is bad, because our model can be explained in a very **intuitive** way"
   ]
  },
  {
   "cell_type": "markdown",
   "metadata": {},
   "source": [
    "## Logistic Regression"
   ]
  },
  {
   "cell_type": "markdown",
   "metadata": {},
   "source": [
    "The next thing to try is Multinomial Logistic Regression (see theory in lectures)\n",
    "\n",
    "Here we used Sklearn $\\text{SGDClassifier}$ with few options:\n",
    "* $\\text{loss} = \\text{\"log\"} -$corresponds to Logistic Regression\n",
    "* $\\text{penalty} = \\text{\"none\"}-$ for now we don't want to use regularization (using it should impove quality by few percents)\n",
    "* $\\text{max_iter} = 15 -$ the number of passes over the training data (aka epochs)\n",
    "* $\\text{average} = 10 -$ by default Stochastic Gradient Descent method is used. But it gitters massively (you should have observed it in LinearRegression homework). This is due to the not very good approximation of gradient (only by one example). To neglect this error we simply average gradient across last 10 steps."
   ]
  },
  {
   "cell_type": "code",
   "execution_count": 28,
   "metadata": {
    "collapsed": true
   },
   "outputs": [],
   "source": [
    "model_lr_sklearn = SGDClassifier(loss=\"log\", penalty=\"none\", max_iter=15, average=10, n_jobs=-1)"
   ]
  },
  {
   "cell_type": "markdown",
   "metadata": {},
   "source": [
    "### Fitting"
   ]
  },
  {
   "cell_type": "code",
   "execution_count": 29,
   "metadata": {},
   "outputs": [
    {
     "data": {
      "text/plain": [
       "SGDClassifier(alpha=0.0001, average=10, class_weight=None, epsilon=0.1,\n",
       "       eta0=0.0, fit_intercept=True, l1_ratio=0.15,\n",
       "       learning_rate='optimal', loss='log', max_iter=15, n_iter=None,\n",
       "       n_jobs=-1, penalty='none', power_t=0.5, random_state=None,\n",
       "       shuffle=True, tol=None, verbose=0, warm_start=False)"
      ]
     },
     "execution_count": 29,
     "metadata": {},
     "output_type": "execute_result"
    }
   ],
   "source": [
    "model_lr_sklearn.fit(X_train, y_train)"
   ]
  },
  {
   "cell_type": "markdown",
   "metadata": {},
   "source": [
    "### Evaluation"
   ]
  },
  {
   "cell_type": "markdown",
   "metadata": {},
   "source": [
    "Prediction"
   ]
  },
  {
   "cell_type": "code",
   "execution_count": 30,
   "metadata": {
    "collapsed": true
   },
   "outputs": [],
   "source": [
    "y_pred_test = model_lr_sklearn.predict(X_test)"
   ]
  },
  {
   "cell_type": "markdown",
   "metadata": {},
   "source": [
    "Accuracy"
   ]
  },
  {
   "cell_type": "code",
   "execution_count": 31,
   "metadata": {
    "collapsed": true
   },
   "outputs": [],
   "source": [
    "acc = accuracy_score(y_test, y_pred_test)"
   ]
  },
  {
   "cell_type": "markdown",
   "metadata": {},
   "source": [
    "Keeping table of results up-to-date"
   ]
  },
  {
   "cell_type": "code",
   "execution_count": 32,
   "metadata": {},
   "outputs": [
    {
     "data": {
      "text/html": [
       "<div>\n",
       "<style>\n",
       "    .dataframe thead tr:only-child th {\n",
       "        text-align: right;\n",
       "    }\n",
       "\n",
       "    .dataframe thead th {\n",
       "        text-align: left;\n",
       "    }\n",
       "\n",
       "    .dataframe tbody tr th {\n",
       "        vertical-align: top;\n",
       "    }\n",
       "</style>\n",
       "<table border=\"1\" class=\"dataframe\">\n",
       "  <thead>\n",
       "    <tr style=\"text-align: right;\">\n",
       "      <th></th>\n",
       "      <th>Model</th>\n",
       "      <th>Test Accuracy</th>\n",
       "    </tr>\n",
       "  </thead>\n",
       "  <tbody>\n",
       "    <tr>\n",
       "      <th>0</th>\n",
       "      <td>KNN Arbitary Sklearn</td>\n",
       "      <td>0.262</td>\n",
       "    </tr>\n",
       "    <tr>\n",
       "      <th>1</th>\n",
       "      <td>LR Sklearn</td>\n",
       "      <td>0.343</td>\n",
       "    </tr>\n",
       "  </tbody>\n",
       "</table>\n",
       "</div>"
      ],
      "text/plain": [
       "                  Model  Test Accuracy\n",
       "0  KNN Arbitary Sklearn          0.262\n",
       "1            LR Sklearn          0.343"
      ]
     },
     "execution_count": 32,
     "metadata": {},
     "output_type": "execute_result"
    }
   ],
   "source": [
    "results.loc[len(results)] = [\"LR Sklearn\", np.round(acc, 3)]\n",
    "results"
   ]
  },
  {
   "cell_type": "markdown",
   "metadata": {},
   "source": [
    "$7\\%$ better, not bad!"
   ]
  },
  {
   "cell_type": "markdown",
   "metadata": {},
   "source": [
    "# Assignment"
   ]
  },
  {
   "cell_type": "markdown",
   "metadata": {},
   "source": [
    "## K Nearest Neighbors: Grid Search\n",
    "Take Sklearn implementation of KNN classifier and find out the best set of parameters from the following range:\n",
    "\n",
    "$$\n",
    "\\text{n_neighbors} \\in \\{1 \\ldots 5\\}\\\\\n",
    "\\text{p} \\in \\{1 \\ldots 3\\}\n",
    "$$\n",
    "\n",
    "where $\\text{n_neighbors}$ is the number of neighbors to consider and $\\text{p}$ is the order of $L_p$ metric (see explanation below)\n",
    "\n",
    "You're going to use **hold-out** sample approach for it.\n",
    "\n",
    "The methodology should be the following:\n",
    "* Iterate over the set of parameters (two nested loops in this case)\n",
    "    * At each iteration one has fixed parameters $\\text{n_neighbors} = n^*, \\text{p} = p^*$. \n",
    "    * Build and train KNN classifier with these parameters on the train set.\n",
    "    * Calculate the error (accuracy) on the test set and remember it.\n",
    "* Choose the best set of parameters based on test set error"
   ]
  },
  {
   "cell_type": "code",
   "execution_count": 33,
   "metadata": {
    "collapsed": true
   },
   "outputs": [],
   "source": [
    "n_neighbors_range = np.arange(1, 6)\n",
    "p_range = np.arange(1, 4)"
   ]
  },
  {
   "cell_type": "code",
   "execution_count": 34,
   "metadata": {
    "collapsed": true
   },
   "outputs": [],
   "source": [
    "test_error = np.zeros(shape=(len(n_neighbors_range), \n",
    "                             len(p_range)))"
   ]
  },
  {
   "cell_type": "code",
   "execution_count": 35,
   "metadata": {},
   "outputs": [
    {
     "name": "stdout",
     "output_type": "stream",
     "text": [
      "CPU times: user 1h 45min 34s, sys: 2.14 s, total: 1h 45min 36s\n",
      "Wall time: 9min 18s\n"
     ]
    }
   ],
   "source": [
    "%%time\n",
    "for n_neighbors in n_neighbors_range:\n",
    "    for p in p_range:\n",
    "        model_knn_sklearn = KNeighborsClassifier(n_neighbors=n_neighbors ,p=p, n_jobs=-1)\n",
    "\n",
    "        model_knn_sklearn.fit(X_train, y_train)\n",
    "\n",
    "        y_pred_test = model_knn_sklearn.predict(X_test)\n",
    "        acc = accuracy_score(y_test, y_pred_test)\n",
    "        \n",
    "        test_error[n_neighbors - 1, p - 1] = acc"
   ]
  },
  {
   "cell_type": "code",
   "execution_count": 36,
   "metadata": {},
   "outputs": [
    {
     "name": "stdout",
     "output_type": "stream",
     "text": [
      "Best model with accuracy of 0.293\n",
      "n_neighbors = 3\n",
      "p = 1\n"
     ]
    }
   ],
   "source": [
    "max_idx = np.unravel_index(np.argmax(test_error), test_error.shape)\n",
    "acc = np.round(test_error[max_idx[0], max_idx[1]], 3)\n",
    "print(\"Best model with accuracy of\", acc)\n",
    "print(\"n_neighbors =\", n_neighbors_range[max_idx[0]])\n",
    "print(\"p =\", p_range[max_idx[1]])"
   ]
  },
  {
   "cell_type": "code",
   "execution_count": 37,
   "metadata": {},
   "outputs": [
    {
     "data": {
      "text/html": [
       "<div>\n",
       "<style>\n",
       "    .dataframe thead tr:only-child th {\n",
       "        text-align: right;\n",
       "    }\n",
       "\n",
       "    .dataframe thead th {\n",
       "        text-align: left;\n",
       "    }\n",
       "\n",
       "    .dataframe tbody tr th {\n",
       "        vertical-align: top;\n",
       "    }\n",
       "</style>\n",
       "<table border=\"1\" class=\"dataframe\">\n",
       "  <thead>\n",
       "    <tr style=\"text-align: right;\">\n",
       "      <th></th>\n",
       "      <th>Model</th>\n",
       "      <th>Test Accuracy</th>\n",
       "    </tr>\n",
       "  </thead>\n",
       "  <tbody>\n",
       "    <tr>\n",
       "      <th>0</th>\n",
       "      <td>KNN Arbitary Sklearn</td>\n",
       "      <td>0.262</td>\n",
       "    </tr>\n",
       "    <tr>\n",
       "      <th>1</th>\n",
       "      <td>LR Sklearn</td>\n",
       "      <td>0.343</td>\n",
       "    </tr>\n",
       "    <tr>\n",
       "      <th>2</th>\n",
       "      <td>KNN Grid Search Homegrown</td>\n",
       "      <td>0.293</td>\n",
       "    </tr>\n",
       "  </tbody>\n",
       "</table>\n",
       "</div>"
      ],
      "text/plain": [
       "                       Model  Test Accuracy\n",
       "0       KNN Arbitary Sklearn          0.262\n",
       "1                 LR Sklearn          0.343\n",
       "2  KNN Grid Search Homegrown          0.293"
      ]
     },
     "execution_count": 37,
     "metadata": {},
     "output_type": "execute_result"
    }
   ],
   "source": [
    "results.loc[len(results)] = [\"KNN Grid Search Homegrown\", np.round(acc, 3)]\n",
    "results"
   ]
  },
  {
   "cell_type": "markdown",
   "metadata": {},
   "source": [
    "### Sklearn Example of CV\n",
    "In this part you should not code anything. Just look how it should be done in pythonic way."
   ]
  },
  {
   "cell_type": "markdown",
   "metadata": {},
   "source": [
    "Let's use sklearn KNN for parameter selection"
   ]
  },
  {
   "cell_type": "code",
   "execution_count": 38,
   "metadata": {
    "collapsed": true
   },
   "outputs": [],
   "source": [
    "knn_sk = KNeighborsClassifier(n_jobs=-1)"
   ]
  },
  {
   "cell_type": "markdown",
   "metadata": {},
   "source": [
    "And specify the dictionary of parameters we want to optimize along with their ranges"
   ]
  },
  {
   "cell_type": "code",
   "execution_count": 39,
   "metadata": {
    "collapsed": true
   },
   "outputs": [],
   "source": [
    "parameters = {'n_neighbors': n_neighbors_range, 'p': p_range}"
   ]
  },
  {
   "cell_type": "markdown",
   "metadata": {},
   "source": [
    "Now let's unite all the data"
   ]
  },
  {
   "cell_type": "code",
   "execution_count": 40,
   "metadata": {
    "collapsed": true
   },
   "outputs": [],
   "source": [
    "X = np.concatenate((X_train, X_test))\n",
    "y = np.concatenate((y_train, y_test))"
   ]
  },
  {
   "cell_type": "markdown",
   "metadata": {},
   "source": [
    "$\\text{PredefineSplit}$ function allows to use not random splitting and predefine it by yourself"
   ]
  },
  {
   "cell_type": "code",
   "execution_count": 41,
   "metadata": {
    "collapsed": true
   },
   "outputs": [],
   "source": [
    "split = PredefinedSplit(test_fold=[-1] * len(X_train) + [0] * len(X_test))"
   ]
  },
  {
   "cell_type": "markdown",
   "metadata": {},
   "source": [
    "$\\text{GridSearchCV}$ function do all the stuff. There are three main arguments:\n",
    "* $\\text{estimator} = \\text{knn_sk} -$classifier to use; KNN from sklearn defined before\n",
    "* $\\text{param_grid} = \\text{parameters} -$parameters ranges to test\n",
    "* $\\text{cv} = \\text{split} -$splitting iterator to use"
   ]
  },
  {
   "cell_type": "code",
   "execution_count": 42,
   "metadata": {},
   "outputs": [
    {
     "name": "stdout",
     "output_type": "stream",
     "text": [
      "CPU times: user 1h 45min 29s, sys: 1.48 s, total: 1h 45min 31s\n",
      "Wall time: 9min 25s\n"
     ]
    }
   ],
   "source": [
    "%%time\n",
    "best_model = GridSearchCV(estimator=knn_sk, \n",
    "                          param_grid=parameters,  \n",
    "                          cv=split, \n",
    "                          refit=False,  \n",
    "                          return_train_score=False)\n",
    "best_model.fit(X, y)"
   ]
  },
  {
   "cell_type": "markdown",
   "metadata": {},
   "source": [
    "Let's retrieve best parameters"
   ]
  },
  {
   "cell_type": "code",
   "execution_count": 43,
   "metadata": {
    "collapsed": true
   },
   "outputs": [],
   "source": [
    "best_p = best_model.best_params_[\"p\"]\n",
    "best_n = best_model.best_params_[\"n_neighbors\"]"
   ]
  },
  {
   "cell_type": "code",
   "execution_count": 44,
   "metadata": {},
   "outputs": [
    {
     "name": "stdout",
     "output_type": "stream",
     "text": [
      "Best model with accuracy of 0.293\n",
      "n_neighbors = 3\n",
      "p = 1\n"
     ]
    }
   ],
   "source": [
    "print(\"Best model with accuracy of\", best_model.best_score_)\n",
    "print(\"n_neighbors =\", best_n)\n",
    "print(\"p =\", best_p)"
   ]
  },
  {
   "cell_type": "markdown",
   "metadata": {},
   "source": [
    "And visualize the accuracy for each pair of parameters"
   ]
  },
  {
   "cell_type": "code",
   "execution_count": 45,
   "metadata": {},
   "outputs": [
    {
     "data": {
      "image/png": "[encoded data removed]",
      "text/plain": [
       "<matplotlib.figure.Figure at 0x7fc8ceecbeb8>"
      ]
     },
     "metadata": {},
     "output_type": "display_data"
    }
   ],
   "source": [
    "plt.figure(figsize=(8, 5))\n",
    "sc = plt.scatter(best_model.cv_results_[\"param_n_neighbors\"], \n",
    "                 best_model.cv_results_[\"param_p\"], \n",
    "                 c=best_model.cv_results_[\"mean_test_score\"], \n",
    "                 cmap = plt.get_cmap(\"RdYlBu_r\"), \n",
    "                 s=1500)\n",
    "plt.colorbar(sc)\n",
    "plt.grid(\"on\")\n",
    "plt.gca().set_axisbelow(True)\n",
    "plt.xlabel(\"Number of neighbors\")\n",
    "plt.ylabel(\"p\")\n",
    "plt.title(\"Dependency of accuracy on parameters\")\n",
    "plt.xlim([0, 6])\n",
    "plt.ylim([0.5, 3.5])\n",
    "plt.show()"
   ]
  },
  {
   "cell_type": "markdown",
   "metadata": {},
   "source": [
    "Also let's choose the best $p^*$ and see how accuracy depends on number estimators for that $p$"
   ]
  },
  {
   "cell_type": "code",
   "execution_count": 46,
   "metadata": {
    "collapsed": true
   },
   "outputs": [],
   "source": [
    "p_idx = best_model.cv_results_[\"param_p\"].data == best_p"
   ]
  },
  {
   "cell_type": "code",
   "execution_count": 47,
   "metadata": {},
   "outputs": [
    {
     "data": {
      "image/png": "[encoded data removed]",
      "text/plain": [
       "<matplotlib.figure.Figure at 0x7fc8be5be358>"
      ]
     },
     "metadata": {},
     "output_type": "display_data"
    }
   ],
   "source": [
    "plt.figure(figsize=(10, 8))\n",
    "plt.plot(best_model.cv_results_[\"param_n_neighbors\"].data[p_idx], \n",
    "         best_model.cv_results_[\"mean_test_score\"][p_idx], \n",
    "         \"o-\")\n",
    "plt.plot([best_n], [best_model.cv_results_[\"mean_test_score\"][p_idx][best_n - 1]], \"or\", markersize=15, label=\"Best\")\n",
    "plt.xlabel(\"Number of neighbors\")\n",
    "plt.ylabel(\"Accuracy\")\n",
    "plt.title(\"\")\n",
    "plt.grid(\"on\")\n",
    "plt.legend(numpoints=1)\n",
    "plt.title(\"Dependency of accuracy\\non number of neighboors for p = \" + str(best_p));"
   ]
  },
  {
   "cell_type": "markdown",
   "metadata": {},
   "source": [
    "Let's add this result to the table of results. It should be the same as homegrown parameter selection"
   ]
  },
  {
   "cell_type": "code",
   "execution_count": 48,
   "metadata": {
    "collapsed": true
   },
   "outputs": [],
   "source": [
    "acc = best_model.best_score_"
   ]
  },
  {
   "cell_type": "code",
   "execution_count": 49,
   "metadata": {},
   "outputs": [
    {
     "data": {
      "text/html": [
       "<div>\n",
       "<style>\n",
       "    .dataframe thead tr:only-child th {\n",
       "        text-align: right;\n",
       "    }\n",
       "\n",
       "    .dataframe thead th {\n",
       "        text-align: left;\n",
       "    }\n",
       "\n",
       "    .dataframe tbody tr th {\n",
       "        vertical-align: top;\n",
       "    }\n",
       "</style>\n",
       "<table border=\"1\" class=\"dataframe\">\n",
       "  <thead>\n",
       "    <tr style=\"text-align: right;\">\n",
       "      <th></th>\n",
       "      <th>Model</th>\n",
       "      <th>Test Accuracy</th>\n",
       "    </tr>\n",
       "  </thead>\n",
       "  <tbody>\n",
       "    <tr>\n",
       "      <th>0</th>\n",
       "      <td>KNN Arbitary Sklearn</td>\n",
       "      <td>0.262</td>\n",
       "    </tr>\n",
       "    <tr>\n",
       "      <th>1</th>\n",
       "      <td>LR Sklearn</td>\n",
       "      <td>0.343</td>\n",
       "    </tr>\n",
       "    <tr>\n",
       "      <th>2</th>\n",
       "      <td>KNN Grid Search Homegrown</td>\n",
       "      <td>0.293</td>\n",
       "    </tr>\n",
       "    <tr>\n",
       "      <th>3</th>\n",
       "      <td>KNN Grid Search Sklearn</td>\n",
       "      <td>0.293</td>\n",
       "    </tr>\n",
       "  </tbody>\n",
       "</table>\n",
       "</div>"
      ],
      "text/plain": [
       "                       Model  Test Accuracy\n",
       "0       KNN Arbitary Sklearn          0.262\n",
       "1                 LR Sklearn          0.343\n",
       "2  KNN Grid Search Homegrown          0.293\n",
       "3    KNN Grid Search Sklearn          0.293"
      ]
     },
     "execution_count": 49,
     "metadata": {},
     "output_type": "execute_result"
    }
   ],
   "source": [
    "results.loc[len(results)] = [\"KNN Grid Search Sklearn\", np.round(acc, 3)]\n",
    "results"
   ]
  },
  {
   "cell_type": "markdown",
   "metadata": {},
   "source": [
    "## K Nearest Neighbors from scratch\n",
    "* Implement K Nearest Neighbors classifier\n",
    "* Take the best parameters from section 4.1 (or random if you do not accomplish 4.1)\n",
    "* Train a classifier\n",
    "* Report a quality"
   ]
  },
  {
   "cell_type": "markdown",
   "metadata": {},
   "source": [
    "K Nearest Neighbors classier is the simplest **metric** classifier. The idea behind it is to find $k$ most *similar* objects and make a classification decision based on them.\n",
    "\n",
    "To formalize the notion of similarity one should introduce the measure of the difference. Here we're going to use $L_p$ norm and induced metric.\n",
    "\n",
    "$$\n",
    "d_p(\\mathbf{x}_1, \\mathbf{x}_2) = \\|\\mathbf{x}_1 - \\mathbf{x}_2\\|_p = \\left( \\sum_{j=1}^{m}\\left| x_{1, \\,j} - x_{2, \\,j} \\right|^p \\right)^{1/p}\n",
    "$$\n",
    "\n",
    "There are special names for some of the $L_p$ metrics:\n",
    "* $p=1$ is Manhattan distance\n",
    "* $p=2$ is Euclidian distance\n",
    "\n",
    "For other metrics one can see [here](http://scikit-learn.org/stable/modules/generated/sklearn.neighbors.DistanceMetric.html)\n",
    "\n",
    "Process of learning for KNN classifier is no more than just remembering all the training examples to find the closest one later on. There are smart ways (such as [KD trees](https://en.wikipedia.org/wiki/K-d_tree)) of storing training objects to be able to find nearest one very fast (faster than simply scanning through all of them). But here you need to implement it as a simple **array**.\n",
    "\n",
    "For the prediction the following strategy is used:\n",
    "* Find $k$ closest examples from train set\n",
    "* Find the most frequent label among these $k$ closest objects (if there are few labels with the same number of objects than pick any label from those)\n",
    "* Assign this label to new object"
   ]
  },
  {
   "cell_type": "code",
   "execution_count": 50,
   "metadata": {
    "collapsed": true
   },
   "outputs": [],
   "source": [
    "class KNNHomegrown(object):\n",
    "    \n",
    "    def __init__(self, n_neighbors=5, p=2):\n",
    "        self.n_neighbors = n_neighbors\n",
    "        self.p = p\n",
    "        self._train_objects = np.array([])\n",
    "        self._train_labels = np.array([])\n",
    "        \n",
    "    def _metric_func(self, x1, x2):\n",
    "        \"\"\"\n",
    "        Return distance between two objects in Lp metric\n",
    "        \n",
    "        Args:\n",
    "            x1(ndarray): first object\n",
    "            x2(ndarray): second object\n",
    "        Return:\n",
    "            distance(float): returns Lp distance \n",
    "                             between x1 and x2\n",
    "        \"\"\"\n",
    "        \n",
    "        distance = np.linalg.norm(x1 - x2, ord=self.p, axis=1)\n",
    "        \n",
    "        return distance\n",
    "    \n",
    "    def _accuracy(self, y_true, y_pred):\n",
    "        \"\"\"\n",
    "        Return the accuracy error measure\n",
    "        \n",
    "        Args:\n",
    "            y_true(ndarray): true labels\n",
    "            y_pred(ndarray): predicted labels\n",
    "        Return:\n",
    "            acc(float):      accuracy\n",
    "        \"\"\"\n",
    "        \n",
    "        acc = np.mean(y_true == y_pred)\n",
    "        \n",
    "        return acc\n",
    "    \n",
    "    def fit(self, X, y):\n",
    "        \"\"\"\n",
    "        Fits the KNN classification model\n",
    "        \n",
    "        Args:\n",
    "            X(ndarray): objects to train on\n",
    "            y(ndarray): labels for each object\n",
    "        Return:\n",
    "            self\n",
    "        \"\"\"\n",
    "        \n",
    "        self._train_objects = X.astype(np.float)\n",
    "        self._train_labels = y\n",
    "        \n",
    "        return self\n",
    "        \n",
    "    def _nearest_neighbors(self, X, return_distances=False):\n",
    "        \"\"\"\n",
    "        Get n nearest neighbors for each object in X.\n",
    "        For each object in X returns the array of n\n",
    "        closest objects in train set.\n",
    "        \n",
    "        Args:\n",
    "            X(ndarray): objects\n",
    "        Return:\n",
    "            nearest_indices(ndarray): array of nearest \n",
    "                                      objects indices\n",
    "        \"\"\"\n",
    "        \n",
    "        nearest_indices = np.zeros(shape=(X.shape[0], \n",
    "                                          self.n_neighbors), dtype=np.int) - 1\n",
    "        nearest_distances = np.zeros(shape=(X.shape[0], \n",
    "                                            self.n_neighbors))\n",
    "        \n",
    "        for i in range(X.shape[0]):\n",
    "            if (i + 1) % 100 == 0:\n",
    "                print(\"Object {} out of {} has been predicted\".format(i + 1, X.shape[0]))\n",
    "            distances = self._metric_func(X[i], self._train_objects)\n",
    "            index_order = np.argsort(distances)[:self.n_neighbors]\n",
    "            nearest_indices[i] = index_order\n",
    "            if return_distances:\n",
    "                nearest_distances[i] = distances[index_order]\n",
    "\n",
    "        if return_distances:\n",
    "            return (nearest_indices, nearest_distances)\n",
    "        else:\n",
    "            return (nearest_indices,)\n",
    "    \n",
    "    def predict(self, X):\n",
    "        \"\"\"\n",
    "        Predict the label for new objects\n",
    "        \n",
    "        Args:\n",
    "            X(ndarray): objects to predict\n",
    "        Return:\n",
    "            y(ndarray): labels for objects\n",
    "        \"\"\"\n",
    "        \n",
    "        y = np.zeros(shape=(X.shape[0],)) - 1\n",
    "        \n",
    "        nearest_indices = self._nearest_neighbors(X)[0]\n",
    "        nearest_labels = self._train_labels[nearest_indices]\n",
    "        \n",
    "        for i in range(X.shape[0]):\n",
    "            y[i] = np.argmax(np.bincount(nearest_labels[i]))\n",
    "        \n",
    "        return y\n",
    "    \n",
    "    def score(self, X, y):\n",
    "        \"\"\"\n",
    "        Return a dictionary which contains accuracy and Lp\n",
    "        error metrics\n",
    "        \n",
    "        Args:\n",
    "            X(ndarray):    objects to predict\n",
    "            y(ndarray):    true labels for objects\n",
    "        Return:\n",
    "            metrics(dict): dictionary which contains metrics\n",
    "        \"\"\"\n",
    "        \n",
    "        y_pred = self.predict(X)\n",
    "        \n",
    "        acc = self._accuracy(y, y_pred)\n",
    "        loss = self._metric_func(y, y_pred)\n",
    "        \n",
    "        metrics = {\"acc\": acc, \"loss\": loss}\n",
    "        \n",
    "        return metrics"
   ]
  },
  {
   "cell_type": "code",
   "execution_count": 51,
   "metadata": {
    "collapsed": true
   },
   "outputs": [],
   "source": [
    "model_knn_homegrown = KNNHomegrown(n_neighbors=3, p=1)"
   ]
  },
  {
   "cell_type": "code",
   "execution_count": 52,
   "metadata": {},
   "outputs": [
    {
     "data": {
      "text/plain": [
       "<__main__.KNNHomegrown at 0x7fc8beae8e10>"
      ]
     },
     "execution_count": 52,
     "metadata": {},
     "output_type": "execute_result"
    }
   ],
   "source": [
    "model_knn_homegrown.fit(X_train, y_train)"
   ]
  },
  {
   "cell_type": "code",
   "execution_count": 53,
   "metadata": {},
   "outputs": [
    {
     "name": "stdout",
     "output_type": "stream",
     "text": [
      "Object 100 out of 1000 has been predicted\n",
      "Object 200 out of 1000 has been predicted\n",
      "Object 300 out of 1000 has been predicted\n",
      "Object 400 out of 1000 has been predicted\n",
      "Object 500 out of 1000 has been predicted\n",
      "Object 600 out of 1000 has been predicted\n",
      "Object 700 out of 1000 has been predicted\n",
      "Object 800 out of 1000 has been predicted\n",
      "Object 900 out of 1000 has been predicted\n",
      "Object 1000 out of 1000 has been predicted\n"
     ]
    }
   ],
   "source": [
    "y_pred_test = model_knn_homegrown.predict(X_test)"
   ]
  },
  {
   "cell_type": "code",
   "execution_count": 54,
   "metadata": {
    "collapsed": true
   },
   "outputs": [],
   "source": [
    "acc = accuracy_score(y_test, y_pred_test)"
   ]
  },
  {
   "cell_type": "code",
   "execution_count": 55,
   "metadata": {},
   "outputs": [
    {
     "data": {
      "text/html": [
       "<div>\n",
       "<style>\n",
       "    .dataframe thead tr:only-child th {\n",
       "        text-align: right;\n",
       "    }\n",
       "\n",
       "    .dataframe thead th {\n",
       "        text-align: left;\n",
       "    }\n",
       "\n",
       "    .dataframe tbody tr th {\n",
       "        vertical-align: top;\n",
       "    }\n",
       "</style>\n",
       "<table border=\"1\" class=\"dataframe\">\n",
       "  <thead>\n",
       "    <tr style=\"text-align: right;\">\n",
       "      <th></th>\n",
       "      <th>Model</th>\n",
       "      <th>Test Accuracy</th>\n",
       "    </tr>\n",
       "  </thead>\n",
       "  <tbody>\n",
       "    <tr>\n",
       "      <th>0</th>\n",
       "      <td>KNN Arbitary Sklearn</td>\n",
       "      <td>0.262</td>\n",
       "    </tr>\n",
       "    <tr>\n",
       "      <th>1</th>\n",
       "      <td>LR Sklearn</td>\n",
       "      <td>0.343</td>\n",
       "    </tr>\n",
       "    <tr>\n",
       "      <th>2</th>\n",
       "      <td>KNN Grid Search Homegrown</td>\n",
       "      <td>0.293</td>\n",
       "    </tr>\n",
       "    <tr>\n",
       "      <th>3</th>\n",
       "      <td>KNN Grid Search Sklearn</td>\n",
       "      <td>0.293</td>\n",
       "    </tr>\n",
       "    <tr>\n",
       "      <th>4</th>\n",
       "      <td>KNN Best Homegrown</td>\n",
       "      <td>0.293</td>\n",
       "    </tr>\n",
       "  </tbody>\n",
       "</table>\n",
       "</div>"
      ],
      "text/plain": [
       "                       Model  Test Accuracy\n",
       "0       KNN Arbitary Sklearn          0.262\n",
       "1                 LR Sklearn          0.343\n",
       "2  KNN Grid Search Homegrown          0.293\n",
       "3    KNN Grid Search Sklearn          0.293\n",
       "4         KNN Best Homegrown          0.293"
      ]
     },
     "execution_count": 55,
     "metadata": {},
     "output_type": "execute_result"
    }
   ],
   "source": [
    "results.loc[len(results)] = [\"KNN Best Homegrown\", np.round(acc, 3)]\n",
    "results"
   ]
  },
  {
   "cell_type": "markdown",
   "metadata": {},
   "source": [
    "Check that your implementation gives the same result as Sklearn. There is no randomness in this algorithm so the answer should be almost the same."
   ]
  },
  {
   "cell_type": "markdown",
   "metadata": {},
   "source": [
    "## K Weighted Nearest Neighbors"
   ]
  },
  {
   "cell_type": "markdown",
   "metadata": {},
   "source": [
    "In usual KNN every object from $k$ nearest neighbors is treated equally (it is called **majority voting**). But it is obvious that closer object should make bigger impact.\n",
    "\n",
    "Majority voting can be thought the following: let's assign weight $1$ to each neighbor and then just see how many total weight do we have for each class.\n",
    "\n",
    "Once we're fine with this understanding let us not to restrict ouselves with weights equal to $1$. Let's assume that weight of each object is **inversly proporional** to the distance to this object. It means that the smaller the distance is the more the weight will be $-$ exactly that we want. The classification is done with the same rule $-$ we just sum up weights for each class and choose the heaviest one. \n",
    "\n",
    "In this case we implicitly avoided one more problem $-$ now it is almost impossible to have equally heavy classes which means that the solution will always be unique."
   ]
  },
  {
   "cell_type": "code",
   "execution_count": 56,
   "metadata": {
    "collapsed": true
   },
   "outputs": [],
   "source": [
    "class KNNWeightedHomegrown(KNNHomegrown):\n",
    "    \n",
    "    def __init__(self, n_neighbors=5, p=2, weight_mode=\"uniform\"):\n",
    "        super(KNNWeightedHomegrown, self).__init__(n_neighbors, p)\n",
    "        \n",
    "        if weight_mode != \"distance\":\n",
    "            weight_mode = \"uniform\"\n",
    "        self.weight_mode = weight_mode\n",
    "        \n",
    "        if self.weight_mode == \"distance\":\n",
    "            self._weight_func = self._inverse_weights\n",
    "        else:\n",
    "            self._weight_func = self._uniform_weights\n",
    "        \n",
    "    def _inverse_weights(self, distances):\n",
    "        \"\"\"\n",
    "        Generate neighbors weights which are \n",
    "        inversly proportional to the distances from\n",
    "        object to its neighbor.\n",
    "\n",
    "        Args:\n",
    "            distances(ndarray): 2D numpy array\n",
    "                first axes is objects\n",
    "                second axes is neighbors of object\n",
    "                in the cell (i; j) there is distance from\n",
    "                the i^th object to its j^th nearest neighbor\n",
    "        Return:\n",
    "            weights(ndarray):   array of weights\n",
    "        \"\"\" \n",
    "        \n",
    "        weights = 1. / distances\n",
    "        \n",
    "        return weights\n",
    "    \n",
    "    def _uniform_weights(self, distances):\n",
    "        \"\"\"\n",
    "        Generate neighbors weights which are \n",
    "        uniformly distributed.\n",
    "\n",
    "        Args:\n",
    "            distances(ndarray): 2D numpy array\n",
    "                first axes is objects\n",
    "                second axes is neighbors of object\n",
    "                in the cell (i; j) there is distance from\n",
    "                the i^th object to its j^th nearest neighbor\n",
    "        Return:\n",
    "            weights(ndarray):   array of weights\n",
    "        \"\"\" \n",
    "        \n",
    "        weights = np.ones(shape=distances.shape)\n",
    "        \n",
    "        return weights\n",
    "    \n",
    "    def predict(self, X):\n",
    "        \"\"\"\n",
    "        Predict the label for new objects.\n",
    "        Accounts for neighbors with weights in the\n",
    "        mode defined in the constructor.\n",
    "        \n",
    "        Args:\n",
    "            X(ndarray): objects to predict\n",
    "        Return:\n",
    "            y(ndarray): labels for objects\n",
    "        \"\"\"\n",
    "        \n",
    "        y = np.zeros(X.shape[0]) - 1\n",
    "        \n",
    "        nearest_indices, nearest_distances = self._nearest_neighbors(X, return_distances=True)\n",
    "        nearest_labels = self._train_labels[nearest_indices]\n",
    "        \n",
    "        weights = self._weight_func(nearest_distances)\n",
    "        \n",
    "        for i in range(X.shape[0]):     \n",
    "            counts = np.bincount(nearest_labels[i])\n",
    "            weighted_sum = counts[nearest_labels[i]] * weights[i]\n",
    "            y[i] = nearest_labels[i][np.argmax(weighted_sum)]\n",
    "        \n",
    "        return y"
   ]
  },
  {
   "cell_type": "code",
   "execution_count": 57,
   "metadata": {
    "collapsed": true
   },
   "outputs": [],
   "source": [
    "model_knn_weighted_homegrown = KNNWeightedHomegrown(n_neighbors=3, p=1)"
   ]
  },
  {
   "cell_type": "code",
   "execution_count": 58,
   "metadata": {},
   "outputs": [
    {
     "data": {
      "text/plain": [
       "<__main__.KNNWeightedHomegrown at 0x7fc8beaf15f8>"
      ]
     },
     "execution_count": 58,
     "metadata": {},
     "output_type": "execute_result"
    }
   ],
   "source": [
    "model_knn_weighted_homegrown.fit(X_train, y_train)"
   ]
  },
  {
   "cell_type": "code",
   "execution_count": 59,
   "metadata": {},
   "outputs": [
    {
     "name": "stdout",
     "output_type": "stream",
     "text": [
      "Object 100 out of 1000 has been predicted\n",
      "Object 200 out of 1000 has been predicted\n",
      "Object 300 out of 1000 has been predicted\n",
      "Object 400 out of 1000 has been predicted\n",
      "Object 500 out of 1000 has been predicted\n",
      "Object 600 out of 1000 has been predicted\n",
      "Object 700 out of 1000 has been predicted\n",
      "Object 800 out of 1000 has been predicted\n",
      "Object 900 out of 1000 has been predicted\n",
      "Object 1000 out of 1000 has been predicted\n"
     ]
    }
   ],
   "source": [
    "y_pred_test = model_knn_weighted_homegrown.predict(X_test)"
   ]
  },
  {
   "cell_type": "code",
   "execution_count": 60,
   "metadata": {
    "collapsed": true
   },
   "outputs": [],
   "source": [
    "acc = accuracy_score(y_test, y_pred_test)"
   ]
  },
  {
   "cell_type": "code",
   "execution_count": 61,
   "metadata": {},
   "outputs": [
    {
     "data": {
      "text/html": [
       "<div>\n",
       "<style>\n",
       "    .dataframe thead tr:only-child th {\n",
       "        text-align: right;\n",
       "    }\n",
       "\n",
       "    .dataframe thead th {\n",
       "        text-align: left;\n",
       "    }\n",
       "\n",
       "    .dataframe tbody tr th {\n",
       "        vertical-align: top;\n",
       "    }\n",
       "</style>\n",
       "<table border=\"1\" class=\"dataframe\">\n",
       "  <thead>\n",
       "    <tr style=\"text-align: right;\">\n",
       "      <th></th>\n",
       "      <th>Model</th>\n",
       "      <th>Test Accuracy</th>\n",
       "    </tr>\n",
       "  </thead>\n",
       "  <tbody>\n",
       "    <tr>\n",
       "      <th>0</th>\n",
       "      <td>KNN Arbitary Sklearn</td>\n",
       "      <td>0.262</td>\n",
       "    </tr>\n",
       "    <tr>\n",
       "      <th>1</th>\n",
       "      <td>LR Sklearn</td>\n",
       "      <td>0.343</td>\n",
       "    </tr>\n",
       "    <tr>\n",
       "      <th>2</th>\n",
       "      <td>KNN Grid Search Homegrown</td>\n",
       "      <td>0.293</td>\n",
       "    </tr>\n",
       "    <tr>\n",
       "      <th>3</th>\n",
       "      <td>KNN Grid Search Sklearn</td>\n",
       "      <td>0.293</td>\n",
       "    </tr>\n",
       "    <tr>\n",
       "      <th>4</th>\n",
       "      <td>KNN Best Homegrown</td>\n",
       "      <td>0.293</td>\n",
       "    </tr>\n",
       "    <tr>\n",
       "      <th>5</th>\n",
       "      <td>KNN Weighted Homegrown</td>\n",
       "      <td>0.304</td>\n",
       "    </tr>\n",
       "  </tbody>\n",
       "</table>\n",
       "</div>"
      ],
      "text/plain": [
       "                       Model  Test Accuracy\n",
       "0       KNN Arbitary Sklearn          0.262\n",
       "1                 LR Sklearn          0.343\n",
       "2  KNN Grid Search Homegrown          0.293\n",
       "3    KNN Grid Search Sklearn          0.293\n",
       "4         KNN Best Homegrown          0.293\n",
       "5     KNN Weighted Homegrown          0.304"
      ]
     },
     "execution_count": 61,
     "metadata": {},
     "output_type": "execute_result"
    }
   ],
   "source": [
    "results.loc[len(results)] = [\"KNN Weighted Homegrown\", np.round(acc, 3)]\n",
    "results"
   ]
  },
  {
   "cell_type": "markdown",
   "metadata": {},
   "source": [
    "### Sklearn Weighted KNN\n",
    "In this section you should not code anything again. Just see."
   ]
  },
  {
   "cell_type": "code",
   "execution_count": 62,
   "metadata": {
    "collapsed": true
   },
   "outputs": [],
   "source": [
    "model_knn_weighted_sklearn = KNeighborsClassifier(n_jobs=-1, weights=\"distance\", p=1, n_neighbors=3)"
   ]
  },
  {
   "cell_type": "markdown",
   "metadata": {},
   "source": [
    "Fitting"
   ]
  },
  {
   "cell_type": "code",
   "execution_count": 63,
   "metadata": {},
   "outputs": [
    {
     "data": {
      "text/plain": [
       "KNeighborsClassifier(algorithm='auto', leaf_size=30, metric='minkowski',\n",
       "           metric_params=None, n_jobs=-1, n_neighbors=3, p=1,\n",
       "           weights='distance')"
      ]
     },
     "execution_count": 63,
     "metadata": {},
     "output_type": "execute_result"
    }
   ],
   "source": [
    "model_knn_weighted_sklearn.fit(X_train, y_train)"
   ]
  },
  {
   "cell_type": "markdown",
   "metadata": {},
   "source": [
    "Predict answers on the test set"
   ]
  },
  {
   "cell_type": "code",
   "execution_count": 64,
   "metadata": {
    "collapsed": true
   },
   "outputs": [],
   "source": [
    "y_pred_test = model_knn_weighted_sklearn.predict(X_test)"
   ]
  },
  {
   "cell_type": "markdown",
   "metadata": {},
   "source": [
    "Accuracy score with sklearn function"
   ]
  },
  {
   "cell_type": "code",
   "execution_count": 65,
   "metadata": {
    "collapsed": true
   },
   "outputs": [],
   "source": [
    "acc = accuracy_score(y_test, y_pred_test)"
   ]
  },
  {
   "cell_type": "markdown",
   "metadata": {},
   "source": [
    "Append first row to the results table"
   ]
  },
  {
   "cell_type": "code",
   "execution_count": 66,
   "metadata": {},
   "outputs": [
    {
     "data": {
      "text/html": [
       "<div>\n",
       "<style>\n",
       "    .dataframe thead tr:only-child th {\n",
       "        text-align: right;\n",
       "    }\n",
       "\n",
       "    .dataframe thead th {\n",
       "        text-align: left;\n",
       "    }\n",
       "\n",
       "    .dataframe tbody tr th {\n",
       "        vertical-align: top;\n",
       "    }\n",
       "</style>\n",
       "<table border=\"1\" class=\"dataframe\">\n",
       "  <thead>\n",
       "    <tr style=\"text-align: right;\">\n",
       "      <th></th>\n",
       "      <th>Model</th>\n",
       "      <th>Test Accuracy</th>\n",
       "    </tr>\n",
       "  </thead>\n",
       "  <tbody>\n",
       "    <tr>\n",
       "      <th>0</th>\n",
       "      <td>KNN Arbitary Sklearn</td>\n",
       "      <td>0.262</td>\n",
       "    </tr>\n",
       "    <tr>\n",
       "      <th>1</th>\n",
       "      <td>LR Sklearn</td>\n",
       "      <td>0.343</td>\n",
       "    </tr>\n",
       "    <tr>\n",
       "      <th>2</th>\n",
       "      <td>KNN Grid Search Homegrown</td>\n",
       "      <td>0.293</td>\n",
       "    </tr>\n",
       "    <tr>\n",
       "      <th>3</th>\n",
       "      <td>KNN Grid Search Sklearn</td>\n",
       "      <td>0.293</td>\n",
       "    </tr>\n",
       "    <tr>\n",
       "      <th>4</th>\n",
       "      <td>KNN Best Homegrown</td>\n",
       "      <td>0.293</td>\n",
       "    </tr>\n",
       "    <tr>\n",
       "      <th>5</th>\n",
       "      <td>KNN Weighted Homegrown</td>\n",
       "      <td>0.304</td>\n",
       "    </tr>\n",
       "    <tr>\n",
       "      <th>6</th>\n",
       "      <td>KNN Weighted Sklearn</td>\n",
       "      <td>0.304</td>\n",
       "    </tr>\n",
       "  </tbody>\n",
       "</table>\n",
       "</div>"
      ],
      "text/plain": [
       "                       Model  Test Accuracy\n",
       "0       KNN Arbitary Sklearn          0.262\n",
       "1                 LR Sklearn          0.343\n",
       "2  KNN Grid Search Homegrown          0.293\n",
       "3    KNN Grid Search Sklearn          0.293\n",
       "4         KNN Best Homegrown          0.293\n",
       "5     KNN Weighted Homegrown          0.304\n",
       "6       KNN Weighted Sklearn          0.304"
      ]
     },
     "execution_count": 66,
     "metadata": {},
     "output_type": "execute_result"
    }
   ],
   "source": [
    "results.loc[len(results)] = [\"KNN Weighted Sklearn\", np.round(acc, 3)]\n",
    "results"
   ]
  },
  {
   "cell_type": "markdown",
   "metadata": {},
   "source": [
    "You can see that the result is the better (by $1\\%$) than simple KNN with Grid Search. By doing Grid Search with weighted KNN we can do few percent more and reach Logistic Regression without regularization!\n",
    "\n",
    "If you have time you're welcome to do it."
   ]
  },
  {
   "cell_type": "markdown",
   "metadata": {},
   "source": [
    "# Optional Assignment\n",
    "Try to do a submission to the Kaggle competition on [CIFAR](https://www.kaggle.com/c/cifar-10). Note that the training set in the competition is exactly the same as in this homework while the test set contains some junk images:\n",
    "```\n",
    "To discourage certain forms of cheating (such as hand labeling) we have added 290,000 junk images in the test set. These images are ignored in the scoring. We have also made trivial modifications to the official 10,000 test images to prevent looking them up by file hash. These modifications should not appreciably affect the scoring. You should predict labels for all 300,000 images.\n",
    "```\n",
    "With 300k test images for KNN-based classification we recommend that you use an Azure CPU cloud instance and even in that case it can take a while.\n",
    "\n",
    "Report your nick, rank and quality in this notebook when submitting an assignment solution."
   ]
  }
 ],
 "metadata": {
  "anaconda-cloud": {},
  "kernelspec": {
   "display_name": "Python 3",
   "language": "python",
   "name": "python3"
  },
  "language_info": {
   "codemirror_mode": {
    "name": "ipython",
    "version": 3
   },
   "file_extension": ".py",
   "mimetype": "text/x-python",
   "name": "python",
   "nbconvert_exporter": "python",
   "pygments_lexer": "ipython3",
   "version": "3.6.2"
  },
  "toc": {
   "nav_menu": {
    "height": "48px",
    "width": "252px"
   },
   "number_sections": true,
   "sideBar": true,
   "skip_h1_title": false,
   "toc_cell": false,
   "toc_position": {
    "height": "704px",
    "left": "0px",
    "right": "1388px",
    "top": "106px",
    "width": "222px"
   },
   "toc_section_display": "block",
   "toc_window_display": true
  }
 },
 "nbformat": 4,
 "nbformat_minor": 1
}
