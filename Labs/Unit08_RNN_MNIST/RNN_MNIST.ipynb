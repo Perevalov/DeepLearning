{
 "cells": [
  {
   "cell_type": "markdown",
   "metadata": {},
   "source": [
    "# Recurrent Neural Networks"
   ]
  },
  {
   "cell_type": "markdown",
   "metadata": {},
   "source": [
    "In this notebook we\"re going to explore handwritten digit recognition task using MNIST database and different RNN approaches"
   ]
  },
  {
   "cell_type": "code",
   "execution_count": 1,
   "metadata": {},
   "outputs": [
    {
     "name": "stderr",
     "output_type": "stream",
     "text": [
      "Using TensorFlow backend.\n"
     ]
    }
   ],
   "source": [
    "import time\n",
    "\n",
    "import numpy as np\n",
    "import pandas as pd\n",
    "\n",
    "from keras.datasets import mnist\n",
    "from keras.models import Sequential, Model\n",
    "from keras.layers import Input, Dense, Dropout, LSTM, Bidirectional, Convolution2D, MaxPooling2D, Reshape\n",
    "from keras.utils.np_utils import to_categorical\n",
    "from keras import backend as K\n",
    "from keras.utils.vis_utils import model_to_dot\n",
    "\n",
    "from IPython.display import SVG\n",
    "\n",
    "import matplotlib\n",
    "import matplotlib.pyplot as plt\n",
    "import seaborn as sns\n",
    "%matplotlib inline"
   ]
  },
  {
   "cell_type": "markdown",
   "metadata": {},
   "source": [
    "Set style"
   ]
  },
  {
   "cell_type": "code",
   "execution_count": 2,
   "metadata": {
    "collapsed": true
   },
   "outputs": [],
   "source": [
    "sns.set(style=\"whitegrid\", font_scale=1.3)\n",
    "matplotlib.rcParams[\"figure.figsize\"] = (10, 8)\n",
    "matplotlib.rcParams[\"legend.framealpha\"] = 1\n",
    "matplotlib.rcParams[\"legend.frameon\"] = True"
   ]
  },
  {
   "cell_type": "markdown",
   "metadata": {},
   "source": [
    "Just for the sake of reproducibility"
   ]
  },
  {
   "cell_type": "code",
   "execution_count": 3,
   "metadata": {
    "collapsed": true
   },
   "outputs": [],
   "source": [
    "np.random.seed(41)"
   ]
  },
  {
   "cell_type": "markdown",
   "metadata": {},
   "source": [
    "# Data"
   ]
  },
  {
   "cell_type": "markdown",
   "metadata": {},
   "source": [
    "In this tutorial we\"re going to use MNIST dataset with handwritten digits."
   ]
  },
  {
   "cell_type": "markdown",
   "metadata": {},
   "source": [
    "## MNIST overview"
   ]
  },
  {
   "cell_type": "markdown",
   "metadata": {},
   "source": [
    "Let\"s download MNIST dataset. There is a special function in Keras for that purpose (because MNIST is extremely popular)"
   ]
  },
  {
   "cell_type": "code",
   "execution_count": 4,
   "metadata": {},
   "outputs": [
    {
     "name": "stdout",
     "output_type": "stream",
     "text": [
      "60000 train samples\n",
      "10000 test samples\n"
     ]
    }
   ],
   "source": [
    "(X_train, y_train), (X_test, y_test) = mnist.load_data()\n",
    "print(len(X_train), \"train samples\")\n",
    "print(len(X_test), \"test samples\")"
   ]
  },
  {
   "cell_type": "code",
   "execution_count": 5,
   "metadata": {},
   "outputs": [
    {
     "data": {
      "image/png": "[encoded data removed]",
      "text/plain": [
       "<matplotlib.figure.Figure at 0x7f9a6d8208d0>"
      ]
     },
     "metadata": {},
     "output_type": "display_data"
    }
   ],
   "source": [
    "plt.figure(figsize=(12, 5))\n",
    "for num, i in enumerate(np.random.choice(len(X_train), 10)):\n",
    "    plt.subplot(2, 5, num + 1)\n",
    "    plt.imshow(X_train[i], cmap=\"Greys_r\")\n",
    "    plt.axis(\"off\")\n",
    "    plt.title(str(y_train[i]))"
   ]
  },
  {
   "cell_type": "markdown",
   "metadata": {},
   "source": [
    "Let\"s see objects are distributed among classes"
   ]
  },
  {
   "cell_type": "code",
   "execution_count": 6,
   "metadata": {},
   "outputs": [
    {
     "data": {
      "image/png": "[encoded data removed]",
      "text/plain": [
       "<matplotlib.figure.Figure at 0x7f9a62391a20>"
      ]
     },
     "metadata": {},
     "output_type": "display_data"
    }
   ],
   "source": [
    "x_bars, y_bars = np.unique(y_train, return_counts=True)\n",
    "plt.bar(x_bars, y_bars)\n",
    "plt.xlim([-1, 10])\n",
    "plt.xticks(np.arange(0, 10))\n",
    "plt.xlabel(\"Digit\", fontsize=14)\n",
    "plt.ylabel(\"Number of pics\", fontsize=14);"
   ]
  },
  {
   "cell_type": "markdown",
   "metadata": {},
   "source": [
    "As one can see, the task is pretty balanced"
   ]
  },
  {
   "cell_type": "markdown",
   "metadata": {},
   "source": [
    "## Data preparation"
   ]
  },
  {
   "cell_type": "markdown",
   "metadata": {},
   "source": [
    "First of all, let\"s predefine image parameters:\n",
    "* **img_rows, img_cols** $-$ 2D dimension of a pictures; for MNIST it is $28 \\times 28$\n",
    "* **nb_classes** $-$ number of classes (digits in our case)"
   ]
  },
  {
   "cell_type": "code",
   "execution_count": 7,
   "metadata": {
    "collapsed": true
   },
   "outputs": [],
   "source": [
    "img_rows, img_cols = 28, 28\n",
    "nb_classes = 10"
   ]
  },
  {
   "cell_type": "markdown",
   "metadata": {},
   "source": [
    "Theano and Tensorflow both are tensor-based libraries. It means that all objects inside it, all inputs and outputs are **tensors**. One can treat tensor as a simple multidimensional array."
   ]
  },
  {
   "cell_type": "markdown",
   "metadata": {},
   "source": [
    "Tensorflow prefers to work with $\\text{float32}$ data type. So the next step is to cast data. Also let\"s have our data in $[0; 1]$ interval $-$ it\"s common choice for grayscale images."
   ]
  },
  {
   "cell_type": "code",
   "execution_count": 8,
   "metadata": {
    "collapsed": true
   },
   "outputs": [],
   "source": [
    "X_train = X_train.astype(\"float32\")\n",
    "X_test = X_test.astype(\"float32\")\n",
    "X_train /= 255\n",
    "X_test /= 255"
   ]
  },
  {
   "cell_type": "markdown",
   "metadata": {},
   "source": [
    "Last step is to convert labels into [One-Hot Encoding](https://en.wikipedia.org/wiki/One-hot) because we\"re going to learn them through the softmax layer of RNN"
   ]
  },
  {
   "cell_type": "code",
   "execution_count": 9,
   "metadata": {
    "collapsed": true
   },
   "outputs": [],
   "source": [
    "y_train = to_categorical(y_train, nb_classes)\n",
    "y_test = to_categorical(y_test, nb_classes)"
   ]
  },
  {
   "cell_type": "markdown",
   "metadata": {},
   "source": [
    "# Dense baseline model"
   ]
  },
  {
   "cell_type": "markdown",
   "metadata": {},
   "source": [
    "First of all, let\"s build MLP model and see how it performs"
   ]
  },
  {
   "cell_type": "code",
   "execution_count": 10,
   "metadata": {
    "collapsed": true
   },
   "outputs": [],
   "source": [
    "model_dense = Sequential()"
   ]
  },
  {
   "cell_type": "code",
   "execution_count": 11,
   "metadata": {
    "collapsed": true
   },
   "outputs": [],
   "source": [
    "model_dense.add(Dense(128, input_shape=(img_rows * img_cols,), activation=\"relu\"))\n",
    "model_dense.add(Dropout(0.5))\n",
    "model_dense.add(Dense(128, activation=\"relu\"))\n",
    "model_dense.add(Dropout(0.5))\n",
    "model_dense.add(Dense(128, activation=\"relu\"))\n",
    "model_dense.add(Dropout(0.5))\n",
    "model_dense.add(Dense(nb_classes, activation=\"softmax\"))"
   ]
  },
  {
   "cell_type": "markdown",
   "metadata": {},
   "source": [
    "Our model the the following architercture"
   ]
  },
  {
   "cell_type": "code",
   "execution_count": 12,
   "metadata": {},
   "outputs": [
    {
     "name": "stdout",
     "output_type": "stream",
     "text": [
      "_________________________________________________________________\n",
      "Layer (type)                 Output Shape              Param #   \n",
      "=================================================================\n",
      "dense_1 (Dense)              (None, 128)               100480    \n",
      "_________________________________________________________________\n",
      "dropout_1 (Dropout)          (None, 128)               0         \n",
      "_________________________________________________________________\n",
      "dense_2 (Dense)              (None, 128)               16512     \n",
      "_________________________________________________________________\n",
      "dropout_2 (Dropout)          (None, 128)               0         \n",
      "_________________________________________________________________\n",
      "dense_3 (Dense)              (None, 128)               16512     \n",
      "_________________________________________________________________\n",
      "dropout_3 (Dropout)          (None, 128)               0         \n",
      "_________________________________________________________________\n",
      "dense_4 (Dense)              (None, 10)                1290      \n",
      "=================================================================\n",
      "Total params: 134,794\n",
      "Trainable params: 134,794\n",
      "Non-trainable params: 0\n",
      "_________________________________________________________________\n"
     ]
    }
   ],
   "source": [
    "model_dense.summary()"
   ]
  },
  {
   "cell_type": "markdown",
   "metadata": {},
   "source": [
    "Compile model"
   ]
  },
  {
   "cell_type": "code",
   "execution_count": 13,
   "metadata": {
    "collapsed": true
   },
   "outputs": [],
   "source": [
    "model_dense.compile(loss=\"categorical_crossentropy\",\n",
    "                    optimizer=\"adam\",\n",
    "                    metrics=[\"accuracy\"])"
   ]
  },
  {
   "cell_type": "markdown",
   "metadata": {},
   "source": [
    "## Training"
   ]
  },
  {
   "cell_type": "code",
   "execution_count": 14,
   "metadata": {},
   "outputs": [
    {
     "name": "stdout",
     "output_type": "stream",
     "text": [
      "Train on 60000 samples, validate on 10000 samples\n",
      "Epoch 1/5\n",
      "60000/60000 [==============================] - 3s - loss: 0.8000 - acc: 0.7393 - val_loss: 0.2267 - val_acc: 0.9345\n",
      "Epoch 2/5\n",
      "60000/60000 [==============================] - 2s - loss: 0.3616 - acc: 0.8995 - val_loss: 0.1588 - val_acc: 0.9531\n",
      "Epoch 3/5\n",
      "60000/60000 [==============================] - 2s - loss: 0.2984 - acc: 0.9180 - val_loss: 0.1438 - val_acc: 0.9612\n",
      "Epoch 4/5\n",
      "60000/60000 [==============================] - 2s - loss: 0.2547 - acc: 0.9304 - val_loss: 0.1332 - val_acc: 0.9637\n",
      "Epoch 5/5\n",
      "60000/60000 [==============================] - 2s - loss: 0.2336 - acc: 0.9364 - val_loss: 0.1217 - val_acc: 0.9654\n",
      "CPU times: user 20.5 s, sys: 4.59 s, total: 25.1 s\n",
      "Wall time: 12.9 s\n"
     ]
    }
   ],
   "source": [
    "%%time\n",
    "start_time_dense = time.time()\n",
    "hist = model_dense.fit(X_train.reshape((-1, img_cols * img_rows)), y_train, \n",
    "                       validation_data = (X_test.reshape((-1, img_cols * img_rows)), y_test), \n",
    "                       epochs=5, batch_size=128)\n",
    "end_time_dense = time.time()"
   ]
  },
  {
   "cell_type": "markdown",
   "metadata": {},
   "source": [
    "## Evaluation"
   ]
  },
  {
   "cell_type": "markdown",
   "metadata": {},
   "source": [
    "Learning process visualization"
   ]
  },
  {
   "cell_type": "code",
   "execution_count": 15,
   "metadata": {},
   "outputs": [
    {
     "data": {
      "image/png": "[encoded data removed]",
      "text/plain": [
       "<matplotlib.figure.Figure at 0x7f9a6b9a49b0>"
      ]
     },
     "metadata": {},
     "output_type": "display_data"
    }
   ],
   "source": [
    "plt.figure(figsize=(20, 8))\n",
    "\n",
    "plt.subplot(121)\n",
    "plt.plot(hist.history[\"loss\"], label=\"Train\")\n",
    "plt.plot(hist.history[\"val_loss\"], label=\"Test\")\n",
    "plt.grid(\"on\")\n",
    "plt.xlabel(\"Epoch\", fontsize=14)\n",
    "plt.ylabel(\"Crossentropy\", fontsize=14)\n",
    "plt.legend(loc=\"upper right\")\n",
    "\n",
    "plt.subplot(122)\n",
    "plt.plot(hist.history[\"acc\"], label=\"Train\")\n",
    "plt.grid(\"on\")\n",
    "plt.plot(hist.history[\"val_acc\"], label=\"Test\")\n",
    "plt.xlabel(\"Epoch\", fontsize=14)\n",
    "plt.ylabel(\"Accuracy\", fontsize=14)\n",
    "plt.legend(loc=\"lower right\")\n",
    "plt.ylim([0.88, 1.0]);"
   ]
  },
  {
   "cell_type": "markdown",
   "metadata": {},
   "source": [
    "Table to store the results of the experiments"
   ]
  },
  {
   "cell_type": "code",
   "execution_count": 16,
   "metadata": {
    "collapsed": true
   },
   "outputs": [],
   "source": [
    "score_train = model_dense.evaluate(X_train.reshape((-1, img_cols * img_rows)), y_train, verbose=0)\n",
    "score_test = model_dense.evaluate(X_test.reshape((-1, img_cols * img_rows)), y_test, verbose=0)"
   ]
  },
  {
   "cell_type": "code",
   "execution_count": 17,
   "metadata": {
    "collapsed": true
   },
   "outputs": [],
   "source": [
    "results = pd.DataFrame(columns=[\"Accuracy Train, %\", \"Accuracy Test, %\", \"Loss Train\", \"Loss Test\", \"Time, s\"])\n",
    "results.loc[len(results)] = np.array([np.round(score_train[1] * 100, 2), \n",
    "                                      np.round(score_test[1] * 100, 2), \n",
    "                                      np.round(score_train[0], 3), \n",
    "                                      np.round(score_test[0], 3), \n",
    "                                      np.round(end_time_dense - start_time_dense, 1)])\n",
    "results.index = [\"MLP\"]"
   ]
  },
  {
   "cell_type": "code",
   "execution_count": 18,
   "metadata": {},
   "outputs": [
    {
     "data": {
      "text/html": [
       "<div>\n",
       "<style>\n",
       "    .dataframe thead tr:only-child th {\n",
       "        text-align: right;\n",
       "    }\n",
       "\n",
       "    .dataframe thead th {\n",
       "        text-align: left;\n",
       "    }\n",
       "\n",
       "    .dataframe tbody tr th {\n",
       "        vertical-align: top;\n",
       "    }\n",
       "</style>\n",
       "<table border=\"1\" class=\"dataframe\">\n",
       "  <thead>\n",
       "    <tr style=\"text-align: right;\">\n",
       "      <th></th>\n",
       "      <th>Accuracy Train, %</th>\n",
       "      <th>Accuracy Test, %</th>\n",
       "      <th>Loss Train</th>\n",
       "      <th>Loss Test</th>\n",
       "      <th>Time, s</th>\n",
       "    </tr>\n",
       "  </thead>\n",
       "  <tbody>\n",
       "    <tr>\n",
       "      <th>MLP</th>\n",
       "      <td>97.05</td>\n",
       "      <td>96.54</td>\n",
       "      <td>0.101</td>\n",
       "      <td>0.122</td>\n",
       "      <td>12.9</td>\n",
       "    </tr>\n",
       "  </tbody>\n",
       "</table>\n",
       "</div>"
      ],
      "text/plain": [
       "     Accuracy Train, %  Accuracy Test, %  Loss Train  Loss Test  Time, s\n",
       "MLP              97.05             96.54       0.101      0.122     12.9"
      ]
     },
     "execution_count": 18,
     "metadata": {},
     "output_type": "execute_result"
    }
   ],
   "source": [
    "results"
   ]
  },
  {
   "cell_type": "markdown",
   "metadata": {},
   "source": [
    "# Columnwise Recurrent model"
   ]
  },
  {
   "cell_type": "markdown",
   "metadata": {},
   "source": [
    "Here we\"re going to use the following approach:\n",
    "* Treat the picture as a sequence of vectors\n",
    "* Each vector is a column of pixels from the initial picture\n",
    "* Apply recurrent neural net to classify sequences"
   ]
  },
  {
   "cell_type": "markdown",
   "metadata": {},
   "source": [
    "## One-layer LSTM"
   ]
  },
  {
   "cell_type": "markdown",
   "metadata": {},
   "source": [
    "Let\"s build the simplest recurrent network with one hidden LSTM layer. Note that the order of dimensions is the same for the whole recurrent layers in Keras and is the following: $(\\text{batch_size}, \\text{timesteps}, \\text{input_dim})$. Here we have columns as timesteps and rows inside one column as a features."
   ]
  },
  {
   "cell_type": "code",
   "execution_count": 19,
   "metadata": {
    "collapsed": true
   },
   "outputs": [],
   "source": [
    "inp = Input(shape=(img_cols, img_rows))"
   ]
  },
  {
   "cell_type": "markdown",
   "metadata": {},
   "source": [
    "Now Let\"s add LSTM layer which works in the \"Many-to-One\" fashion. It means that the layer outputs only the last generated value. `return_sequences` parameter is responsible for this option.\n",
    "\n",
    "<img src=\"many_to_one.png\">"
   ]
  },
  {
   "cell_type": "code",
   "execution_count": 20,
   "metadata": {
    "collapsed": true
   },
   "outputs": [],
   "source": [
    "hid = LSTM(units=16, return_sequences=False)(inp)"
   ]
  },
  {
   "cell_type": "markdown",
   "metadata": {},
   "source": [
    "Let\"s stack fully-conected classifier on top of that:"
   ]
  },
  {
   "cell_type": "code",
   "execution_count": 21,
   "metadata": {
    "collapsed": true
   },
   "outputs": [],
   "source": [
    "hid = Dense(units=32, activation=\"relu\")(hid)\n",
    "hid = Dropout(rate=0.5)(hid)\n",
    "out = Dense(nb_classes, activation=\"softmax\")(hid)"
   ]
  },
  {
   "cell_type": "code",
   "execution_count": 22,
   "metadata": {
    "collapsed": true
   },
   "outputs": [],
   "source": [
    "model_column_onelayer = Model(inputs=[inp], outputs=[out])"
   ]
  },
  {
   "cell_type": "markdown",
   "metadata": {},
   "source": [
    "The final layer here uses $\\text{softmax}$ activation function with the number of classes. So as the output of the network we observe the probability of each class."
   ]
  },
  {
   "cell_type": "markdown",
   "metadata": {},
   "source": [
    "Now let\"s compile our model.\n",
    "* **optimizer** $-$ here we use `Adam` accelerated gradient descent algorithm with special adaptive way of choosing learning rate; for more details see this great [overview](http://sebastianruder.com/optimizing-gradient-descent/) of gradient descent optimization algorithms.\n",
    "* **loss** $-$ usual choice for multiclass classification is softmax output layer in combination with categotical crossentropy loss function which is\n",
    "$$\n",
    "\\mathcal{L}(\\text{true}, \\text{pred}) = -\\sum_{j=1}^{\\text{n_cl}}\\text{true}_j \\cdot \\log \\{\\text{pred}_j\\}\n",
    "$$\n",
    "* **metrics** $-$ additional metrics that we\"re going to trace while training; it doesn\"t influence training process at all"
   ]
  },
  {
   "cell_type": "code",
   "execution_count": 23,
   "metadata": {
    "collapsed": true
   },
   "outputs": [],
   "source": [
    "model_column_onelayer.compile(loss=\"categorical_crossentropy\", \n",
    "                              optimizer=\"adam\", \n",
    "                              metrics=[\"accuracy\"])"
   ]
  },
  {
   "cell_type": "markdown",
   "metadata": {},
   "source": [
    "Let\"s take a look at our final model now:"
   ]
  },
  {
   "cell_type": "code",
   "execution_count": 24,
   "metadata": {},
   "outputs": [
    {
     "name": "stdout",
     "output_type": "stream",
     "text": [
      "_________________________________________________________________\n",
      "Layer (type)                 Output Shape              Param #   \n",
      "=================================================================\n",
      "input_1 (InputLayer)         (None, 28, 28)            0         \n",
      "_________________________________________________________________\n",
      "lstm_1 (LSTM)                (None, 16)                2880      \n",
      "_________________________________________________________________\n",
      "dense_5 (Dense)              (None, 32)                544       \n",
      "_________________________________________________________________\n",
      "dropout_4 (Dropout)          (None, 32)                0         \n",
      "_________________________________________________________________\n",
      "dense_6 (Dense)              (None, 10)                330       \n",
      "=================================================================\n",
      "Total params: 3,754\n",
      "Trainable params: 3,754\n",
      "Non-trainable params: 0\n",
      "_________________________________________________________________\n"
     ]
    }
   ],
   "source": [
    "model_column_onelayer.summary()"
   ]
  },
  {
   "cell_type": "code",
   "execution_count": 25,
   "metadata": {},
   "outputs": [
    {
     "data": {
      "image/svg+xml": [
       "<svg height=\"387pt\" viewBox=\"0.00 0.00 355.00 387.00\" width=\"355pt\" xmlns=\"http://www.w3.org/2000/svg\" xmlns:xlink=\"http://www.w3.org/1999/xlink\">\n",
       "<g class=\"graph\" id=\"graph0\" transform=\"scale(1 1) rotate(0) translate(4 383)\">\n",
       "<title>G</title>\n",
       "<polygon fill=\"white\" points=\"-4,4 -4,-383 351,-383 351,4 -4,4\" stroke=\"none\"/>\n",
       "<!-- 140301207411400 -->\n",
       "<g class=\"node\" id=\"node1\"><title>140301207411400</title>\n",
       "<polygon fill=\"none\" points=\"-2.84217e-14,-332.5 -2.84217e-14,-378.5 347,-378.5 347,-332.5 -2.84217e-14,-332.5\" stroke=\"black\"/>\n",
       "<text font-family=\"Times,serif\" font-size=\"14.00\" text-anchor=\"middle\" x=\"80\" y=\"-351.8\">input_1: InputLayer</text>\n",
       "<polyline fill=\"none\" points=\"160,-332.5 160,-378.5 \" stroke=\"black\"/>\n",
       "<text font-family=\"Times,serif\" font-size=\"14.00\" text-anchor=\"middle\" x=\"194\" y=\"-363.3\">input:</text>\n",
       "<polyline fill=\"none\" points=\"160,-355.5 228,-355.5 \" stroke=\"black\"/>\n",
       "<text font-family=\"Times,serif\" font-size=\"14.00\" text-anchor=\"middle\" x=\"194\" y=\"-340.3\">output:</text>\n",
       "<polyline fill=\"none\" points=\"228,-332.5 228,-378.5 \" stroke=\"black\"/>\n",
       "<text font-family=\"Times,serif\" font-size=\"14.00\" text-anchor=\"middle\" x=\"287.5\" y=\"-363.3\">(None, 28, 28)</text>\n",
       "<polyline fill=\"none\" points=\"228,-355.5 347,-355.5 \" stroke=\"black\"/>\n",
       "<text font-family=\"Times,serif\" font-size=\"14.00\" text-anchor=\"middle\" x=\"287.5\" y=\"-340.3\">(None, 28, 28)</text>\n",
       "</g>\n",
       "<!-- 140301207411736 -->\n",
       "<g class=\"node\" id=\"node2\"><title>140301207411736</title>\n",
       "<polygon fill=\"none\" points=\"22,-249.5 22,-295.5 325,-295.5 325,-249.5 22,-249.5\" stroke=\"black\"/>\n",
       "<text font-family=\"Times,serif\" font-size=\"14.00\" text-anchor=\"middle\" x=\"80\" y=\"-268.8\">lstm_1: LSTM</text>\n",
       "<polyline fill=\"none\" points=\"138,-249.5 138,-295.5 \" stroke=\"black\"/>\n",
       "<text font-family=\"Times,serif\" font-size=\"14.00\" text-anchor=\"middle\" x=\"172\" y=\"-280.3\">input:</text>\n",
       "<polyline fill=\"none\" points=\"138,-272.5 206,-272.5 \" stroke=\"black\"/>\n",
       "<text font-family=\"Times,serif\" font-size=\"14.00\" text-anchor=\"middle\" x=\"172\" y=\"-257.3\">output:</text>\n",
       "<polyline fill=\"none\" points=\"206,-249.5 206,-295.5 \" stroke=\"black\"/>\n",
       "<text font-family=\"Times,serif\" font-size=\"14.00\" text-anchor=\"middle\" x=\"265.5\" y=\"-280.3\">(None, 28, 28)</text>\n",
       "<polyline fill=\"none\" points=\"206,-272.5 325,-272.5 \" stroke=\"black\"/>\n",
       "<text font-family=\"Times,serif\" font-size=\"14.00\" text-anchor=\"middle\" x=\"265.5\" y=\"-257.3\">(None, 16)</text>\n",
       "</g>\n",
       "<!-- 140301207411400&#45;&gt;140301207411736 -->\n",
       "<g class=\"edge\" id=\"edge1\"><title>140301207411400-&gt;140301207411736</title>\n",
       "<path d=\"M173.5,-332.366C173.5,-324.152 173.5,-314.658 173.5,-305.725\" fill=\"none\" stroke=\"black\"/>\n",
       "<polygon fill=\"black\" points=\"177,-305.607 173.5,-295.607 170,-305.607 177,-305.607\" stroke=\"black\"/>\n",
       "</g>\n",
       "<!-- 140300414896000 -->\n",
       "<g class=\"node\" id=\"node3\"><title>140300414896000</title>\n",
       "<polygon fill=\"none\" points=\"29.5,-166.5 29.5,-212.5 317.5,-212.5 317.5,-166.5 29.5,-166.5\" stroke=\"black\"/>\n",
       "<text font-family=\"Times,serif\" font-size=\"14.00\" text-anchor=\"middle\" x=\"93.5\" y=\"-185.8\">dense_5: Dense</text>\n",
       "<polyline fill=\"none\" points=\"157.5,-166.5 157.5,-212.5 \" stroke=\"black\"/>\n",
       "<text font-family=\"Times,serif\" font-size=\"14.00\" text-anchor=\"middle\" x=\"191.5\" y=\"-197.3\">input:</text>\n",
       "<polyline fill=\"none\" points=\"157.5,-189.5 225.5,-189.5 \" stroke=\"black\"/>\n",
       "<text font-family=\"Times,serif\" font-size=\"14.00\" text-anchor=\"middle\" x=\"191.5\" y=\"-174.3\">output:</text>\n",
       "<polyline fill=\"none\" points=\"225.5,-166.5 225.5,-212.5 \" stroke=\"black\"/>\n",
       "<text font-family=\"Times,serif\" font-size=\"14.00\" text-anchor=\"middle\" x=\"271.5\" y=\"-197.3\">(None, 16)</text>\n",
       "<polyline fill=\"none\" points=\"225.5,-189.5 317.5,-189.5 \" stroke=\"black\"/>\n",
       "<text font-family=\"Times,serif\" font-size=\"14.00\" text-anchor=\"middle\" x=\"271.5\" y=\"-174.3\">(None, 32)</text>\n",
       "</g>\n",
       "<!-- 140301207411736&#45;&gt;140300414896000 -->\n",
       "<g class=\"edge\" id=\"edge2\"><title>140301207411736-&gt;140300414896000</title>\n",
       "<path d=\"M173.5,-249.366C173.5,-241.152 173.5,-231.658 173.5,-222.725\" fill=\"none\" stroke=\"black\"/>\n",
       "<polygon fill=\"black\" points=\"177,-222.607 173.5,-212.607 170,-222.607 177,-222.607\" stroke=\"black\"/>\n",
       "</g>\n",
       "<!-- 140300414896112 -->\n",
       "<g class=\"node\" id=\"node4\"><title>140300414896112</title>\n",
       "<polygon fill=\"none\" points=\"15,-83.5 15,-129.5 332,-129.5 332,-83.5 15,-83.5\" stroke=\"black\"/>\n",
       "<text font-family=\"Times,serif\" font-size=\"14.00\" text-anchor=\"middle\" x=\"93.5\" y=\"-102.8\">dropout_4: Dropout</text>\n",
       "<polyline fill=\"none\" points=\"172,-83.5 172,-129.5 \" stroke=\"black\"/>\n",
       "<text font-family=\"Times,serif\" font-size=\"14.00\" text-anchor=\"middle\" x=\"206\" y=\"-114.3\">input:</text>\n",
       "<polyline fill=\"none\" points=\"172,-106.5 240,-106.5 \" stroke=\"black\"/>\n",
       "<text font-family=\"Times,serif\" font-size=\"14.00\" text-anchor=\"middle\" x=\"206\" y=\"-91.3\">output:</text>\n",
       "<polyline fill=\"none\" points=\"240,-83.5 240,-129.5 \" stroke=\"black\"/>\n",
       "<text font-family=\"Times,serif\" font-size=\"14.00\" text-anchor=\"middle\" x=\"286\" y=\"-114.3\">(None, 32)</text>\n",
       "<polyline fill=\"none\" points=\"240,-106.5 332,-106.5 \" stroke=\"black\"/>\n",
       "<text font-family=\"Times,serif\" font-size=\"14.00\" text-anchor=\"middle\" x=\"286\" y=\"-91.3\">(None, 32)</text>\n",
       "</g>\n",
       "<!-- 140300414896000&#45;&gt;140300414896112 -->\n",
       "<g class=\"edge\" id=\"edge3\"><title>140300414896000-&gt;140300414896112</title>\n",
       "<path d=\"M173.5,-166.366C173.5,-158.152 173.5,-148.658 173.5,-139.725\" fill=\"none\" stroke=\"black\"/>\n",
       "<polygon fill=\"black\" points=\"177,-139.607 173.5,-129.607 170,-139.607 177,-139.607\" stroke=\"black\"/>\n",
       "</g>\n",
       "<!-- 140300414896504 -->\n",
       "<g class=\"node\" id=\"node5\"><title>140300414896504</title>\n",
       "<polygon fill=\"none\" points=\"29.5,-0.5 29.5,-46.5 317.5,-46.5 317.5,-0.5 29.5,-0.5\" stroke=\"black\"/>\n",
       "<text font-family=\"Times,serif\" font-size=\"14.00\" text-anchor=\"middle\" x=\"93.5\" y=\"-19.8\">dense_6: Dense</text>\n",
       "<polyline fill=\"none\" points=\"157.5,-0.5 157.5,-46.5 \" stroke=\"black\"/>\n",
       "<text font-family=\"Times,serif\" font-size=\"14.00\" text-anchor=\"middle\" x=\"191.5\" y=\"-31.3\">input:</text>\n",
       "<polyline fill=\"none\" points=\"157.5,-23.5 225.5,-23.5 \" stroke=\"black\"/>\n",
       "<text font-family=\"Times,serif\" font-size=\"14.00\" text-anchor=\"middle\" x=\"191.5\" y=\"-8.3\">output:</text>\n",
       "<polyline fill=\"none\" points=\"225.5,-0.5 225.5,-46.5 \" stroke=\"black\"/>\n",
       "<text font-family=\"Times,serif\" font-size=\"14.00\" text-anchor=\"middle\" x=\"271.5\" y=\"-31.3\">(None, 32)</text>\n",
       "<polyline fill=\"none\" points=\"225.5,-23.5 317.5,-23.5 \" stroke=\"black\"/>\n",
       "<text font-family=\"Times,serif\" font-size=\"14.00\" text-anchor=\"middle\" x=\"271.5\" y=\"-8.3\">(None, 10)</text>\n",
       "</g>\n",
       "<!-- 140300414896112&#45;&gt;140300414896504 -->\n",
       "<g class=\"edge\" id=\"edge4\"><title>140300414896112-&gt;140300414896504</title>\n",
       "<path d=\"M173.5,-83.3664C173.5,-75.1516 173.5,-65.6579 173.5,-56.7252\" fill=\"none\" stroke=\"black\"/>\n",
       "<polygon fill=\"black\" points=\"177,-56.6068 173.5,-46.6068 170,-56.6069 177,-56.6068\" stroke=\"black\"/>\n",
       "</g>\n",
       "</g>\n",
       "</svg>"
      ],
      "text/plain": [
       "<IPython.core.display.SVG object>"
      ]
     },
     "execution_count": 25,
     "metadata": {},
     "output_type": "execute_result"
    }
   ],
   "source": [
    "SVG(model_to_dot(model_column_onelayer, show_shapes=True).create(prog=\"dot\", format=\"svg\"))"
   ]
  },
  {
   "cell_type": "markdown",
   "metadata": {},
   "source": [
    "Training parameters are the following:\n",
    "* epochs $-$ number of epochs to train. here we choose 12; one may condiser using some stopping criterias\n",
    "* **batch_size** $-$ parameter that controls how frequent do we update gradient; with $\\text{batch_size}=1$ optimization is nothing but pure Stohastic Gradient Descent (update gradient after passing each one object); with $\\text{batch_size}=\\textit{number of objects}$ it will be usual Gradient Descent which updates gradient only after passing all objects. Choosing value between this two one can control speed and convergence of training process."
   ]
  },
  {
   "cell_type": "code",
   "execution_count": 26,
   "metadata": {
    "collapsed": true
   },
   "outputs": [],
   "source": [
    "batch_size = 128\n",
    "epochs = 5"
   ]
  },
  {
   "cell_type": "markdown",
   "metadata": {},
   "source": [
    "Train!"
   ]
  },
  {
   "cell_type": "code",
   "execution_count": 27,
   "metadata": {},
   "outputs": [
    {
     "name": "stdout",
     "output_type": "stream",
     "text": [
      "Train on 60000 samples, validate on 10000 samples\n",
      "Epoch 1/5\n",
      "60000/60000 [==============================] - 27s - loss: 1.5661 - acc: 0.4510 - val_loss: 0.8493 - val_acc: 0.7301\n",
      "Epoch 2/5\n",
      "60000/60000 [==============================] - 26s - loss: 0.8686 - acc: 0.7177 - val_loss: 0.5489 - val_acc: 0.8280\n",
      "Epoch 3/5\n",
      "60000/60000 [==============================] - 26s - loss: 0.6658 - acc: 0.7947 - val_loss: 0.4362 - val_acc: 0.8634\n",
      "Epoch 4/5\n",
      "60000/60000 [==============================] - 26s - loss: 0.5704 - acc: 0.8277 - val_loss: 0.3712 - val_acc: 0.8863\n",
      "Epoch 5/5\n",
      "60000/60000 [==============================] - 27s - loss: 0.5135 - acc: 0.8509 - val_loss: 0.3250 - val_acc: 0.9000\n",
      "CPU times: user 3min 43s, sys: 29.2 s, total: 4min 12s\n",
      "Wall time: 2min 15s\n"
     ]
    }
   ],
   "source": [
    "%%time\n",
    "start_time_column_onelayer = time.time()\n",
    "hist_column_onelayer = model_column_onelayer.fit(X_train, y_train, \n",
    "                                                 batch_size=batch_size, \n",
    "                                                 epochs=epochs,\n",
    "                                                 validation_data=(X_test, y_test))\n",
    "end_time_column_onelayer = time.time()"
   ]
  },
  {
   "cell_type": "markdown",
   "metadata": {},
   "source": [
    "Visualization of learning process:"
   ]
  },
  {
   "cell_type": "code",
   "execution_count": 28,
   "metadata": {},
   "outputs": [
    {
     "data": {
      "image/png": "[encoded data removed]",
      "text/plain": [
       "<matplotlib.figure.Figure at 0x7f99a3e72748>"
      ]
     },
     "metadata": {},
     "output_type": "display_data"
    }
   ],
   "source": [
    "plt.figure(figsize=(20, 8))\n",
    "plt.suptitle(\"RNN with one layer\", fontsize=20)\n",
    "\n",
    "plt.subplot(121)\n",
    "plt.plot(hist_column_onelayer.history[\"loss\"], label=\"Train\")\n",
    "plt.plot(hist_column_onelayer.history[\"val_loss\"], label=\"Test\")\n",
    "plt.xlabel(\"Epoch\", fontsize=14)\n",
    "plt.ylabel(\"Crossentropy\", fontsize=14)\n",
    "plt.legend()\n",
    "\n",
    "plt.subplot(122)\n",
    "plt.plot(hist_column_onelayer.history[\"acc\"], label=\"Train\")\n",
    "plt.plot(hist_column_onelayer.history[\"val_acc\"], label=\"Test\")\n",
    "plt.xlabel(\"Epoch\", fontsize=14)\n",
    "plt.ylabel(\"Accuracy\", fontsize=14)\n",
    "plt.legend();"
   ]
  },
  {
   "cell_type": "markdown",
   "metadata": {},
   "source": [
    "Final evaluation of the model:"
   ]
  },
  {
   "cell_type": "code",
   "execution_count": 29,
   "metadata": {
    "collapsed": true
   },
   "outputs": [],
   "source": [
    "score_train = model_column_onelayer.evaluate(X_train, y_train, verbose=0)\n",
    "score_test = model_column_onelayer.evaluate(X_test, y_test, verbose=0)"
   ]
  },
  {
   "cell_type": "code",
   "execution_count": 30,
   "metadata": {
    "collapsed": true
   },
   "outputs": [],
   "source": [
    "results.loc[len(results)] = np.array([np.round(score_train[1] * 100, 2), \n",
    "                                      np.round(score_test[1] * 100, 2), \n",
    "                                      np.round(score_train[0], 3), \n",
    "                                      np.round(score_test[0], 3), \n",
    "                                      np.round(end_time_column_onelayer - start_time_column_onelayer, 1)])\n",
    "results.index = [\"MLP\", \"LSTM 1L\"]"
   ]
  },
  {
   "cell_type": "code",
   "execution_count": 31,
   "metadata": {},
   "outputs": [
    {
     "data": {
      "text/html": [
       "<div>\n",
       "<style>\n",
       "    .dataframe thead tr:only-child th {\n",
       "        text-align: right;\n",
       "    }\n",
       "\n",
       "    .dataframe thead th {\n",
       "        text-align: left;\n",
       "    }\n",
       "\n",
       "    .dataframe tbody tr th {\n",
       "        vertical-align: top;\n",
       "    }\n",
       "</style>\n",
       "<table border=\"1\" class=\"dataframe\">\n",
       "  <thead>\n",
       "    <tr style=\"text-align: right;\">\n",
       "      <th></th>\n",
       "      <th>Accuracy Train, %</th>\n",
       "      <th>Accuracy Test, %</th>\n",
       "      <th>Loss Train</th>\n",
       "      <th>Loss Test</th>\n",
       "      <th>Time, s</th>\n",
       "    </tr>\n",
       "  </thead>\n",
       "  <tbody>\n",
       "    <tr>\n",
       "      <th>MLP</th>\n",
       "      <td>97.05</td>\n",
       "      <td>96.54</td>\n",
       "      <td>0.101</td>\n",
       "      <td>0.122</td>\n",
       "      <td>12.9</td>\n",
       "    </tr>\n",
       "    <tr>\n",
       "      <th>LSTM 1L</th>\n",
       "      <td>89.93</td>\n",
       "      <td>90.00</td>\n",
       "      <td>0.330</td>\n",
       "      <td>0.325</td>\n",
       "      <td>136.0</td>\n",
       "    </tr>\n",
       "  </tbody>\n",
       "</table>\n",
       "</div>"
      ],
      "text/plain": [
       "         Accuracy Train, %  Accuracy Test, %  Loss Train  Loss Test  Time, s\n",
       "MLP                  97.05             96.54       0.101      0.122     12.9\n",
       "LSTM 1L              89.93             90.00       0.330      0.325    136.0"
      ]
     },
     "execution_count": 31,
     "metadata": {},
     "output_type": "execute_result"
    }
   ],
   "source": [
    "results"
   ]
  },
  {
   "cell_type": "markdown",
   "metadata": {},
   "source": [
    "## Two-layers LSTM"
   ]
  },
  {
   "cell_type": "markdown",
   "metadata": {},
   "source": [
    "Now let\"s try deeper LSTM"
   ]
  },
  {
   "cell_type": "code",
   "execution_count": 32,
   "metadata": {
    "collapsed": true
   },
   "outputs": [],
   "source": [
    "inp = Input(shape=(img_cols, img_rows))"
   ]
  },
  {
   "cell_type": "markdown",
   "metadata": {},
   "source": [
    "Now last layer will also be running in the \"Many-to-One\" fashion. But the intermediate LSTM layer should outputs the values at each step to make the following LSTM works on the sequence. This manner is called \"Many-to-Many\"\n",
    "\n",
    "<img src=\"many_to_many2.png\">"
   ]
  },
  {
   "cell_type": "code",
   "execution_count": 33,
   "metadata": {
    "collapsed": true
   },
   "outputs": [],
   "source": [
    "hid = LSTM(units=16, return_sequences=True)(inp)\n",
    "hid = LSTM(units=16, return_sequences=False)(hid)"
   ]
  },
  {
   "cell_type": "markdown",
   "metadata": {},
   "source": [
    "Let\"s stack fully-conected classifier on top of that:"
   ]
  },
  {
   "cell_type": "code",
   "execution_count": 34,
   "metadata": {
    "collapsed": true
   },
   "outputs": [],
   "source": [
    "hid = Dense(units=32, activation=\"relu\")(hid)\n",
    "hid = Dropout(rate=0.5)(hid)\n",
    "out = Dense(nb_classes, activation=\"softmax\")(hid)"
   ]
  },
  {
   "cell_type": "code",
   "execution_count": 35,
   "metadata": {
    "collapsed": true
   },
   "outputs": [],
   "source": [
    "model_column_twolayers = Model(inputs=[inp], outputs=[out])"
   ]
  },
  {
   "cell_type": "markdown",
   "metadata": {},
   "source": [
    "The final layer here uses $\\text{softmax}$ activation function with the number of classes. So as the output of the network we observe the probability of each class."
   ]
  },
  {
   "cell_type": "code",
   "execution_count": 36,
   "metadata": {
    "collapsed": true
   },
   "outputs": [],
   "source": [
    "model_column_twolayers.compile(loss=\"categorical_crossentropy\", \n",
    "                               optimizer=\"adam\", \n",
    "                               metrics=[\"accuracy\"])"
   ]
  },
  {
   "cell_type": "markdown",
   "metadata": {},
   "source": [
    "Let\"s take a look at our final model now:"
   ]
  },
  {
   "cell_type": "code",
   "execution_count": 37,
   "metadata": {},
   "outputs": [
    {
     "name": "stdout",
     "output_type": "stream",
     "text": [
      "_________________________________________________________________\n",
      "Layer (type)                 Output Shape              Param #   \n",
      "=================================================================\n",
      "input_2 (InputLayer)         (None, 28, 28)            0         \n",
      "_________________________________________________________________\n",
      "lstm_2 (LSTM)                (None, 28, 16)            2880      \n",
      "_________________________________________________________________\n",
      "lstm_3 (LSTM)                (None, 16)                2112      \n",
      "_________________________________________________________________\n",
      "dense_7 (Dense)              (None, 32)                544       \n",
      "_________________________________________________________________\n",
      "dropout_5 (Dropout)          (None, 32)                0         \n",
      "_________________________________________________________________\n",
      "dense_8 (Dense)              (None, 10)                330       \n",
      "=================================================================\n",
      "Total params: 5,866\n",
      "Trainable params: 5,866\n",
      "Non-trainable params: 0\n",
      "_________________________________________________________________\n"
     ]
    }
   ],
   "source": [
    "model_column_twolayers.summary()"
   ]
  },
  {
   "cell_type": "code",
   "execution_count": 38,
   "metadata": {},
   "outputs": [
    {
     "data": {
      "image/svg+xml": [
       "<svg height=\"470pt\" viewBox=\"0.00 0.00 355.00 470.00\" width=\"355pt\" xmlns=\"http://www.w3.org/2000/svg\" xmlns:xlink=\"http://www.w3.org/1999/xlink\">\n",
       "<g class=\"graph\" id=\"graph0\" transform=\"scale(1 1) rotate(0) translate(4 466)\">\n",
       "<title>G</title>\n",
       "<polygon fill=\"white\" points=\"-4,4 -4,-466 351,-466 351,4 -4,4\" stroke=\"none\"/>\n",
       "<!-- 140297856442208 -->\n",
       "<g class=\"node\" id=\"node1\"><title>140297856442208</title>\n",
       "<polygon fill=\"none\" points=\"-2.84217e-14,-415.5 -2.84217e-14,-461.5 347,-461.5 347,-415.5 -2.84217e-14,-415.5\" stroke=\"black\"/>\n",
       "<text font-family=\"Times,serif\" font-size=\"14.00\" text-anchor=\"middle\" x=\"80\" y=\"-434.8\">input_2: InputLayer</text>\n",
       "<polyline fill=\"none\" points=\"160,-415.5 160,-461.5 \" stroke=\"black\"/>\n",
       "<text font-family=\"Times,serif\" font-size=\"14.00\" text-anchor=\"middle\" x=\"194\" y=\"-446.3\">input:</text>\n",
       "<polyline fill=\"none\" points=\"160,-438.5 228,-438.5 \" stroke=\"black\"/>\n",
       "<text font-family=\"Times,serif\" font-size=\"14.00\" text-anchor=\"middle\" x=\"194\" y=\"-423.3\">output:</text>\n",
       "<polyline fill=\"none\" points=\"228,-415.5 228,-461.5 \" stroke=\"black\"/>\n",
       "<text font-family=\"Times,serif\" font-size=\"14.00\" text-anchor=\"middle\" x=\"287.5\" y=\"-446.3\">(None, 28, 28)</text>\n",
       "<polyline fill=\"none\" points=\"228,-438.5 347,-438.5 \" stroke=\"black\"/>\n",
       "<text font-family=\"Times,serif\" font-size=\"14.00\" text-anchor=\"middle\" x=\"287.5\" y=\"-423.3\">(None, 28, 28)</text>\n",
       "</g>\n",
       "<!-- 140297852961792 -->\n",
       "<g class=\"node\" id=\"node2\"><title>140297852961792</title>\n",
       "<polygon fill=\"none\" points=\"22,-332.5 22,-378.5 325,-378.5 325,-332.5 22,-332.5\" stroke=\"black\"/>\n",
       "<text font-family=\"Times,serif\" font-size=\"14.00\" text-anchor=\"middle\" x=\"80\" y=\"-351.8\">lstm_2: LSTM</text>\n",
       "<polyline fill=\"none\" points=\"138,-332.5 138,-378.5 \" stroke=\"black\"/>\n",
       "<text font-family=\"Times,serif\" font-size=\"14.00\" text-anchor=\"middle\" x=\"172\" y=\"-363.3\">input:</text>\n",
       "<polyline fill=\"none\" points=\"138,-355.5 206,-355.5 \" stroke=\"black\"/>\n",
       "<text font-family=\"Times,serif\" font-size=\"14.00\" text-anchor=\"middle\" x=\"172\" y=\"-340.3\">output:</text>\n",
       "<polyline fill=\"none\" points=\"206,-332.5 206,-378.5 \" stroke=\"black\"/>\n",
       "<text font-family=\"Times,serif\" font-size=\"14.00\" text-anchor=\"middle\" x=\"265.5\" y=\"-363.3\">(None, 28, 28)</text>\n",
       "<polyline fill=\"none\" points=\"206,-355.5 325,-355.5 \" stroke=\"black\"/>\n",
       "<text font-family=\"Times,serif\" font-size=\"14.00\" text-anchor=\"middle\" x=\"265.5\" y=\"-340.3\">(None, 28, 16)</text>\n",
       "</g>\n",
       "<!-- 140297856442208&#45;&gt;140297852961792 -->\n",
       "<g class=\"edge\" id=\"edge1\"><title>140297856442208-&gt;140297852961792</title>\n",
       "<path d=\"M173.5,-415.366C173.5,-407.152 173.5,-397.658 173.5,-388.725\" fill=\"none\" stroke=\"black\"/>\n",
       "<polygon fill=\"black\" points=\"177,-388.607 173.5,-378.607 170,-388.607 177,-388.607\" stroke=\"black\"/>\n",
       "</g>\n",
       "<!-- 140297852963360 -->\n",
       "<g class=\"node\" id=\"node3\"><title>140297852963360</title>\n",
       "<polygon fill=\"none\" points=\"22,-249.5 22,-295.5 325,-295.5 325,-249.5 22,-249.5\" stroke=\"black\"/>\n",
       "<text font-family=\"Times,serif\" font-size=\"14.00\" text-anchor=\"middle\" x=\"80\" y=\"-268.8\">lstm_3: LSTM</text>\n",
       "<polyline fill=\"none\" points=\"138,-249.5 138,-295.5 \" stroke=\"black\"/>\n",
       "<text font-family=\"Times,serif\" font-size=\"14.00\" text-anchor=\"middle\" x=\"172\" y=\"-280.3\">input:</text>\n",
       "<polyline fill=\"none\" points=\"138,-272.5 206,-272.5 \" stroke=\"black\"/>\n",
       "<text font-family=\"Times,serif\" font-size=\"14.00\" text-anchor=\"middle\" x=\"172\" y=\"-257.3\">output:</text>\n",
       "<polyline fill=\"none\" points=\"206,-249.5 206,-295.5 \" stroke=\"black\"/>\n",
       "<text font-family=\"Times,serif\" font-size=\"14.00\" text-anchor=\"middle\" x=\"265.5\" y=\"-280.3\">(None, 28, 16)</text>\n",
       "<polyline fill=\"none\" points=\"206,-272.5 325,-272.5 \" stroke=\"black\"/>\n",
       "<text font-family=\"Times,serif\" font-size=\"14.00\" text-anchor=\"middle\" x=\"265.5\" y=\"-257.3\">(None, 16)</text>\n",
       "</g>\n",
       "<!-- 140297852961792&#45;&gt;140297852963360 -->\n",
       "<g class=\"edge\" id=\"edge2\"><title>140297852961792-&gt;140297852963360</title>\n",
       "<path d=\"M173.5,-332.366C173.5,-324.152 173.5,-314.658 173.5,-305.725\" fill=\"none\" stroke=\"black\"/>\n",
       "<polygon fill=\"black\" points=\"177,-305.607 173.5,-295.607 170,-305.607 177,-305.607\" stroke=\"black\"/>\n",
       "</g>\n",
       "<!-- 140297823337328 -->\n",
       "<g class=\"node\" id=\"node4\"><title>140297823337328</title>\n",
       "<polygon fill=\"none\" points=\"29.5,-166.5 29.5,-212.5 317.5,-212.5 317.5,-166.5 29.5,-166.5\" stroke=\"black\"/>\n",
       "<text font-family=\"Times,serif\" font-size=\"14.00\" text-anchor=\"middle\" x=\"93.5\" y=\"-185.8\">dense_7: Dense</text>\n",
       "<polyline fill=\"none\" points=\"157.5,-166.5 157.5,-212.5 \" stroke=\"black\"/>\n",
       "<text font-family=\"Times,serif\" font-size=\"14.00\" text-anchor=\"middle\" x=\"191.5\" y=\"-197.3\">input:</text>\n",
       "<polyline fill=\"none\" points=\"157.5,-189.5 225.5,-189.5 \" stroke=\"black\"/>\n",
       "<text font-family=\"Times,serif\" font-size=\"14.00\" text-anchor=\"middle\" x=\"191.5\" y=\"-174.3\">output:</text>\n",
       "<polyline fill=\"none\" points=\"225.5,-166.5 225.5,-212.5 \" stroke=\"black\"/>\n",
       "<text font-family=\"Times,serif\" font-size=\"14.00\" text-anchor=\"middle\" x=\"271.5\" y=\"-197.3\">(None, 16)</text>\n",
       "<polyline fill=\"none\" points=\"225.5,-189.5 317.5,-189.5 \" stroke=\"black\"/>\n",
       "<text font-family=\"Times,serif\" font-size=\"14.00\" text-anchor=\"middle\" x=\"271.5\" y=\"-174.3\">(None, 32)</text>\n",
       "</g>\n",
       "<!-- 140297852963360&#45;&gt;140297823337328 -->\n",
       "<g class=\"edge\" id=\"edge3\"><title>140297852963360-&gt;140297823337328</title>\n",
       "<path d=\"M173.5,-249.366C173.5,-241.152 173.5,-231.658 173.5,-222.725\" fill=\"none\" stroke=\"black\"/>\n",
       "<polygon fill=\"black\" points=\"177,-222.607 173.5,-212.607 170,-222.607 177,-222.607\" stroke=\"black\"/>\n",
       "</g>\n",
       "<!-- 140297824179256 -->\n",
       "<g class=\"node\" id=\"node5\"><title>140297824179256</title>\n",
       "<polygon fill=\"none\" points=\"15,-83.5 15,-129.5 332,-129.5 332,-83.5 15,-83.5\" stroke=\"black\"/>\n",
       "<text font-family=\"Times,serif\" font-size=\"14.00\" text-anchor=\"middle\" x=\"93.5\" y=\"-102.8\">dropout_5: Dropout</text>\n",
       "<polyline fill=\"none\" points=\"172,-83.5 172,-129.5 \" stroke=\"black\"/>\n",
       "<text font-family=\"Times,serif\" font-size=\"14.00\" text-anchor=\"middle\" x=\"206\" y=\"-114.3\">input:</text>\n",
       "<polyline fill=\"none\" points=\"172,-106.5 240,-106.5 \" stroke=\"black\"/>\n",
       "<text font-family=\"Times,serif\" font-size=\"14.00\" text-anchor=\"middle\" x=\"206\" y=\"-91.3\">output:</text>\n",
       "<polyline fill=\"none\" points=\"240,-83.5 240,-129.5 \" stroke=\"black\"/>\n",
       "<text font-family=\"Times,serif\" font-size=\"14.00\" text-anchor=\"middle\" x=\"286\" y=\"-114.3\">(None, 32)</text>\n",
       "<polyline fill=\"none\" points=\"240,-106.5 332,-106.5 \" stroke=\"black\"/>\n",
       "<text font-family=\"Times,serif\" font-size=\"14.00\" text-anchor=\"middle\" x=\"286\" y=\"-91.3\">(None, 32)</text>\n",
       "</g>\n",
       "<!-- 140297823337328&#45;&gt;140297824179256 -->\n",
       "<g class=\"edge\" id=\"edge4\"><title>140297823337328-&gt;140297824179256</title>\n",
       "<path d=\"M173.5,-166.366C173.5,-158.152 173.5,-148.658 173.5,-139.725\" fill=\"none\" stroke=\"black\"/>\n",
       "<polygon fill=\"black\" points=\"177,-139.607 173.5,-129.607 170,-139.607 177,-139.607\" stroke=\"black\"/>\n",
       "</g>\n",
       "<!-- 140297823337832 -->\n",
       "<g class=\"node\" id=\"node6\"><title>140297823337832</title>\n",
       "<polygon fill=\"none\" points=\"29.5,-0.5 29.5,-46.5 317.5,-46.5 317.5,-0.5 29.5,-0.5\" stroke=\"black\"/>\n",
       "<text font-family=\"Times,serif\" font-size=\"14.00\" text-anchor=\"middle\" x=\"93.5\" y=\"-19.8\">dense_8: Dense</text>\n",
       "<polyline fill=\"none\" points=\"157.5,-0.5 157.5,-46.5 \" stroke=\"black\"/>\n",
       "<text font-family=\"Times,serif\" font-size=\"14.00\" text-anchor=\"middle\" x=\"191.5\" y=\"-31.3\">input:</text>\n",
       "<polyline fill=\"none\" points=\"157.5,-23.5 225.5,-23.5 \" stroke=\"black\"/>\n",
       "<text font-family=\"Times,serif\" font-size=\"14.00\" text-anchor=\"middle\" x=\"191.5\" y=\"-8.3\">output:</text>\n",
       "<polyline fill=\"none\" points=\"225.5,-0.5 225.5,-46.5 \" stroke=\"black\"/>\n",
       "<text font-family=\"Times,serif\" font-size=\"14.00\" text-anchor=\"middle\" x=\"271.5\" y=\"-31.3\">(None, 32)</text>\n",
       "<polyline fill=\"none\" points=\"225.5,-23.5 317.5,-23.5 \" stroke=\"black\"/>\n",
       "<text font-family=\"Times,serif\" font-size=\"14.00\" text-anchor=\"middle\" x=\"271.5\" y=\"-8.3\">(None, 10)</text>\n",
       "</g>\n",
       "<!-- 140297824179256&#45;&gt;140297823337832 -->\n",
       "<g class=\"edge\" id=\"edge5\"><title>140297824179256-&gt;140297823337832</title>\n",
       "<path d=\"M173.5,-83.3664C173.5,-75.1516 173.5,-65.6579 173.5,-56.7252\" fill=\"none\" stroke=\"black\"/>\n",
       "<polygon fill=\"black\" points=\"177,-56.6068 173.5,-46.6068 170,-56.6069 177,-56.6068\" stroke=\"black\"/>\n",
       "</g>\n",
       "</g>\n",
       "</svg>"
      ],
      "text/plain": [
       "<IPython.core.display.SVG object>"
      ]
     },
     "execution_count": 38,
     "metadata": {},
     "output_type": "execute_result"
    }
   ],
   "source": [
    "SVG(model_to_dot(model_column_twolayers, show_shapes=True).create(prog=\"dot\", format=\"svg\"))"
   ]
  },
  {
   "cell_type": "code",
   "execution_count": 39,
   "metadata": {
    "collapsed": true
   },
   "outputs": [],
   "source": [
    "batch_size = 128\n",
    "epochs = 5"
   ]
  },
  {
   "cell_type": "markdown",
   "metadata": {},
   "source": [
    "Train!"
   ]
  },
  {
   "cell_type": "code",
   "execution_count": 40,
   "metadata": {},
   "outputs": [
    {
     "name": "stdout",
     "output_type": "stream",
     "text": [
      "Train on 60000 samples, validate on 10000 samples\n",
      "Epoch 1/5\n",
      "60000/60000 [==============================] - 45s - loss: 1.4005 - acc: 0.5134 - val_loss: 0.6121 - val_acc: 0.8044\n",
      "Epoch 2/5\n",
      "60000/60000 [==============================] - 44s - loss: 0.6729 - acc: 0.7913 - val_loss: 0.3793 - val_acc: 0.8876\n",
      "Epoch 3/5\n",
      "60000/60000 [==============================] - 45s - loss: 0.4997 - acc: 0.8541 - val_loss: 0.2919 - val_acc: 0.9162\n",
      "Epoch 4/5\n",
      "60000/60000 [==============================] - 45s - loss: 0.4096 - acc: 0.8871 - val_loss: 0.2365 - val_acc: 0.9309\n",
      "Epoch 5/5\n",
      "60000/60000 [==============================] - 45s - loss: 0.3506 - acc: 0.9024 - val_loss: 0.2049 - val_acc: 0.9426\n",
      "CPU times: user 6min 45s, sys: 1min, total: 7min 46s\n",
      "Wall time: 3min 47s\n"
     ]
    }
   ],
   "source": [
    "%%time\n",
    "start_time_column_twolayers = time.time()\n",
    "hist_column_twolayers = model_column_twolayers.fit(X_train, y_train, \n",
    "                                                   batch_size=batch_size, \n",
    "                                                   epochs=epochs,\n",
    "                                                   validation_data=(X_test, y_test))\n",
    "end_time_column_twolayers = time.time()"
   ]
  },
  {
   "cell_type": "markdown",
   "metadata": {},
   "source": [
    "Visualization of learning process:"
   ]
  },
  {
   "cell_type": "code",
   "execution_count": 41,
   "metadata": {},
   "outputs": [
    {
     "data": {
      "image/png": "[encoded data removed]",
      "text/plain": [
       "<matplotlib.figure.Figure at 0x7f99a0d40fd0>"
      ]
     },
     "metadata": {},
     "output_type": "display_data"
    }
   ],
   "source": [
    "plt.figure(figsize=(20, 8))\n",
    "plt.suptitle(\"RNN with two layers\", fontsize=20)\n",
    "\n",
    "plt.subplot(121)\n",
    "plt.plot(hist_column_twolayers.history[\"loss\"], label=\"Train\")\n",
    "plt.plot(hist_column_twolayers.history[\"val_loss\"], label=\"Test\")\n",
    "plt.xlabel(\"Epoch\", fontsize=14)\n",
    "plt.ylabel(\"Crossentropy\", fontsize=14)\n",
    "plt.legend()\n",
    "\n",
    "plt.subplot(122)\n",
    "plt.plot(hist_column_twolayers.history[\"acc\"], label=\"Train\")\n",
    "plt.plot(hist_column_twolayers.history[\"val_acc\"], label=\"Test\")\n",
    "plt.xlabel(\"Epoch\", fontsize=14)\n",
    "plt.ylabel(\"Accuracy\", fontsize=14)\n",
    "plt.legend();"
   ]
  },
  {
   "cell_type": "markdown",
   "metadata": {},
   "source": [
    "Final evaluation of the model:"
   ]
  },
  {
   "cell_type": "code",
   "execution_count": 42,
   "metadata": {
    "collapsed": true
   },
   "outputs": [],
   "source": [
    "score_train = model_column_twolayers.evaluate(X_train, y_train, verbose=0)\n",
    "score_test = model_column_twolayers.evaluate(X_test, y_test, verbose=0)"
   ]
  },
  {
   "cell_type": "code",
   "execution_count": 43,
   "metadata": {
    "collapsed": true
   },
   "outputs": [],
   "source": [
    "results.loc[len(results)] = np.array([np.round(score_train[1] * 100, 2), \n",
    "                                      np.round(score_test[1] * 100, 2), \n",
    "                                      np.round(score_train[0], 3), \n",
    "                                      np.round(score_test[0], 3), \n",
    "                                      np.round(end_time_column_twolayers - start_time_column_twolayers, 1)])\n",
    "results.index = [\"MLP\", \"LSTM 1L\", \"LSTM 2L\"]"
   ]
  },
  {
   "cell_type": "code",
   "execution_count": 44,
   "metadata": {},
   "outputs": [
    {
     "data": {
      "text/html": [
       "<div>\n",
       "<style>\n",
       "    .dataframe thead tr:only-child th {\n",
       "        text-align: right;\n",
       "    }\n",
       "\n",
       "    .dataframe thead th {\n",
       "        text-align: left;\n",
       "    }\n",
       "\n",
       "    .dataframe tbody tr th {\n",
       "        vertical-align: top;\n",
       "    }\n",
       "</style>\n",
       "<table border=\"1\" class=\"dataframe\">\n",
       "  <thead>\n",
       "    <tr style=\"text-align: right;\">\n",
       "      <th></th>\n",
       "      <th>Accuracy Train, %</th>\n",
       "      <th>Accuracy Test, %</th>\n",
       "      <th>Loss Train</th>\n",
       "      <th>Loss Test</th>\n",
       "      <th>Time, s</th>\n",
       "    </tr>\n",
       "  </thead>\n",
       "  <tbody>\n",
       "    <tr>\n",
       "      <th>MLP</th>\n",
       "      <td>97.05</td>\n",
       "      <td>96.54</td>\n",
       "      <td>0.101</td>\n",
       "      <td>0.122</td>\n",
       "      <td>12.9</td>\n",
       "    </tr>\n",
       "    <tr>\n",
       "      <th>LSTM 1L</th>\n",
       "      <td>89.93</td>\n",
       "      <td>90.00</td>\n",
       "      <td>0.330</td>\n",
       "      <td>0.325</td>\n",
       "      <td>136.0</td>\n",
       "    </tr>\n",
       "    <tr>\n",
       "      <th>LSTM 2L</th>\n",
       "      <td>93.99</td>\n",
       "      <td>94.26</td>\n",
       "      <td>0.205</td>\n",
       "      <td>0.205</td>\n",
       "      <td>227.9</td>\n",
       "    </tr>\n",
       "  </tbody>\n",
       "</table>\n",
       "</div>"
      ],
      "text/plain": [
       "         Accuracy Train, %  Accuracy Test, %  Loss Train  Loss Test  Time, s\n",
       "MLP                  97.05             96.54       0.101      0.122     12.9\n",
       "LSTM 1L              89.93             90.00       0.330      0.325    136.0\n",
       "LSTM 2L              93.99             94.26       0.205      0.205    227.9"
      ]
     },
     "execution_count": 44,
     "metadata": {},
     "output_type": "execute_result"
    }
   ],
   "source": [
    "results"
   ]
  },
  {
   "cell_type": "markdown",
   "metadata": {},
   "source": [
    "## Bidirectional LSTM"
   ]
  },
  {
   "cell_type": "markdown",
   "metadata": {},
   "source": [
    "In many applications it makes sense to look onto the sequence in the reverse order. For example in machine translation. First output word should correspond to the first word in the initial sentence. But if we feed input sequence in the straight order than the initial first word actually becomes the first one fed into the model and thus the most distant one at the moment of generation start. So it\"s reasonable to feed the initial sentence into the reverse order.\n",
    "\n",
    "Let\"s apply the same paradigm here. There is a special wrapper called `Bidirectional` for that in Keras."
   ]
  },
  {
   "cell_type": "code",
   "execution_count": 45,
   "metadata": {
    "collapsed": true
   },
   "outputs": [],
   "source": [
    "inp = Input(shape=(img_cols, img_rows))"
   ]
  },
  {
   "cell_type": "markdown",
   "metadata": {},
   "source": [
    "`Biderectional` creates layer with twice number of units specified in the internal layer (here we have LSTM with 8 units thus final bidirectional layer will have 16). Then it splits all the units into two groups:\n",
    "* Half of the units are given with forward order of the sequence\n",
    "* Another half are given with reversed sequence\n",
    "\n",
    "Also one can play around with the `merge_mode` which is responsible for combining the results of the forward and reversed directions. Here we\"re using concatenation."
   ]
  },
  {
   "cell_type": "code",
   "execution_count": 46,
   "metadata": {
    "collapsed": true
   },
   "outputs": [],
   "source": [
    "hid = Bidirectional(LSTM(units=8, return_sequences=True), merge_mode=\"concat\")(inp)\n",
    "hid = LSTM(units=16, return_sequences=False)(hid)"
   ]
  },
  {
   "cell_type": "markdown",
   "metadata": {},
   "source": [
    "Let\"s stack fully-conected classifier on top of that:"
   ]
  },
  {
   "cell_type": "code",
   "execution_count": 47,
   "metadata": {
    "collapsed": true
   },
   "outputs": [],
   "source": [
    "hid = Dense(units=32, activation=\"relu\")(hid)\n",
    "hid = Dropout(rate=0.5)(hid)\n",
    "out = Dense(nb_classes, activation=\"softmax\")(hid)"
   ]
  },
  {
   "cell_type": "code",
   "execution_count": 48,
   "metadata": {
    "collapsed": true
   },
   "outputs": [],
   "source": [
    "model_column_bidir = Model(inputs=[inp], outputs=[out])"
   ]
  },
  {
   "cell_type": "markdown",
   "metadata": {},
   "source": [
    "The final layer here uses $\\text{softmax}$ activation function with the number of classes. So as the output of the network we observe the probability of each class."
   ]
  },
  {
   "cell_type": "code",
   "execution_count": 49,
   "metadata": {
    "collapsed": true
   },
   "outputs": [],
   "source": [
    "model_column_bidir.compile(loss=\"categorical_crossentropy\", \n",
    "                           optimizer=\"adam\", \n",
    "                           metrics=[\"accuracy\"])"
   ]
  },
  {
   "cell_type": "markdown",
   "metadata": {},
   "source": [
    "Let\"s take a look at our final model now:"
   ]
  },
  {
   "cell_type": "code",
   "execution_count": 50,
   "metadata": {},
   "outputs": [
    {
     "name": "stdout",
     "output_type": "stream",
     "text": [
      "_________________________________________________________________\n",
      "Layer (type)                 Output Shape              Param #   \n",
      "=================================================================\n",
      "input_3 (InputLayer)         (None, 28, 28)            0         \n",
      "_________________________________________________________________\n",
      "bidirectional_1 (Bidirection (None, 28, 16)            2368      \n",
      "_________________________________________________________________\n",
      "lstm_5 (LSTM)                (None, 16)                2112      \n",
      "_________________________________________________________________\n",
      "dense_9 (Dense)              (None, 32)                544       \n",
      "_________________________________________________________________\n",
      "dropout_6 (Dropout)          (None, 32)                0         \n",
      "_________________________________________________________________\n",
      "dense_10 (Dense)             (None, 10)                330       \n",
      "=================================================================\n",
      "Total params: 5,354\n",
      "Trainable params: 5,354\n",
      "Non-trainable params: 0\n",
      "_________________________________________________________________\n"
     ]
    }
   ],
   "source": [
    "model_column_bidir.summary()"
   ]
  },
  {
   "cell_type": "code",
   "execution_count": 51,
   "metadata": {},
   "outputs": [
    {
     "data": {
      "image/svg+xml": [
       "<svg height=\"470pt\" viewBox=\"0.00 0.00 532.00 470.00\" width=\"532pt\" xmlns=\"http://www.w3.org/2000/svg\" xmlns:xlink=\"http://www.w3.org/1999/xlink\">\n",
       "<g class=\"graph\" id=\"graph0\" transform=\"scale(1 1) rotate(0) translate(4 466)\">\n",
       "<title>G</title>\n",
       "<polygon fill=\"white\" points=\"-4,4 -4,-466 528,-466 528,4 -4,4\" stroke=\"none\"/>\n",
       "<!-- 140301189852968 -->\n",
       "<g class=\"node\" id=\"node1\"><title>140301189852968</title>\n",
       "<polygon fill=\"none\" points=\"88.5,-415.5 88.5,-461.5 435.5,-461.5 435.5,-415.5 88.5,-415.5\" stroke=\"black\"/>\n",
       "<text font-family=\"Times,serif\" font-size=\"14.00\" text-anchor=\"middle\" x=\"168.5\" y=\"-434.8\">input_3: InputLayer</text>\n",
       "<polyline fill=\"none\" points=\"248.5,-415.5 248.5,-461.5 \" stroke=\"black\"/>\n",
       "<text font-family=\"Times,serif\" font-size=\"14.00\" text-anchor=\"middle\" x=\"282.5\" y=\"-446.3\">input:</text>\n",
       "<polyline fill=\"none\" points=\"248.5,-438.5 316.5,-438.5 \" stroke=\"black\"/>\n",
       "<text font-family=\"Times,serif\" font-size=\"14.00\" text-anchor=\"middle\" x=\"282.5\" y=\"-423.3\">output:</text>\n",
       "<polyline fill=\"none\" points=\"316.5,-415.5 316.5,-461.5 \" stroke=\"black\"/>\n",
       "<text font-family=\"Times,serif\" font-size=\"14.00\" text-anchor=\"middle\" x=\"376\" y=\"-446.3\">(None, 28, 28)</text>\n",
       "<polyline fill=\"none\" points=\"316.5,-438.5 435.5,-438.5 \" stroke=\"black\"/>\n",
       "<text font-family=\"Times,serif\" font-size=\"14.00\" text-anchor=\"middle\" x=\"376\" y=\"-423.3\">(None, 28, 28)</text>\n",
       "</g>\n",
       "<!-- 140297804285040 -->\n",
       "<g class=\"node\" id=\"node2\"><title>140297804285040</title>\n",
       "<polygon fill=\"none\" points=\"0,-332.5 0,-378.5 524,-378.5 524,-332.5 0,-332.5\" stroke=\"black\"/>\n",
       "<text font-family=\"Times,serif\" font-size=\"14.00\" text-anchor=\"middle\" x=\"168.5\" y=\"-351.8\">bidirectional_1(lstm_4): Bidirectional(LSTM)</text>\n",
       "<polyline fill=\"none\" points=\"337,-332.5 337,-378.5 \" stroke=\"black\"/>\n",
       "<text font-family=\"Times,serif\" font-size=\"14.00\" text-anchor=\"middle\" x=\"371\" y=\"-363.3\">input:</text>\n",
       "<polyline fill=\"none\" points=\"337,-355.5 405,-355.5 \" stroke=\"black\"/>\n",
       "<text font-family=\"Times,serif\" font-size=\"14.00\" text-anchor=\"middle\" x=\"371\" y=\"-340.3\">output:</text>\n",
       "<polyline fill=\"none\" points=\"405,-332.5 405,-378.5 \" stroke=\"black\"/>\n",
       "<text font-family=\"Times,serif\" font-size=\"14.00\" text-anchor=\"middle\" x=\"464.5\" y=\"-363.3\">(None, 28, 28)</text>\n",
       "<polyline fill=\"none\" points=\"405,-355.5 524,-355.5 \" stroke=\"black\"/>\n",
       "<text font-family=\"Times,serif\" font-size=\"14.00\" text-anchor=\"middle\" x=\"464.5\" y=\"-340.3\">(None, 28, 16)</text>\n",
       "</g>\n",
       "<!-- 140301189852968&#45;&gt;140297804285040 -->\n",
       "<g class=\"edge\" id=\"edge1\"><title>140301189852968-&gt;140297804285040</title>\n",
       "<path d=\"M262,-415.366C262,-407.152 262,-397.658 262,-388.725\" fill=\"none\" stroke=\"black\"/>\n",
       "<polygon fill=\"black\" points=\"265.5,-388.607 262,-378.607 258.5,-388.607 265.5,-388.607\" stroke=\"black\"/>\n",
       "</g>\n",
       "<!-- 140297804286048 -->\n",
       "<g class=\"node\" id=\"node3\"><title>140297804286048</title>\n",
       "<polygon fill=\"none\" points=\"110.5,-249.5 110.5,-295.5 413.5,-295.5 413.5,-249.5 110.5,-249.5\" stroke=\"black\"/>\n",
       "<text font-family=\"Times,serif\" font-size=\"14.00\" text-anchor=\"middle\" x=\"168.5\" y=\"-268.8\">lstm_5: LSTM</text>\n",
       "<polyline fill=\"none\" points=\"226.5,-249.5 226.5,-295.5 \" stroke=\"black\"/>\n",
       "<text font-family=\"Times,serif\" font-size=\"14.00\" text-anchor=\"middle\" x=\"260.5\" y=\"-280.3\">input:</text>\n",
       "<polyline fill=\"none\" points=\"226.5,-272.5 294.5,-272.5 \" stroke=\"black\"/>\n",
       "<text font-family=\"Times,serif\" font-size=\"14.00\" text-anchor=\"middle\" x=\"260.5\" y=\"-257.3\">output:</text>\n",
       "<polyline fill=\"none\" points=\"294.5,-249.5 294.5,-295.5 \" stroke=\"black\"/>\n",
       "<text font-family=\"Times,serif\" font-size=\"14.00\" text-anchor=\"middle\" x=\"354\" y=\"-280.3\">(None, 28, 16)</text>\n",
       "<polyline fill=\"none\" points=\"294.5,-272.5 413.5,-272.5 \" stroke=\"black\"/>\n",
       "<text font-family=\"Times,serif\" font-size=\"14.00\" text-anchor=\"middle\" x=\"354\" y=\"-257.3\">(None, 16)</text>\n",
       "</g>\n",
       "<!-- 140297804285040&#45;&gt;140297804286048 -->\n",
       "<g class=\"edge\" id=\"edge2\"><title>140297804285040-&gt;140297804286048</title>\n",
       "<path d=\"M262,-332.366C262,-324.152 262,-314.658 262,-305.725\" fill=\"none\" stroke=\"black\"/>\n",
       "<polygon fill=\"black\" points=\"265.5,-305.607 262,-295.607 258.5,-305.607 265.5,-305.607\" stroke=\"black\"/>\n",
       "</g>\n",
       "<!-- 140297799243760 -->\n",
       "<g class=\"node\" id=\"node4\"><title>140297799243760</title>\n",
       "<polygon fill=\"none\" points=\"118,-166.5 118,-212.5 406,-212.5 406,-166.5 118,-166.5\" stroke=\"black\"/>\n",
       "<text font-family=\"Times,serif\" font-size=\"14.00\" text-anchor=\"middle\" x=\"182\" y=\"-185.8\">dense_9: Dense</text>\n",
       "<polyline fill=\"none\" points=\"246,-166.5 246,-212.5 \" stroke=\"black\"/>\n",
       "<text font-family=\"Times,serif\" font-size=\"14.00\" text-anchor=\"middle\" x=\"280\" y=\"-197.3\">input:</text>\n",
       "<polyline fill=\"none\" points=\"246,-189.5 314,-189.5 \" stroke=\"black\"/>\n",
       "<text font-family=\"Times,serif\" font-size=\"14.00\" text-anchor=\"middle\" x=\"280\" y=\"-174.3\">output:</text>\n",
       "<polyline fill=\"none\" points=\"314,-166.5 314,-212.5 \" stroke=\"black\"/>\n",
       "<text font-family=\"Times,serif\" font-size=\"14.00\" text-anchor=\"middle\" x=\"360\" y=\"-197.3\">(None, 16)</text>\n",
       "<polyline fill=\"none\" points=\"314,-189.5 406,-189.5 \" stroke=\"black\"/>\n",
       "<text font-family=\"Times,serif\" font-size=\"14.00\" text-anchor=\"middle\" x=\"360\" y=\"-174.3\">(None, 32)</text>\n",
       "</g>\n",
       "<!-- 140297804286048&#45;&gt;140297799243760 -->\n",
       "<g class=\"edge\" id=\"edge3\"><title>140297804286048-&gt;140297799243760</title>\n",
       "<path d=\"M262,-249.366C262,-241.152 262,-231.658 262,-222.725\" fill=\"none\" stroke=\"black\"/>\n",
       "<polygon fill=\"black\" points=\"265.5,-222.607 262,-212.607 258.5,-222.607 265.5,-222.607\" stroke=\"black\"/>\n",
       "</g>\n",
       "<!-- 140297798471520 -->\n",
       "<g class=\"node\" id=\"node5\"><title>140297798471520</title>\n",
       "<polygon fill=\"none\" points=\"103.5,-83.5 103.5,-129.5 420.5,-129.5 420.5,-83.5 103.5,-83.5\" stroke=\"black\"/>\n",
       "<text font-family=\"Times,serif\" font-size=\"14.00\" text-anchor=\"middle\" x=\"182\" y=\"-102.8\">dropout_6: Dropout</text>\n",
       "<polyline fill=\"none\" points=\"260.5,-83.5 260.5,-129.5 \" stroke=\"black\"/>\n",
       "<text font-family=\"Times,serif\" font-size=\"14.00\" text-anchor=\"middle\" x=\"294.5\" y=\"-114.3\">input:</text>\n",
       "<polyline fill=\"none\" points=\"260.5,-106.5 328.5,-106.5 \" stroke=\"black\"/>\n",
       "<text font-family=\"Times,serif\" font-size=\"14.00\" text-anchor=\"middle\" x=\"294.5\" y=\"-91.3\">output:</text>\n",
       "<polyline fill=\"none\" points=\"328.5,-83.5 328.5,-129.5 \" stroke=\"black\"/>\n",
       "<text font-family=\"Times,serif\" font-size=\"14.00\" text-anchor=\"middle\" x=\"374.5\" y=\"-114.3\">(None, 32)</text>\n",
       "<polyline fill=\"none\" points=\"328.5,-106.5 420.5,-106.5 \" stroke=\"black\"/>\n",
       "<text font-family=\"Times,serif\" font-size=\"14.00\" text-anchor=\"middle\" x=\"374.5\" y=\"-91.3\">(None, 32)</text>\n",
       "</g>\n",
       "<!-- 140297799243760&#45;&gt;140297798471520 -->\n",
       "<g class=\"edge\" id=\"edge4\"><title>140297799243760-&gt;140297798471520</title>\n",
       "<path d=\"M262,-166.366C262,-158.152 262,-148.658 262,-139.725\" fill=\"none\" stroke=\"black\"/>\n",
       "<polygon fill=\"black\" points=\"265.5,-139.607 262,-129.607 258.5,-139.607 265.5,-139.607\" stroke=\"black\"/>\n",
       "</g>\n",
       "<!-- 140297798566800 -->\n",
       "<g class=\"node\" id=\"node6\"><title>140297798566800</title>\n",
       "<polygon fill=\"none\" points=\"113.5,-0.5 113.5,-46.5 410.5,-46.5 410.5,-0.5 113.5,-0.5\" stroke=\"black\"/>\n",
       "<text font-family=\"Times,serif\" font-size=\"14.00\" text-anchor=\"middle\" x=\"182\" y=\"-19.8\">dense_10: Dense</text>\n",
       "<polyline fill=\"none\" points=\"250.5,-0.5 250.5,-46.5 \" stroke=\"black\"/>\n",
       "<text font-family=\"Times,serif\" font-size=\"14.00\" text-anchor=\"middle\" x=\"284.5\" y=\"-31.3\">input:</text>\n",
       "<polyline fill=\"none\" points=\"250.5,-23.5 318.5,-23.5 \" stroke=\"black\"/>\n",
       "<text font-family=\"Times,serif\" font-size=\"14.00\" text-anchor=\"middle\" x=\"284.5\" y=\"-8.3\">output:</text>\n",
       "<polyline fill=\"none\" points=\"318.5,-0.5 318.5,-46.5 \" stroke=\"black\"/>\n",
       "<text font-family=\"Times,serif\" font-size=\"14.00\" text-anchor=\"middle\" x=\"364.5\" y=\"-31.3\">(None, 32)</text>\n",
       "<polyline fill=\"none\" points=\"318.5,-23.5 410.5,-23.5 \" stroke=\"black\"/>\n",
       "<text font-family=\"Times,serif\" font-size=\"14.00\" text-anchor=\"middle\" x=\"364.5\" y=\"-8.3\">(None, 10)</text>\n",
       "</g>\n",
       "<!-- 140297798471520&#45;&gt;140297798566800 -->\n",
       "<g class=\"edge\" id=\"edge5\"><title>140297798471520-&gt;140297798566800</title>\n",
       "<path d=\"M262,-83.3664C262,-75.1516 262,-65.6579 262,-56.7252\" fill=\"none\" stroke=\"black\"/>\n",
       "<polygon fill=\"black\" points=\"265.5,-56.6068 262,-46.6068 258.5,-56.6069 265.5,-56.6068\" stroke=\"black\"/>\n",
       "</g>\n",
       "</g>\n",
       "</svg>"
      ],
      "text/plain": [
       "<IPython.core.display.SVG object>"
      ]
     },
     "execution_count": 51,
     "metadata": {},
     "output_type": "execute_result"
    }
   ],
   "source": [
    "SVG(model_to_dot(model_column_bidir, show_shapes=True).create(prog=\"dot\", format=\"svg\"))"
   ]
  },
  {
   "cell_type": "code",
   "execution_count": 52,
   "metadata": {
    "collapsed": true
   },
   "outputs": [],
   "source": [
    "batch_size = 128\n",
    "epochs = 5"
   ]
  },
  {
   "cell_type": "markdown",
   "metadata": {},
   "source": [
    "Train!"
   ]
  },
  {
   "cell_type": "code",
   "execution_count": 53,
   "metadata": {},
   "outputs": [
    {
     "name": "stdout",
     "output_type": "stream",
     "text": [
      "Train on 60000 samples, validate on 10000 samples\n",
      "Epoch 1/5\n",
      "60000/60000 [==============================] - 65s - loss: 1.5221 - acc: 0.4567 - val_loss: 0.8105 - val_acc: 0.7498\n",
      "Epoch 2/5\n",
      "60000/60000 [==============================] - 64s - loss: 0.8204 - acc: 0.7258 - val_loss: 0.5104 - val_acc: 0.8496\n",
      "Epoch 3/5\n",
      "60000/60000 [==============================] - 64s - loss: 0.5946 - acc: 0.8244 - val_loss: 0.3616 - val_acc: 0.8940\n",
      "Epoch 4/5\n",
      "60000/60000 [==============================] - 64s - loss: 0.4855 - acc: 0.8662 - val_loss: 0.2975 - val_acc: 0.9106\n",
      "Epoch 5/5\n",
      "60000/60000 [==============================] - 63s - loss: 0.4248 - acc: 0.8849 - val_loss: 0.2580 - val_acc: 0.9237\n",
      "CPU times: user 9min 34s, sys: 1min 26s, total: 11min 1s\n",
      "Wall time: 5min 24s\n"
     ]
    }
   ],
   "source": [
    "%%time\n",
    "start_time_column_bidir = time.time()\n",
    "hist_column_bidir = model_column_bidir.fit(X_train, y_train, \n",
    "                                           batch_size=batch_size, \n",
    "                                           epochs=epochs,\n",
    "                                           validation_data=(X_test, y_test))\n",
    "end_time_column_bidir = time.time()"
   ]
  },
  {
   "cell_type": "markdown",
   "metadata": {},
   "source": [
    "Visualization of learning process:"
   ]
  },
  {
   "cell_type": "code",
   "execution_count": 54,
   "metadata": {},
   "outputs": [
    {
     "data": {
      "image/png": "[encoded data removed]",
      "text/plain": [
       "<matplotlib.figure.Figure at 0x7f999ac5beb8>"
      ]
     },
     "metadata": {},
     "output_type": "display_data"
    }
   ],
   "source": [
    "plt.figure(figsize=(20, 8))\n",
    "plt.suptitle(\"Bidirectional RNN with two layers\", fontsize=20)\n",
    "\n",
    "plt.subplot(121)\n",
    "plt.plot(hist_column_twolayers.history[\"loss\"], label=\"Train\")\n",
    "plt.plot(hist_column_twolayers.history[\"val_loss\"], label=\"Test\")\n",
    "plt.xlabel(\"Epoch\", fontsize=14)\n",
    "plt.ylabel(\"Crossentropy\", fontsize=14)\n",
    "plt.legend()\n",
    "\n",
    "plt.subplot(122)\n",
    "plt.plot(hist_column_twolayers.history[\"acc\"], label=\"Train\")\n",
    "plt.plot(hist_column_twolayers.history[\"val_acc\"], label=\"Test\")\n",
    "plt.xlabel(\"Epoch\", fontsize=14)\n",
    "plt.ylabel(\"Accuracy\", fontsize=14)\n",
    "plt.legend();"
   ]
  },
  {
   "cell_type": "markdown",
   "metadata": {},
   "source": [
    "Final evaluation of the model:"
   ]
  },
  {
   "cell_type": "code",
   "execution_count": 55,
   "metadata": {
    "collapsed": true
   },
   "outputs": [],
   "source": [
    "score_train = model_column_bidir.evaluate(X_train, y_train, verbose=0)\n",
    "score_test = model_column_bidir.evaluate(X_test, y_test, verbose=0)"
   ]
  },
  {
   "cell_type": "code",
   "execution_count": 56,
   "metadata": {
    "collapsed": true
   },
   "outputs": [],
   "source": [
    "results.loc[len(results)] = np.array([np.round(score_train[1] * 100, 2), \n",
    "                                      np.round(score_test[1] * 100, 2), \n",
    "                                      np.round(score_train[0], 3), \n",
    "                                      np.round(score_test[0], 3), \n",
    "                                      np.round(end_time_column_bidir - start_time_column_bidir, 1)])\n",
    "results.index = [\"MLP\", \"LSTM 1L\", \"LSTM 2L\", \"BiLSTM 2L\"]"
   ]
  },
  {
   "cell_type": "code",
   "execution_count": 57,
   "metadata": {},
   "outputs": [
    {
     "data": {
      "text/html": [
       "<div>\n",
       "<style>\n",
       "    .dataframe thead tr:only-child th {\n",
       "        text-align: right;\n",
       "    }\n",
       "\n",
       "    .dataframe thead th {\n",
       "        text-align: left;\n",
       "    }\n",
       "\n",
       "    .dataframe tbody tr th {\n",
       "        vertical-align: top;\n",
       "    }\n",
       "</style>\n",
       "<table border=\"1\" class=\"dataframe\">\n",
       "  <thead>\n",
       "    <tr style=\"text-align: right;\">\n",
       "      <th></th>\n",
       "      <th>Accuracy Train, %</th>\n",
       "      <th>Accuracy Test, %</th>\n",
       "      <th>Loss Train</th>\n",
       "      <th>Loss Test</th>\n",
       "      <th>Time, s</th>\n",
       "    </tr>\n",
       "  </thead>\n",
       "  <tbody>\n",
       "    <tr>\n",
       "      <th>MLP</th>\n",
       "      <td>97.05</td>\n",
       "      <td>96.54</td>\n",
       "      <td>0.101</td>\n",
       "      <td>0.122</td>\n",
       "      <td>12.9</td>\n",
       "    </tr>\n",
       "    <tr>\n",
       "      <th>LSTM 1L</th>\n",
       "      <td>89.93</td>\n",
       "      <td>90.00</td>\n",
       "      <td>0.330</td>\n",
       "      <td>0.325</td>\n",
       "      <td>136.0</td>\n",
       "    </tr>\n",
       "    <tr>\n",
       "      <th>LSTM 2L</th>\n",
       "      <td>93.99</td>\n",
       "      <td>94.26</td>\n",
       "      <td>0.205</td>\n",
       "      <td>0.205</td>\n",
       "      <td>227.9</td>\n",
       "    </tr>\n",
       "    <tr>\n",
       "      <th>BiLSTM 2L</th>\n",
       "      <td>92.51</td>\n",
       "      <td>92.37</td>\n",
       "      <td>0.262</td>\n",
       "      <td>0.258</td>\n",
       "      <td>324.8</td>\n",
       "    </tr>\n",
       "  </tbody>\n",
       "</table>\n",
       "</div>"
      ],
      "text/plain": [
       "           Accuracy Train, %  Accuracy Test, %  Loss Train  Loss Test  Time, s\n",
       "MLP                    97.05             96.54       0.101      0.122     12.9\n",
       "LSTM 1L                89.93             90.00       0.330      0.325    136.0\n",
       "LSTM 2L                93.99             94.26       0.205      0.205    227.9\n",
       "BiLSTM 2L              92.51             92.37       0.262      0.258    324.8"
      ]
     },
     "execution_count": 57,
     "metadata": {},
     "output_type": "execute_result"
    }
   ],
   "source": [
    "results"
   ]
  },
  {
   "cell_type": "markdown",
   "metadata": {},
   "source": [
    "## TASK 1: Vertical and Horizontal LSTMs\n",
    "\n",
    "In Bidirectional LSTM approach we scanned through the same sequence of columns from different ends (from left to right and the opposite direction). Why don\"t we try to scan in two different directions:\n",
    "* from left to right\n",
    "* from top to bottom\n",
    "\n",
    "Try to implement this idea using functional Keras API:\n",
    "* Create two branches of the network each one with its own input. \n",
    "* One (*horizontal*) input will be a left-to-right sequence of columns and other (*vertical*) will be top-to-bottom sequence of rows. \n",
    "* After passing them through the corresponding first LSTM layers use Merge layer to concatenate the output vectors. \n",
    "* Apply one more LSTM layer on top of the concatenated representations."
   ]
  },
  {
   "cell_type": "markdown",
   "metadata": {},
   "source": [
    "# Pixelwise Recurrent model"
   ]
  },
  {
   "cell_type": "markdown",
   "metadata": {},
   "source": [
    "Before we treated columns as timesteps.\n",
    "\n",
    "We can approach this problem from the different angle. Let\"s flatten all our images and treat the resulting $28 \\times 28 = 784$ dimensional vector as a sequence of pixels.\n",
    "\n",
    "Let\"s then apply bidirectional approach to these sequence"
   ]
  },
  {
   "cell_type": "code",
   "execution_count": 58,
   "metadata": {
    "collapsed": true
   },
   "outputs": [],
   "source": [
    "inp = Input(shape=(img_cols * img_rows, 1))"
   ]
  },
  {
   "cell_type": "code",
   "execution_count": 59,
   "metadata": {
    "collapsed": true
   },
   "outputs": [],
   "source": [
    "hid = Bidirectional(LSTM(units=8, return_sequences=True), merge_mode=\"concat\")(inp)\n",
    "hid = LSTM(units=16, return_sequences=False)(hid)"
   ]
  },
  {
   "cell_type": "markdown",
   "metadata": {},
   "source": [
    "Let\"s stack fully-conected classifier on top of that:"
   ]
  },
  {
   "cell_type": "code",
   "execution_count": 60,
   "metadata": {
    "collapsed": true
   },
   "outputs": [],
   "source": [
    "hid = Dense(units=32, activation=\"relu\")(hid)\n",
    "hid = Dropout(rate=0.5)(hid)\n",
    "out = Dense(nb_classes, activation=\"softmax\")(hid)"
   ]
  },
  {
   "cell_type": "code",
   "execution_count": 61,
   "metadata": {
    "collapsed": true
   },
   "outputs": [],
   "source": [
    "model_pixel_bidir = Model(inputs=[inp], outputs=[out])"
   ]
  },
  {
   "cell_type": "markdown",
   "metadata": {},
   "source": [
    "The final layer here uses $\\text{softmax}$ activation function with the number of classes. So as the output of the network we observe the probability of each class."
   ]
  },
  {
   "cell_type": "code",
   "execution_count": 62,
   "metadata": {
    "collapsed": true
   },
   "outputs": [],
   "source": [
    "model_pixel_bidir.compile(loss=\"categorical_crossentropy\", \n",
    "                          optimizer=\"adam\", \n",
    "                          metrics=[\"accuracy\"])"
   ]
  },
  {
   "cell_type": "markdown",
   "metadata": {},
   "source": [
    "Let\"s take a look at our final model now:"
   ]
  },
  {
   "cell_type": "code",
   "execution_count": 63,
   "metadata": {},
   "outputs": [
    {
     "name": "stdout",
     "output_type": "stream",
     "text": [
      "_________________________________________________________________\n",
      "Layer (type)                 Output Shape              Param #   \n",
      "=================================================================\n",
      "input_4 (InputLayer)         (None, 784, 1)            0         \n",
      "_________________________________________________________________\n",
      "bidirectional_2 (Bidirection (None, 784, 16)           640       \n",
      "_________________________________________________________________\n",
      "lstm_7 (LSTM)                (None, 16)                2112      \n",
      "_________________________________________________________________\n",
      "dense_11 (Dense)             (None, 32)                544       \n",
      "_________________________________________________________________\n",
      "dropout_7 (Dropout)          (None, 32)                0         \n",
      "_________________________________________________________________\n",
      "dense_12 (Dense)             (None, 10)                330       \n",
      "=================================================================\n",
      "Total params: 3,626\n",
      "Trainable params: 3,626\n",
      "Non-trainable params: 0\n",
      "_________________________________________________________________\n"
     ]
    }
   ],
   "source": [
    "model_pixel_bidir.summary()"
   ]
  },
  {
   "cell_type": "code",
   "execution_count": 64,
   "metadata": {},
   "outputs": [
    {
     "data": {
      "image/svg+xml": [
       "<svg height=\"470pt\" viewBox=\"0.00 0.00 541.00 470.00\" width=\"541pt\" xmlns=\"http://www.w3.org/2000/svg\" xmlns:xlink=\"http://www.w3.org/1999/xlink\">\n",
       "<g class=\"graph\" id=\"graph0\" transform=\"scale(1 1) rotate(0) translate(4 466)\">\n",
       "<title>G</title>\n",
       "<polygon fill=\"white\" points=\"-4,4 -4,-466 537,-466 537,4 -4,4\" stroke=\"none\"/>\n",
       "<!-- 140297703272400 -->\n",
       "<g class=\"node\" id=\"node1\"><title>140297703272400</title>\n",
       "<polygon fill=\"none\" points=\"93,-415.5 93,-461.5 440,-461.5 440,-415.5 93,-415.5\" stroke=\"black\"/>\n",
       "<text font-family=\"Times,serif\" font-size=\"14.00\" text-anchor=\"middle\" x=\"173\" y=\"-434.8\">input_4: InputLayer</text>\n",
       "<polyline fill=\"none\" points=\"253,-415.5 253,-461.5 \" stroke=\"black\"/>\n",
       "<text font-family=\"Times,serif\" font-size=\"14.00\" text-anchor=\"middle\" x=\"287\" y=\"-446.3\">input:</text>\n",
       "<polyline fill=\"none\" points=\"253,-438.5 321,-438.5 \" stroke=\"black\"/>\n",
       "<text font-family=\"Times,serif\" font-size=\"14.00\" text-anchor=\"middle\" x=\"287\" y=\"-423.3\">output:</text>\n",
       "<polyline fill=\"none\" points=\"321,-415.5 321,-461.5 \" stroke=\"black\"/>\n",
       "<text font-family=\"Times,serif\" font-size=\"14.00\" text-anchor=\"middle\" x=\"380.5\" y=\"-446.3\">(None, 784, 1)</text>\n",
       "<polyline fill=\"none\" points=\"321,-438.5 440,-438.5 \" stroke=\"black\"/>\n",
       "<text font-family=\"Times,serif\" font-size=\"14.00\" text-anchor=\"middle\" x=\"380.5\" y=\"-423.3\">(None, 784, 1)</text>\n",
       "</g>\n",
       "<!-- 140297797301864 -->\n",
       "<g class=\"node\" id=\"node2\"><title>140297797301864</title>\n",
       "<polygon fill=\"none\" points=\"0,-332.5 0,-378.5 533,-378.5 533,-332.5 0,-332.5\" stroke=\"black\"/>\n",
       "<text font-family=\"Times,serif\" font-size=\"14.00\" text-anchor=\"middle\" x=\"168.5\" y=\"-351.8\">bidirectional_2(lstm_6): Bidirectional(LSTM)</text>\n",
       "<polyline fill=\"none\" points=\"337,-332.5 337,-378.5 \" stroke=\"black\"/>\n",
       "<text font-family=\"Times,serif\" font-size=\"14.00\" text-anchor=\"middle\" x=\"371\" y=\"-363.3\">input:</text>\n",
       "<polyline fill=\"none\" points=\"337,-355.5 405,-355.5 \" stroke=\"black\"/>\n",
       "<text font-family=\"Times,serif\" font-size=\"14.00\" text-anchor=\"middle\" x=\"371\" y=\"-340.3\">output:</text>\n",
       "<polyline fill=\"none\" points=\"405,-332.5 405,-378.5 \" stroke=\"black\"/>\n",
       "<text font-family=\"Times,serif\" font-size=\"14.00\" text-anchor=\"middle\" x=\"469\" y=\"-363.3\">(None, 784, 1)</text>\n",
       "<polyline fill=\"none\" points=\"405,-355.5 533,-355.5 \" stroke=\"black\"/>\n",
       "<text font-family=\"Times,serif\" font-size=\"14.00\" text-anchor=\"middle\" x=\"469\" y=\"-340.3\">(None, 784, 16)</text>\n",
       "</g>\n",
       "<!-- 140297703272400&#45;&gt;140297797301864 -->\n",
       "<g class=\"edge\" id=\"edge1\"><title>140297703272400-&gt;140297797301864</title>\n",
       "<path d=\"M266.5,-415.366C266.5,-407.152 266.5,-397.658 266.5,-388.725\" fill=\"none\" stroke=\"black\"/>\n",
       "<polygon fill=\"black\" points=\"270,-388.607 266.5,-378.607 263,-388.607 270,-388.607\" stroke=\"black\"/>\n",
       "</g>\n",
       "<!-- 140297797301808 -->\n",
       "<g class=\"node\" id=\"node3\"><title>140297797301808</title>\n",
       "<polygon fill=\"none\" points=\"110.5,-249.5 110.5,-295.5 422.5,-295.5 422.5,-249.5 110.5,-249.5\" stroke=\"black\"/>\n",
       "<text font-family=\"Times,serif\" font-size=\"14.00\" text-anchor=\"middle\" x=\"168.5\" y=\"-268.8\">lstm_7: LSTM</text>\n",
       "<polyline fill=\"none\" points=\"226.5,-249.5 226.5,-295.5 \" stroke=\"black\"/>\n",
       "<text font-family=\"Times,serif\" font-size=\"14.00\" text-anchor=\"middle\" x=\"260.5\" y=\"-280.3\">input:</text>\n",
       "<polyline fill=\"none\" points=\"226.5,-272.5 294.5,-272.5 \" stroke=\"black\"/>\n",
       "<text font-family=\"Times,serif\" font-size=\"14.00\" text-anchor=\"middle\" x=\"260.5\" y=\"-257.3\">output:</text>\n",
       "<polyline fill=\"none\" points=\"294.5,-249.5 294.5,-295.5 \" stroke=\"black\"/>\n",
       "<text font-family=\"Times,serif\" font-size=\"14.00\" text-anchor=\"middle\" x=\"358.5\" y=\"-280.3\">(None, 784, 16)</text>\n",
       "<polyline fill=\"none\" points=\"294.5,-272.5 422.5,-272.5 \" stroke=\"black\"/>\n",
       "<text font-family=\"Times,serif\" font-size=\"14.00\" text-anchor=\"middle\" x=\"358.5\" y=\"-257.3\">(None, 16)</text>\n",
       "</g>\n",
       "<!-- 140297797301864&#45;&gt;140297797301808 -->\n",
       "<g class=\"edge\" id=\"edge2\"><title>140297797301864-&gt;140297797301808</title>\n",
       "<path d=\"M266.5,-332.366C266.5,-324.152 266.5,-314.658 266.5,-305.725\" fill=\"none\" stroke=\"black\"/>\n",
       "<polygon fill=\"black\" points=\"270,-305.607 266.5,-295.607 263,-305.607 270,-305.607\" stroke=\"black\"/>\n",
       "</g>\n",
       "<!-- 140297699997680 -->\n",
       "<g class=\"node\" id=\"node4\"><title>140297699997680</title>\n",
       "<polygon fill=\"none\" points=\"118,-166.5 118,-212.5 415,-212.5 415,-166.5 118,-166.5\" stroke=\"black\"/>\n",
       "<text font-family=\"Times,serif\" font-size=\"14.00\" text-anchor=\"middle\" x=\"186.5\" y=\"-185.8\">dense_11: Dense</text>\n",
       "<polyline fill=\"none\" points=\"255,-166.5 255,-212.5 \" stroke=\"black\"/>\n",
       "<text font-family=\"Times,serif\" font-size=\"14.00\" text-anchor=\"middle\" x=\"289\" y=\"-197.3\">input:</text>\n",
       "<polyline fill=\"none\" points=\"255,-189.5 323,-189.5 \" stroke=\"black\"/>\n",
       "<text font-family=\"Times,serif\" font-size=\"14.00\" text-anchor=\"middle\" x=\"289\" y=\"-174.3\">output:</text>\n",
       "<polyline fill=\"none\" points=\"323,-166.5 323,-212.5 \" stroke=\"black\"/>\n",
       "<text font-family=\"Times,serif\" font-size=\"14.00\" text-anchor=\"middle\" x=\"369\" y=\"-197.3\">(None, 16)</text>\n",
       "<polyline fill=\"none\" points=\"323,-189.5 415,-189.5 \" stroke=\"black\"/>\n",
       "<text font-family=\"Times,serif\" font-size=\"14.00\" text-anchor=\"middle\" x=\"369\" y=\"-174.3\">(None, 32)</text>\n",
       "</g>\n",
       "<!-- 140297797301808&#45;&gt;140297699997680 -->\n",
       "<g class=\"edge\" id=\"edge3\"><title>140297797301808-&gt;140297699997680</title>\n",
       "<path d=\"M266.5,-249.366C266.5,-241.152 266.5,-231.658 266.5,-222.725\" fill=\"none\" stroke=\"black\"/>\n",
       "<polygon fill=\"black\" points=\"270,-222.607 266.5,-212.607 263,-222.607 270,-222.607\" stroke=\"black\"/>\n",
       "</g>\n",
       "<!-- 140297699923896 -->\n",
       "<g class=\"node\" id=\"node5\"><title>140297699923896</title>\n",
       "<polygon fill=\"none\" points=\"108,-83.5 108,-129.5 425,-129.5 425,-83.5 108,-83.5\" stroke=\"black\"/>\n",
       "<text font-family=\"Times,serif\" font-size=\"14.00\" text-anchor=\"middle\" x=\"186.5\" y=\"-102.8\">dropout_7: Dropout</text>\n",
       "<polyline fill=\"none\" points=\"265,-83.5 265,-129.5 \" stroke=\"black\"/>\n",
       "<text font-family=\"Times,serif\" font-size=\"14.00\" text-anchor=\"middle\" x=\"299\" y=\"-114.3\">input:</text>\n",
       "<polyline fill=\"none\" points=\"265,-106.5 333,-106.5 \" stroke=\"black\"/>\n",
       "<text font-family=\"Times,serif\" font-size=\"14.00\" text-anchor=\"middle\" x=\"299\" y=\"-91.3\">output:</text>\n",
       "<polyline fill=\"none\" points=\"333,-83.5 333,-129.5 \" stroke=\"black\"/>\n",
       "<text font-family=\"Times,serif\" font-size=\"14.00\" text-anchor=\"middle\" x=\"379\" y=\"-114.3\">(None, 32)</text>\n",
       "<polyline fill=\"none\" points=\"333,-106.5 425,-106.5 \" stroke=\"black\"/>\n",
       "<text font-family=\"Times,serif\" font-size=\"14.00\" text-anchor=\"middle\" x=\"379\" y=\"-91.3\">(None, 32)</text>\n",
       "</g>\n",
       "<!-- 140297699997680&#45;&gt;140297699923896 -->\n",
       "<g class=\"edge\" id=\"edge4\"><title>140297699997680-&gt;140297699923896</title>\n",
       "<path d=\"M266.5,-166.366C266.5,-158.152 266.5,-148.658 266.5,-139.725\" fill=\"none\" stroke=\"black\"/>\n",
       "<polygon fill=\"black\" points=\"270,-139.607 266.5,-129.607 263,-139.607 270,-139.607\" stroke=\"black\"/>\n",
       "</g>\n",
       "<!-- 140297700764528 -->\n",
       "<g class=\"node\" id=\"node6\"><title>140297700764528</title>\n",
       "<polygon fill=\"none\" points=\"118,-0.5 118,-46.5 415,-46.5 415,-0.5 118,-0.5\" stroke=\"black\"/>\n",
       "<text font-family=\"Times,serif\" font-size=\"14.00\" text-anchor=\"middle\" x=\"186.5\" y=\"-19.8\">dense_12: Dense</text>\n",
       "<polyline fill=\"none\" points=\"255,-0.5 255,-46.5 \" stroke=\"black\"/>\n",
       "<text font-family=\"Times,serif\" font-size=\"14.00\" text-anchor=\"middle\" x=\"289\" y=\"-31.3\">input:</text>\n",
       "<polyline fill=\"none\" points=\"255,-23.5 323,-23.5 \" stroke=\"black\"/>\n",
       "<text font-family=\"Times,serif\" font-size=\"14.00\" text-anchor=\"middle\" x=\"289\" y=\"-8.3\">output:</text>\n",
       "<polyline fill=\"none\" points=\"323,-0.5 323,-46.5 \" stroke=\"black\"/>\n",
       "<text font-family=\"Times,serif\" font-size=\"14.00\" text-anchor=\"middle\" x=\"369\" y=\"-31.3\">(None, 32)</text>\n",
       "<polyline fill=\"none\" points=\"323,-23.5 415,-23.5 \" stroke=\"black\"/>\n",
       "<text font-family=\"Times,serif\" font-size=\"14.00\" text-anchor=\"middle\" x=\"369\" y=\"-8.3\">(None, 10)</text>\n",
       "</g>\n",
       "<!-- 140297699923896&#45;&gt;140297700764528 -->\n",
       "<g class=\"edge\" id=\"edge5\"><title>140297699923896-&gt;140297700764528</title>\n",
       "<path d=\"M266.5,-83.3664C266.5,-75.1516 266.5,-65.6579 266.5,-56.7252\" fill=\"none\" stroke=\"black\"/>\n",
       "<polygon fill=\"black\" points=\"270,-56.6068 266.5,-46.6068 263,-56.6069 270,-56.6068\" stroke=\"black\"/>\n",
       "</g>\n",
       "</g>\n",
       "</svg>"
      ],
      "text/plain": [
       "<IPython.core.display.SVG object>"
      ]
     },
     "execution_count": 64,
     "metadata": {},
     "output_type": "execute_result"
    }
   ],
   "source": [
    "SVG(model_to_dot(model_pixel_bidir, show_shapes=True).create(prog=\"dot\", format=\"svg\"))"
   ]
  },
  {
   "cell_type": "markdown",
   "metadata": {},
   "source": [
    "Sequences are extremely long (784 timesteps) thus even one epoch of the training takes too much time. So let\"s try it for one epoch"
   ]
  },
  {
   "cell_type": "code",
   "execution_count": 65,
   "metadata": {
    "collapsed": true
   },
   "outputs": [],
   "source": [
    "batch_size = 128\n",
    "epochs = 1"
   ]
  },
  {
   "cell_type": "markdown",
   "metadata": {},
   "source": [
    "Train!"
   ]
  },
  {
   "cell_type": "code",
   "execution_count": 66,
   "metadata": {},
   "outputs": [
    {
     "name": "stdout",
     "output_type": "stream",
     "text": [
      "Train on 60000 samples, validate on 10000 samples\n",
      "Epoch 1/1\n",
      "60000/60000 [==============================] - 1329s - loss: 2.0259 - acc: 0.2182 - val_loss: 1.7900 - val_acc: 0.3011\n",
      "CPU times: user 37min 42s, sys: 5min 51s, total: 43min 33s\n",
      "Wall time: 22min 11s\n"
     ]
    }
   ],
   "source": [
    "%%time\n",
    "start_time_pixel_bidir = time.time()\n",
    "hist_pixel_bidir = model_pixel_bidir.fit(X_train.reshape(-1, img_cols * img_rows, 1), y_train, \n",
    "                                         batch_size=batch_size, \n",
    "                                         epochs=epochs,\n",
    "                                         validation_data=(X_test.reshape(-1, img_cols * img_rows, 1), y_test))\n",
    "end_time_pixel_bidir = time.time()"
   ]
  },
  {
   "cell_type": "markdown",
   "metadata": {},
   "source": [
    "Final evaluation of the model:"
   ]
  },
  {
   "cell_type": "code",
   "execution_count": 67,
   "metadata": {},
   "outputs": [
    {
     "name": "stdout",
     "output_type": "stream",
     "text": [
      "60000/60000 [==============================] - 1034s  \n",
      "10000/10000 [==============================] - 169s   \n"
     ]
    }
   ],
   "source": [
    "score_train = model_pixel_bidir.evaluate(X_train.reshape(-1, img_cols * img_rows, 1), y_train, verbose=1)\n",
    "score_test = model_pixel_bidir.evaluate(X_test.reshape(-1, img_cols * img_rows, 1), y_test, verbose=1)"
   ]
  },
  {
   "cell_type": "code",
   "execution_count": 76,
   "metadata": {
    "collapsed": true
   },
   "outputs": [],
   "source": [
    "results.loc[len(results)] = np.array([np.round(score_train[1] * 100, 2), \n",
    "                                      np.round(score_test[1] * 100, 2), \n",
    "                                      np.round(score_train[0], 3), \n",
    "                                      np.round(score_test[0], 3), \n",
    "                                      np.round(end_time_pixel_bidir - start_time_pixel_bidir, 1)])\n",
    "results.index = [\"MLP\", \"LSTM 1L\", \"LSTM 2L\", \"BiLSTM 2L\", \"Pixel BiLSTM 2L (1 epoch)\"]"
   ]
  },
  {
   "cell_type": "code",
   "execution_count": 77,
   "metadata": {},
   "outputs": [
    {
     "data": {
      "text/html": [
       "<div>\n",
       "<style>\n",
       "    .dataframe thead tr:only-child th {\n",
       "        text-align: right;\n",
       "    }\n",
       "\n",
       "    .dataframe thead th {\n",
       "        text-align: left;\n",
       "    }\n",
       "\n",
       "    .dataframe tbody tr th {\n",
       "        vertical-align: top;\n",
       "    }\n",
       "</style>\n",
       "<table border=\"1\" class=\"dataframe\">\n",
       "  <thead>\n",
       "    <tr style=\"text-align: right;\">\n",
       "      <th></th>\n",
       "      <th>Accuracy Train, %</th>\n",
       "      <th>Accuracy Test, %</th>\n",
       "      <th>Loss Train</th>\n",
       "      <th>Loss Test</th>\n",
       "      <th>Time, s</th>\n",
       "    </tr>\n",
       "  </thead>\n",
       "  <tbody>\n",
       "    <tr>\n",
       "      <th>MLP</th>\n",
       "      <td>97.05</td>\n",
       "      <td>96.54</td>\n",
       "      <td>0.101</td>\n",
       "      <td>0.122</td>\n",
       "      <td>12.9</td>\n",
       "    </tr>\n",
       "    <tr>\n",
       "      <th>LSTM 1L</th>\n",
       "      <td>89.93</td>\n",
       "      <td>90.00</td>\n",
       "      <td>0.330</td>\n",
       "      <td>0.325</td>\n",
       "      <td>136.0</td>\n",
       "    </tr>\n",
       "    <tr>\n",
       "      <th>LSTM 2L</th>\n",
       "      <td>93.99</td>\n",
       "      <td>94.26</td>\n",
       "      <td>0.205</td>\n",
       "      <td>0.205</td>\n",
       "      <td>227.9</td>\n",
       "    </tr>\n",
       "    <tr>\n",
       "      <th>BiLSTM 2L</th>\n",
       "      <td>92.51</td>\n",
       "      <td>92.37</td>\n",
       "      <td>0.262</td>\n",
       "      <td>0.258</td>\n",
       "      <td>324.8</td>\n",
       "    </tr>\n",
       "    <tr>\n",
       "      <th>Pixel BiLSTM 2L (1 epoch)</th>\n",
       "      <td>30.73</td>\n",
       "      <td>30.11</td>\n",
       "      <td>1.781</td>\n",
       "      <td>1.790</td>\n",
       "      <td>1331.5</td>\n",
       "    </tr>\n",
       "  </tbody>\n",
       "</table>\n",
       "</div>"
      ],
      "text/plain": [
       "                           Accuracy Train, %  Accuracy Test, %  Loss Train  \\\n",
       "MLP                                    97.05             96.54       0.101   \n",
       "LSTM 1L                                89.93             90.00       0.330   \n",
       "LSTM 2L                                93.99             94.26       0.205   \n",
       "BiLSTM 2L                              92.51             92.37       0.262   \n",
       "Pixel BiLSTM 2L (1 epoch)              30.73             30.11       1.781   \n",
       "\n",
       "                           Loss Test  Time, s  \n",
       "MLP                            0.122     12.9  \n",
       "LSTM 1L                        0.325    136.0  \n",
       "LSTM 2L                        0.205    227.9  \n",
       "BiLSTM 2L                      0.258    324.8  \n",
       "Pixel BiLSTM 2L (1 epoch)      1.790   1331.5  "
      ]
     },
     "execution_count": 77,
     "metadata": {},
     "output_type": "execute_result"
    }
   ],
   "source": [
    "results"
   ]
  },
  {
   "cell_type": "markdown",
   "metadata": {
    "collapsed": true
   },
   "source": [
    "# CNN + RNN"
   ]
  },
  {
   "cell_type": "markdown",
   "metadata": {},
   "source": [
    "As one can see pixelwise approach might be well but we can not train it properly because of the enormous sequence length. The essential solution is to reduce the dimensionality of the initial data before flattening. There are plenty of methods to do it:\n",
    "* PCA\n",
    "* Autoencoder\n",
    "* CNN\n",
    "\n",
    "Here we\"re going to use CNNs that are available in Keras. Thus we will be able to do everything inside one pipiline and train our model in end-to-end manner."
   ]
  },
  {
   "cell_type": "code",
   "execution_count": 78,
   "metadata": {
    "collapsed": true
   },
   "outputs": [],
   "source": [
    "inp = Input(shape=(img_cols, img_rows, 1))"
   ]
  },
  {
   "cell_type": "markdown",
   "metadata": {},
   "source": [
    "First of all, let\"s apply one simple convolutional block to the initial image. It consists of two consecutive convolutional layer and max pooling layer on top of them. The only parameter that can be unclear here is `padding=\"valid\"`. It means that we\"re not going to pad our image with zeros after convolution (the spatial size of the image will be changing)."
   ]
  },
  {
   "cell_type": "code",
   "execution_count": 79,
   "metadata": {
    "collapsed": true
   },
   "outputs": [],
   "source": [
    "cnn = Convolution2D(filters=32, \n",
    "                    kernel_size=(3, 3),\n",
    "                    padding=\"valid\", \n",
    "                    activation=\"relu\")(inp)\n",
    "cnn = Convolution2D(filters=32, \n",
    "                    kernel_size=(3, 3),\n",
    "                    padding=\"valid\", \n",
    "                    activation=\"relu\")(cnn)\n",
    "cnn = MaxPooling2D(pool_size=(2, 2))(cnn)"
   ]
  },
  {
   "cell_type": "markdown",
   "metadata": {},
   "source": [
    "Let\"s apply the same block one more time to further reduce dimensionality"
   ]
  },
  {
   "cell_type": "code",
   "execution_count": 80,
   "metadata": {
    "collapsed": true
   },
   "outputs": [],
   "source": [
    "cnn = Convolution2D(filters=32, \n",
    "                    kernel_size=(3, 3),\n",
    "                    padding=\"valid\", \n",
    "                    activation=\"relu\")(cnn)\n",
    "cnn = Convolution2D(filters=32, \n",
    "                    kernel_size=(3, 3),\n",
    "                    padding=\"valid\", \n",
    "                    activation=\"relu\")(cnn)\n",
    "cnn = MaxPooling2D(pool_size=(2, 2))(cnn)"
   ]
  },
  {
   "cell_type": "markdown",
   "metadata": {},
   "source": [
    "At this point we have 32-channel output image. Now we\"re going to collapse all 32 channels into 1. For this purpose we\"re going to use **1x1 convolutions**. \n",
    "\n",
    "Technically, the 1x1 convolutional filter behaves exactly the same as “normal” filters. The only confused thing is the size 1x1 of the filter which indicates that the filter does not care at all about the correlation of information in the same feature map. Which mean, there is no visual pattern being learned in here. Instead, the filter pools the information across multi feature maps. The size of the kernel actually is 1x1xk where k is the number of feature maps. This is one way to compress these feature maps into one (or you can think of it as dimension reduction).\n",
    "\n",
    "Such kind of layers were introduced in [this](https://arxiv.org/pdf/1312.4400v3.pdf) paper and are used in, e.g, GoogLeNet [architecture](https://arxiv.org/pdf/1409.4842v1.pdf). For more detailed explanation one can also look [here](http://iamaaditya.github.io/2016/03/one-by-one-convolution/)"
   ]
  },
  {
   "cell_type": "code",
   "execution_count": 81,
   "metadata": {
    "collapsed": true
   },
   "outputs": [],
   "source": [
    "cnn = Convolution2D(filters=1, \n",
    "                    kernel_size=(1, 1))(cnn)"
   ]
  },
  {
   "cell_type": "markdown",
   "metadata": {},
   "source": [
    "After that we need to make the sequence out of 1 remained feature map. It can be done with `Reshape` layer."
   ]
  },
  {
   "cell_type": "code",
   "execution_count": 82,
   "metadata": {
    "collapsed": true
   },
   "outputs": [],
   "source": [
    "cnn = Reshape((-1, 1))(cnn)"
   ]
  },
  {
   "cell_type": "markdown",
   "metadata": {},
   "source": [
    "Now let\"s come back to our pixelwise LSTM idea"
   ]
  },
  {
   "cell_type": "code",
   "execution_count": 83,
   "metadata": {
    "collapsed": true
   },
   "outputs": [],
   "source": [
    "rnn = Bidirectional(LSTM(units=8, return_sequences=True), merge_mode=\"concat\")(cnn)\n",
    "rnn = LSTM(units=16, return_sequences=False)(rnn)"
   ]
  },
  {
   "cell_type": "markdown",
   "metadata": {},
   "source": [
    "Let\"s stack fully-conected classifier on top of that:"
   ]
  },
  {
   "cell_type": "code",
   "execution_count": 84,
   "metadata": {
    "collapsed": true
   },
   "outputs": [],
   "source": [
    "hid = Dense(units=32, activation=\"relu\")(rnn)\n",
    "hid = Dropout(rate=0.5)(hid)\n",
    "out = Dense(nb_classes, activation=\"softmax\")(hid)"
   ]
  },
  {
   "cell_type": "code",
   "execution_count": 85,
   "metadata": {
    "collapsed": true
   },
   "outputs": [],
   "source": [
    "model_cnn_rnn_bidir = Model(inputs=[inp], outputs=[out])"
   ]
  },
  {
   "cell_type": "markdown",
   "metadata": {},
   "source": [
    "The final layer here uses $\\text{softmax}$ activation function with the number of classes. So as the output of the network we observe the probability of each class."
   ]
  },
  {
   "cell_type": "code",
   "execution_count": 86,
   "metadata": {
    "collapsed": true
   },
   "outputs": [],
   "source": [
    "model_cnn_rnn_bidir.compile(loss=\"categorical_crossentropy\", \n",
    "                            optimizer=\"adam\", \n",
    "                            metrics=[\"accuracy\"])"
   ]
  },
  {
   "cell_type": "markdown",
   "metadata": {},
   "source": [
    "Let\"s take a look at our final model now:"
   ]
  },
  {
   "cell_type": "code",
   "execution_count": 87,
   "metadata": {},
   "outputs": [
    {
     "name": "stdout",
     "output_type": "stream",
     "text": [
      "_________________________________________________________________\n",
      "Layer (type)                 Output Shape              Param #   \n",
      "=================================================================\n",
      "input_5 (InputLayer)         (None, 28, 28, 1)         0         \n",
      "_________________________________________________________________\n",
      "conv2d_1 (Conv2D)            (None, 26, 26, 32)        320       \n",
      "_________________________________________________________________\n",
      "conv2d_2 (Conv2D)            (None, 24, 24, 32)        9248      \n",
      "_________________________________________________________________\n",
      "max_pooling2d_1 (MaxPooling2 (None, 12, 12, 32)        0         \n",
      "_________________________________________________________________\n",
      "conv2d_3 (Conv2D)            (None, 10, 10, 32)        9248      \n",
      "_________________________________________________________________\n",
      "conv2d_4 (Conv2D)            (None, 8, 8, 32)          9248      \n",
      "_________________________________________________________________\n",
      "max_pooling2d_2 (MaxPooling2 (None, 4, 4, 32)          0         \n",
      "_________________________________________________________________\n",
      "conv2d_5 (Conv2D)            (None, 4, 4, 1)           33        \n",
      "_________________________________________________________________\n",
      "reshape_1 (Reshape)          (None, 16, 1)             0         \n",
      "_________________________________________________________________\n",
      "bidirectional_3 (Bidirection (None, 16, 16)            640       \n",
      "_________________________________________________________________\n",
      "lstm_9 (LSTM)                (None, 16)                2112      \n",
      "_________________________________________________________________\n",
      "dense_13 (Dense)             (None, 32)                544       \n",
      "_________________________________________________________________\n",
      "dropout_8 (Dropout)          (None, 32)                0         \n",
      "_________________________________________________________________\n",
      "dense_14 (Dense)             (None, 10)                330       \n",
      "=================================================================\n",
      "Total params: 31,723\n",
      "Trainable params: 31,723\n",
      "Non-trainable params: 0\n",
      "_________________________________________________________________\n"
     ]
    }
   ],
   "source": [
    "model_cnn_rnn_bidir.summary()"
   ]
  },
  {
   "cell_type": "code",
   "execution_count": 88,
   "metadata": {},
   "outputs": [
    {
     "data": {
      "image/svg+xml": [
       "<svg height=\"1134pt\" viewBox=\"0.00 0.00 532.00 1134.00\" width=\"532pt\" xmlns=\"http://www.w3.org/2000/svg\" xmlns:xlink=\"http://www.w3.org/1999/xlink\">\n",
       "<g class=\"graph\" id=\"graph0\" transform=\"scale(1 1) rotate(0) translate(4 1130)\">\n",
       "<title>G</title>\n",
       "<polygon fill=\"white\" points=\"-4,4 -4,-1130 528,-1130 528,4 -4,4\" stroke=\"none\"/>\n",
       "<!-- 140297539066624 -->\n",
       "<g class=\"node\" id=\"node1\"><title>140297539066624</title>\n",
       "<polygon fill=\"none\" points=\"79.5,-1079.5 79.5,-1125.5 444.5,-1125.5 444.5,-1079.5 79.5,-1079.5\" stroke=\"black\"/>\n",
       "<text font-family=\"Times,serif\" font-size=\"14.00\" text-anchor=\"middle\" x=\"159.5\" y=\"-1098.8\">input_5: InputLayer</text>\n",
       "<polyline fill=\"none\" points=\"239.5,-1079.5 239.5,-1125.5 \" stroke=\"black\"/>\n",
       "<text font-family=\"Times,serif\" font-size=\"14.00\" text-anchor=\"middle\" x=\"273.5\" y=\"-1110.3\">input:</text>\n",
       "<polyline fill=\"none\" points=\"239.5,-1102.5 307.5,-1102.5 \" stroke=\"black\"/>\n",
       "<text font-family=\"Times,serif\" font-size=\"14.00\" text-anchor=\"middle\" x=\"273.5\" y=\"-1087.3\">output:</text>\n",
       "<polyline fill=\"none\" points=\"307.5,-1079.5 307.5,-1125.5 \" stroke=\"black\"/>\n",
       "<text font-family=\"Times,serif\" font-size=\"14.00\" text-anchor=\"middle\" x=\"376\" y=\"-1110.3\">(None, 28, 28, 1)</text>\n",
       "<polyline fill=\"none\" points=\"307.5,-1102.5 444.5,-1102.5 \" stroke=\"black\"/>\n",
       "<text font-family=\"Times,serif\" font-size=\"14.00\" text-anchor=\"middle\" x=\"376\" y=\"-1087.3\">(None, 28, 28, 1)</text>\n",
       "</g>\n",
       "<!-- 140297668282128 -->\n",
       "<g class=\"node\" id=\"node2\"><title>140297668282128</title>\n",
       "<polygon fill=\"none\" points=\"79.5,-996.5 79.5,-1042.5 444.5,-1042.5 444.5,-996.5 79.5,-996.5\" stroke=\"black\"/>\n",
       "<text font-family=\"Times,serif\" font-size=\"14.00\" text-anchor=\"middle\" x=\"155\" y=\"-1015.8\">conv2d_1: Conv2D</text>\n",
       "<polyline fill=\"none\" points=\"230.5,-996.5 230.5,-1042.5 \" stroke=\"black\"/>\n",
       "<text font-family=\"Times,serif\" font-size=\"14.00\" text-anchor=\"middle\" x=\"264.5\" y=\"-1027.3\">input:</text>\n",
       "<polyline fill=\"none\" points=\"230.5,-1019.5 298.5,-1019.5 \" stroke=\"black\"/>\n",
       "<text font-family=\"Times,serif\" font-size=\"14.00\" text-anchor=\"middle\" x=\"264.5\" y=\"-1004.3\">output:</text>\n",
       "<polyline fill=\"none\" points=\"298.5,-996.5 298.5,-1042.5 \" stroke=\"black\"/>\n",
       "<text font-family=\"Times,serif\" font-size=\"14.00\" text-anchor=\"middle\" x=\"371.5\" y=\"-1027.3\">(None, 28, 28, 1)</text>\n",
       "<polyline fill=\"none\" points=\"298.5,-1019.5 444.5,-1019.5 \" stroke=\"black\"/>\n",
       "<text font-family=\"Times,serif\" font-size=\"14.00\" text-anchor=\"middle\" x=\"371.5\" y=\"-1004.3\">(None, 26, 26, 32)</text>\n",
       "</g>\n",
       "<!-- 140297539066624&#45;&gt;140297668282128 -->\n",
       "<g class=\"edge\" id=\"edge1\"><title>140297539066624-&gt;140297668282128</title>\n",
       "<path d=\"M262,-1079.37C262,-1071.15 262,-1061.66 262,-1052.73\" fill=\"none\" stroke=\"black\"/>\n",
       "<polygon fill=\"black\" points=\"265.5,-1052.61 262,-1042.61 258.5,-1052.61 265.5,-1052.61\" stroke=\"black\"/>\n",
       "</g>\n",
       "<!-- 140297668282464 -->\n",
       "<g class=\"node\" id=\"node3\"><title>140297668282464</title>\n",
       "<polygon fill=\"none\" points=\"79.5,-913.5 79.5,-959.5 444.5,-959.5 444.5,-913.5 79.5,-913.5\" stroke=\"black\"/>\n",
       "<text font-family=\"Times,serif\" font-size=\"14.00\" text-anchor=\"middle\" x=\"155\" y=\"-932.8\">conv2d_2: Conv2D</text>\n",
       "<polyline fill=\"none\" points=\"230.5,-913.5 230.5,-959.5 \" stroke=\"black\"/>\n",
       "<text font-family=\"Times,serif\" font-size=\"14.00\" text-anchor=\"middle\" x=\"264.5\" y=\"-944.3\">input:</text>\n",
       "<polyline fill=\"none\" points=\"230.5,-936.5 298.5,-936.5 \" stroke=\"black\"/>\n",
       "<text font-family=\"Times,serif\" font-size=\"14.00\" text-anchor=\"middle\" x=\"264.5\" y=\"-921.3\">output:</text>\n",
       "<polyline fill=\"none\" points=\"298.5,-913.5 298.5,-959.5 \" stroke=\"black\"/>\n",
       "<text font-family=\"Times,serif\" font-size=\"14.00\" text-anchor=\"middle\" x=\"371.5\" y=\"-944.3\">(None, 26, 26, 32)</text>\n",
       "<polyline fill=\"none\" points=\"298.5,-936.5 444.5,-936.5 \" stroke=\"black\"/>\n",
       "<text font-family=\"Times,serif\" font-size=\"14.00\" text-anchor=\"middle\" x=\"371.5\" y=\"-921.3\">(None, 24, 24, 32)</text>\n",
       "</g>\n",
       "<!-- 140297668282128&#45;&gt;140297668282464 -->\n",
       "<g class=\"edge\" id=\"edge2\"><title>140297668282128-&gt;140297668282464</title>\n",
       "<path d=\"M262,-996.366C262,-988.152 262,-978.658 262,-969.725\" fill=\"none\" stroke=\"black\"/>\n",
       "<polygon fill=\"black\" points=\"265.5,-969.607 262,-959.607 258.5,-969.607 265.5,-969.607\" stroke=\"black\"/>\n",
       "</g>\n",
       "<!-- 140297668282016 -->\n",
       "<g class=\"node\" id=\"node4\"><title>140297668282016</title>\n",
       "<polygon fill=\"none\" points=\"28,-830.5 28,-876.5 496,-876.5 496,-830.5 28,-830.5\" stroke=\"black\"/>\n",
       "<text font-family=\"Times,serif\" font-size=\"14.00\" text-anchor=\"middle\" x=\"155\" y=\"-849.8\">max_pooling2d_1: MaxPooling2D</text>\n",
       "<polyline fill=\"none\" points=\"282,-830.5 282,-876.5 \" stroke=\"black\"/>\n",
       "<text font-family=\"Times,serif\" font-size=\"14.00\" text-anchor=\"middle\" x=\"316\" y=\"-861.3\">input:</text>\n",
       "<polyline fill=\"none\" points=\"282,-853.5 350,-853.5 \" stroke=\"black\"/>\n",
       "<text font-family=\"Times,serif\" font-size=\"14.00\" text-anchor=\"middle\" x=\"316\" y=\"-838.3\">output:</text>\n",
       "<polyline fill=\"none\" points=\"350,-830.5 350,-876.5 \" stroke=\"black\"/>\n",
       "<text font-family=\"Times,serif\" font-size=\"14.00\" text-anchor=\"middle\" x=\"423\" y=\"-861.3\">(None, 24, 24, 32)</text>\n",
       "<polyline fill=\"none\" points=\"350,-853.5 496,-853.5 \" stroke=\"black\"/>\n",
       "<text font-family=\"Times,serif\" font-size=\"14.00\" text-anchor=\"middle\" x=\"423\" y=\"-838.3\">(None, 12, 12, 32)</text>\n",
       "</g>\n",
       "<!-- 140297668282464&#45;&gt;140297668282016 -->\n",
       "<g class=\"edge\" id=\"edge3\"><title>140297668282464-&gt;140297668282016</title>\n",
       "<path d=\"M262,-913.366C262,-905.152 262,-895.658 262,-886.725\" fill=\"none\" stroke=\"black\"/>\n",
       "<polygon fill=\"black\" points=\"265.5,-886.607 262,-876.607 258.5,-886.607 265.5,-886.607\" stroke=\"black\"/>\n",
       "</g>\n",
       "<!-- 140297538389496 -->\n",
       "<g class=\"node\" id=\"node5\"><title>140297538389496</title>\n",
       "<polygon fill=\"none\" points=\"79.5,-747.5 79.5,-793.5 444.5,-793.5 444.5,-747.5 79.5,-747.5\" stroke=\"black\"/>\n",
       "<text font-family=\"Times,serif\" font-size=\"14.00\" text-anchor=\"middle\" x=\"155\" y=\"-766.8\">conv2d_3: Conv2D</text>\n",
       "<polyline fill=\"none\" points=\"230.5,-747.5 230.5,-793.5 \" stroke=\"black\"/>\n",
       "<text font-family=\"Times,serif\" font-size=\"14.00\" text-anchor=\"middle\" x=\"264.5\" y=\"-778.3\">input:</text>\n",
       "<polyline fill=\"none\" points=\"230.5,-770.5 298.5,-770.5 \" stroke=\"black\"/>\n",
       "<text font-family=\"Times,serif\" font-size=\"14.00\" text-anchor=\"middle\" x=\"264.5\" y=\"-755.3\">output:</text>\n",
       "<polyline fill=\"none\" points=\"298.5,-747.5 298.5,-793.5 \" stroke=\"black\"/>\n",
       "<text font-family=\"Times,serif\" font-size=\"14.00\" text-anchor=\"middle\" x=\"371.5\" y=\"-778.3\">(None, 12, 12, 32)</text>\n",
       "<polyline fill=\"none\" points=\"298.5,-770.5 444.5,-770.5 \" stroke=\"black\"/>\n",
       "<text font-family=\"Times,serif\" font-size=\"14.00\" text-anchor=\"middle\" x=\"371.5\" y=\"-755.3\">(None, 10, 10, 32)</text>\n",
       "</g>\n",
       "<!-- 140297668282016&#45;&gt;140297538389496 -->\n",
       "<g class=\"edge\" id=\"edge4\"><title>140297668282016-&gt;140297538389496</title>\n",
       "<path d=\"M262,-830.366C262,-822.152 262,-812.658 262,-803.725\" fill=\"none\" stroke=\"black\"/>\n",
       "<polygon fill=\"black\" points=\"265.5,-803.607 262,-793.607 258.5,-803.607 265.5,-803.607\" stroke=\"black\"/>\n",
       "</g>\n",
       "<!-- 140297538388992 -->\n",
       "<g class=\"node\" id=\"node6\"><title>140297538388992</title>\n",
       "<polygon fill=\"none\" points=\"79.5,-664.5 79.5,-710.5 444.5,-710.5 444.5,-664.5 79.5,-664.5\" stroke=\"black\"/>\n",
       "<text font-family=\"Times,serif\" font-size=\"14.00\" text-anchor=\"middle\" x=\"155\" y=\"-683.8\">conv2d_4: Conv2D</text>\n",
       "<polyline fill=\"none\" points=\"230.5,-664.5 230.5,-710.5 \" stroke=\"black\"/>\n",
       "<text font-family=\"Times,serif\" font-size=\"14.00\" text-anchor=\"middle\" x=\"264.5\" y=\"-695.3\">input:</text>\n",
       "<polyline fill=\"none\" points=\"230.5,-687.5 298.5,-687.5 \" stroke=\"black\"/>\n",
       "<text font-family=\"Times,serif\" font-size=\"14.00\" text-anchor=\"middle\" x=\"264.5\" y=\"-672.3\">output:</text>\n",
       "<polyline fill=\"none\" points=\"298.5,-664.5 298.5,-710.5 \" stroke=\"black\"/>\n",
       "<text font-family=\"Times,serif\" font-size=\"14.00\" text-anchor=\"middle\" x=\"371.5\" y=\"-695.3\">(None, 10, 10, 32)</text>\n",
       "<polyline fill=\"none\" points=\"298.5,-687.5 444.5,-687.5 \" stroke=\"black\"/>\n",
       "<text font-family=\"Times,serif\" font-size=\"14.00\" text-anchor=\"middle\" x=\"371.5\" y=\"-672.3\">(None, 8, 8, 32)</text>\n",
       "</g>\n",
       "<!-- 140297538389496&#45;&gt;140297538388992 -->\n",
       "<g class=\"edge\" id=\"edge5\"><title>140297538389496-&gt;140297538388992</title>\n",
       "<path d=\"M262,-747.366C262,-739.152 262,-729.658 262,-720.725\" fill=\"none\" stroke=\"black\"/>\n",
       "<polygon fill=\"black\" points=\"265.5,-720.607 262,-710.607 258.5,-720.607 265.5,-720.607\" stroke=\"black\"/>\n",
       "</g>\n",
       "<!-- 140297538390392 -->\n",
       "<g class=\"node\" id=\"node7\"><title>140297538390392</title>\n",
       "<polygon fill=\"none\" points=\"37,-581.5 37,-627.5 487,-627.5 487,-581.5 37,-581.5\" stroke=\"black\"/>\n",
       "<text font-family=\"Times,serif\" font-size=\"14.00\" text-anchor=\"middle\" x=\"164\" y=\"-600.8\">max_pooling2d_2: MaxPooling2D</text>\n",
       "<polyline fill=\"none\" points=\"291,-581.5 291,-627.5 \" stroke=\"black\"/>\n",
       "<text font-family=\"Times,serif\" font-size=\"14.00\" text-anchor=\"middle\" x=\"325\" y=\"-612.3\">input:</text>\n",
       "<polyline fill=\"none\" points=\"291,-604.5 359,-604.5 \" stroke=\"black\"/>\n",
       "<text font-family=\"Times,serif\" font-size=\"14.00\" text-anchor=\"middle\" x=\"325\" y=\"-589.3\">output:</text>\n",
       "<polyline fill=\"none\" points=\"359,-581.5 359,-627.5 \" stroke=\"black\"/>\n",
       "<text font-family=\"Times,serif\" font-size=\"14.00\" text-anchor=\"middle\" x=\"423\" y=\"-612.3\">(None, 8, 8, 32)</text>\n",
       "<polyline fill=\"none\" points=\"359,-604.5 487,-604.5 \" stroke=\"black\"/>\n",
       "<text font-family=\"Times,serif\" font-size=\"14.00\" text-anchor=\"middle\" x=\"423\" y=\"-589.3\">(None, 4, 4, 32)</text>\n",
       "</g>\n",
       "<!-- 140297538388992&#45;&gt;140297538390392 -->\n",
       "<g class=\"edge\" id=\"edge6\"><title>140297538388992-&gt;140297538390392</title>\n",
       "<path d=\"M262,-664.366C262,-656.152 262,-646.658 262,-637.725\" fill=\"none\" stroke=\"black\"/>\n",
       "<polygon fill=\"black\" points=\"265.5,-637.607 262,-627.607 258.5,-637.607 265.5,-637.607\" stroke=\"black\"/>\n",
       "</g>\n",
       "<!-- 140297539273504 -->\n",
       "<g class=\"node\" id=\"node8\"><title>140297539273504</title>\n",
       "<polygon fill=\"none\" points=\"88.5,-498.5 88.5,-544.5 435.5,-544.5 435.5,-498.5 88.5,-498.5\" stroke=\"black\"/>\n",
       "<text font-family=\"Times,serif\" font-size=\"14.00\" text-anchor=\"middle\" x=\"164\" y=\"-517.8\">conv2d_5: Conv2D</text>\n",
       "<polyline fill=\"none\" points=\"239.5,-498.5 239.5,-544.5 \" stroke=\"black\"/>\n",
       "<text font-family=\"Times,serif\" font-size=\"14.00\" text-anchor=\"middle\" x=\"273.5\" y=\"-529.3\">input:</text>\n",
       "<polyline fill=\"none\" points=\"239.5,-521.5 307.5,-521.5 \" stroke=\"black\"/>\n",
       "<text font-family=\"Times,serif\" font-size=\"14.00\" text-anchor=\"middle\" x=\"273.5\" y=\"-506.3\">output:</text>\n",
       "<polyline fill=\"none\" points=\"307.5,-498.5 307.5,-544.5 \" stroke=\"black\"/>\n",
       "<text font-family=\"Times,serif\" font-size=\"14.00\" text-anchor=\"middle\" x=\"371.5\" y=\"-529.3\">(None, 4, 4, 32)</text>\n",
       "<polyline fill=\"none\" points=\"307.5,-521.5 435.5,-521.5 \" stroke=\"black\"/>\n",
       "<text font-family=\"Times,serif\" font-size=\"14.00\" text-anchor=\"middle\" x=\"371.5\" y=\"-506.3\">(None, 4, 4, 1)</text>\n",
       "</g>\n",
       "<!-- 140297538390392&#45;&gt;140297539273504 -->\n",
       "<g class=\"edge\" id=\"edge7\"><title>140297538390392-&gt;140297539273504</title>\n",
       "<path d=\"M262,-581.366C262,-573.152 262,-563.658 262,-554.725\" fill=\"none\" stroke=\"black\"/>\n",
       "<polygon fill=\"black\" points=\"265.5,-554.607 262,-544.607 258.5,-554.607 265.5,-554.607\" stroke=\"black\"/>\n",
       "</g>\n",
       "<!-- 140297539041656 -->\n",
       "<g class=\"node\" id=\"node9\"><title>140297539041656</title>\n",
       "<polygon fill=\"none\" points=\"88.5,-415.5 88.5,-461.5 435.5,-461.5 435.5,-415.5 88.5,-415.5\" stroke=\"black\"/>\n",
       "<text font-family=\"Times,serif\" font-size=\"14.00\" text-anchor=\"middle\" x=\"168.5\" y=\"-434.8\">reshape_1: Reshape</text>\n",
       "<polyline fill=\"none\" points=\"248.5,-415.5 248.5,-461.5 \" stroke=\"black\"/>\n",
       "<text font-family=\"Times,serif\" font-size=\"14.00\" text-anchor=\"middle\" x=\"282.5\" y=\"-446.3\">input:</text>\n",
       "<polyline fill=\"none\" points=\"248.5,-438.5 316.5,-438.5 \" stroke=\"black\"/>\n",
       "<text font-family=\"Times,serif\" font-size=\"14.00\" text-anchor=\"middle\" x=\"282.5\" y=\"-423.3\">output:</text>\n",
       "<polyline fill=\"none\" points=\"316.5,-415.5 316.5,-461.5 \" stroke=\"black\"/>\n",
       "<text font-family=\"Times,serif\" font-size=\"14.00\" text-anchor=\"middle\" x=\"376\" y=\"-446.3\">(None, 4, 4, 1)</text>\n",
       "<polyline fill=\"none\" points=\"316.5,-438.5 435.5,-438.5 \" stroke=\"black\"/>\n",
       "<text font-family=\"Times,serif\" font-size=\"14.00\" text-anchor=\"middle\" x=\"376\" y=\"-423.3\">(None, 16, 1)</text>\n",
       "</g>\n",
       "<!-- 140297539273504&#45;&gt;140297539041656 -->\n",
       "<g class=\"edge\" id=\"edge8\"><title>140297539273504-&gt;140297539041656</title>\n",
       "<path d=\"M262,-498.366C262,-490.152 262,-480.658 262,-471.725\" fill=\"none\" stroke=\"black\"/>\n",
       "<polygon fill=\"black\" points=\"265.5,-471.607 262,-461.607 258.5,-471.607 265.5,-471.607\" stroke=\"black\"/>\n",
       "</g>\n",
       "<!-- 140297538205120 -->\n",
       "<g class=\"node\" id=\"node10\"><title>140297538205120</title>\n",
       "<polygon fill=\"none\" points=\"0,-332.5 0,-378.5 524,-378.5 524,-332.5 0,-332.5\" stroke=\"black\"/>\n",
       "<text font-family=\"Times,serif\" font-size=\"14.00\" text-anchor=\"middle\" x=\"168.5\" y=\"-351.8\">bidirectional_3(lstm_8): Bidirectional(LSTM)</text>\n",
       "<polyline fill=\"none\" points=\"337,-332.5 337,-378.5 \" stroke=\"black\"/>\n",
       "<text font-family=\"Times,serif\" font-size=\"14.00\" text-anchor=\"middle\" x=\"371\" y=\"-363.3\">input:</text>\n",
       "<polyline fill=\"none\" points=\"337,-355.5 405,-355.5 \" stroke=\"black\"/>\n",
       "<text font-family=\"Times,serif\" font-size=\"14.00\" text-anchor=\"middle\" x=\"371\" y=\"-340.3\">output:</text>\n",
       "<polyline fill=\"none\" points=\"405,-332.5 405,-378.5 \" stroke=\"black\"/>\n",
       "<text font-family=\"Times,serif\" font-size=\"14.00\" text-anchor=\"middle\" x=\"464.5\" y=\"-363.3\">(None, 16, 1)</text>\n",
       "<polyline fill=\"none\" points=\"405,-355.5 524,-355.5 \" stroke=\"black\"/>\n",
       "<text font-family=\"Times,serif\" font-size=\"14.00\" text-anchor=\"middle\" x=\"464.5\" y=\"-340.3\">(None, 16, 16)</text>\n",
       "</g>\n",
       "<!-- 140297539041656&#45;&gt;140297538205120 -->\n",
       "<g class=\"edge\" id=\"edge9\"><title>140297539041656-&gt;140297538205120</title>\n",
       "<path d=\"M262,-415.366C262,-407.152 262,-397.658 262,-388.725\" fill=\"none\" stroke=\"black\"/>\n",
       "<polygon fill=\"black\" points=\"265.5,-388.607 262,-378.607 258.5,-388.607 265.5,-388.607\" stroke=\"black\"/>\n",
       "</g>\n",
       "<!-- 140297538204560 -->\n",
       "<g class=\"node\" id=\"node11\"><title>140297538204560</title>\n",
       "<polygon fill=\"none\" points=\"110.5,-249.5 110.5,-295.5 413.5,-295.5 413.5,-249.5 110.5,-249.5\" stroke=\"black\"/>\n",
       "<text font-family=\"Times,serif\" font-size=\"14.00\" text-anchor=\"middle\" x=\"168.5\" y=\"-268.8\">lstm_9: LSTM</text>\n",
       "<polyline fill=\"none\" points=\"226.5,-249.5 226.5,-295.5 \" stroke=\"black\"/>\n",
       "<text font-family=\"Times,serif\" font-size=\"14.00\" text-anchor=\"middle\" x=\"260.5\" y=\"-280.3\">input:</text>\n",
       "<polyline fill=\"none\" points=\"226.5,-272.5 294.5,-272.5 \" stroke=\"black\"/>\n",
       "<text font-family=\"Times,serif\" font-size=\"14.00\" text-anchor=\"middle\" x=\"260.5\" y=\"-257.3\">output:</text>\n",
       "<polyline fill=\"none\" points=\"294.5,-249.5 294.5,-295.5 \" stroke=\"black\"/>\n",
       "<text font-family=\"Times,serif\" font-size=\"14.00\" text-anchor=\"middle\" x=\"354\" y=\"-280.3\">(None, 16, 16)</text>\n",
       "<polyline fill=\"none\" points=\"294.5,-272.5 413.5,-272.5 \" stroke=\"black\"/>\n",
       "<text font-family=\"Times,serif\" font-size=\"14.00\" text-anchor=\"middle\" x=\"354\" y=\"-257.3\">(None, 16)</text>\n",
       "</g>\n",
       "<!-- 140297538205120&#45;&gt;140297538204560 -->\n",
       "<g class=\"edge\" id=\"edge10\"><title>140297538205120-&gt;140297538204560</title>\n",
       "<path d=\"M262,-332.366C262,-324.152 262,-314.658 262,-305.725\" fill=\"none\" stroke=\"black\"/>\n",
       "<polygon fill=\"black\" points=\"265.5,-305.607 262,-295.607 258.5,-305.607 265.5,-305.607\" stroke=\"black\"/>\n",
       "</g>\n",
       "<!-- 140297532808272 -->\n",
       "<g class=\"node\" id=\"node12\"><title>140297532808272</title>\n",
       "<polygon fill=\"none\" points=\"113.5,-166.5 113.5,-212.5 410.5,-212.5 410.5,-166.5 113.5,-166.5\" stroke=\"black\"/>\n",
       "<text font-family=\"Times,serif\" font-size=\"14.00\" text-anchor=\"middle\" x=\"182\" y=\"-185.8\">dense_13: Dense</text>\n",
       "<polyline fill=\"none\" points=\"250.5,-166.5 250.5,-212.5 \" stroke=\"black\"/>\n",
       "<text font-family=\"Times,serif\" font-size=\"14.00\" text-anchor=\"middle\" x=\"284.5\" y=\"-197.3\">input:</text>\n",
       "<polyline fill=\"none\" points=\"250.5,-189.5 318.5,-189.5 \" stroke=\"black\"/>\n",
       "<text font-family=\"Times,serif\" font-size=\"14.00\" text-anchor=\"middle\" x=\"284.5\" y=\"-174.3\">output:</text>\n",
       "<polyline fill=\"none\" points=\"318.5,-166.5 318.5,-212.5 \" stroke=\"black\"/>\n",
       "<text font-family=\"Times,serif\" font-size=\"14.00\" text-anchor=\"middle\" x=\"364.5\" y=\"-197.3\">(None, 16)</text>\n",
       "<polyline fill=\"none\" points=\"318.5,-189.5 410.5,-189.5 \" stroke=\"black\"/>\n",
       "<text font-family=\"Times,serif\" font-size=\"14.00\" text-anchor=\"middle\" x=\"364.5\" y=\"-174.3\">(None, 32)</text>\n",
       "</g>\n",
       "<!-- 140297538204560&#45;&gt;140297532808272 -->\n",
       "<g class=\"edge\" id=\"edge11\"><title>140297538204560-&gt;140297532808272</title>\n",
       "<path d=\"M262,-249.366C262,-241.152 262,-231.658 262,-222.725\" fill=\"none\" stroke=\"black\"/>\n",
       "<polygon fill=\"black\" points=\"265.5,-222.607 262,-212.607 258.5,-222.607 265.5,-222.607\" stroke=\"black\"/>\n",
       "</g>\n",
       "<!-- 140297532808384 -->\n",
       "<g class=\"node\" id=\"node13\"><title>140297532808384</title>\n",
       "<polygon fill=\"none\" points=\"103.5,-83.5 103.5,-129.5 420.5,-129.5 420.5,-83.5 103.5,-83.5\" stroke=\"black\"/>\n",
       "<text font-family=\"Times,serif\" font-size=\"14.00\" text-anchor=\"middle\" x=\"182\" y=\"-102.8\">dropout_8: Dropout</text>\n",
       "<polyline fill=\"none\" points=\"260.5,-83.5 260.5,-129.5 \" stroke=\"black\"/>\n",
       "<text font-family=\"Times,serif\" font-size=\"14.00\" text-anchor=\"middle\" x=\"294.5\" y=\"-114.3\">input:</text>\n",
       "<polyline fill=\"none\" points=\"260.5,-106.5 328.5,-106.5 \" stroke=\"black\"/>\n",
       "<text font-family=\"Times,serif\" font-size=\"14.00\" text-anchor=\"middle\" x=\"294.5\" y=\"-91.3\">output:</text>\n",
       "<polyline fill=\"none\" points=\"328.5,-83.5 328.5,-129.5 \" stroke=\"black\"/>\n",
       "<text font-family=\"Times,serif\" font-size=\"14.00\" text-anchor=\"middle\" x=\"374.5\" y=\"-114.3\">(None, 32)</text>\n",
       "<polyline fill=\"none\" points=\"328.5,-106.5 420.5,-106.5 \" stroke=\"black\"/>\n",
       "<text font-family=\"Times,serif\" font-size=\"14.00\" text-anchor=\"middle\" x=\"374.5\" y=\"-91.3\">(None, 32)</text>\n",
       "</g>\n",
       "<!-- 140297532808272&#45;&gt;140297532808384 -->\n",
       "<g class=\"edge\" id=\"edge12\"><title>140297532808272-&gt;140297532808384</title>\n",
       "<path d=\"M262,-166.366C262,-158.152 262,-148.658 262,-139.725\" fill=\"none\" stroke=\"black\"/>\n",
       "<polygon fill=\"black\" points=\"265.5,-139.607 262,-129.607 258.5,-139.607 265.5,-139.607\" stroke=\"black\"/>\n",
       "</g>\n",
       "<!-- 140297531614600 -->\n",
       "<g class=\"node\" id=\"node14\"><title>140297531614600</title>\n",
       "<polygon fill=\"none\" points=\"113.5,-0.5 113.5,-46.5 410.5,-46.5 410.5,-0.5 113.5,-0.5\" stroke=\"black\"/>\n",
       "<text font-family=\"Times,serif\" font-size=\"14.00\" text-anchor=\"middle\" x=\"182\" y=\"-19.8\">dense_14: Dense</text>\n",
       "<polyline fill=\"none\" points=\"250.5,-0.5 250.5,-46.5 \" stroke=\"black\"/>\n",
       "<text font-family=\"Times,serif\" font-size=\"14.00\" text-anchor=\"middle\" x=\"284.5\" y=\"-31.3\">input:</text>\n",
       "<polyline fill=\"none\" points=\"250.5,-23.5 318.5,-23.5 \" stroke=\"black\"/>\n",
       "<text font-family=\"Times,serif\" font-size=\"14.00\" text-anchor=\"middle\" x=\"284.5\" y=\"-8.3\">output:</text>\n",
       "<polyline fill=\"none\" points=\"318.5,-0.5 318.5,-46.5 \" stroke=\"black\"/>\n",
       "<text font-family=\"Times,serif\" font-size=\"14.00\" text-anchor=\"middle\" x=\"364.5\" y=\"-31.3\">(None, 32)</text>\n",
       "<polyline fill=\"none\" points=\"318.5,-23.5 410.5,-23.5 \" stroke=\"black\"/>\n",
       "<text font-family=\"Times,serif\" font-size=\"14.00\" text-anchor=\"middle\" x=\"364.5\" y=\"-8.3\">(None, 10)</text>\n",
       "</g>\n",
       "<!-- 140297532808384&#45;&gt;140297531614600 -->\n",
       "<g class=\"edge\" id=\"edge13\"><title>140297532808384-&gt;140297531614600</title>\n",
       "<path d=\"M262,-83.3664C262,-75.1516 262,-65.6579 262,-56.7252\" fill=\"none\" stroke=\"black\"/>\n",
       "<polygon fill=\"black\" points=\"265.5,-56.6068 262,-46.6068 258.5,-56.6069 265.5,-56.6068\" stroke=\"black\"/>\n",
       "</g>\n",
       "</g>\n",
       "</svg>"
      ],
      "text/plain": [
       "<IPython.core.display.SVG object>"
      ]
     },
     "execution_count": 88,
     "metadata": {},
     "output_type": "execute_result"
    }
   ],
   "source": [
    "SVG(model_to_dot(model_cnn_rnn_bidir, show_shapes=True).create(prog=\"dot\", format=\"svg\"))"
   ]
  },
  {
   "cell_type": "markdown",
   "metadata": {},
   "source": [
    "Sequences now are much shorter: only 16 steps long! That\"s what we want!"
   ]
  },
  {
   "cell_type": "code",
   "execution_count": 89,
   "metadata": {
    "collapsed": true
   },
   "outputs": [],
   "source": [
    "batch_size = 128\n",
    "epochs = 5"
   ]
  },
  {
   "cell_type": "markdown",
   "metadata": {},
   "source": [
    "Train!"
   ]
  },
  {
   "cell_type": "code",
   "execution_count": 90,
   "metadata": {},
   "outputs": [
    {
     "name": "stdout",
     "output_type": "stream",
     "text": [
      "Train on 60000 samples, validate on 10000 samples\n",
      "Epoch 1/5\n",
      "60000/60000 [==============================] - 46s - loss: 1.3442 - acc: 0.5234 - val_loss: 0.4506 - val_acc: 0.8737\n",
      "Epoch 2/5\n",
      "60000/60000 [==============================] - 39s - loss: 0.5460 - acc: 0.8571 - val_loss: 0.2704 - val_acc: 0.9272\n",
      "Epoch 3/5\n",
      "60000/60000 [==============================] - 38s - loss: 0.4125 - acc: 0.8960 - val_loss: 0.2014 - val_acc: 0.9451\n",
      "Epoch 4/5\n",
      "60000/60000 [==============================] - 45s - loss: 0.3323 - acc: 0.9176 - val_loss: 0.1848 - val_acc: 0.9519\n",
      "Epoch 5/5\n",
      "60000/60000 [==============================] - 45s - loss: 0.2853 - acc: 0.9277 - val_loss: 0.1519 - val_acc: 0.9574\n",
      "CPU times: user 5min 58s, sys: 54.4 s, total: 6min 52s\n",
      "Wall time: 3min 36s\n"
     ]
    }
   ],
   "source": [
    "%%time\n",
    "start_time_cnn_rnn_bidir = time.time()\n",
    "hist_cnn_rnn_bidir = model_cnn_rnn_bidir.fit(X_train.reshape(-1, img_rows, img_cols, 1), y_train, \n",
    "                                             batch_size=batch_size, \n",
    "                                             epochs=epochs,\n",
    "                                             validation_data=(X_test.reshape(-1, img_rows, img_cols, 1), y_test))\n",
    "end_time_cnn_rnn_bidir = time.time()"
   ]
  },
  {
   "cell_type": "markdown",
   "metadata": {},
   "source": [
    "Visualization of learning process:"
   ]
  },
  {
   "cell_type": "code",
   "execution_count": 91,
   "metadata": {},
   "outputs": [
    {
     "data": {
      "image/png": "[encoded data removed]",
      "text/plain": [
       "<matplotlib.figure.Figure at 0x7f998eacbe48>"
      ]
     },
     "metadata": {},
     "output_type": "display_data"
    }
   ],
   "source": [
    "plt.figure(figsize=(20, 8))\n",
    "plt.suptitle(\"CNN + Bidirectional RNN with two layers\", fontsize=20)\n",
    "\n",
    "plt.subplot(121)\n",
    "plt.plot(hist_cnn_rnn_bidir.history[\"loss\"], label=\"Train\")\n",
    "plt.plot(hist_cnn_rnn_bidir.history[\"val_loss\"], label=\"Test\")\n",
    "plt.xlabel(\"Epoch\", fontsize=14)\n",
    "plt.ylabel(\"Crossentropy\", fontsize=14)\n",
    "plt.legend()\n",
    "\n",
    "plt.subplot(122)\n",
    "plt.plot(hist_cnn_rnn_bidir.history[\"acc\"], label=\"Train\")\n",
    "plt.plot(hist_cnn_rnn_bidir.history[\"val_acc\"], label=\"Test\")\n",
    "plt.xlabel(\"Epoch\", fontsize=14)\n",
    "plt.ylabel(\"Accuracy\", fontsize=14)\n",
    "plt.legend();"
   ]
  },
  {
   "cell_type": "markdown",
   "metadata": {},
   "source": [
    "Final evaluation of the model:"
   ]
  },
  {
   "cell_type": "code",
   "execution_count": 92,
   "metadata": {},
   "outputs": [
    {
     "name": "stdout",
     "output_type": "stream",
     "text": [
      "60000/60000 [==============================] - 38s    \n",
      " 9952/10000 [============================>.] - ETA: 0s"
     ]
    }
   ],
   "source": [
    "score_train = model_cnn_rnn_bidir.evaluate(X_train.reshape(-1, img_rows, img_cols, 1), y_train, verbose=1)\n",
    "score_test = model_cnn_rnn_bidir.evaluate(X_test.reshape(-1, img_rows, img_cols, 1), y_test, verbose=1)"
   ]
  },
  {
   "cell_type": "code",
   "execution_count": 93,
   "metadata": {
    "collapsed": true
   },
   "outputs": [],
   "source": [
    "results.loc[len(results)] = np.array([np.round(score_train[1] * 100, 2), \n",
    "                                      np.round(score_test[1] * 100, 2), \n",
    "                                      np.round(score_train[0], 3), \n",
    "                                      np.round(score_test[0], 3), \n",
    "                                      np.round(end_time_cnn_rnn_bidir - start_time_cnn_rnn_bidir, 1)])\n",
    "results.index = [\"MLP\", \"LSTM 1L\", \"LSTM 2L\", \"BiLSTM 2L\", \"Pixel BiLSTM 2L (1 epoch)\", \"CNN + BiLSTM 2L\"]"
   ]
  },
  {
   "cell_type": "code",
   "execution_count": 94,
   "metadata": {},
   "outputs": [
    {
     "data": {
      "text/html": [
       "<div>\n",
       "<style>\n",
       "    .dataframe thead tr:only-child th {\n",
       "        text-align: right;\n",
       "    }\n",
       "\n",
       "    .dataframe thead th {\n",
       "        text-align: left;\n",
       "    }\n",
       "\n",
       "    .dataframe tbody tr th {\n",
       "        vertical-align: top;\n",
       "    }\n",
       "</style>\n",
       "<table border=\"1\" class=\"dataframe\">\n",
       "  <thead>\n",
       "    <tr style=\"text-align: right;\">\n",
       "      <th></th>\n",
       "      <th>Accuracy Train, %</th>\n",
       "      <th>Accuracy Test, %</th>\n",
       "      <th>Loss Train</th>\n",
       "      <th>Loss Test</th>\n",
       "      <th>Time, s</th>\n",
       "    </tr>\n",
       "  </thead>\n",
       "  <tbody>\n",
       "    <tr>\n",
       "      <th>MLP</th>\n",
       "      <td>97.05</td>\n",
       "      <td>96.54</td>\n",
       "      <td>0.101</td>\n",
       "      <td>0.122</td>\n",
       "      <td>12.9</td>\n",
       "    </tr>\n",
       "    <tr>\n",
       "      <th>LSTM 1L</th>\n",
       "      <td>89.93</td>\n",
       "      <td>90.00</td>\n",
       "      <td>0.330</td>\n",
       "      <td>0.325</td>\n",
       "      <td>136.0</td>\n",
       "    </tr>\n",
       "    <tr>\n",
       "      <th>LSTM 2L</th>\n",
       "      <td>93.99</td>\n",
       "      <td>94.26</td>\n",
       "      <td>0.205</td>\n",
       "      <td>0.205</td>\n",
       "      <td>227.9</td>\n",
       "    </tr>\n",
       "    <tr>\n",
       "      <th>BiLSTM 2L</th>\n",
       "      <td>92.51</td>\n",
       "      <td>92.37</td>\n",
       "      <td>0.262</td>\n",
       "      <td>0.258</td>\n",
       "      <td>324.8</td>\n",
       "    </tr>\n",
       "    <tr>\n",
       "      <th>Pixel BiLSTM 2L (1 epoch)</th>\n",
       "      <td>30.73</td>\n",
       "      <td>30.11</td>\n",
       "      <td>1.781</td>\n",
       "      <td>1.790</td>\n",
       "      <td>1331.5</td>\n",
       "    </tr>\n",
       "    <tr>\n",
       "      <th>CNN + BiLSTM 2L</th>\n",
       "      <td>95.66</td>\n",
       "      <td>95.74</td>\n",
       "      <td>0.159</td>\n",
       "      <td>0.152</td>\n",
       "      <td>216.8</td>\n",
       "    </tr>\n",
       "  </tbody>\n",
       "</table>\n",
       "</div>"
      ],
      "text/plain": [
       "                           Accuracy Train, %  Accuracy Test, %  Loss Train  \\\n",
       "MLP                                    97.05             96.54       0.101   \n",
       "LSTM 1L                                89.93             90.00       0.330   \n",
       "LSTM 2L                                93.99             94.26       0.205   \n",
       "BiLSTM 2L                              92.51             92.37       0.262   \n",
       "Pixel BiLSTM 2L (1 epoch)              30.73             30.11       1.781   \n",
       "CNN + BiLSTM 2L                        95.66             95.74       0.159   \n",
       "\n",
       "                           Loss Test  Time, s  \n",
       "MLP                            0.122     12.9  \n",
       "LSTM 1L                        0.325    136.0  \n",
       "LSTM 2L                        0.205    227.9  \n",
       "BiLSTM 2L                      0.258    324.8  \n",
       "Pixel BiLSTM 2L (1 epoch)      1.790   1331.5  \n",
       "CNN + BiLSTM 2L                0.152    216.8  "
      ]
     },
     "execution_count": 94,
     "metadata": {},
     "output_type": "execute_result"
    }
   ],
   "source": [
    "results"
   ]
  },
  {
   "cell_type": "markdown",
   "metadata": {},
   "source": [
    "# TASK 2: Tune hyperparameters\n",
    "Here we run all the models with the same number of epochs (5) and the same batch size (128). For fully-connected model it might be ok but LSTMs need definitely more epochs to train properly. That is one of the reasons that LSTMs perform worse than Dense model in our table of comparison. Try to tune the hyperparameters of the models to achieve better quality. Which of the approaches benefit more?"
   ]
  },
  {
   "cell_type": "markdown",
   "metadata": {},
   "source": [
    "# TASK 3: CIFAR10\n",
    "Repeat the method from this notebook for CIFAR10 dataset and see what the results are."
   ]
  }
 ],
 "metadata": {
  "anaconda-cloud": {},
  "kernelspec": {
   "display_name": "Python 3",
   "language": "python",
   "name": "python3"
  },
  "language_info": {
   "codemirror_mode": {
    "name": "ipython",
    "version": 3
   },
   "file_extension": ".py",
   "mimetype": "text/x-python",
   "name": "python",
   "nbconvert_exporter": "python",
   "pygments_lexer": "ipython3",
   "version": "3.6.2"
  },
  "toc": {
   "nav_menu": {
    "height": "192px",
    "width": "252px"
   },
   "number_sections": true,
   "sideBar": true,
   "skip_h1_title": false,
   "toc_cell": false,
   "toc_position": {},
   "toc_section_display": "block",
   "toc_window_display": true
  }
 },
 "nbformat": 4,
 "nbformat_minor": 1
}
