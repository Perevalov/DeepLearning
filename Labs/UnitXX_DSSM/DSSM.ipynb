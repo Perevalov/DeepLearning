{
 "cells": [
  {
   "cell_type": "markdown",
   "metadata": {
    "toc": "true"
   },
   "source": [
    "# Table of Contents\n",
    " <p><div class=\"lev1 toc-item\"><a href=\"#DSSM-or-Deep-Structured-Semantic-Models\" data-toc-modified-id=\"DSSM-or-Deep-Structured-Semantic-Models-1\"><span class=\"toc-item-num\">1&nbsp;&nbsp;</span>DSSM or Deep Structured Semantic Models</a></div><div class=\"lev1 toc-item\"><a href=\"#Preparation\" data-toc-modified-id=\"Preparation-2\"><span class=\"toc-item-num\">2&nbsp;&nbsp;</span>Preparation</a></div><div class=\"lev1 toc-item\"><a href=\"#Data\" data-toc-modified-id=\"Data-3\"><span class=\"toc-item-num\">3&nbsp;&nbsp;</span>Data</a></div><div class=\"lev2 toc-item\"><a href=\"#EDA\" data-toc-modified-id=\"EDA-31\"><span class=\"toc-item-num\">3.1&nbsp;&nbsp;</span>EDA</a></div><div class=\"lev2 toc-item\"><a href=\"#Crawling-data\" data-toc-modified-id=\"Crawling-data-32\"><span class=\"toc-item-num\">3.2&nbsp;&nbsp;</span>Crawling data</a></div><div class=\"lev2 toc-item\"><a href=\"#Preprocessing\" data-toc-modified-id=\"Preprocessing-33\"><span class=\"toc-item-num\">3.3&nbsp;&nbsp;</span>Preprocessing</a></div><div class=\"lev1 toc-item\"><a href=\"#Model\" data-toc-modified-id=\"Model-4\"><span class=\"toc-item-num\">4&nbsp;&nbsp;</span>Model</a></div><div class=\"lev2 toc-item\"><a href=\"#Architecture\" data-toc-modified-id=\"Architecture-41\"><span class=\"toc-item-num\">4.1&nbsp;&nbsp;</span>Architecture</a></div><div class=\"lev2 toc-item\"><a href=\"#Loss\" data-toc-modified-id=\"Loss-42\"><span class=\"toc-item-num\">4.2&nbsp;&nbsp;</span>Loss</a></div><div class=\"lev2 toc-item\"><a href=\"#Train\" data-toc-modified-id=\"Train-43\"><span class=\"toc-item-num\">4.3&nbsp;&nbsp;</span>Train</a></div><div class=\"lev2 toc-item\"><a href=\"#Load\" data-toc-modified-id=\"Load-44\"><span class=\"toc-item-num\">4.4&nbsp;&nbsp;</span>Load</a></div><div class=\"lev2 toc-item\"><a href=\"#Validate\" data-toc-modified-id=\"Validate-45\"><span class=\"toc-item-num\">4.5&nbsp;&nbsp;</span>Validate</a></div><div class=\"lev1 toc-item\"><a href=\"#Interactive-test\" data-toc-modified-id=\"Interactive-test-5\"><span class=\"toc-item-num\">5&nbsp;&nbsp;</span>Interactive test</a></div>"
   ]
  },
  {
   "cell_type": "markdown",
   "metadata": {},
   "source": [
    "# DSSM or Deep Structured Semantic Models"
   ]
  },
  {
   "cell_type": "markdown",
   "metadata": {},
   "source": [
    "In this notebook we're going to build an information retrieval model for question answering task. For that purpose we will use so called **Deep Structured Semantic Model** or **DSSM**. This model was first [introduced](https://www.microsoft.com/en-us/research/publication/learning-deep-structured-semantic-models-for-web-search-using-clickthrough-data/) by the Microsoft team. One can also find more papers from the creators of the DSSM [here](https://www.microsoft.com/en-us/research/project/dssm/).\n",
    "\n",
    "Below we will cover the following things:\n",
    "* How to download and preprocess Q&A corpus for the model\n",
    "* What is DSSM and how it works\n",
    "* Triplet objective function and negative sampling for training DSSM\n",
    "* Working prototype of the system"
   ]
  },
  {
   "cell_type": "markdown",
   "metadata": {},
   "source": [
    "# Preparation"
   ]
  },
  {
   "cell_type": "markdown",
   "metadata": {},
   "source": [
    "Import libraries"
   ]
  },
  {
   "cell_type": "code",
   "execution_count": 1,
   "metadata": {},
   "outputs": [
    {
     "name": "stderr",
     "output_type": "stream",
     "text": [
      "Using TensorFlow backend.\n"
     ]
    }
   ],
   "source": [
    "import os\n",
    "import json\n",
    "import pickle\n",
    "from collections import Counter\n",
    "\n",
    "import numpy as np\n",
    "import pandas as pd\n",
    "\n",
    "from sklearn.model_selection import train_test_split\n",
    "from sklearn.neighbors import NearestNeighbors\n",
    "\n",
    "import tensorflow as tf\n",
    "\n",
    "import keras.backend as K\n",
    "from keras.models import Model, load_model\n",
    "from keras.layers import Input, Embedding, Dense, Lambda, LSTM\n",
    "from keras.layers.pooling import _GlobalPooling1D, GlobalAveragePooling1D\n",
    "from keras.preprocessing.text import text_to_word_sequence, Tokenizer\n",
    "from keras.preprocessing.sequence import pad_sequences\n",
    "from keras.utils import get_file\n",
    "\n",
    "import matplotlib\n",
    "import matplotlib.pyplot as plt\n",
    "import seaborn as sns\n",
    "\n",
    "from IPython.display import SVG\n",
    "from keras.utils.vis_utils import model_to_dot\n",
    "\n",
    "%matplotlib inline"
   ]
  },
  {
   "cell_type": "markdown",
   "metadata": {},
   "source": [
    "Set style for plotting"
   ]
  },
  {
   "cell_type": "code",
   "execution_count": 2,
   "metadata": {
    "collapsed": true
   },
   "outputs": [],
   "source": [
    "sns.set(style=\"whitegrid\", font_scale=1.3)\n",
    "\n",
    "matplotlib.rcParams[\"legend.framealpha\"] = 1\n",
    "matplotlib.rcParams[\"legend.frameon\"] = True\n",
    "matplotlib.rcParams[\"legend.fontsize\"] = 14\n",
    "\n",
    "matplotlib.rcParams[\"figure.figsize\"] = (10, 8)\n",
    "matplotlib.rcParams[\"font.size\"] = 14\n",
    "\n",
    "matplotlib.rcParams[\"xtick.labelsize\"] = 14\n",
    "matplotlib.rcParams[\"ytick.labelsize\"] = 14\n",
    "\n",
    "matplotlib.rcParams[\"axes.labelsize\"] = 18\n",
    "matplotlib.rcParams[\"axes.titlesize\"] = 20"
   ]
  },
  {
   "cell_type": "markdown",
   "metadata": {},
   "source": [
    "Fix seed for reproducibility"
   ]
  },
  {
   "cell_type": "code",
   "execution_count": 3,
   "metadata": {
    "collapsed": true
   },
   "outputs": [],
   "source": [
    "np.random.seed(42)"
   ]
  },
  {
   "cell_type": "markdown",
   "metadata": {},
   "source": [
    "# Data"
   ]
  },
  {
   "cell_type": "markdown",
   "metadata": {},
   "source": [
    "In this task we use Stanford Question Answering Dataset [SQuAD](https://rajpurkar.github.io/SQuAD-explorer/).\n",
    "\n",
    "It has about 100.000 question-answer pairs. Let's download it"
   ]
  },
  {
   "cell_type": "code",
   "execution_count": 4,
   "metadata": {},
   "outputs": [
    {
     "name": "stdout",
     "output_type": "stream",
     "text": [
      "Downloading data from https://rajpurkar.github.io/SQuAD-explorer/dataset/train-v1.1.json\n",
      "29155328/30288272 [===========================>..] - ETA: 0s\n",
      "Downloading data from https://rajpurkar.github.io/SQuAD-explorer/dataset/dev-v1.1.json\n",
      "4489216/4854279 [==========================>...] - ETA: 0s"
     ]
    }
   ],
   "source": [
    "get_file(\"train.json\", \"https://rajpurkar.github.io/SQuAD-explorer/dataset/train-v1.1.json\", cache_dir=\"./\", cache_subdir=\"./\")\n",
    "print()\n",
    "get_file(\"dev.json\", \"https://rajpurkar.github.io/SQuAD-explorer/dataset/dev-v1.1.json\", cache_dir=\"./\", cache_subdir=\"./\");"
   ]
  },
  {
   "cell_type": "markdown",
   "metadata": {},
   "source": [
    "## EDA"
   ]
  },
  {
   "cell_type": "markdown",
   "metadata": {},
   "source": [
    "Let's look at the data using development set."
   ]
  },
  {
   "cell_type": "code",
   "execution_count": 5,
   "metadata": {
    "collapsed": true
   },
   "outputs": [],
   "source": [
    "data = json.load(open(\"./dev.json\"))[\"data\"]"
   ]
  },
  {
   "cell_type": "markdown",
   "metadata": {},
   "source": [
    "The dataset structured in the following way. First of all, there are *topics*. These are big groups of questions united by the common theme."
   ]
  },
  {
   "cell_type": "code",
   "execution_count": 6,
   "metadata": {},
   "outputs": [
    {
     "name": "stdout",
     "output_type": "stream",
     "text": [
      "Number of topics in dev set = 48\n"
     ]
    }
   ],
   "source": [
    "print(\"Number of topics in dev set = {:d}\".format(len(data)))"
   ]
  },
  {
   "cell_type": "markdown",
   "metadata": {},
   "source": [
    "Examples of topics"
   ]
  },
  {
   "cell_type": "code",
   "execution_count": 7,
   "metadata": {},
   "outputs": [
    {
     "data": {
      "text/plain": [
       "['Super_Bowl_50',\n",
       " 'Warsaw',\n",
       " 'Normans',\n",
       " 'Nikola_Tesla',\n",
       " 'Computational_complexity_theory']"
      ]
     },
     "execution_count": 7,
     "metadata": {},
     "output_type": "execute_result"
    }
   ],
   "source": [
    "[topic[\"title\"] for topic in data[:5]]"
   ]
  },
  {
   "cell_type": "markdown",
   "metadata": {},
   "source": [
    "Let's take first topic and explore it further."
   ]
  },
  {
   "cell_type": "code",
   "execution_count": 8,
   "metadata": {},
   "outputs": [
    {
     "data": {
      "text/plain": [
       "dict_keys(['title', 'paragraphs'])"
      ]
     },
     "execution_count": 8,
     "metadata": {},
     "output_type": "execute_result"
    }
   ],
   "source": [
    "data[0].keys()"
   ]
  },
  {
   "cell_type": "markdown",
   "metadata": {},
   "source": [
    "Inside the topic there are *paragraphs* $-$ pieces of text that contain the information and the questions based on it."
   ]
  },
  {
   "cell_type": "code",
   "execution_count": 9,
   "metadata": {},
   "outputs": [
    {
     "name": "stdout",
     "output_type": "stream",
     "text": [
      "Number of the paragraphs in the first topic = 54\n"
     ]
    }
   ],
   "source": [
    "print(\"Number of the paragraphs in the first topic = {:d}\".format(len(data[0][\"paragraphs\"])))"
   ]
  },
  {
   "cell_type": "markdown",
   "metadata": {},
   "source": [
    "For example, the topic \"Super_Bowl_50\" has 54 paragraphs. Each paragraph looks the following"
   ]
  },
  {
   "cell_type": "code",
   "execution_count": 10,
   "metadata": {},
   "outputs": [
    {
     "data": {
      "text/plain": [
       "dict_keys(['context', 'qas'])"
      ]
     },
     "execution_count": 10,
     "metadata": {},
     "output_type": "execute_result"
    }
   ],
   "source": [
    "data[0][\"paragraphs\"][0].keys()"
   ]
  },
  {
   "cell_type": "markdown",
   "metadata": {},
   "source": [
    "It has a *context* which is a body of the paragraph."
   ]
  },
  {
   "cell_type": "code",
   "execution_count": 11,
   "metadata": {},
   "outputs": [
    {
     "data": {
      "text/plain": [
       "'Super Bowl 50 was an American football game to determine the champion of the National Football League (NFL) for the 2015 season. The American Football Conference (AFC) champion Denver Broncos defeated the National Football Conference (NFC) champion Carolina Panthers 24–10 to earn their third Super Bowl title. The game was played on February 7, 2016, at Levi\\'s Stadium in the San Francisco Bay Area at Santa Clara, California. As this was the 50th Super Bowl, the league emphasized the \"golden anniversary\" with various gold-themed initiatives, as well as temporarily suspending the tradition of naming each Super Bowl game with Roman numerals (under which the game would have been known as \"Super Bowl L\"), so that the logo could prominently feature the Arabic numerals 50.'"
      ]
     },
     "execution_count": 11,
     "metadata": {},
     "output_type": "execute_result"
    }
   ],
   "source": [
    "data[0][\"paragraphs\"][0][\"context\"]"
   ]
  },
  {
   "cell_type": "markdown",
   "metadata": {},
   "source": [
    "And it also has *Q&A pairs* related to the context."
   ]
  },
  {
   "cell_type": "code",
   "execution_count": 12,
   "metadata": {},
   "outputs": [
    {
     "name": "stdout",
     "output_type": "stream",
     "text": [
      "Number of the Q&A pairs for the first paragraph in the first topic = 30\n"
     ]
    }
   ],
   "source": [
    "print(\"Number of the Q&A pairs for the first paragraph in the first topic = {:d}\".format(len(data[0][\"paragraphs\"][0][\"qas\"])))"
   ]
  },
  {
   "cell_type": "markdown",
   "metadata": {},
   "source": [
    "Example of the Q&A pair"
   ]
  },
  {
   "cell_type": "code",
   "execution_count": 13,
   "metadata": {},
   "outputs": [
    {
     "data": {
      "text/plain": [
       "{'answers': [{'answer_start': 177, 'text': 'Denver Broncos'},\n",
       "  {'answer_start': 177, 'text': 'Denver Broncos'},\n",
       "  {'answer_start': 177, 'text': 'Denver Broncos'}],\n",
       " 'id': '56be4db0acb8001400a502ec',\n",
       " 'question': 'Which NFL team represented the AFC at Super Bowl 50?'}"
      ]
     },
     "execution_count": 13,
     "metadata": {},
     "output_type": "execute_result"
    }
   ],
   "source": [
    "data[0][\"paragraphs\"][0][\"qas\"][0]"
   ]
  },
  {
   "cell_type": "markdown",
   "metadata": {},
   "source": [
    "Release memory as it will be crucial later"
   ]
  },
  {
   "cell_type": "code",
   "execution_count": 14,
   "metadata": {
    "collapsed": true
   },
   "outputs": [],
   "source": [
    "%xdel data"
   ]
  },
  {
   "cell_type": "markdown",
   "metadata": {},
   "source": [
    "## Crawling data"
   ]
  },
  {
   "cell_type": "markdown",
   "metadata": {},
   "source": [
    "In this notebook we're going to completely ignore the contexts of the quesitions. We need only pairs in the form of \"Question - Answer\".\n",
    "\n",
    "For that purpose let's iterate over all topics and all paragraphs inside them and extract only Q&A pairs"
   ]
  },
  {
   "cell_type": "code",
   "execution_count": 15,
   "metadata": {
    "collapsed": true
   },
   "outputs": [],
   "source": [
    "def parse_json(filename):\n",
    "    data = json.load(open(filename))\n",
    "    questions = []\n",
    "    answers = []\n",
    "    for topic in data[\"data\"]:\n",
    "        for paragraph in topic[\"paragraphs\"]:\n",
    "            for qa in paragraph[\"qas\"]:\n",
    "                questions.append(qa[\"question\"])\n",
    "                answers.append(qa[\"answers\"][0][\"text\"])\n",
    "    return np.array(questions), np.array(answers)"
   ]
  },
  {
   "cell_type": "markdown",
   "metadata": {},
   "source": [
    "Parse both train and development sets"
   ]
  },
  {
   "cell_type": "code",
   "execution_count": 16,
   "metadata": {
    "collapsed": true
   },
   "outputs": [],
   "source": [
    "_data1 = parse_json(\"./train.json\")\n",
    "_data2 = parse_json(\"./dev.json\")"
   ]
  },
  {
   "cell_type": "markdown",
   "metadata": {},
   "source": [
    "Join traind and dev sets"
   ]
  },
  {
   "cell_type": "code",
   "execution_count": 17,
   "metadata": {
    "collapsed": true
   },
   "outputs": [],
   "source": [
    "questions = np.append(_data1[0], _data2[0])\n",
    "answers = np.append(_data1[1], _data2[1])"
   ]
  },
  {
   "cell_type": "markdown",
   "metadata": {},
   "source": [
    "Release memory"
   ]
  },
  {
   "cell_type": "code",
   "execution_count": 18,
   "metadata": {
    "collapsed": true
   },
   "outputs": [],
   "source": [
    "%xdel _data1\n",
    "%xdel _data2"
   ]
  },
  {
   "cell_type": "markdown",
   "metadata": {},
   "source": [
    "Let's see what are the examples of the crawled data"
   ]
  },
  {
   "cell_type": "code",
   "execution_count": 19,
   "metadata": {},
   "outputs": [
    {
     "data": {
      "text/plain": [
       "array(['To whom did the Virgin Mary allegedly appear in 1858 in Lourdes France?',\n",
       "       'What is in front of the Notre Dame Main Building?',\n",
       "       'The Basilica of the Sacred heart at Notre Dame is beside to which structure?',\n",
       "       'What is the Grotto at Notre Dame?',\n",
       "       'What sits on top of the Main Building at Notre Dame?'], \n",
       "      dtype='<U25651')"
      ]
     },
     "execution_count": 19,
     "metadata": {},
     "output_type": "execute_result"
    }
   ],
   "source": [
    "questions[:5]"
   ]
  },
  {
   "cell_type": "code",
   "execution_count": 20,
   "metadata": {},
   "outputs": [
    {
     "data": {
      "text/plain": [
       "array(['Saint Bernadette Soubirous', 'a copper statue of Christ',\n",
       "       'the Main Building', 'a Marian place of prayer and reflection',\n",
       "       'a golden statue of the Virgin Mary'], \n",
       "      dtype='<U239')"
      ]
     },
     "execution_count": 20,
     "metadata": {},
     "output_type": "execute_result"
    }
   ],
   "source": [
    "answers[:5]"
   ]
  },
  {
   "cell_type": "markdown",
   "metadata": {},
   "source": [
    "## Preprocessing"
   ]
  },
  {
   "cell_type": "markdown",
   "metadata": {},
   "source": [
    "The next step after retrieving the data is preprocessing."
   ]
  },
  {
   "cell_type": "markdown",
   "metadata": {},
   "source": [
    "First of all, let's divide our data into train and validation sets. Here we prefer to get the indices for this split because in that way it will be easier to carry out the preprocessing in terms of coding $-$ the preprocessing steps are the same for both train and validation sets."
   ]
  },
  {
   "cell_type": "code",
   "execution_count": 21,
   "metadata": {
    "collapsed": true
   },
   "outputs": [],
   "source": [
    "idxs_train, idxs_valid = train_test_split(np.arange(len(questions)), \n",
    "                                          random_state=21, test_size=0.1)"
   ]
  },
  {
   "cell_type": "markdown",
   "metadata": {},
   "source": [
    "Let's filter out specific symbols such as punctuations etc. It can be done with `text_to_word_sequence` utility function from Keras. It also puts all the symbols into lowercase\n",
    "\n",
    "At the same time we want to transform all the numbers into the unique token $<num>$"
   ]
  },
  {
   "cell_type": "code",
   "execution_count": 22,
   "metadata": {
    "collapsed": true
   },
   "outputs": [],
   "source": [
    "questions_processed = []\n",
    "answers_processed = []\n",
    "for i in range(len(answers)):\n",
    "    # text_to_word_sequence deletes all symbols from the '!\"#$%&()*+,-./:;<=>?@[\\\\]^_`{|}~\\t\\n'\n",
    "    # and then return individual words from sentencs. After that we join them with spaces\n",
    "    q = \" \".join([w if not w.isdigit() else \"<num>\" for w in text_to_word_sequence(questions[i])])\n",
    "    a = \" \".join([w if not w.isdigit() else \"<num>\" for w in text_to_word_sequence(answers[i])])\n",
    "    # append to the dataset\n",
    "    questions_processed.append(q)\n",
    "    answers_processed.append(a)\n",
    "questions_processed = np.array(questions_processed)\n",
    "answers_processed = np.array(answers_processed)"
   ]
  },
  {
   "cell_type": "markdown",
   "metadata": {},
   "source": [
    "Let's see how preprocessing works"
   ]
  },
  {
   "cell_type": "code",
   "execution_count": 23,
   "metadata": {},
   "outputs": [
    {
     "data": {
      "text/plain": [
       "'How many slaves were on the island in 1723?'"
      ]
     },
     "execution_count": 23,
     "metadata": {},
     "output_type": "execute_result"
    }
   ],
   "source": [
    "questions[14188]"
   ]
  },
  {
   "cell_type": "code",
   "execution_count": 24,
   "metadata": {},
   "outputs": [
    {
     "data": {
      "text/plain": [
       "'how many slaves were on the island in <num>'"
      ]
     },
     "execution_count": 24,
     "metadata": {},
     "output_type": "execute_result"
    }
   ],
   "source": [
    "questions_processed[14188]"
   ]
  },
  {
   "cell_type": "code",
   "execution_count": 25,
   "metadata": {},
   "outputs": [
    {
     "data": {
      "text/plain": [
       "'610'"
      ]
     },
     "execution_count": 25,
     "metadata": {},
     "output_type": "execute_result"
    }
   ],
   "source": [
    "answers[14188]"
   ]
  },
  {
   "cell_type": "code",
   "execution_count": 26,
   "metadata": {},
   "outputs": [
    {
     "data": {
      "text/plain": [
       "'<num>'"
      ]
     },
     "execution_count": 26,
     "metadata": {},
     "output_type": "execute_result"
    }
   ],
   "source": [
    "answers_processed[14188]"
   ]
  },
  {
   "cell_type": "markdown",
   "metadata": {},
   "source": [
    "Indeed, it works as we anticipated $-$ there are no punctuation (question mark is gone), no upper case and no numbers."
   ]
  },
  {
   "cell_type": "markdown",
   "metadata": {},
   "source": [
    "The next step is to *tokenize* the data. Tokenization process basically consists of two steps:\n",
    "* Create a vocabulary of words that are used in the text corpus\n",
    "* Converte words into numbers which corresponds to the place in the vocabulary\n",
    "\n",
    "All these steps can be done with Keras class `Tokenizer`. Note that we set filter to empty string because we filtered out all the sentences before."
   ]
  },
  {
   "cell_type": "code",
   "execution_count": 27,
   "metadata": {
    "collapsed": true
   },
   "outputs": [],
   "source": [
    "tk = Tokenizer(filters=\"\")"
   ]
  },
  {
   "cell_type": "markdown",
   "metadata": {},
   "source": [
    "Let's fit our tokenizer **only on the train set**. It is crucial because during the test stage we might have new words that are absent in the vocabulary. Thus to be able to consistently estimate the performance of the model using validation set we should not include validation set into the vocabulary."
   ]
  },
  {
   "cell_type": "code",
   "execution_count": 28,
   "metadata": {
    "collapsed": true
   },
   "outputs": [],
   "source": [
    "tk.fit_on_texts(np.append(questions_processed[idxs_train], answers_processed[idxs_train]))"
   ]
  },
  {
   "cell_type": "markdown",
   "metadata": {},
   "source": [
    "See some simple statistics on the vocabulary"
   ]
  },
  {
   "cell_type": "code",
   "execution_count": 29,
   "metadata": {},
   "outputs": [
    {
     "name": "stdout",
     "output_type": "stream",
     "text": [
      "Number of words in the vocabulary = 55211\n"
     ]
    }
   ],
   "source": [
    "number_of_words = len(tk.word_counts)\n",
    "print(\"Number of words in the vocabulary = {:d}\".format(number_of_words))"
   ]
  },
  {
   "cell_type": "markdown",
   "metadata": {},
   "source": [
    "Most common words"
   ]
  },
  {
   "cell_type": "code",
   "execution_count": 30,
   "metadata": {},
   "outputs": [
    {
     "data": {
      "text/plain": [
       "[('the', 81007),\n",
       " ('what', 51116),\n",
       " ('of', 43615),\n",
       " ('<num>', 33148),\n",
       " ('in', 29524),\n",
       " ('to', 22713),\n",
       " ('was', 17918),\n",
       " ('is', 17571),\n",
       " ('did', 16111),\n",
       " ('and', 15695)]"
      ]
     },
     "execution_count": 30,
     "metadata": {},
     "output_type": "execute_result"
    }
   ],
   "source": [
    "Counter(tk.word_counts).most_common(10)"
   ]
  },
  {
   "cell_type": "markdown",
   "metadata": {},
   "source": [
    "Let's tokenize both train and validation set. New words in the validation set that are not on the vocabulary will be thrown away."
   ]
  },
  {
   "cell_type": "code",
   "execution_count": 31,
   "metadata": {
    "collapsed": true
   },
   "outputs": [],
   "source": [
    "questions_tokenized = tk.texts_to_sequences(questions_processed)\n",
    "answers_tokenized = tk.texts_to_sequences(answers_processed)"
   ]
  },
  {
   "cell_type": "markdown",
   "metadata": {},
   "source": [
    "Note that token numeration **starts with 1**. It is important because place number 0 in the vocabulary is reserved for the **padding** which will be discussed few lines below."
   ]
  },
  {
   "cell_type": "code",
   "execution_count": 32,
   "metadata": {},
   "outputs": [
    {
     "data": {
      "text/plain": [
       "[[6, 288, 9, 1, 2293, 690, 7583, 790, 5, 4, 5, 17628, 174],\n",
       " [2, 8, 5, 1544, 3, 1, 558, 559, 164, 234],\n",
       " [1, 3567, 3, 1, 3064, 1456, 34, 558, 559, 8, 5912, 6, 16, 699],\n",
       " [2, 8, 1, 21962, 34, 558, 559],\n",
       " [2, 9185, 19, 363, 3, 1, 164, 234, 34, 558, 559]]"
      ]
     },
     "execution_count": 32,
     "metadata": {},
     "output_type": "execute_result"
    }
   ],
   "source": [
    "questions_tokenized[:5]"
   ]
  },
  {
   "cell_type": "code",
   "execution_count": 33,
   "metadata": {},
   "outputs": [
    {
     "data": {
      "text/plain": [
       "[[466, 42712, 42713],\n",
       " [11, 746, 4639, 3, 1795],\n",
       " [1, 164, 234],\n",
       " [11, 8547, 130, 3, 3045, 10, 5976],\n",
       " [11, 1633, 4639, 3, 1, 2293, 690]]"
      ]
     },
     "execution_count": 33,
     "metadata": {},
     "output_type": "execute_result"
    }
   ],
   "source": [
    "answers_tokenized[:5]"
   ]
  },
  {
   "cell_type": "markdown",
   "metadata": {},
   "source": [
    "Let's see how the lengths of the sentences are distributed"
   ]
  },
  {
   "cell_type": "code",
   "execution_count": 34,
   "metadata": {
    "collapsed": true
   },
   "outputs": [],
   "source": [
    "question_lenghts = np.array(list(map(lambda x: len(x), questions_tokenized)))\n",
    "answer_lenghts = np.array(list(map(lambda x: len(x), answers_tokenized)))"
   ]
  },
  {
   "cell_type": "code",
   "execution_count": 35,
   "metadata": {},
   "outputs": [
    {
     "data": {
      "image/png": "[encoded data removed]",
      "text/plain": [
       "<matplotlib.figure.Figure at 0x7f427d611c18>"
      ]
     },
     "metadata": {},
     "output_type": "display_data"
    }
   ],
   "source": [
    "plt.figure(figsize=(20, 8))\n",
    "\n",
    "plt.subplot(121)\n",
    "plt.bar(*np.unique(question_lenghts, return_counts=True), edgecolor=\"k\")\n",
    "plt.axvline(np.mean(question_lenghts), \n",
    "            c=\"r\", lw=3, \n",
    "            label=\"Mean length = {:.2f}\".format(np.mean(question_lenghts)))\n",
    "plt.axvline(np.percentile(question_lenghts, 99), \n",
    "            c=\"m\", lw=3, \n",
    "            label=\"99%-percentile = {:.2f}\".format(np.percentile(question_lenghts, 99)))\n",
    "plt.xlabel(\"Length\")\n",
    "plt.ylabel(\"Number of questions\")\n",
    "plt.title(\"Distribution of question lengths\")\n",
    "plt.legend()\n",
    "\n",
    "plt.subplot(122)\n",
    "plt.bar(*np.unique(answer_lenghts, return_counts=True), edgecolor=\"k\")\n",
    "plt.axvline(np.mean(answer_lenghts), \n",
    "            c=\"r\", lw=3, \n",
    "            label=\"Mean = {:.2f}\".format(np.mean(answer_lenghts)))\n",
    "plt.axvline(np.percentile(answer_lenghts, 99), \n",
    "            c=\"m\", lw=3, \n",
    "            label=\"99%-percentile = {:.2f}\".format(np.percentile(answer_lenghts, 99)))\n",
    "plt.xlabel(\"Length\")\n",
    "plt.ylabel(\"Number of answers\")\n",
    "plt.title(\"Distribution of answer lengths\")\n",
    "plt.legend();"
   ]
  },
  {
   "cell_type": "markdown",
   "metadata": {},
   "source": [
    "To be able to feed tokenized sentences into the model we should force them to have equal length. This is the restriction of the Keras and TensorFlow frameworks $-$ input should be a *tensor* and tensor should have equal length of the objects containing in it.\n",
    "\n",
    "Based on the distribution we decidede to set this length to 21. It means that all the longer sentences will be cut to fit the length and all the shorter sentences will be padded with zeros. Recall that 0 is a special token in the vocabulary that represents the absent of any word."
   ]
  },
  {
   "cell_type": "code",
   "execution_count": 36,
   "metadata": {
    "collapsed": true
   },
   "outputs": [],
   "source": [
    "cut_length = 21"
   ]
  },
  {
   "cell_type": "code",
   "execution_count": 37,
   "metadata": {
    "collapsed": true
   },
   "outputs": [],
   "source": [
    "questions_padded = pad_sequences(questions_tokenized, maxlen=cut_length)\n",
    "answers_padded = pad_sequences(answers_tokenized, maxlen=cut_length)"
   ]
  },
  {
   "cell_type": "markdown",
   "metadata": {},
   "source": [
    "The final form of the processed texts:"
   ]
  },
  {
   "cell_type": "code",
   "execution_count": 38,
   "metadata": {},
   "outputs": [
    {
     "data": {
      "text/plain": [
       "array([[    0,     0,     0, ...,     5, 17628,   174],\n",
       "       [    0,     0,     0, ...,   559,   164,   234],\n",
       "       [    0,     0,     0, ...,     6,    16,   699],\n",
       "       ..., \n",
       "       [    0,     0,     0, ...,     1,  5936,    65],\n",
       "       [    0,     0,     0, ...,   138,     3,   206],\n",
       "       [    0,     0,     0, ...,    45,  2770, 30517]], dtype=int32)"
      ]
     },
     "execution_count": 38,
     "metadata": {},
     "output_type": "execute_result"
    }
   ],
   "source": [
    "questions_padded"
   ]
  },
  {
   "cell_type": "markdown",
   "metadata": {},
   "source": [
    "As long as we are ready with the preprocessing steps let's divide our Q&A pairs into train and validation sets using indices generated above."
   ]
  },
  {
   "cell_type": "code",
   "execution_count": 39,
   "metadata": {
    "collapsed": true
   },
   "outputs": [],
   "source": [
    "q_train, q_valid = questions_padded[idxs_train], questions_padded[idxs_valid]\n",
    "a_train, a_valid = answers_padded[idxs_train], answers_padded[idxs_valid]"
   ]
  },
  {
   "cell_type": "markdown",
   "metadata": {},
   "source": [
    "Number of examples in each of the sets:"
   ]
  },
  {
   "cell_type": "code",
   "execution_count": 40,
   "metadata": {},
   "outputs": [
    {
     "name": "stdout",
     "output_type": "stream",
     "text": [
      "Number of train pairs = 88352\n",
      "Number of valid pairs = 9817\n"
     ]
    }
   ],
   "source": [
    "print(\"Number of train pairs = {:d}\".format(len(q_train)))\n",
    "print(\"Number of valid pairs = {:d}\".format(len(q_valid)))"
   ]
  },
  {
   "cell_type": "markdown",
   "metadata": {
    "collapsed": true
   },
   "source": [
    "# Model"
   ]
  },
  {
   "cell_type": "markdown",
   "metadata": {},
   "source": [
    "Below we build, train and validate DSSM model for question answering"
   ]
  },
  {
   "cell_type": "markdown",
   "metadata": {},
   "source": [
    "## Architecture"
   ]
  },
  {
   "cell_type": "markdown",
   "metadata": {},
   "source": [
    "In this part we build simple DSSM model with two **towers**. First tower is for encoding of the questions and second is for encoding of the answers."
   ]
  },
  {
   "cell_type": "markdown",
   "metadata": {},
   "source": [
    "We start with the input layers (one for questions and one for answers) which accept the sequences of the token numbers with the length of 21."
   ]
  },
  {
   "cell_type": "code",
   "execution_count": 41,
   "metadata": {
    "collapsed": true
   },
   "outputs": [],
   "source": [
    "q_input = Input(shape=(cut_length,), \n",
    "                dtype=\"int32\", \n",
    "                name=\"QInput\")\n",
    "a_input = Input(shape=(cut_length,), \n",
    "                dtype=\"int32\", \n",
    "                name=\"AInput\")"
   ]
  },
  {
   "cell_type": "markdown",
   "metadata": {},
   "source": [
    "Next step is to do an **Embedding**. See `EmbeddingsReuters` or `EmbeddingsExploration` for more details on the embeddings. The general idea is to embed the words into low dimensional space which will preserve the semantic relation among them.\n",
    "\n",
    "In practive embedding layer is just a lookup table where for each token number we have low dimensional (in this case 100) vector. These vectors are learnt through the task which is called **co-training**. The other option might be to use pre-trained embeddings.\n",
    "\n",
    "Here we also set `mask_zero` option to `True`. It means that Embedding layer will create and pass to the deeper layers a mask which shows where the input is real and where it was padded with zeros."
   ]
  },
  {
   "cell_type": "code",
   "execution_count": 42,
   "metadata": {
    "collapsed": true
   },
   "outputs": [],
   "source": [
    "_embedding_layer = Embedding(input_dim=number_of_words + 1,\n",
    "                             output_dim=100,\n",
    "                             input_length=cut_length,\n",
    "                             trainable=True,\n",
    "                             mask_zero=True, \n",
    "                             name=\"Embedding\")"
   ]
  },
  {
   "cell_type": "markdown",
   "metadata": {},
   "source": [
    "Important note here is that we **share** the embeddings between questions and answers. It means we use the same embeddings for both questions and answers. The other option might be to use individual embeddings for questions and answers."
   ]
  },
  {
   "cell_type": "code",
   "execution_count": 43,
   "metadata": {
    "collapsed": true
   },
   "outputs": [],
   "source": [
    "q_embeddeding = _embedding_layer(q_input)\n",
    "a_embeddeding = _embedding_layer(a_input)"
   ]
  },
  {
   "cell_type": "markdown",
   "metadata": {},
   "source": [
    "The following step is to encode the embedded sequence of words into something more meaningful. Here we're using `LSTM` layer for that.\n",
    "\n",
    "In fact, this is the main field for the experiments in modern science. Improving the **encoder** is the goal of many state-of-the-art papers. For example, right now the best encoder for texts might be [attention ecnoder](https://arxiv.org/pdf/1706.03762.pdf) suggested by Google. There are also [convolutional encoders](https://arxiv.org/pdf/1705.03122.pdf) that works pretty well. Interestingly, LSTMs are out-of-the-trend now because they are heavy and the architecture is consecutive in its nature. While with convolutions and attention one can encode all the sentence simultaneously."
   ]
  },
  {
   "cell_type": "code",
   "execution_count": 44,
   "metadata": {
    "collapsed": true
   },
   "outputs": [],
   "source": [
    "q_rnn = LSTM(64, return_sequences=True, name=\"QLSTM\")(q_embeddeding)\n",
    "a_rnn = LSTM(64, return_sequences=True, name=\"ALSTM\")(a_embeddeding)"
   ]
  },
  {
   "cell_type": "markdown",
   "metadata": {},
   "source": [
    "Note that previous LSTM layers return sequences of vectors with the dimension of 64. The next step of our encoder is to aggregate this sequence.\n",
    "\n",
    "Below we define two function for aggregation that are able to work with masked inputs (see `EmbeddingsReuters` notebook for more details):\n",
    "* **Global Average Pooling** takes an average value across all the steps of the sequence that are real using input mask\n",
    "* **Global Max Pooling** takes a max value across all the steps of the sequence"
   ]
  },
  {
   "cell_type": "code",
   "execution_count": 45,
   "metadata": {
    "collapsed": true
   },
   "outputs": [],
   "source": [
    "class MaskedGlobalAveragePooling1D(_GlobalPooling1D):\n",
    "    \n",
    "    def __init__(self, **kwargs):\n",
    "        self.support_mask = True\n",
    "        super(MaskedGlobalAveragePooling1D, self).__init__(**kwargs)\n",
    "        \n",
    "    def build(self, input_shape):\n",
    "        super(MaskedGlobalAveragePooling1D, self).build(input_shape)\n",
    "        self.feat_dim = input_shape[2]\n",
    "\n",
    "    def call(self, x, mask=None):\n",
    "        if mask is not None:\n",
    "            mask = K.cast(mask, 'float32')\n",
    "            n = K.sum(mask, axis=-1, keepdims=True)\n",
    "            n += K.ones_like(n) * K.cast(K.equal(n, 0.0), 'float32')\n",
    "            ans = K.sum(x, axis=1) / n\n",
    "        else:\n",
    "            ans = K.mean(x, axis=1)\n",
    "        \n",
    "        return ans\n",
    "\n",
    "    def compute_mask(self, input_shape, input_mask=None):\n",
    "        return None"
   ]
  },
  {
   "cell_type": "code",
   "execution_count": 46,
   "metadata": {
    "collapsed": true
   },
   "outputs": [],
   "source": [
    "class MaskedGlobalMaxPooling1D(_GlobalPooling1D):\n",
    "    \n",
    "    def __init__(self, **kwargs):\n",
    "        self.support_mask = True\n",
    "        super(MaskedGlobalMaxPooling1D, self).__init__(**kwargs)\n",
    "        \n",
    "    def build(self, input_shape):\n",
    "        super(MaskedGlobalMaxPooling1D, self).build(input_shape)\n",
    "        self.feat_dim = input_shape[2]\n",
    "\n",
    "    def call(self, x, mask=None):\n",
    "        ans = K.max(x, axis=1)\n",
    "        return ans\n",
    "\n",
    "    def compute_mask(self, input_shape, input_mask=None):\n",
    "        return None"
   ]
  },
  {
   "cell_type": "markdown",
   "metadata": {},
   "source": [
    "Here we choose to use max pooling."
   ]
  },
  {
   "cell_type": "code",
   "execution_count": 47,
   "metadata": {
    "collapsed": true
   },
   "outputs": [],
   "source": [
    "q_max = MaskedGlobalMaxPooling1D(name=\"QGMP\")(q_rnn)\n",
    "a_max = MaskedGlobalMaxPooling1D(name=\"AGMP\")(a_rnn)"
   ]
  },
  {
   "cell_type": "markdown",
   "metadata": {},
   "source": [
    "After global pooling layers we have one vector for question and one vector for answer.\n",
    "\n",
    "Next we want to normalize these vectors such that both of them have unit L2 norm. The purpose of this step is to be able to compute cosine distance later on as a simple dot product between vectors."
   ]
  },
  {
   "cell_type": "code",
   "execution_count": 48,
   "metadata": {
    "collapsed": true
   },
   "outputs": [],
   "source": [
    "def L2_norm(x):\n",
    "    return K.l2_normalize(x, axis=1)"
   ]
  },
  {
   "cell_type": "code",
   "execution_count": 49,
   "metadata": {
    "collapsed": true
   },
   "outputs": [],
   "source": [
    "q_normalized = Lambda(function=L2_norm, name=\"QL2norm\")(q_max)\n",
    "a_normalized = Lambda(function=L2_norm, name=\"AL2norm\")(a_max)"
   ]
  },
  {
   "cell_type": "markdown",
   "metadata": {},
   "source": [
    "## Loss"
   ]
  },
  {
   "attachments": {},
   "cell_type": "markdown",
   "metadata": {},
   "source": [
    "One of the most important and at the same time the most tricky parts of DSSMs is loss function.\n",
    "\n",
    "Here we use **triplet loss**. It was first introduce in [this](https://arxiv.org/pdf/1503.03832.pdf) paper by Google.\n",
    "![image.png](tripletloss1.png)\n",
    "\n",
    "The idea of the triplet loss is shown in the image above which is taken from the referenced article.\n",
    "\n",
    "In our case we have a question (which is *anchor*) and a correct answer (which is *positive*). But without the knowledge of what is the bad answers we can learn nothing good. Thus we take one example of the wrong (*negative*) answer which is not suitable for the given question. The goal of the triplet loss is to make encoders learn such transformations that map positive examples closer to the anchor than negative. This is also called [**metric learning**](https://en.wikipedia.org/wiki/Similarity_learning#Metric_learning).\n",
    "\n",
    "In mathematical terms triplet loss looks the following:\n",
    "$$\n",
    "L(a, p, n) = \\left[ D_{ap} ^ 2 - D_{an} ^ 2 + \\alpha \\right]_+\\\\\n",
    "\\text{where:}\\\\\n",
    "f(x) \\text{ - embedding function}\\\\\n",
    "D_{ap} = \\left\\Vert f(a) - f(p)\\right\\Vert_2 \\text{ - distance between anchor and positive}\\\\\n",
    "D_{ap} = \\left\\Vert f(a) - f(n)\\right\\Vert_2 \\text{ - distance between anchor and negative}\\\\\n",
    "\\alpha \\text{ - margin}\n",
    "$$\n",
    "![image.png](tripletloss2.png)\n",
    "\n",
    "In the image above the dependency of loss on pairwise distance is shown. The solid blue line shows the loss function for positive pairs, the dotted green for negative pairs.\n",
    "\n",
    "One of the most important problems with triplet loss is how to choose negative examples. There are number of strategies the great comparison of which can be found in this [paper](https://arxiv.org/abs/1706.07567):\n",
    "* **Easy negatives sampling** - take a random example from batch as a negative example. We will use this strategy as the simplest one. But other strategies consistently outperform easy negatives.\n",
    "* **Hard negatives sampling** - take an example from the batch that is closest to the anchor. \n",
    "* **Semi-hard negatives sampling** - take an example that is closest to the anchor among examples that are farther than the positive.\n",
    "* **Distance-based negative sampling** - randomly sample from the multinomial distribution with probabilities that are proportional to the disntace to the anchor.\n",
    "\n",
    "Below there is a tensorflow implementation of the triplet loss with easy negatives sampling."
   ]
  },
  {
   "cell_type": "code",
   "execution_count": 50,
   "metadata": {
    "collapsed": true
   },
   "outputs": [],
   "source": [
    "def triplet_loss(args):\n",
    "    \n",
    "    q, a = args\n",
    "    \n",
    "    def _get_probs():\n",
    "        # easy negative sampling, i.e. take random from batch\n",
    "        batch_size = tf.shape(a)[0]\n",
    "        probs = tf.ones((batch_size, batch_size)) - tf.eye(batch_size, batch_size)\n",
    "        return probs\n",
    "    \n",
    "    def _get_distance(batch1, batch2):\n",
    "        return 1 - tf.reduce_sum(tf.multiply(batch1, batch2), axis=1)\n",
    "    \n",
    "    # margin\n",
    "    alpha = 0.2\n",
    "    \n",
    "    # negative sampling\n",
    "    probs = _get_probs()\n",
    "    probs /= tf.reduce_sum(probs, axis=1)\n",
    "    \n",
    "    negative_idxs = tf.multinomial(tf.log(probs), 1)\n",
    "    negs = tf.gather(a, negative_idxs)[:, 0]\n",
    "    \n",
    "    # distance calculation\n",
    "    Dn = _get_distance(q, negs)\n",
    "    Dp = _get_distance(q, a)\n",
    "    \n",
    "    # loss\n",
    "    loss = tf.reduce_mean(tf.maximum(0.0, Dp - Dn + alpha))\n",
    "    \n",
    "    return loss"
   ]
  },
  {
   "cell_type": "markdown",
   "metadata": {},
   "source": [
    "This objective function does not comply with the Keras rules for the objectives. Thus we need to implement it in the `Lambda` layer (see `CTC_CAPTCHA` notebook for more details and example)."
   ]
  },
  {
   "cell_type": "code",
   "execution_count": 51,
   "metadata": {
    "collapsed": true
   },
   "outputs": [],
   "source": [
    "loss_layer = Lambda(function=triplet_loss, name=\"Loss\")([q_normalized, a_normalized])"
   ]
  },
  {
   "cell_type": "markdown",
   "metadata": {},
   "source": [
    "Now we are ready to build a model"
   ]
  },
  {
   "cell_type": "code",
   "execution_count": 52,
   "metadata": {
    "collapsed": true
   },
   "outputs": [],
   "source": [
    "model = Model(inputs=[q_input, a_input], outputs=[loss_layer])"
   ]
  },
  {
   "cell_type": "markdown",
   "metadata": {},
   "source": [
    "We're calculating loss function in the Lambda layer thus the loss function for the Keras compilation should just pass the value of the objective calculated before."
   ]
  },
  {
   "cell_type": "code",
   "execution_count": 53,
   "metadata": {
    "collapsed": true
   },
   "outputs": [],
   "source": [
    "def dummy_loss(y_true, y_pred):\n",
    "    return y_pred"
   ]
  },
  {
   "cell_type": "markdown",
   "metadata": {},
   "source": [
    "Compile the model"
   ]
  },
  {
   "cell_type": "code",
   "execution_count": 54,
   "metadata": {
    "collapsed": true
   },
   "outputs": [],
   "source": [
    "model.compile(loss=dummy_loss, optimizer=\"Adam\")"
   ]
  },
  {
   "cell_type": "markdown",
   "metadata": {},
   "source": [
    "See what it is"
   ]
  },
  {
   "cell_type": "code",
   "execution_count": 55,
   "metadata": {},
   "outputs": [
    {
     "name": "stdout",
     "output_type": "stream",
     "text": [
      "____________________________________________________________________________________________________\n",
      "Layer (type)                     Output Shape          Param #     Connected to                     \n",
      "====================================================================================================\n",
      "QInput (InputLayer)              (None, 21)            0                                            \n",
      "____________________________________________________________________________________________________\n",
      "AInput (InputLayer)              (None, 21)            0                                            \n",
      "____________________________________________________________________________________________________\n",
      "Embedding (Embedding)            (None, 21, 100)       5521200     QInput[0][0]                     \n",
      "                                                                   AInput[0][0]                     \n",
      "____________________________________________________________________________________________________\n",
      "QLSTM (LSTM)                     (None, 21, 64)        42240       Embedding[0][0]                  \n",
      "____________________________________________________________________________________________________\n",
      "ALSTM (LSTM)                     (None, 21, 64)        42240       Embedding[1][0]                  \n",
      "____________________________________________________________________________________________________\n",
      "QGMP (MaskedGlobalMaxPooling1D)  (None, 64)            0           QLSTM[0][0]                      \n",
      "____________________________________________________________________________________________________\n",
      "AGMP (MaskedGlobalMaxPooling1D)  (None, 64)            0           ALSTM[0][0]                      \n",
      "____________________________________________________________________________________________________\n",
      "QL2norm (Lambda)                 (None, 64)            0           QGMP[0][0]                       \n",
      "____________________________________________________________________________________________________\n",
      "AL2norm (Lambda)                 (None, 64)            0           AGMP[0][0]                       \n",
      "____________________________________________________________________________________________________\n",
      "Loss (Lambda)                    ()                    0           QL2norm[0][0]                    \n",
      "                                                                   AL2norm[0][0]                    \n",
      "====================================================================================================\n",
      "Total params: 5,605,680\n",
      "Trainable params: 5,605,680\n",
      "Non-trainable params: 0\n",
      "____________________________________________________________________________________________________\n"
     ]
    }
   ],
   "source": [
    "model.summary()"
   ]
  },
  {
   "cell_type": "code",
   "execution_count": 56,
   "metadata": {},
   "outputs": [
    {
     "data": {
      "image/svg+xml": [
       "<svg height=\"410pt\" viewBox=\"0.00 0.00 583.50 410.00\" width=\"584pt\" xmlns=\"http://www.w3.org/2000/svg\" xmlns:xlink=\"http://www.w3.org/1999/xlink\">\n",
       "<g class=\"graph\" id=\"graph0\" transform=\"scale(1 1) rotate(0) translate(4 406)\">\n",
       "<title>G</title>\n",
       "<polygon fill=\"white\" points=\"-4,4 -4,-406 579.5,-406 579.5,4 -4,4\" stroke=\"none\"/>\n",
       "<!-- 139923581133320 -->\n",
       "<g class=\"node\" id=\"node1\"><title>139923581133320</title>\n",
       "<polygon fill=\"none\" points=\"83.5,-365.5 83.5,-401.5 239.5,-401.5 239.5,-365.5 83.5,-365.5\" stroke=\"black\"/>\n",
       "<text font-family=\"Times,serif\" font-size=\"14.00\" text-anchor=\"middle\" x=\"161.5\" y=\"-379.8\">QInput: InputLayer</text>\n",
       "</g>\n",
       "<!-- 139923581135280 -->\n",
       "<g class=\"node\" id=\"node3\"><title>139923581135280</title>\n",
       "<polygon fill=\"none\" points=\"154,-292.5 154,-328.5 343,-328.5 343,-292.5 154,-292.5\" stroke=\"black\"/>\n",
       "<text font-family=\"Times,serif\" font-size=\"14.00\" text-anchor=\"middle\" x=\"248.5\" y=\"-306.8\">Embedding: Embedding</text>\n",
       "</g>\n",
       "<!-- 139923581133320&#45;&gt;139923581135280 -->\n",
       "<g class=\"edge\" id=\"edge1\"><title>139923581133320-&gt;139923581135280</title>\n",
       "<path d=\"M182.56,-365.313C193.674,-356.243 207.479,-344.977 219.581,-335.1\" fill=\"none\" stroke=\"black\"/>\n",
       "<polygon fill=\"black\" points=\"222.099,-337.563 227.634,-328.529 217.673,-332.14 222.099,-337.563\" stroke=\"black\"/>\n",
       "</g>\n",
       "<!-- 139923581136176 -->\n",
       "<g class=\"node\" id=\"node2\"><title>139923581136176</title>\n",
       "<polygon fill=\"none\" points=\"258,-365.5 258,-401.5 413,-401.5 413,-365.5 258,-365.5\" stroke=\"black\"/>\n",
       "<text font-family=\"Times,serif\" font-size=\"14.00\" text-anchor=\"middle\" x=\"335.5\" y=\"-379.8\">AInput: InputLayer</text>\n",
       "</g>\n",
       "<!-- 139923581136176&#45;&gt;139923581135280 -->\n",
       "<g class=\"edge\" id=\"edge2\"><title>139923581136176-&gt;139923581135280</title>\n",
       "<path d=\"M314.44,-365.313C303.326,-356.243 289.521,-344.977 277.419,-335.1\" fill=\"none\" stroke=\"black\"/>\n",
       "<polygon fill=\"black\" points=\"279.327,-332.14 269.366,-328.529 274.901,-337.563 279.327,-332.14\" stroke=\"black\"/>\n",
       "</g>\n",
       "<!-- 139923543343056 -->\n",
       "<g class=\"node\" id=\"node4\"><title>139923543343056</title>\n",
       "<polygon fill=\"none\" points=\"117.5,-219.5 117.5,-255.5 239.5,-255.5 239.5,-219.5 117.5,-219.5\" stroke=\"black\"/>\n",
       "<text font-family=\"Times,serif\" font-size=\"14.00\" text-anchor=\"middle\" x=\"178.5\" y=\"-233.8\">QLSTM: LSTM</text>\n",
       "</g>\n",
       "<!-- 139923581135280&#45;&gt;139923543343056 -->\n",
       "<g class=\"edge\" id=\"edge3\"><title>139923581135280-&gt;139923543343056</title>\n",
       "<path d=\"M231.555,-292.313C222.785,-283.417 211.932,-272.409 202.331,-262.672\" fill=\"none\" stroke=\"black\"/>\n",
       "<polygon fill=\"black\" points=\"204.802,-260.193 195.289,-255.529 199.817,-265.107 204.802,-260.193\" stroke=\"black\"/>\n",
       "</g>\n",
       "<!-- 139923543342216 -->\n",
       "<g class=\"node\" id=\"node5\"><title>139923543342216</title>\n",
       "<polygon fill=\"none\" points=\"335.5,-219.5 335.5,-255.5 457.5,-255.5 457.5,-219.5 335.5,-219.5\" stroke=\"black\"/>\n",
       "<text font-family=\"Times,serif\" font-size=\"14.00\" text-anchor=\"middle\" x=\"396.5\" y=\"-233.8\">ALSTM: LSTM</text>\n",
       "</g>\n",
       "<!-- 139923581135280&#45;&gt;139923543342216 -->\n",
       "<g class=\"edge\" id=\"edge4\"><title>139923581135280-&gt;139923543342216</title>\n",
       "<path d=\"M283.95,-292.494C304.303,-282.73 330.054,-270.376 351.786,-259.951\" fill=\"none\" stroke=\"black\"/>\n",
       "<polygon fill=\"black\" points=\"353.324,-263.095 360.827,-255.614 350.297,-256.783 353.324,-263.095\" stroke=\"black\"/>\n",
       "</g>\n",
       "<!-- 139923518534992 -->\n",
       "<g class=\"node\" id=\"node6\"><title>139923518534992</title>\n",
       "<polygon fill=\"none\" points=\"0,-146.5 0,-182.5 279,-182.5 279,-146.5 0,-146.5\" stroke=\"black\"/>\n",
       "<text font-family=\"Times,serif\" font-size=\"14.00\" text-anchor=\"middle\" x=\"139.5\" y=\"-160.8\">QGMP: MaskedGlobalMaxPooling1D</text>\n",
       "</g>\n",
       "<!-- 139923543343056&#45;&gt;139923518534992 -->\n",
       "<g class=\"edge\" id=\"edge5\"><title>139923543343056-&gt;139923518534992</title>\n",
       "<path d=\"M169.059,-219.313C164.46,-210.941 158.834,-200.697 153.728,-191.403\" fill=\"none\" stroke=\"black\"/>\n",
       "<polygon fill=\"black\" points=\"156.736,-189.609 148.854,-182.529 150.601,-192.979 156.736,-189.609\" stroke=\"black\"/>\n",
       "</g>\n",
       "<!-- 139923518535216 -->\n",
       "<g class=\"node\" id=\"node7\"><title>139923518535216</title>\n",
       "<polygon fill=\"none\" points=\"297.5,-146.5 297.5,-182.5 575.5,-182.5 575.5,-146.5 297.5,-146.5\" stroke=\"black\"/>\n",
       "<text font-family=\"Times,serif\" font-size=\"14.00\" text-anchor=\"middle\" x=\"436.5\" y=\"-160.8\">AGMP: MaskedGlobalMaxPooling1D</text>\n",
       "</g>\n",
       "<!-- 139923543342216&#45;&gt;139923518535216 -->\n",
       "<g class=\"edge\" id=\"edge6\"><title>139923543342216-&gt;139923518535216</title>\n",
       "<path d=\"M406.183,-219.313C410.9,-210.941 416.671,-200.697 421.907,-191.403\" fill=\"none\" stroke=\"black\"/>\n",
       "<polygon fill=\"black\" points=\"425.047,-192.959 426.906,-182.529 418.948,-189.523 425.047,-192.959\" stroke=\"black\"/>\n",
       "</g>\n",
       "<!-- 139923518555472 -->\n",
       "<g class=\"node\" id=\"node8\"><title>139923518555472</title>\n",
       "<polygon fill=\"none\" points=\"128,-73.5 128,-109.5 279,-109.5 279,-73.5 128,-73.5\" stroke=\"black\"/>\n",
       "<text font-family=\"Times,serif\" font-size=\"14.00\" text-anchor=\"middle\" x=\"203.5\" y=\"-87.8\">QL2norm: Lambda</text>\n",
       "</g>\n",
       "<!-- 139923518534992&#45;&gt;139923518555472 -->\n",
       "<g class=\"edge\" id=\"edge7\"><title>139923518534992-&gt;139923518555472</title>\n",
       "<path d=\"M154.993,-146.313C162.932,-137.505 172.739,-126.625 181.453,-116.958\" fill=\"none\" stroke=\"black\"/>\n",
       "<polygon fill=\"black\" points=\"184.054,-119.3 188.15,-109.529 178.855,-114.613 184.054,-119.3\" stroke=\"black\"/>\n",
       "</g>\n",
       "<!-- 139923518410312 -->\n",
       "<g class=\"node\" id=\"node9\"><title>139923518410312</title>\n",
       "<polygon fill=\"none\" points=\"329.5,-73.5 329.5,-109.5 479.5,-109.5 479.5,-73.5 329.5,-73.5\" stroke=\"black\"/>\n",
       "<text font-family=\"Times,serif\" font-size=\"14.00\" text-anchor=\"middle\" x=\"404.5\" y=\"-87.8\">AL2norm: Lambda</text>\n",
       "</g>\n",
       "<!-- 139923518535216&#45;&gt;139923518410312 -->\n",
       "<g class=\"edge\" id=\"edge8\"><title>139923518535216-&gt;139923518410312</title>\n",
       "<path d=\"M428.754,-146.313C425.02,-138.028 420.46,-127.91 416.305,-118.693\" fill=\"none\" stroke=\"black\"/>\n",
       "<polygon fill=\"black\" points=\"419.475,-117.207 412.175,-109.529 413.093,-120.084 419.475,-117.207\" stroke=\"black\"/>\n",
       "</g>\n",
       "<!-- 139923518160064 -->\n",
       "<g class=\"node\" id=\"node10\"><title>139923518160064</title>\n",
       "<polygon fill=\"none\" points=\"245.5,-0.5 245.5,-36.5 361.5,-36.5 361.5,-0.5 245.5,-0.5\" stroke=\"black\"/>\n",
       "<text font-family=\"Times,serif\" font-size=\"14.00\" text-anchor=\"middle\" x=\"303.5\" y=\"-14.8\">Loss: Lambda</text>\n",
       "</g>\n",
       "<!-- 139923518555472&#45;&gt;139923518160064 -->\n",
       "<g class=\"edge\" id=\"edge9\"><title>139923518555472-&gt;139923518160064</title>\n",
       "<path d=\"M227.452,-73.4937C240.468,-64.2529 256.75,-52.6925 270.906,-42.642\" fill=\"none\" stroke=\"black\"/>\n",
       "<polygon fill=\"black\" points=\"273.269,-45.2567 279.396,-36.6136 269.216,-39.549 273.269,-45.2567\" stroke=\"black\"/>\n",
       "</g>\n",
       "<!-- 139923518410312&#45;&gt;139923518160064 -->\n",
       "<g class=\"edge\" id=\"edge10\"><title>139923518410312-&gt;139923518160064</title>\n",
       "<path d=\"M380.308,-73.4937C367.163,-64.2529 350.717,-52.6925 336.42,-42.642\" fill=\"none\" stroke=\"black\"/>\n",
       "<polygon fill=\"black\" points=\"338.038,-39.5012 327.845,-36.6136 334.013,-45.2279 338.038,-39.5012\" stroke=\"black\"/>\n",
       "</g>\n",
       "</g>\n",
       "</svg>"
      ],
      "text/plain": [
       "<IPython.core.display.SVG object>"
      ]
     },
     "execution_count": 56,
     "metadata": {},
     "output_type": "execute_result"
    }
   ],
   "source": [
    "SVG(model_to_dot(model).create(prog='dot', format='svg'))"
   ]
  },
  {
   "cell_type": "markdown",
   "metadata": {},
   "source": [
    "## Train"
   ]
  },
  {
   "cell_type": "markdown",
   "metadata": {},
   "source": [
    "*You can consider to skip this section if you have already trained the model.*"
   ]
  },
  {
   "cell_type": "markdown",
   "metadata": {},
   "source": [
    "Let's finally train DSSM model. Note that the $y$ values here are just zeros because with the loss function computed in Lambda layer we do not really need $y$."
   ]
  },
  {
   "cell_type": "code",
   "execution_count": 57,
   "metadata": {},
   "outputs": [
    {
     "name": "stderr",
     "output_type": "stream",
     "text": [
      "/opt/conda/lib/python3.6/site-packages/tensorflow/python/ops/gradients_impl.py:93: UserWarning: Converting sparse IndexedSlices to a dense Tensor of unknown shape. This may consume a large amount of memory.\n",
      "  \"Converting sparse IndexedSlices to a dense Tensor of unknown shape. \"\n"
     ]
    },
    {
     "name": "stdout",
     "output_type": "stream",
     "text": [
      "Train on 88352 samples, validate on 9817 samples\n",
      "Epoch 1/10\n",
      "88352/88352 [==============================] - 56s - loss: 0.1203 - val_loss: 0.1059\n",
      "Epoch 2/10\n",
      "88352/88352 [==============================] - 56s - loss: 0.0692 - val_loss: 0.0952\n",
      "Epoch 3/10\n",
      "88352/88352 [==============================] - 57s - loss: 0.0495 - val_loss: 0.0886\n",
      "Epoch 4/10\n",
      "88352/88352 [==============================] - 56s - loss: 0.0402 - val_loss: 0.0866\n",
      "Epoch 5/10\n",
      "88352/88352 [==============================] - 57s - loss: 0.0342 - val_loss: 0.0839\n",
      "Epoch 6/10\n",
      "88352/88352 [==============================] - 57s - loss: 0.0303 - val_loss: 0.0842\n",
      "Epoch 7/10\n",
      "88352/88352 [==============================] - 56s - loss: 0.0271 - val_loss: 0.0849\n",
      "Epoch 8/10\n",
      "88352/88352 [==============================] - 56s - loss: 0.0253 - val_loss: 0.0817\n",
      "Epoch 9/10\n",
      "88352/88352 [==============================] - 56s - loss: 0.0228 - val_loss: 0.0833\n",
      "Epoch 10/10\n",
      "88352/88352 [==============================] - 56s - loss: 0.0217 - val_loss: 0.0812\n"
     ]
    }
   ],
   "source": [
    "hist = model.fit([q_train, a_train], np.zeros(q_train.shape[0]), \n",
    "                 validation_data=([q_valid, a_valid], np.zeros(q_valid.shape[0])), \n",
    "                 epochs=10, batch_size=128)"
   ]
  },
  {
   "cell_type": "markdown",
   "metadata": {},
   "source": [
    "Save fitted model and training history for further usage."
   ]
  },
  {
   "cell_type": "code",
   "execution_count": 58,
   "metadata": {
    "collapsed": true
   },
   "outputs": [],
   "source": [
    "model.save(\"./rnn.model\")\n",
    "pickle.dump(hist.history, open(\"./rnn.hist\", \"wb\"))"
   ]
  },
  {
   "cell_type": "markdown",
   "metadata": {},
   "source": [
    "## Load"
   ]
  },
  {
   "cell_type": "markdown",
   "metadata": {},
   "source": [
    "Load already trained model. Note that due to the usage of custom (`MaskedGlobalMaxPooling1D`) and Lambda (`L2_norm`) layers and we should pass some additional parameters to the Keras model loader"
   ]
  },
  {
   "cell_type": "code",
   "execution_count": 59,
   "metadata": {},
   "outputs": [
    {
     "name": "stderr",
     "output_type": "stream",
     "text": [
      "/opt/conda/lib/python3.6/site-packages/tensorflow/python/ops/gradients_impl.py:93: UserWarning: Converting sparse IndexedSlices to a dense Tensor of unknown shape. This may consume a large amount of memory.\n",
      "  \"Converting sparse IndexedSlices to a dense Tensor of unknown shape. \"\n"
     ]
    }
   ],
   "source": [
    "model = load_model(\"./rnn.model\", custom_objects={\"MaskedGlobalMaxPooling1D\": MaskedGlobalMaxPooling1D, \n",
    "                                                  \"tf\": tf, \n",
    "                                                  \"dummy_loss\": dummy_loss})\n",
    "hist = pickle.load(open(\"./rnn.hist\", \"rb\"))"
   ]
  },
  {
   "cell_type": "markdown",
   "metadata": {},
   "source": [
    "## Validate"
   ]
  },
  {
   "cell_type": "markdown",
   "metadata": {},
   "source": [
    "Let's see how the training procedure was carried out."
   ]
  },
  {
   "cell_type": "code",
   "execution_count": 60,
   "metadata": {},
   "outputs": [
    {
     "data": {
      "image/png": "[encoded data removed]",
      "text/plain": [
       "<matplotlib.figure.Figure at 0x7f427a4e92e8>"
      ]
     },
     "metadata": {},
     "output_type": "display_data"
    }
   ],
   "source": [
    "plt.plot(hist[\"loss\"], label=\"Train\")\n",
    "plt.plot(hist[\"val_loss\"], label=\"Validtion\")\n",
    "plt.xlabel(\"Epoch\")\n",
    "plt.ylabel(\"Triplet Loss\")\n",
    "plt.title(\"Training evolution\");"
   ]
  },
  {
   "cell_type": "markdown",
   "metadata": {},
   "source": [
    "Recall that DSSM model has **two towers** $-$ one is for question encoding and the other is for answer encoding. We train them together using triplet loss. But for the testing purposes we will separate towers and use them independently to encode the question and to find the most appropriate answer."
   ]
  },
  {
   "cell_type": "code",
   "execution_count": 61,
   "metadata": {
    "collapsed": true
   },
   "outputs": [],
   "source": [
    "q_model = Model(inputs=[model.get_layer(\"QInput\").input], \n",
    "                outputs=[model.get_layer(\"QL2norm\").output])\n",
    "a_model = Model(inputs=[model.get_layer(\"AInput\").input], \n",
    "                outputs=[model.get_layer(\"AL2norm\").output])"
   ]
  },
  {
   "cell_type": "markdown",
   "metadata": {},
   "source": [
    "Now let's encode all the possible answers. Later on when the new question arrives we will ecnode it using corresponding tower and then find the most suitable answer among encoded training answers. With this approach the set of the asnwers is limited to the set of training answers.\n",
    "\n",
    "Here we want to notice that there might be different approaches such as:\n",
    "* Purely **generative** approach when one generates the answer on word-by-word basis\n",
    "* [**Mixed**](https://arxiv.org/pdf/1610.07149.pdf) approach when one uses an ensemle of retrieval and generative models. For example, one might consider to sample 10 best answers from the retrieval model and then generate a new answer based on these top-10 retrieved answers as well as the initial sentence."
   ]
  },
  {
   "cell_type": "code",
   "execution_count": 62,
   "metadata": {},
   "outputs": [
    {
     "name": "stdout",
     "output_type": "stream",
     "text": [
      "CPU times: user 2min 12s, sys: 26.2 s, total: 2min 38s\n",
      "Wall time: 51.5 s\n"
     ]
    }
   ],
   "source": [
    "%%time\n",
    "a_train_encoded = a_model.predict(a_train)"
   ]
  },
  {
   "cell_type": "markdown",
   "metadata": {},
   "source": [
    "Once all the answers are encoded the next step is to fit the nearest neighbors model to be able to search the best suitable answer fast.\n",
    "\n",
    "In this task our dataset contains only about 100k example and this number is relatively small. Thus we can apply exact methods for finding the nearest neighbors. Here we use [KD-tree](https://en.wikipedia.org/wiki/K-d_tree) implementation from `scikit-learn`. By default we want to crawl 5 nearest neighbors but it can be changed later when predicting the neigbors. We also use L2 metric as a measure of distance between objects.\n",
    "\n",
    "In case if there are much more examples one can consider to use approximate algorithms for finding nearest neighbors such as [HNSW](https://arxiv.org/abs/1603.09320) or some other."
   ]
  },
  {
   "cell_type": "code",
   "execution_count": 63,
   "metadata": {},
   "outputs": [],
   "source": [
    "nn = NearestNeighbors(n_neighbors=5, metric=\"minkowski\", p=2, n_jobs=-1, algorithm=\"kd_tree\")"
   ]
  },
  {
   "cell_type": "markdown",
   "metadata": {},
   "source": [
    "Fit nearest neighbors model on encoded train answers"
   ]
  },
  {
   "cell_type": "code",
   "execution_count": 64,
   "metadata": {},
   "outputs": [
    {
     "data": {
      "text/plain": [
       "NearestNeighbors(algorithm='kd_tree', leaf_size=30, metric='minkowski',\n",
       "         metric_params=None, n_jobs=-1, n_neighbors=5, p=2, radius=1.0)"
      ]
     },
     "execution_count": 64,
     "metadata": {},
     "output_type": "execute_result"
    }
   ],
   "source": [
    "nn.fit(a_train_encoded)"
   ]
  },
  {
   "cell_type": "markdown",
   "metadata": {},
   "source": [
    "Now we want to see how well our model can perform on the hold-out data.\n",
    "\n",
    "For that purpose let's encode all the validation questions using corresponding tower of DSSM."
   ]
  },
  {
   "cell_type": "code",
   "execution_count": 65,
   "metadata": {},
   "outputs": [
    {
     "name": "stdout",
     "output_type": "stream",
     "text": [
      "CPU times: user 15.6 s, sys: 2.74 s, total: 18.3 s\n",
      "Wall time: 6.2 s\n"
     ]
    }
   ],
   "source": [
    "%%time\n",
    "q_valid_encoded = q_model.predict(q_valid)"
   ]
  },
  {
   "cell_type": "markdown",
   "metadata": {},
   "source": [
    "Once the questions are encoded we need to find the best answers for each of this questions. Here it is done by finding the top-5 nearest neighbors from the encoded train answers."
   ]
  },
  {
   "cell_type": "code",
   "execution_count": 66,
   "metadata": {
    "collapsed": true
   },
   "outputs": [],
   "source": [
    "res = nn.kneighbors(q_valid_encoded)"
   ]
  },
  {
   "cell_type": "markdown",
   "metadata": {},
   "source": [
    "The output of the nearest neighbors model has two arrays:\n",
    "* Distances from the current question to top-5 answers\n",
    "* Indices in the training set of the top-5 answers"
   ]
  },
  {
   "cell_type": "code",
   "execution_count": 67,
   "metadata": {},
   "outputs": [
    {
     "data": {
      "text/plain": [
       "(array([[ 0.45937948,  0.47134749,  0.47134749,  0.50595109,  0.50595109],\n",
       "        [ 0.48726597,  0.49046551,  0.49363977,  0.49363977,  0.49363977],\n",
       "        [ 0.51728206,  0.5365773 ,  0.60844097,  0.64851942,  0.65039169],\n",
       "        ..., \n",
       "        [ 0.68647006,  0.70450206,  0.71578387,  0.71794951,  0.72407286],\n",
       "        [ 0.61131612,  0.69553268,  0.69933685,  0.71098757,  0.73089917],\n",
       "        [ 0.6999138 ,  0.70484366,  0.70562959,  0.70868888,  0.70868888]]),\n",
       " array([[45964, 21881, 51945, 77889, 43694],\n",
       "        [66642, 87042, 35603,   386, 65751],\n",
       "        [81757, 72696, 36941, 52751, 15207],\n",
       "        ..., \n",
       "        [ 4561, 29195, 68940, 62035, 73653],\n",
       "        [31233, 44329, 33822,  4965,  9043],\n",
       "        [28781, 23002, 68011, 81966,  4431]]))"
      ]
     },
     "execution_count": 67,
     "metadata": {},
     "output_type": "execute_result"
    }
   ],
   "source": [
    "res"
   ]
  },
  {
   "cell_type": "markdown",
   "metadata": {},
   "source": [
    "Let's take the first sentence and see how the model performs"
   ]
  },
  {
   "cell_type": "code",
   "execution_count": 68,
   "metadata": {
    "collapsed": true
   },
   "outputs": [],
   "source": [
    "question_idx = 0"
   ]
  },
  {
   "cell_type": "markdown",
   "metadata": {},
   "source": [
    "Question:"
   ]
  },
  {
   "cell_type": "code",
   "execution_count": 69,
   "metadata": {},
   "outputs": [
    {
     "data": {
      "text/plain": [
       "'What county is Raleigh in?'"
      ]
     },
     "execution_count": 69,
     "metadata": {},
     "output_type": "execute_result"
    }
   ],
   "source": [
    "questions[idxs_valid][question_idx]"
   ]
  },
  {
   "cell_type": "markdown",
   "metadata": {},
   "source": [
    "True answer:"
   ]
  },
  {
   "cell_type": "code",
   "execution_count": 70,
   "metadata": {},
   "outputs": [
    {
     "data": {
      "text/plain": [
       "'Dare'"
      ]
     },
     "execution_count": 70,
     "metadata": {},
     "output_type": "execute_result"
    }
   ],
   "source": [
    "answers[idxs_valid][question_idx]"
   ]
  },
  {
   "cell_type": "markdown",
   "metadata": {},
   "source": [
    "Model answer:"
   ]
  },
  {
   "cell_type": "code",
   "execution_count": 71,
   "metadata": {},
   "outputs": [
    {
     "data": {
      "text/plain": [
       "array(['Hampshire County', 'Atlanta Falcons', 'Atlanta Falcons', 'Atlanta',\n",
       "       'Atlanta'], \n",
       "      dtype='<U239')"
      ]
     },
     "execution_count": 71,
     "metadata": {},
     "output_type": "execute_result"
    }
   ],
   "source": [
    "answers[idxs_train][res[1][question_idx]]"
   ]
  },
  {
   "cell_type": "markdown",
   "metadata": {},
   "source": [
    "One can notice that even the answer is wrong (model simply can not know where is the Raleigh) the semantis of the answer is totally correct. Top-1 answer represents really existing counties and the answer can be treated as relevant."
   ]
  },
  {
   "cell_type": "markdown",
   "metadata": {},
   "source": [
    "# Interactive test"
   ]
  },
  {
   "cell_type": "markdown",
   "metadata": {},
   "source": [
    "Now let's wrap all the functionality that we describe in the previous section into the `QAReplier` class which will be able to answer new questions in the text format."
   ]
  },
  {
   "cell_type": "code",
   "execution_count": 72,
   "metadata": {
    "collapsed": true
   },
   "outputs": [],
   "source": [
    "class QAReplier(object):\n",
    "    \n",
    "    def __init__(self, tokenizer, q_model, a_model, **kwargs):\n",
    "        \"\"\"\n",
    "        Constructor\n",
    "        \n",
    "        Args:\n",
    "            tokenizer(keras.Tokenizer): fitted instance of Keras tokenizer class\n",
    "            q_model(keras.Model):       question encoding tower of DSSM in the form of Keras model\n",
    "            a_model(keras.Model):       answer encoding tower of DSSM in the form of Keras model\n",
    "        \n",
    "        Return:\n",
    "            self\n",
    "        \"\"\"\n",
    "        \n",
    "        # call the ancestor constructor\n",
    "        super(QAReplier, self).__init__(**kwargs)\n",
    "        # assign passed parameters to the class fields\n",
    "        self._tk = tokenizer\n",
    "        self._q_model = q_model\n",
    "        self._a_model = a_model\n",
    "        \n",
    "    def _preprocess(self, bank):\n",
    "        \"\"\"\n",
    "        Preprocess the corpus of sentences into the suitable format\n",
    "        to feed into the tower.\n",
    "        \n",
    "        Args:\n",
    "            bank(np.ndarray): array of sentences to preprocess\n",
    "            \n",
    "        Return:\n",
    "            bank_padded(np.ndarray): preprocessed and tokenized sentences\n",
    "        \"\"\"\n",
    "        \n",
    "        bank_processed = []\n",
    "        # iterate over the corpus\n",
    "        for i in range(len(bank)):\n",
    "            # filter out specific symbols, punctuations, \n",
    "            # transform numbers into special <num> token, put everything to lower case\n",
    "            q = \" \".join([w if not w.isdigit() else \"<num>\" for w in text_to_word_sequence(bank[i])])\n",
    "            bank_processed.append(q)\n",
    "        bank_processed = np.array(bank_processed)\n",
    "        \n",
    "        # transform filtered sentences into sequences of tokens\n",
    "        bank_tokenized = self._tk.texts_to_sequences(bank_processed)\n",
    "        \n",
    "        # pad sequences to the desired length (taken from the model input dimensions)\n",
    "        bank_padded = pad_sequences(bank_tokenized, maxlen=self._q_model.layers[0].input_shape[1])\n",
    "        \n",
    "        return bank_padded\n",
    "        \n",
    "    def fit(self, answers_bank):\n",
    "        \"\"\"\n",
    "        Fit the replier model to the predefined set of answers.\n",
    "        All other answers will be chosen from the passed array.\n",
    "        \n",
    "        Args:\n",
    "            answers_bank(np.ndarray): array of sentences from which \n",
    "                                      the model can answer\n",
    "\n",
    "        Return:\n",
    "            self\n",
    "        \"\"\"\n",
    "        \n",
    "        self._answers_bank = answers_bank\n",
    "        # preprocess and then encode answers with the answer tower of DSMM\n",
    "        _answers_bank_encoded = self._a_model.predict(self._preprocess(self._answers_bank))\n",
    "        \n",
    "        # nearest neighbors model to find the most suitable answer\n",
    "        self._replier = NearestNeighbors(n_neighbors=5, \n",
    "                                         metric=\"minkowski\", \n",
    "                                         p=2, \n",
    "                                         n_jobs=-1, \n",
    "                                         algorithm=\"kd_tree\")\n",
    "        # fir nearest neighbors model on the encoded set of answers\n",
    "        self._replier.fit(_answers_bank_encoded)\n",
    "        \n",
    "        return self\n",
    "    \n",
    "    def answer(self, questions, n_answers=5):\n",
    "        \"\"\"\n",
    "        Provide an answer to the given questions.\n",
    "        \n",
    "        Args:\n",
    "            questions(str, list, np.ndarray): questions to the model\n",
    "            n_answers(int):                   number of top answers to return\n",
    "            \n",
    "        Return:\n",
    "            answers(np.ndarray): array of answers to the given questions\n",
    "        \"\"\"\n",
    "        \n",
    "        if type(questions) == str:\n",
    "            questions = np.array([questions])\n",
    "        elif type(questions) == list:\n",
    "            questions = np.array(questions)\n",
    "        elif type(questions) == np.ndarray:\n",
    "            pass\n",
    "        else:\n",
    "            raise ValueError(\"Wrong format of question\")\n",
    "            \n",
    "        questions = self._preprocess(questions)\n",
    "            \n",
    "        questions_encoded = self._q_model.predict(questions)\n",
    "        \n",
    "        res = self._replier.kneighbors(questions_encoded, n_neighbors=n_answers)[1]\n",
    "        \n",
    "        return self._answers_bank[res]"
   ]
  },
  {
   "cell_type": "markdown",
   "metadata": {},
   "source": [
    "Create an instance of the replier class"
   ]
  },
  {
   "cell_type": "code",
   "execution_count": 73,
   "metadata": {
    "collapsed": true
   },
   "outputs": [],
   "source": [
    "replier = QAReplier(tk, q_model, a_model)"
   ]
  },
  {
   "cell_type": "markdown",
   "metadata": {},
   "source": [
    "Fit it"
   ]
  },
  {
   "cell_type": "code",
   "execution_count": 74,
   "metadata": {},
   "outputs": [
    {
     "name": "stdout",
     "output_type": "stream",
     "text": [
      "CPU times: user 2min 52s, sys: 24.8 s, total: 3min 17s\n",
      "Wall time: 1min 14s\n"
     ]
    },
    {
     "data": {
      "text/plain": [
       "<__main__.QAReplier at 0x7f41e1f500b8>"
      ]
     },
     "execution_count": 74,
     "metadata": {},
     "output_type": "execute_result"
    }
   ],
   "source": [
    "%%time\n",
    "replier.fit(answers)"
   ]
  },
  {
   "cell_type": "markdown",
   "metadata": {},
   "source": [
    "Let's have a fun and test it!"
   ]
  },
  {
   "cell_type": "code",
   "execution_count": 75,
   "metadata": {},
   "outputs": [
    {
     "data": {
      "text/plain": [
       "array([['local commanders', 'Vincent van Gogh', 'Vincent van Gogh',\n",
       "        'Bewick', 'Annabel Goldie']], \n",
       "      dtype='<U239')"
      ]
     },
     "execution_count": 75,
     "metadata": {},
     "output_type": "execute_result"
    }
   ],
   "source": [
    "replier.answer(\"Who are you?\")"
   ]
  },
  {
   "cell_type": "code",
   "execution_count": 76,
   "metadata": {},
   "outputs": [
    {
     "data": {
      "text/plain": [
       "array([['about seven-eighths', 'Seven-eighths', 'eighty-seven',\n",
       "        'eighty-seven', 'fifty']], \n",
       "      dtype='<U239')"
      ]
     },
     "execution_count": 76,
     "metadata": {},
     "output_type": "execute_result"
    }
   ],
   "source": [
    "replier.answer(\"How old are you?\")"
   ]
  },
  {
   "cell_type": "code",
   "execution_count": 77,
   "metadata": {},
   "outputs": [
    {
     "data": {
      "text/plain": [
       "array([['beneath the alpine pastures', 'Småland, Sweden',\n",
       "        'Winnipeg and North Bay', 'North Africa or Iberia',\n",
       "        'Shandong Province']], \n",
       "      dtype='<U239')"
      ]
     },
     "execution_count": 77,
     "metadata": {},
     "output_type": "execute_result"
    }
   ],
   "source": [
    "replier.answer(\"Where are you from?\")"
   ]
  },
  {
   "cell_type": "code",
   "execution_count": 78,
   "metadata": {},
   "outputs": [
    {
     "data": {
      "text/plain": [
       "array([['Trojans', 'Trojans', 'Trojans RFC', 'Barcelona', 'Barcelona']], \n",
       "      dtype='<U239')"
      ]
     },
     "execution_count": 78,
     "metadata": {},
     "output_type": "execute_result"
    }
   ],
   "source": [
    "replier.answer(\"Favourite footbal team\")"
   ]
  },
  {
   "cell_type": "code",
   "execution_count": 79,
   "metadata": {},
   "outputs": [
    {
     "data": {
      "text/plain": [
       "array([['about one eighth', '900–14,000', '100 trillion synapses;',\n",
       "        '$13 trillion', '$70 trillion']], \n",
       "      dtype='<U239')"
      ]
     },
     "execution_count": 79,
     "metadata": {},
     "output_type": "execute_result"
    }
   ],
   "source": [
    "replier.answer(\"Flat price in London?\")"
   ]
  }
 ],
 "metadata": {
  "kernelspec": {
   "display_name": "Python 3",
   "language": "python",
   "name": "python3"
  },
  "language_info": {
   "codemirror_mode": {
    "name": "ipython",
    "version": 3
   },
   "file_extension": ".py",
   "mimetype": "text/x-python",
   "name": "python",
   "nbconvert_exporter": "python",
   "pygments_lexer": "ipython3",
   "version": "3.6.0"
  },
  "toc": {
   "colors": {
    "hover_highlight": "#DAA520",
    "navigate_num": "#000000",
    "navigate_text": "#333333",
    "running_highlight": "#FF0000",
    "selected_highlight": "#FFD700",
    "sidebar_border": "#EEEEEE",
    "wrapper_background": "#FFFFFF"
   },
   "moveMenuLeft": true,
   "nav_menu": {},
   "navigate_menu": true,
   "number_sections": true,
   "sideBar": true,
   "skip_h1_title": false,
   "threshold": 4,
   "toc_cell": true,
   "toc_position": {
    "height": "884px",
    "left": "0px",
    "right": "1708px",
    "top": "106px",
    "width": "212px"
   },
   "toc_section_display": "block",
   "toc_window_display": true,
   "widenNotebook": false
  }
 },
 "nbformat": 4,
 "nbformat_minor": 2
}
