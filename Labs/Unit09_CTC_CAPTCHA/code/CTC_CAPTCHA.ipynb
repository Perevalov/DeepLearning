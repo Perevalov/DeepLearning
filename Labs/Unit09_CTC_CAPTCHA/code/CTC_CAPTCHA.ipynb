{
 "cells": [
  {
   "cell_type": "markdown",
   "metadata": {},
   "source": [
    "# CAPTCHA"
   ]
  },
  {
   "cell_type": "markdown",
   "metadata": {},
   "source": [
    "In this notebook the problem of optical character recognition of letter sequences from image is considered."
   ]
  },
  {
   "cell_type": "code",
   "execution_count": 1,
   "metadata": {},
   "outputs": [
    {
     "name": "stderr",
     "output_type": "stream",
     "text": [
      "Using TensorFlow backend.\n"
     ]
    }
   ],
   "source": [
    "import os\n",
    "import json\n",
    "import datetime\n",
    "import editdistance\n",
    "\n",
    "import pandas as pd\n",
    "import numpy as np\n",
    "\n",
    "from keras import backend as K\n",
    "from keras.layers import Convolution2D, MaxPooling2D\n",
    "from keras.layers import GRU, Bidirectional\n",
    "from keras.layers import Dense, TimeDistributed\n",
    "from keras.layers import Input, Permute, Reshape, Lambda, Merge\n",
    "from keras.models import Model, model_from_json\n",
    "from keras.optimizers import SGD\n",
    "from keras.callbacks import Callback\n",
    "from keras.utils.vis_utils import model_to_dot\n",
    "from keras.utils.data_utils import get_file\n",
    "\n",
    "import matplotlib\n",
    "import matplotlib.pyplot as plt\n",
    "import seaborn as sns\n",
    "\n",
    "%matplotlib inline\n",
    "\n",
    "from IPython.display import SVG\n",
    "\n",
    "# local dependencies\n",
    "from ocr_utils import TextImageGenerator, ctc_lambda_func, decode_batch, generate_sample\n",
    "from params import params"
   ]
  },
  {
   "cell_type": "markdown",
   "metadata": {},
   "source": [
    "Set folder for the outputs"
   ]
  },
  {
   "cell_type": "code",
   "execution_count": 2,
   "metadata": {
    "collapsed": true
   },
   "outputs": [],
   "source": [
    "OUTPUT_DIR = \"../data/dumps/\""
   ]
  },
  {
   "cell_type": "markdown",
   "metadata": {},
   "source": [
    "Set style for plotting"
   ]
  },
  {
   "cell_type": "code",
   "execution_count": 3,
   "metadata": {
    "collapsed": true
   },
   "outputs": [],
   "source": [
    "sns.set(style=\"whitegrid\", font_scale=1.3)\n",
    "matplotlib.rcParams[\"legend.framealpha\"] = 1\n",
    "matplotlib.rcParams[\"legend.frameon\"] = True\n",
    "matplotlib.rcParams[\"figure.figsize\"] = (10, 8)\n",
    "matplotlib.rcParams[\"grid.linestyle\"] = \"dashed\""
   ]
  },
  {
   "cell_type": "markdown",
   "metadata": {},
   "source": [
    "Fix random seed for reproducibility"
   ]
  },
  {
   "cell_type": "code",
   "execution_count": 4,
   "metadata": {
    "collapsed": true
   },
   "outputs": [],
   "source": [
    "np.random.seed(42)"
   ]
  },
  {
   "cell_type": "markdown",
   "metadata": {},
   "source": [
    "# Data"
   ]
  },
  {
   "cell_type": "markdown",
   "metadata": {},
   "source": [
    "The dataset is being generated artificially on-th-fly. The step for that are the following:\n",
    "1. Download sufficiently big vocabulary of words\n",
    "2. Use `cairo` library to put this text into the image. While doing that we pick some parameter for the generated image at random:\n",
    "    * Font (font type as well as properties like bold, italic etc.)\n",
    "    * Rotation\n",
    "    * Position at the canvas\n",
    "    * Background noise\n",
    "\n",
    "These steps are implemented via the `TextImageGeneraor` class which can be found in the helper file `image_ocr.py`\n",
    "\n",
    "Basically this class is a generator which later will be passed to the `fit` method of the Keras model."
   ]
  },
  {
   "cell_type": "markdown",
   "metadata": {},
   "source": [
    "Download the list of the words"
   ]
  },
  {
   "cell_type": "code",
   "execution_count": 5,
   "metadata": {},
   "outputs": [
    {
     "name": "stdout",
     "output_type": "stream",
     "text": [
      "Downloading data from http://www.mythic-ai.com/datasets/wordlists.tgz\n"
     ]
    },
    {
     "data": {
      "text/plain": [
       "'/root/shared/Dropbox/ChurchAndDuncan/dl3master/Labs/Unit08_CTC_CAPTCHA/data/wordlists.tgz'"
      ]
     },
     "execution_count": 5,
     "metadata": {},
     "output_type": "execute_result"
    }
   ],
   "source": [
    "get_file(os.path.abspath(\"../data/wordlists.tgz\"),\n",
    "         origin=\"http://www.mythic-ai.com/datasets/wordlists.tgz\", \n",
    "         extract=True, \n",
    "         cache_dir=os.path.abspath(\"../data\"), \n",
    "         cache_subdir=\".\")"
   ]
  },
  {
   "cell_type": "markdown",
   "metadata": {},
   "source": [
    "Word lengths distribution"
   ]
  },
  {
   "cell_type": "code",
   "execution_count": 6,
   "metadata": {
    "collapsed": true
   },
   "outputs": [],
   "source": [
    "lengths = []\n",
    "with open('../data/wordlist_mono_clean.txt', 'rt') as f:\n",
    "    for line in f:\n",
    "        word = line.rstrip()\n",
    "        lengths.append(len(word))\n",
    "lengths = np.array(lengths)"
   ]
  },
  {
   "cell_type": "code",
   "execution_count": 7,
   "metadata": {},
   "outputs": [
    {
     "data": {
      "image/png": "[encoded data removed]",
      "text/plain": [
       "<matplotlib.figure.Figure at 0x7f6f375baf60>"
      ]
     },
     "metadata": {},
     "output_type": "display_data"
    }
   ],
   "source": [
    "plt.hist(lengths, 31, normed=0, facecolor='green', alpha=0.5, label=\"Distribution\")\n",
    "plt.axvline(np.mean(lengths), color=\"r\", lw=3, label=\"Mean length\")\n",
    "plt.xlabel(\"Length\", fontsize=14)\n",
    "plt.ylabel(\"Words\", fontsize=14)\n",
    "plt.title(\"Length distribution\", fontsize=18)\n",
    "plt.legend();"
   ]
  },
  {
   "cell_type": "markdown",
   "metadata": {},
   "source": [
    "Here we also define all the constants in the separate file `params.py`. It is done for the sake of simplicity and to store all the parameters in one place"
   ]
  },
  {
   "cell_type": "code",
   "execution_count": 8,
   "metadata": {},
   "outputs": [
    {
     "name": "stdout",
     "output_type": "stream",
     "text": [
      "----------------------------------------------------------------------------------------------------\n",
      "absolute_max_string_len       16                                                                    \n",
      "batch_size                    32                                                                    \n",
      "epochs                        20                                                                    \n",
      "filters                       16                                                                    \n",
      "img_h                         64                                                                    \n",
      "img_w                         512                                                                   \n",
      "kernel_size                   (3, 3)                                                                \n",
      "pool_size_1                   (4, 4)                                                                \n",
      "pool_size_2                   (2, 2)                                                                \n",
      "rnn_size                      512                                                                   \n",
      "time_dense_size               32                                                                    \n",
      "time_steps                    64                                                                    \n",
      "train_words                   12800                                                                 \n",
      "val_split                     0.2                                                                   \n",
      "val_words                     3200                                                                  \n",
      "words_per_epoch               16000                                                                 \n",
      "----------------------------------------------------------------------------------------------------\n"
     ]
    }
   ],
   "source": [
    "setting = params()\n",
    "setting.words_per_epoch = 16000\n",
    "setting._update()\n",
    "print(setting)"
   ]
  },
  {
   "cell_type": "markdown",
   "metadata": {},
   "source": [
    "`TextImageGenerator` class allows to generate data dynamically during the trainig."
   ]
  },
  {
   "cell_type": "code",
   "execution_count": 9,
   "metadata": {
    "collapsed": true
   },
   "outputs": [],
   "source": [
    "img_gen = TextImageGenerator(monogram_file='../data/wordlist_mono_clean.txt',\n",
    "                             setting=setting)"
   ]
  },
  {
   "cell_type": "markdown",
   "metadata": {},
   "source": [
    "Let's now build a word list from which we're going to sample. Here we want to restrict ourself to the word with length no more than 10 just for example purposes."
   ]
  },
  {
   "cell_type": "code",
   "execution_count": 10,
   "metadata": {
    "collapsed": true
   },
   "outputs": [],
   "source": [
    "img_gen.build_word_list(max_string_len = 10)"
   ]
  },
  {
   "cell_type": "markdown",
   "metadata": {},
   "source": [
    "These are the helper function to draw generated image in the pretty way"
   ]
  },
  {
   "cell_type": "code",
   "execution_count": 11,
   "metadata": {
    "collapsed": true
   },
   "outputs": [],
   "source": [
    "def fix_style(axes, xlabel=\"\"):\n",
    "    \"\"\"\n",
    "    Prettify the axes for OCR drawing\n",
    "    \n",
    "    Args:\n",
    "        axes(plt.axes): axes to prettify\n",
    "        xlabel(string): label for x axis\n",
    "    \n",
    "    Return:\n",
    "        None\n",
    "    \"\"\"\n",
    "    axes.grid(False)\n",
    "    axes.tick_params(which=\"both\", \n",
    "                     bottom=\"off\", \n",
    "                     top=\"off\", \n",
    "                     left=\"off\", \n",
    "                     right=\"off\",\n",
    "                     labelbottom=\"off\",\n",
    "                     labelleft=\"off\")\n",
    "    axes.set_xlabel(xlabel)\n",
    "    \n",
    "def draw(img):\n",
    "    \"\"\"\n",
    "    Draw the image for OCR\n",
    "    \n",
    "    Args:\n",
    "        img(ndarray): image\n",
    "    \n",
    "    Return:\n",
    "        None\n",
    "    \"\"\"\n",
    "    plt.imshow(img, cmap=\"Greys_r\")\n",
    "    fix_style(plt.gca())"
   ]
  },
  {
   "cell_type": "markdown",
   "metadata": {},
   "source": [
    "Let's see the example of the validation data"
   ]
  },
  {
   "cell_type": "code",
   "execution_count": 15,
   "metadata": {},
   "outputs": [
    {
     "data": {
      "image/png": "[encoded data removed]",
      "text/plain": [
       "<matplotlib.figure.Figure at 0x7f6f341b1a20>"
      ]
     },
     "metadata": {},
     "output_type": "display_data"
    }
   ],
   "source": [
    "pic = next(img_gen.next_val())[0][\"input_data\"][0, :, :, 0]\n",
    "draw(pic)"
   ]
  },
  {
   "cell_type": "markdown",
   "metadata": {},
   "source": [
    "# CNN+RNN CTC Model"
   ]
  },
  {
   "cell_type": "markdown",
   "metadata": {},
   "source": [
    "The architecture of the model here is quite complicated thus before proceeding with this notebook we strongly suggest you to go through the `RNN_MNIST` notebook which consequently enhances the model starting from very simple. \n",
    "\n",
    "Here we're using a ***Sequence-2-Sequence*** paradigm and ***CTC*** loss function. The general idea is the follwoing: let's treat every image as a sequence of columns of pixels as if one scans it from left to right.\n",
    "\n",
    "The more detailed description of the architecture can be found below.\n",
    "\n",
    "Also below one can find two sections:\n",
    "* \"*From scratch*\" section creates and trains the model from the very beginning and saves it for later usage\n",
    "* In the \"*Pre-trained*\" section we load the model trained before. If you don't want to spend a lot of time and traing your own model you can immediately proceed to this section"
   ]
  },
  {
   "cell_type": "markdown",
   "metadata": {},
   "source": [
    "## From Scratch"
   ]
  },
  {
   "cell_type": "markdown",
   "metadata": {},
   "source": [
    "In this section we build and train our model from scratch"
   ]
  },
  {
   "cell_type": "markdown",
   "metadata": {},
   "source": [
    "Visualization, saving and validation callback. After each epoch it:\n",
    "* Draws 6 randomly chosen words from validation set with real and predicted labels.\n",
    "* Saves weights\n",
    "* Checks *Edit Distance* on validation set"
   ]
  },
  {
   "cell_type": "code",
   "execution_count": 13,
   "metadata": {
    "collapsed": true
   },
   "outputs": [],
   "source": [
    "class ValCallback(Callback):\n",
    "\n",
    "    def __init__(self, test_func, text_img_gen, val_words, num_display_words=6):\n",
    "        \"\"\"\n",
    "        This callback is called after each epoch.\n",
    "        It saves the weights of the model and draw\n",
    "        an image with prediction and ground truth\n",
    "        for 6 validation examples picked randomly.\n",
    "        Also it calculates metrics (Edit distance and\n",
    "        Normalized ED) on the validation set.\n",
    "        \n",
    "        Args:\n",
    "            test_func(callable): TF function that accepts\n",
    "                                 an image and produces the text\n",
    "            text_img_gen(TextImageGenerator): instance of TextImageGenerator class \n",
    "                                              which is used for training\n",
    "            val_words(int): number of words for the validation\n",
    "            num_display_words(int): number of words to display\n",
    "        \"\"\"\n",
    "        self.test_func = test_func\n",
    "        self.output_dir = os.path.join(\n",
    "            OUTPUT_DIR, datetime.datetime.now().strftime(\"%A, %d. %B %Y %I.%M%p\"))\n",
    "        self.text_img_gen = text_img_gen\n",
    "        self.val_words = val_words\n",
    "        self.num_display_words = num_display_words\n",
    "        self.ed_hist = []\n",
    "        self.norm_ed_hist = []\n",
    "        os.makedirs(self.output_dir)\n",
    "\n",
    "    def show_edit_distance(self, num):\n",
    "        \"\"\"\n",
    "        Calculate the edit distance (ED) and normalized ED\n",
    "        metrics for the validation set.\n",
    "        \n",
    "        Args:\n",
    "            num(int): number of words to trace quality on.\n",
    "                      possibly can be bigger than val_words\n",
    "                      but it does not make sense.\n",
    "        \n",
    "        Return:\n",
    "            None\n",
    "        \"\"\"\n",
    "        # number of words to sample from generator\n",
    "        num_left = num\n",
    "        # variables to store overall metrics\n",
    "        mean_norm_ed = 0.0\n",
    "        mean_ed = 0.0\n",
    "        # sampling cycle\n",
    "        while num_left > 0:\n",
    "            # take one batch of validation words\n",
    "            word_batch = next(self.text_img_gen)[0]\n",
    "            # number of words to process; can be less for the last batch\n",
    "            num_proc = min(word_batch[\"input_data\"].shape[0], num_left)\n",
    "            # decode\n",
    "            decoded_res = decode_batch(self.test_func, word_batch[\"input_data\"][0:num_proc])\n",
    "            # calculate metrics\n",
    "            for j in range(0, num_proc):\n",
    "                edit_dist = editdistance.eval(decoded_res[j], word_batch[\"source_str\"][j])\n",
    "                mean_ed += float(edit_dist)\n",
    "                mean_norm_ed += float(edit_dist) / len(word_batch[\"source_str\"][j])\n",
    "            # update number of words left\n",
    "            num_left -= num_proc\n",
    "        # average cumulatuve metrics\n",
    "        mean_norm_ed = mean_norm_ed / num\n",
    "        mean_ed = mean_ed / num\n",
    "        # apend to the history\n",
    "        self.ed_hist.append(mean_ed)\n",
    "        self.norm_ed_hist.append(mean_norm_ed)\n",
    "        # print results\n",
    "        print(\"\\nOut of {0} samples:  Mean edit distance: {1:.3f} Mean normalized edit distance: {2:.3f}\"\\\n",
    "              .format(num, mean_ed, mean_norm_ed))\n",
    "\n",
    "    def on_epoch_end(self, epoch, logs={}):\n",
    "        \"\"\"\n",
    "        This method is called by Keras after the end of every epoch.\n",
    "        \n",
    "        Args:\n",
    "            epoch(int): number of epochs passed\n",
    "            logs(dict): additional dictionary with logs\n",
    "        \n",
    "        Return:\n",
    "            None\n",
    "        \"\"\"\n",
    "        # save weights of the model\n",
    "        \n",
    "        self.model.save_weights(os.path.join(self.output_dir, \"weights%02d.h5\" % (epoch + 1)))\n",
    "        \n",
    "        # calculate ED and Normalized ED for validation set\n",
    "        \n",
    "        self.show_edit_distance(self.val_words)\n",
    "        \n",
    "        # draw 6 words from validation set for visual check\n",
    "        \n",
    "        # take one batch of words\n",
    "        word_batch = next(self.text_img_gen)[0]\n",
    "        # do a prediction and decode it into the sequence of letters\n",
    "        res = decode_batch(self.test_func, word_batch[\"input_data\"][0:self.num_display_words])\n",
    "        # draw every prediction\n",
    "        for i in range(self.num_display_words):\n",
    "            plt.subplot(self.num_display_words, 1, i + 1)\n",
    "            the_input = word_batch[\"input_data\"][i, :, :, 0]\n",
    "            plt.imshow(the_input, cmap=\"Greys_r\")\n",
    "            fix_style(plt.gca(), \n",
    "                      \"Truth = \\\"{0}\\\"      Decoded = \\\"{1}\\\"\".format(word_batch[\"source_str\"][i], res[i]))\n",
    "        # save figure\n",
    "        fig = plt.gcf()\n",
    "        fig.set_size_inches(10, 12)\n",
    "        plt.savefig(os.path.join(self.output_dir, \"e%02d.png\" % (epoch + 1)), bbox_inches=\"tight\")\n",
    "        plt.close()"
   ]
  },
  {
   "cell_type": "markdown",
   "metadata": {},
   "source": [
    "Check (and possibly change) the parameters which will be used later. There is a special `_update` method which recalculate all the dependencies in the parameters such that all of them are consistent."
   ]
  },
  {
   "cell_type": "code",
   "execution_count": 14,
   "metadata": {},
   "outputs": [
    {
     "name": "stdout",
     "output_type": "stream",
     "text": [
      "----------------------------------------------------------------------------------------------------\n",
      "absolute_max_string_len       16                                                                    \n",
      "batch_size                    32                                                                    \n",
      "epochs                        20                                                                    \n",
      "filters                       16                                                                    \n",
      "img_h                         64                                                                    \n",
      "img_w                         512                                                                   \n",
      "kernel_size                   (3, 3)                                                                \n",
      "pool_size_1                   (4, 4)                                                                \n",
      "pool_size_2                   (2, 2)                                                                \n",
      "rnn_size                      512                                                                   \n",
      "time_dense_size               32                                                                    \n",
      "time_steps                    64                                                                    \n",
      "train_words                   12800                                                                 \n",
      "val_split                     0.2                                                                   \n",
      "val_words                     3200                                                                  \n",
      "words_per_epoch               16000                                                                 \n",
      "----------------------------------------------------------------------------------------------------\n"
     ]
    }
   ],
   "source": [
    "setting = params()\n",
    "setting.words_per_epoch = 16000\n",
    "setting._update()\n",
    "print(setting)"
   ]
  },
  {
   "cell_type": "markdown",
   "metadata": {},
   "source": [
    "Set the correct input dimension order for batch (Theano and Tensorflow has different). Here we're going to use TF notation where the channel dimension is the last."
   ]
  },
  {
   "cell_type": "code",
   "execution_count": 15,
   "metadata": {
    "collapsed": true
   },
   "outputs": [],
   "source": [
    "input_shape = (setting.img_h, setting.img_w, 1)"
   ]
  },
  {
   "cell_type": "markdown",
   "metadata": {},
   "source": [
    "Create an instance of TextImageGenerator class which generates training and validation data batch by batch (for further details see `ocr_utils.py`)"
   ]
  },
  {
   "cell_type": "code",
   "execution_count": 16,
   "metadata": {
    "collapsed": true
   },
   "outputs": [],
   "source": [
    "img_gen = TextImageGenerator(monogram_file=\"../data/wordlist_mono_clean.txt\",\n",
    "                             setting=setting)"
   ]
  },
  {
   "cell_type": "markdown",
   "metadata": {},
   "source": [
    "### Build"
   ]
  },
  {
   "cell_type": "markdown",
   "metadata": {},
   "source": [
    "Let's finally define the architecture of the network. Here we're going to use functional Keras API."
   ]
  },
  {
   "cell_type": "markdown",
   "metadata": {},
   "source": [
    "First layer is an input layer which accepts the initial images"
   ]
  },
  {
   "cell_type": "code",
   "execution_count": 17,
   "metadata": {
    "collapsed": true
   },
   "outputs": [],
   "source": [
    "input_data = Input(name=\"input_data\", \n",
    "                   shape=input_shape, \n",
    "                   dtype=\"float32\")"
   ]
  },
  {
   "cell_type": "markdown",
   "metadata": {},
   "source": [
    "CNNs are known to be the best for images. So let's apply convolutional layer to detect some meaningful features. Also we want to apply max pooling on top of that to impose translational invariance to small movements as well as reduce the dimension"
   ]
  },
  {
   "cell_type": "code",
   "execution_count": null,
   "metadata": {
    "collapsed": true
   },
   "outputs": [],
   "source": [
    "cnn = Convolution2D(filters=setting.filters, \n",
    "                    kernel_size=setting.kernel_size, \n",
    "                    padding=\"same\",\n",
    "                    activation=\"relu\", \n",
    "                    name=\"conv1\")(input_data)\n",
    "cnn = MaxPooling2D(pool_size=setting.pool_size_1, \n",
    "                   name=\"pool1\")(cnn)"
   ]
  },
  {
   "cell_type": "markdown",
   "metadata": {},
   "source": [
    "Let's apply the same block again to make our model deeper and more representative"
   ]
  },
  {
   "cell_type": "code",
   "execution_count": 18,
   "metadata": {
    "collapsed": true
   },
   "outputs": [],
   "source": [
    "cnn = Convolution2D(filters=setting.filters, \n",
    "                    kernel_size=setting.kernel_size, \n",
    "                    padding=\"same\",\n",
    "                    activation=\"relu\", \n",
    "                    name=\"conv2\")(cnn)\n",
    "cnn = MaxPooling2D(pool_size=setting.pool_size_2, \n",
    "                   name=\"pool2\")(cnn)"
   ]
  },
  {
   "cell_type": "markdown",
   "metadata": {},
   "source": [
    "After that stage we have the output with the shape $(8, 64, 16)$. Here $8$ corresponds to the initial height dimension, $64$ corresponds to the initial width dimension and $16$ is for channel dimension.\n",
    "\n",
    "Our text is placed horizontally mostly (with some small rotations). Let's slice the features maps across the width dimension and then flatten all the feature maps across the height dimension to get one feature vector which we can later pass to LSTM.\n",
    "\n",
    "The principal scheme is shown below.\n",
    "\n",
    "<img src=\"./diagram.png\">\n",
    "\n",
    "For now we have our width dimension on the second place. Let's first *permute* the order of the dimension such that the width becomes first one. This is needed because LSTM should apply 2D tensor with the dimensions $(\\text{Timesteps}, \\text{Features})$ and we want to have width dimension as timesteps. All these operations are done with `Permute` layer.\n",
    "\n",
    "After doing a permution we can flatten our height dimension across feature maps. It can be done with `Reshape` layer."
   ]
  },
  {
   "cell_type": "code",
   "execution_count": 19,
   "metadata": {
    "collapsed": true
   },
   "outputs": [],
   "source": [
    "hid = Permute((2, 1, 3), \n",
    "              name=\"permute\")(cnn)\n",
    "hid = Reshape(target_shape=(setting.time_steps, -1), \n",
    "              name=\"reshape\")(hid)"
   ]
  },
  {
   "cell_type": "markdown",
   "metadata": {},
   "source": [
    "The size of the feature dimension is 128 now. Let's cut it down before passing to LSTM. It can be done with simple `Dense` layer applied to each timesteps which can be achieved with `TimeDistributed` wrapper."
   ]
  },
  {
   "cell_type": "code",
   "execution_count": 20,
   "metadata": {
    "collapsed": true
   },
   "outputs": [],
   "source": [
    "hid = TimeDistributed(Dense(setting.time_dense_size, activation=\"relu\"), name=\"dense1\")(hid)"
   ]
  },
  {
   "cell_type": "markdown",
   "metadata": {},
   "source": [
    "Now we're finally ready to feed our vectors into recurrent network. After CNN feature detection part we hope that these vectors will be much more representative that the initial image columns.\n",
    "\n",
    "Recurrent network is composed of two Bidirectional GRU layers stacked on top of each other. `Bidirectional` is just a wrapper from keras which specifies that input sequence should be fed in forward order as well as in reversed. It creates layer with twice number of units specified in the internal layer (here we have GRU with 512 units thus final bidirectional layer will have 1024). Then it splits all the units into two groups:\n",
    "* Half of the units are given with forward order of the sequence\n",
    "* Another half are given with reversed sequence\n",
    "\n",
    "Also one can play around with the `merge_mode` which is responsible for combining the results of the forward and reversed directions. Here we're using `sum` in the first layer and `concat` in the second."
   ]
  },
  {
   "cell_type": "code",
   "execution_count": 21,
   "metadata": {
    "collapsed": true
   },
   "outputs": [],
   "source": [
    "rnn = Bidirectional(GRU(units=setting.rnn_size, \n",
    "                        return_sequences=True), \n",
    "                    merge_mode=\"sum\", \n",
    "                    name=\"gru1\")(hid)\n",
    "rnn = Bidirectional(GRU(units=setting.rnn_size, \n",
    "                        return_sequences=True), \n",
    "                    merge_mode=\"concat\", \n",
    "                    name=\"gru2\")(rnn)"
   ]
  },
  {
   "cell_type": "markdown",
   "metadata": {},
   "source": [
    "After recurrent layers we're ready to classify sequnces. For that purpose let's use again `TimeDistributed` wrapper for `Dense` layer which can consequently apply `Dense` layer to all timesteps of the sequence.\n",
    "\n",
    "The idea is to transforms RNN output to probability distribution over the characters."
   ]
  },
  {
   "cell_type": "code",
   "execution_count": 22,
   "metadata": {
    "collapsed": true
   },
   "outputs": [],
   "source": [
    "out = TimeDistributed(Dense(units=img_gen.get_output_size(), \n",
    "                            activation=\"softmax\"), \n",
    "                      name=\"softmax\")(rnn)"
   ]
  },
  {
   "cell_type": "markdown",
   "metadata": {},
   "source": [
    "That's the main part of our model. Let's compile it and see the summary"
   ]
  },
  {
   "cell_type": "code",
   "execution_count": 23,
   "metadata": {},
   "outputs": [
    {
     "name": "stdout",
     "output_type": "stream",
     "text": [
      "_________________________________________________________________\n",
      "Layer (type)                 Output Shape              Param #   \n",
      "=================================================================\n",
      "input_data (InputLayer)      (None, 64, 512, 1)        0         \n",
      "_________________________________________________________________\n",
      "conv1 (Conv2D)               (None, 64, 512, 16)       160       \n",
      "_________________________________________________________________\n",
      "pool1 (MaxPooling2D)         (None, 16, 128, 16)       0         \n",
      "_________________________________________________________________\n",
      "conv2 (Conv2D)               (None, 16, 128, 16)       2320      \n",
      "_________________________________________________________________\n",
      "pool2 (MaxPooling2D)         (None, 8, 64, 16)         0         \n",
      "_________________________________________________________________\n",
      "permute_1 (Permute)          (None, 64, 8, 16)         0         \n",
      "_________________________________________________________________\n",
      "reshape (Reshape)            (None, 64, 128)           0         \n",
      "_________________________________________________________________\n",
      "dense1 (TimeDistributed)     (None, 64, 32)            4128      \n",
      "_________________________________________________________________\n",
      "gru1 (Bidirectional)         (None, 64, 512)           1674240   \n",
      "_________________________________________________________________\n",
      "gru2 (Bidirectional)         (None, 64, 1024)          3148800   \n",
      "_________________________________________________________________\n",
      "softmax (TimeDistributed)    (None, 64, 28)            28700     \n",
      "=================================================================\n",
      "Total params: 4,858,348\n",
      "Trainable params: 4,858,348\n",
      "Non-trainable params: 0\n",
      "_________________________________________________________________\n"
     ]
    }
   ],
   "source": [
    "Model(inputs=[input_data], outputs=[out]).summary()"
   ]
  },
  {
   "cell_type": "markdown",
   "metadata": {},
   "source": [
    "One big issue arises is the length of the output sequence. As one can see, the number of output steps is equal to the number of input. It means that we have 64 steps as an output while real output sequences contain no more than 16 (see restrictions in implementation of `TextImageGenerator` class). Moreover, real output sequences may vary in length which is even bigger problem.\n",
    "\n",
    "To tackle this problem we're going to use ***CTC*** loss function. See lectures or [the original paper](http://www.cs.toronto.edu/~graves/icml_2006.pdf) for more details. One technical problem with this loss function is that is requires not only predictions, real labels and length of predictions (this can be achieved by masking) but also the length of the real label sequence which can differ from input length.\n",
    "\n",
    "Currently Keras does not support additional parameters to the loss function. Thus the only way is to create input layers for each of the described parameters and then implement *CTC* loss computation in `Lambda` layer. `Lambda` layer allows to use any TF function for calculation of the outputs. Actually it is a poor way to implement new layer.\n",
    "\n",
    "First of all, let's create `Input` layers for the required inputs."
   ]
  },
  {
   "cell_type": "code",
   "execution_count": null,
   "metadata": {
    "collapsed": true
   },
   "outputs": [],
   "source": [
    "input_labels = Input(name='input_labels', shape=(img_gen.absolute_max_string_len,), dtype='float32')\n",
    "input_length = Input(name='input_length', shape=(1,), dtype='int32')\n",
    "label_length = Input(name='label_length', shape=(1,), dtype='int32')"
   ]
  },
  {
   "cell_type": "markdown",
   "metadata": {},
   "source": [
    "Here the parameters should be the following:\n",
    "* *input_labels* contains a sequence of real labels (characters) appended with $-1$ from the end to have equal length with all other sequences to be able to form a tensor.\n",
    "* *input_length* is a 1D vector which contains the real length of the input; in case of our task the real input always has length of 64 (number of timesteps)\n",
    "* *label_length* should contain the length of the word at the output\n",
    "\n",
    "Now let's define described `Lambda` layer. Here we want to use `ctc_lambda_func` which is implemented in `ocr_utils.py`. It uses the inderlying *TensorFlow* function."
   ]
  },
  {
   "cell_type": "code",
   "execution_count": 24,
   "metadata": {
    "collapsed": true
   },
   "outputs": [],
   "source": [
    "loss_out = Lambda(function=ctc_lambda_func, \n",
    "                  output_shape=(1,), \n",
    "                  name=\"ctc\")([out, input_labels, input_length, label_length])"
   ]
  },
  {
   "cell_type": "markdown",
   "metadata": {},
   "source": [
    "Now we can define our final model"
   ]
  },
  {
   "cell_type": "code",
   "execution_count": null,
   "metadata": {
    "collapsed": true
   },
   "outputs": [],
   "source": [
    "model = Model(inputs=[input_data, input_labels, input_length, label_length], outputs=[loss_out])"
   ]
  },
  {
   "cell_type": "markdown",
   "metadata": {},
   "source": [
    "Notice that the generator in `TextImageGenerator` is built in such a way that it outputs the data in the required by this architecutre format. So you should not change anything by hand."
   ]
  },
  {
   "cell_type": "markdown",
   "metadata": {},
   "source": [
    "### Train"
   ]
  },
  {
   "cell_type": "markdown",
   "metadata": {},
   "source": [
    "For training we're going to use simple **SGD** oprimizer with **Nesterov momentum** and gradient clipping to avoid vanishing gradients problem."
   ]
  },
  {
   "cell_type": "code",
   "execution_count": 26,
   "metadata": {
    "collapsed": true
   },
   "outputs": [],
   "source": [
    "lr = 0.03\n",
    "clipnorm = 5\n",
    "sgd = SGD(lr=lr, decay=3e-7, momentum=0.9, nesterov=True, clipnorm=clipnorm)"
   ]
  },
  {
   "cell_type": "markdown",
   "metadata": {},
   "source": [
    "Notice the the loss computation is done inside the network so the actual output of the network is not the predicted sequence of labels but the loss. It creates problems with prediction stage which will be resolved later. Now we should compile our model. Keras requires to explicitly provide loss function to compile model. Because the actual error computation has already been done (it is a prediction) let's just pass the prediction through the loss function (dummy loss function)."
   ]
  },
  {
   "cell_type": "code",
   "execution_count": 27,
   "metadata": {
    "collapsed": true
   },
   "outputs": [],
   "source": [
    "model.compile(loss={'ctc': lambda y_true, y_pred: y_pred}, optimizer=sgd)"
   ]
  },
  {
   "cell_type": "markdown",
   "metadata": {},
   "source": [
    "Now let's create a TF function that takes our input image and outputs the sequence of probability distributions that would be later collapsed into real short character sequence."
   ]
  },
  {
   "cell_type": "code",
   "execution_count": null,
   "metadata": {
    "collapsed": true
   },
   "outputs": [],
   "source": [
    "test_func = K.function([input_data], [out])"
   ]
  },
  {
   "cell_type": "markdown",
   "metadata": {},
   "source": [
    "Now we're finally ready to train our network. Let's create an instance of the `ValCallback` defined above to trace training process."
   ]
  },
  {
   "cell_type": "code",
   "execution_count": 28,
   "metadata": {
    "collapsed": true
   },
   "outputs": [],
   "source": [
    "cb = ValCallback(test_func, img_gen.next_val(), setting.val_words)"
   ]
  },
  {
   "cell_type": "markdown",
   "metadata": {},
   "source": [
    "And set the number of epochs"
   ]
  },
  {
   "cell_type": "code",
   "execution_count": 29,
   "metadata": {
    "collapsed": true
   },
   "outputs": [],
   "source": [
    "setting.epochs = 20"
   ]
  },
  {
   "cell_type": "markdown",
   "metadata": {},
   "source": [
    "The training is done in two stages:\n",
    "* At the initial stage the task of the model is to learn translational invariance over the image. It seems to be the hard task. Thus we're starting with short words no more than **4** letters (see `on_train_begin` method of `TextImageGenerator`)\n",
    "* When the translational invariance is learnt (10 epochs) we can start to feed longer words to our model (see `on_epoch_begin` method of `TextImageGenerator`). Now the maximum length is equal to **8**.\n",
    "\n",
    "This gradual increase in complexity of words will hopefully ease the learning procedure."
   ]
  },
  {
   "cell_type": "code",
   "execution_count": 30,
   "metadata": {
    "scrolled": false
   },
   "outputs": [
    {
     "name": "stderr",
     "output_type": "stream",
     "text": [
      "/opt/conda/lib/python3.6/site-packages/keras/backend/tensorflow_backend.py:2252: UserWarning: Expected no kwargs, you passed 1\n",
      "kwargs passed to function are ignored with Tensorflow backend\n",
      "  warnings.warn('\\n'.join(msg))\n"
     ]
    },
    {
     "name": "stdout",
     "output_type": "stream",
     "text": [
      "Epoch 1/20\n",
      "399/400 [============================>.] - ETA: 0s - loss: 12.3109\n",
      "Out of 3200 samples:  Mean edit distance: 3.625 Mean normalized edit distance: 1.000\n",
      "400/400 [==============================] - 212s - loss: 12.3083 - val_loss: 12.6181\n",
      "Epoch 2/20\n",
      "399/400 [============================>.] - ETA: 0s - loss: 11.0390\n",
      "Out of 3200 samples:  Mean edit distance: 3.625 Mean normalized edit distance: 1.000\n",
      "400/400 [==============================] - 215s - loss: 11.0386 - val_loss: 12.6224\n",
      "Epoch 3/20\n",
      "399/400 [============================>.] - ETA: 0s - loss: 10.9846\n",
      "Out of 3200 samples:  Mean edit distance: 3.367 Mean normalized edit distance: 0.932\n",
      "400/400 [==============================] - 220s - loss: 10.9848 - val_loss: 12.5091\n",
      "Epoch 4/20\n",
      "399/400 [============================>.] - ETA: 0s - loss: 10.9234\n",
      "Out of 3200 samples:  Mean edit distance: 3.235 Mean normalized edit distance: 0.899\n",
      "400/400 [==============================] - 228s - loss: 10.9222 - val_loss: 12.4519\n",
      "Epoch 5/20\n",
      "399/400 [============================>.] - ETA: 0s - loss: 10.3649\n",
      "Out of 3200 samples:  Mean edit distance: 3.183 Mean normalized edit distance: 0.883\n",
      "400/400 [==============================] - 230s - loss: 10.3641 - val_loss: 12.0559\n",
      "Epoch 6/20\n",
      "399/400 [============================>.] - ETA: 0s - loss: 10.1510\n",
      "Out of 3200 samples:  Mean edit distance: 3.207 Mean normalized edit distance: 0.890\n",
      "400/400 [==============================] - 236s - loss: 10.1517 - val_loss: 12.3701\n",
      "Epoch 7/20\n",
      "399/400 [============================>.] - ETA: 0s - loss: 9.7379\n",
      "Out of 3200 samples:  Mean edit distance: 3.062 Mean normalized edit distance: 0.852\n",
      "400/400 [==============================] - 240s - loss: 9.7363 - val_loss: 11.1303\n",
      "Epoch 8/20\n",
      "399/400 [============================>.] - ETA: 0s - loss: 8.7977\n",
      "Out of 3200 samples:  Mean edit distance: 2.963 Mean normalized edit distance: 0.822\n",
      "400/400 [==============================] - 246s - loss: 8.7972 - val_loss: 10.0812\n",
      "Epoch 9/20\n",
      "399/400 [============================>.] - ETA: 0s - loss: 7.7793\n",
      "Out of 3200 samples:  Mean edit distance: 2.791 Mean normalized edit distance: 0.776\n",
      "400/400 [==============================] - 253s - loss: 7.7770 - val_loss: 9.2202\n",
      "Epoch 10/20\n",
      "399/400 [============================>.] - ETA: 0s - loss: 6.4070\n",
      "Out of 3200 samples:  Mean edit distance: 2.267 Mean normalized edit distance: 0.632\n",
      "400/400 [==============================] - 259s - loss: 6.4037 - val_loss: 6.8741\n",
      "Epoch 11/20\n",
      "399/400 [============================>.] - ETA: 0s - loss: 2.1538\n",
      "Out of 3200 samples:  Mean edit distance: 1.028 Mean normalized edit distance: 0.207\n",
      "400/400 [==============================] - 266s - loss: 2.1492 - val_loss: 0.7229\n",
      "Epoch 12/20\n",
      "399/400 [============================>.] - ETA: 0s - loss: 0.4254\n",
      "Out of 3200 samples:  Mean edit distance: 0.140 Mean normalized edit distance: 0.028\n",
      "400/400 [==============================] - 273s - loss: 0.4251 - val_loss: 0.4497\n",
      "Epoch 13/20\n",
      "399/400 [============================>.] - ETA: 0s - loss: 0.2875\n",
      "Out of 3200 samples:  Mean edit distance: 0.091 Mean normalized edit distance: 0.019\n",
      "400/400 [==============================] - 277s - loss: 0.2867 - val_loss: 0.3404\n",
      "Epoch 14/20\n",
      "399/400 [============================>.] - ETA: 0s - loss: 0.2131\n",
      "Out of 3200 samples:  Mean edit distance: 0.104 Mean normalized edit distance: 0.021\n",
      "400/400 [==============================] - 282s - loss: 0.2128 - val_loss: 0.2972\n",
      "Epoch 15/20\n",
      "399/400 [============================>.] - ETA: 0s - loss: 0.1312\n",
      "Out of 3200 samples:  Mean edit distance: 0.060 Mean normalized edit distance: 0.012\n",
      "400/400 [==============================] - 288s - loss: 0.1308 - val_loss: 0.1895\n",
      "Epoch 16/20\n",
      "399/400 [============================>.] - ETA: 0s - loss: 0.0992\n",
      "Out of 3200 samples:  Mean edit distance: 0.044 Mean normalized edit distance: 0.009\n",
      "400/400 [==============================] - 294s - loss: 0.0990 - val_loss: 0.1377\n",
      "Epoch 17/20\n",
      "399/400 [============================>.] - ETA: 0s - loss: 0.0735\n",
      "Out of 3200 samples:  Mean edit distance: 0.058 Mean normalized edit distance: 0.011\n",
      "400/400 [==============================] - 302s - loss: 0.0738 - val_loss: 0.1650\n",
      "Epoch 18/20\n",
      "399/400 [============================>.] - ETA: 0s - loss: 0.0666\n",
      "Out of 3200 samples:  Mean edit distance: 0.196 Mean normalized edit distance: 0.037\n",
      "400/400 [==============================] - 308s - loss: 0.0680 - val_loss: 0.2217\n",
      "Epoch 19/20\n",
      "399/400 [============================>.] - ETA: 0s - loss: 0.0538\n",
      "Out of 3200 samples:  Mean edit distance: 0.190 Mean normalized edit distance: 0.038\n",
      "400/400 [==============================] - 314s - loss: 0.0535 - val_loss: 0.1436\n",
      "Epoch 20/20\n",
      "399/400 [============================>.] - ETA: 0s - loss: 0.0501\n",
      "Out of 3200 samples:  Mean edit distance: 0.251 Mean normalized edit distance: 0.049\n",
      "400/400 [==============================] - 321s - loss: 0.0499 - val_loss: 0.1919\n"
     ]
    }
   ],
   "source": [
    "hist = model.fit_generator(generator=img_gen.next_train(), \n",
    "                           steps_per_epoch=int(np.ceil(setting.train_words * 1. / setting.batch_size)),\n",
    "                           epochs=setting.epochs, \n",
    "                           validation_data=img_gen.next_val(), \n",
    "                           validation_steps=int(np.ceil(setting.val_words * 1. / setting.batch_size)),\n",
    "                           callbacks=[cb, img_gen])"
   ]
  },
  {
   "cell_type": "markdown",
   "metadata": {},
   "source": [
    "### Save"
   ]
  },
  {
   "cell_type": "markdown",
   "metadata": {},
   "source": [
    "Learning takes quite a lot of time so let's save out model for further usage. Model in Keras is composed of two parts:\n",
    "* Architecture\n",
    "* Weights\n",
    "\n",
    "They should be saved separately. We was saving the weights after each epoch with `ValCallback` so here we don't need to do it again."
   ]
  },
  {
   "cell_type": "code",
   "execution_count": 31,
   "metadata": {
    "collapsed": true
   },
   "outputs": [],
   "source": [
    "architecture = model.to_json()\n",
    "with open(os.path.join(cb.output_dir, \"architecture.json\"), \"w\") as json_file:\n",
    "    json_file.write(architecture)"
   ]
  },
  {
   "cell_type": "markdown",
   "metadata": {},
   "source": [
    "Let's also save the history of the training (both CTC loss and Edit Distance loss) for further analysis"
   ]
  },
  {
   "cell_type": "code",
   "execution_count": 32,
   "metadata": {
    "collapsed": true
   },
   "outputs": [],
   "source": [
    "hist_full = pd.DataFrame(np.array([hist.history[\"loss\"], \n",
    "                                   hist.history[\"val_loss\"], \n",
    "                                   cb.ed_hist, \n",
    "                                   cb.norm_ed_hist]).T, \n",
    "                         columns=[\"Train CTC Loss\", \n",
    "                                  \"Test CTC Loss\", \n",
    "                                  \"Test Edit Distance\", \n",
    "                                  \"Test Normalized Edit Distance\"], \n",
    "                         index=np.arange(1, setting.epochs + 1))"
   ]
  },
  {
   "cell_type": "code",
   "execution_count": 33,
   "metadata": {
    "collapsed": true
   },
   "outputs": [],
   "source": [
    "hist_full.to_csv(os.path.join(cb.output_dir, \"hist.csv\"))"
   ]
  },
  {
   "cell_type": "markdown",
   "metadata": {},
   "source": [
    "## Pre-trained"
   ]
  },
  {
   "cell_type": "markdown",
   "metadata": {},
   "source": [
    "Let's load early pre-trained model"
   ]
  },
  {
   "cell_type": "code",
   "execution_count": 16,
   "metadata": {
    "collapsed": true
   },
   "outputs": [],
   "source": [
    "model_dir = os.path.join(OUTPUT_DIR, \"Saturday, 10. June 2017 05.04PM\")"
   ]
  },
  {
   "cell_type": "markdown",
   "metadata": {},
   "source": [
    "First of all, let's download the pre-trained weights. [Here](https://www.dropbox.com/s/urooqrx7ieoib4z/weights19.h5) is the link."
   ]
  },
  {
   "cell_type": "code",
   "execution_count": 17,
   "metadata": {},
   "outputs": [
    {
     "name": "stdout",
     "output_type": "stream",
     "text": [
      "--2017-06-12 22:31:20--  https://www.dropbox.com/s/fp85dy3h00b0vwm/weights19.h5\n",
      "Resolving www.dropbox.com (www.dropbox.com)... 162.125.8.1\n",
      "Connecting to www.dropbox.com (www.dropbox.com)|162.125.8.1|:443... connected.\n",
      "HTTP request sent, awaiting response... 302 Found\n",
      "Location: https://dl.dropboxusercontent.com/content_link/dJtHKBEsDlFZ5Vi7lw8F3mA35KKBqKzYL9RejhERr5OFfjukzMwbnfAvSso4t91W/file [following]\n",
      "--2017-06-12 22:31:21--  https://dl.dropboxusercontent.com/content_link/dJtHKBEsDlFZ5Vi7lw8F3mA35KKBqKzYL9RejhERr5OFfjukzMwbnfAvSso4t91W/file\n",
      "Resolving dl.dropboxusercontent.com (dl.dropboxusercontent.com)... 162.125.48.131\n",
      "Connecting to dl.dropboxusercontent.com (dl.dropboxusercontent.com)|162.125.48.131|:443... connected.\n",
      "HTTP request sent, awaiting response... 200 OK\n",
      "Length: 19471576 (19M) [application/octet-stream]\n",
      "Saving to: 'weights19.h5'\n",
      "\n",
      "weights19.h5        100%[===================>]  18.57M  3.18MB/s    in 8.0s    \n",
      "\n",
      "2017-06-12 22:31:31 (2.31 MB/s) - 'weights19.h5' saved [19471576/19471576]\n",
      "\n"
     ]
    }
   ],
   "source": [
    "!wget https://www.dropbox.com/s/urooqrx7ieoib4z/weights19.h5\n",
    "os.rename(\"weights19.h5\", os.path.join(model_dir, \"weights19.h5\"))"
   ]
  },
  {
   "cell_type": "markdown",
   "metadata": {},
   "source": [
    "Load architecture"
   ]
  },
  {
   "cell_type": "code",
   "execution_count": 18,
   "metadata": {
    "collapsed": true
   },
   "outputs": [],
   "source": [
    "with open(os.path.join(model_dir, \"architecture.json\")) as f:\n",
    "    architecture = f.read()\n",
    "model = model_from_json(architecture)"
   ]
  },
  {
   "cell_type": "markdown",
   "metadata": {},
   "source": [
    "Reproduce the optimizer:"
   ]
  },
  {
   "cell_type": "code",
   "execution_count": 19,
   "metadata": {
    "collapsed": true
   },
   "outputs": [],
   "source": [
    "lr = 0.03\n",
    "clipnorm = 5\n",
    "sgd = SGD(lr=lr, decay=3e-7, momentum=0.9, nesterov=True, clipnorm=clipnorm)"
   ]
  },
  {
   "cell_type": "markdown",
   "metadata": {},
   "source": [
    "Compile the model"
   ]
  },
  {
   "cell_type": "code",
   "execution_count": 20,
   "metadata": {
    "collapsed": true
   },
   "outputs": [],
   "source": [
    "model.compile(loss={'ctc': lambda y_true, y_pred: y_pred}, optimizer=sgd)"
   ]
  },
  {
   "cell_type": "markdown",
   "metadata": {},
   "source": [
    "Now let's create a TF function that takes our input image and outputs the sequence of probability distributions that would be later collapsed into real short character sequence. We can't use simple predict becuase the CTC loss is computed through Lambda layer and is the actual output of the model. Fur further explanation see `Build` section above"
   ]
  },
  {
   "cell_type": "code",
   "execution_count": 21,
   "metadata": {
    "collapsed": true
   },
   "outputs": [],
   "source": [
    "test_func = K.function([model.layers[0].input],\n",
    "                       [model.layers[-5].output])"
   ]
  },
  {
   "cell_type": "markdown",
   "metadata": {},
   "source": [
    "Let's see the model architecture"
   ]
  },
  {
   "cell_type": "code",
   "execution_count": 22,
   "metadata": {
    "scrolled": false
   },
   "outputs": [
    {
     "data": {
      "image/svg+xml": [
       "<svg height=\"968pt\" viewBox=\"0.00 0.00 1637.50 968.00\" width=\"1638pt\" xmlns=\"http://www.w3.org/2000/svg\" xmlns:xlink=\"http://www.w3.org/1999/xlink\">\n",
       "<g class=\"graph\" id=\"graph0\" transform=\"scale(1 1) rotate(0) translate(4 964)\">\n",
       "<title>G</title>\n",
       "<polygon fill=\"white\" points=\"-4,4 -4,-964 1633.5,-964 1633.5,4 -4,4\" stroke=\"none\"/>\n",
       "<!-- 140115592892880 -->\n",
       "<g class=\"node\" id=\"node1\"><title>140115592892880</title>\n",
       "<polygon fill=\"none\" points=\"66,-913.5 66,-959.5 462,-959.5 462,-913.5 66,-913.5\" stroke=\"black\"/>\n",
       "<text font-family=\"Times,serif\" font-size=\"14.00\" text-anchor=\"middle\" x=\"157\" y=\"-932.8\">input_data: InputLayer</text>\n",
       "<polyline fill=\"none\" points=\"248,-913.5 248,-959.5 \" stroke=\"black\"/>\n",
       "<text font-family=\"Times,serif\" font-size=\"14.00\" text-anchor=\"middle\" x=\"282\" y=\"-944.3\">input:</text>\n",
       "<polyline fill=\"none\" points=\"248,-936.5 316,-936.5 \" stroke=\"black\"/>\n",
       "<text font-family=\"Times,serif\" font-size=\"14.00\" text-anchor=\"middle\" x=\"282\" y=\"-921.3\">output:</text>\n",
       "<polyline fill=\"none\" points=\"316,-913.5 316,-959.5 \" stroke=\"black\"/>\n",
       "<text font-family=\"Times,serif\" font-size=\"14.00\" text-anchor=\"middle\" x=\"389\" y=\"-944.3\">(None, 64, 512, 1)</text>\n",
       "<polyline fill=\"none\" points=\"316,-936.5 462,-936.5 \" stroke=\"black\"/>\n",
       "<text font-family=\"Times,serif\" font-size=\"14.00\" text-anchor=\"middle\" x=\"389\" y=\"-921.3\">(None, 64, 512, 1)</text>\n",
       "</g>\n",
       "<!-- 140115579635472 -->\n",
       "<g class=\"node\" id=\"node2\"><title>140115579635472</title>\n",
       "<polygon fill=\"none\" points=\"90,-830.5 90,-876.5 438,-876.5 438,-830.5 90,-830.5\" stroke=\"black\"/>\n",
       "<text font-family=\"Times,serif\" font-size=\"14.00\" text-anchor=\"middle\" x=\"152.5\" y=\"-849.8\">conv1: Conv2D</text>\n",
       "<polyline fill=\"none\" points=\"215,-830.5 215,-876.5 \" stroke=\"black\"/>\n",
       "<text font-family=\"Times,serif\" font-size=\"14.00\" text-anchor=\"middle\" x=\"249\" y=\"-861.3\">input:</text>\n",
       "<polyline fill=\"none\" points=\"215,-853.5 283,-853.5 \" stroke=\"black\"/>\n",
       "<text font-family=\"Times,serif\" font-size=\"14.00\" text-anchor=\"middle\" x=\"249\" y=\"-838.3\">output:</text>\n",
       "<polyline fill=\"none\" points=\"283,-830.5 283,-876.5 \" stroke=\"black\"/>\n",
       "<text font-family=\"Times,serif\" font-size=\"14.00\" text-anchor=\"middle\" x=\"360.5\" y=\"-861.3\">(None, 64, 512, 1)</text>\n",
       "<polyline fill=\"none\" points=\"283,-853.5 438,-853.5 \" stroke=\"black\"/>\n",
       "<text font-family=\"Times,serif\" font-size=\"14.00\" text-anchor=\"middle\" x=\"360.5\" y=\"-838.3\">(None, 64, 512, 16)</text>\n",
       "</g>\n",
       "<!-- 140115592892880&#45;&gt;140115579635472 -->\n",
       "<g class=\"edge\" id=\"edge1\"><title>140115592892880-&gt;140115579635472</title>\n",
       "<path d=\"M264,-913.366C264,-905.152 264,-895.658 264,-886.725\" fill=\"none\" stroke=\"black\"/>\n",
       "<polygon fill=\"black\" points=\"267.5,-886.607 264,-876.607 260.5,-886.607 267.5,-886.607\" stroke=\"black\"/>\n",
       "</g>\n",
       "<!-- 140115590827536 -->\n",
       "<g class=\"node\" id=\"node3\"><title>140115590827536</title>\n",
       "<polygon fill=\"none\" points=\"68,-747.5 68,-793.5 460,-793.5 460,-747.5 68,-747.5\" stroke=\"black\"/>\n",
       "<text font-family=\"Times,serif\" font-size=\"14.00\" text-anchor=\"middle\" x=\"152.5\" y=\"-766.8\">pool1: MaxPooling2D</text>\n",
       "<polyline fill=\"none\" points=\"237,-747.5 237,-793.5 \" stroke=\"black\"/>\n",
       "<text font-family=\"Times,serif\" font-size=\"14.00\" text-anchor=\"middle\" x=\"271\" y=\"-778.3\">input:</text>\n",
       "<polyline fill=\"none\" points=\"237,-770.5 305,-770.5 \" stroke=\"black\"/>\n",
       "<text font-family=\"Times,serif\" font-size=\"14.00\" text-anchor=\"middle\" x=\"271\" y=\"-755.3\">output:</text>\n",
       "<polyline fill=\"none\" points=\"305,-747.5 305,-793.5 \" stroke=\"black\"/>\n",
       "<text font-family=\"Times,serif\" font-size=\"14.00\" text-anchor=\"middle\" x=\"382.5\" y=\"-778.3\">(None, 64, 512, 16)</text>\n",
       "<polyline fill=\"none\" points=\"305,-770.5 460,-770.5 \" stroke=\"black\"/>\n",
       "<text font-family=\"Times,serif\" font-size=\"14.00\" text-anchor=\"middle\" x=\"382.5\" y=\"-755.3\">(None, 16, 128, 16)</text>\n",
       "</g>\n",
       "<!-- 140115579635472&#45;&gt;140115590827536 -->\n",
       "<g class=\"edge\" id=\"edge2\"><title>140115579635472-&gt;140115590827536</title>\n",
       "<path d=\"M264,-830.366C264,-822.152 264,-812.658 264,-803.725\" fill=\"none\" stroke=\"black\"/>\n",
       "<polygon fill=\"black\" points=\"267.5,-803.607 264,-793.607 260.5,-803.607 267.5,-803.607\" stroke=\"black\"/>\n",
       "</g>\n",
       "<!-- 140115590824792 -->\n",
       "<g class=\"node\" id=\"node4\"><title>140115590824792</title>\n",
       "<polygon fill=\"none\" points=\"90,-664.5 90,-710.5 438,-710.5 438,-664.5 90,-664.5\" stroke=\"black\"/>\n",
       "<text font-family=\"Times,serif\" font-size=\"14.00\" text-anchor=\"middle\" x=\"152.5\" y=\"-683.8\">conv2: Conv2D</text>\n",
       "<polyline fill=\"none\" points=\"215,-664.5 215,-710.5 \" stroke=\"black\"/>\n",
       "<text font-family=\"Times,serif\" font-size=\"14.00\" text-anchor=\"middle\" x=\"249\" y=\"-695.3\">input:</text>\n",
       "<polyline fill=\"none\" points=\"215,-687.5 283,-687.5 \" stroke=\"black\"/>\n",
       "<text font-family=\"Times,serif\" font-size=\"14.00\" text-anchor=\"middle\" x=\"249\" y=\"-672.3\">output:</text>\n",
       "<polyline fill=\"none\" points=\"283,-664.5 283,-710.5 \" stroke=\"black\"/>\n",
       "<text font-family=\"Times,serif\" font-size=\"14.00\" text-anchor=\"middle\" x=\"360.5\" y=\"-695.3\">(None, 16, 128, 16)</text>\n",
       "<polyline fill=\"none\" points=\"283,-687.5 438,-687.5 \" stroke=\"black\"/>\n",
       "<text font-family=\"Times,serif\" font-size=\"14.00\" text-anchor=\"middle\" x=\"360.5\" y=\"-672.3\">(None, 16, 128, 16)</text>\n",
       "</g>\n",
       "<!-- 140115590827536&#45;&gt;140115590824792 -->\n",
       "<g class=\"edge\" id=\"edge3\"><title>140115590827536-&gt;140115590824792</title>\n",
       "<path d=\"M264,-747.366C264,-739.152 264,-729.658 264,-720.725\" fill=\"none\" stroke=\"black\"/>\n",
       "<polygon fill=\"black\" points=\"267.5,-720.607 264,-710.607 260.5,-720.607 267.5,-720.607\" stroke=\"black\"/>\n",
       "</g>\n",
       "<!-- 140115592938832 -->\n",
       "<g class=\"node\" id=\"node5\"><title>140115592938832</title>\n",
       "<polygon fill=\"none\" points=\"68,-581.5 68,-627.5 460,-627.5 460,-581.5 68,-581.5\" stroke=\"black\"/>\n",
       "<text font-family=\"Times,serif\" font-size=\"14.00\" text-anchor=\"middle\" x=\"152.5\" y=\"-600.8\">pool2: MaxPooling2D</text>\n",
       "<polyline fill=\"none\" points=\"237,-581.5 237,-627.5 \" stroke=\"black\"/>\n",
       "<text font-family=\"Times,serif\" font-size=\"14.00\" text-anchor=\"middle\" x=\"271\" y=\"-612.3\">input:</text>\n",
       "<polyline fill=\"none\" points=\"237,-604.5 305,-604.5 \" stroke=\"black\"/>\n",
       "<text font-family=\"Times,serif\" font-size=\"14.00\" text-anchor=\"middle\" x=\"271\" y=\"-589.3\">output:</text>\n",
       "<polyline fill=\"none\" points=\"305,-581.5 305,-627.5 \" stroke=\"black\"/>\n",
       "<text font-family=\"Times,serif\" font-size=\"14.00\" text-anchor=\"middle\" x=\"382.5\" y=\"-612.3\">(None, 16, 128, 16)</text>\n",
       "<polyline fill=\"none\" points=\"305,-604.5 460,-604.5 \" stroke=\"black\"/>\n",
       "<text font-family=\"Times,serif\" font-size=\"14.00\" text-anchor=\"middle\" x=\"382.5\" y=\"-589.3\">(None, 8, 64, 16)</text>\n",
       "</g>\n",
       "<!-- 140115590824792&#45;&gt;140115592938832 -->\n",
       "<g class=\"edge\" id=\"edge4\"><title>140115590824792-&gt;140115592938832</title>\n",
       "<path d=\"M264,-664.366C264,-656.152 264,-646.658 264,-637.725\" fill=\"none\" stroke=\"black\"/>\n",
       "<polygon fill=\"black\" points=\"267.5,-637.607 264,-627.607 260.5,-637.607 267.5,-637.607\" stroke=\"black\"/>\n",
       "</g>\n",
       "<!-- 140115592939784 -->\n",
       "<g class=\"node\" id=\"node6\"><title>140115592939784</title>\n",
       "<polygon fill=\"none\" points=\"79.5,-498.5 79.5,-544.5 448.5,-544.5 448.5,-498.5 79.5,-498.5\" stroke=\"black\"/>\n",
       "<text font-family=\"Times,serif\" font-size=\"14.00\" text-anchor=\"middle\" x=\"161.5\" y=\"-517.8\">permute_1: Permute</text>\n",
       "<polyline fill=\"none\" points=\"243.5,-498.5 243.5,-544.5 \" stroke=\"black\"/>\n",
       "<text font-family=\"Times,serif\" font-size=\"14.00\" text-anchor=\"middle\" x=\"277.5\" y=\"-529.3\">input:</text>\n",
       "<polyline fill=\"none\" points=\"243.5,-521.5 311.5,-521.5 \" stroke=\"black\"/>\n",
       "<text font-family=\"Times,serif\" font-size=\"14.00\" text-anchor=\"middle\" x=\"277.5\" y=\"-506.3\">output:</text>\n",
       "<polyline fill=\"none\" points=\"311.5,-498.5 311.5,-544.5 \" stroke=\"black\"/>\n",
       "<text font-family=\"Times,serif\" font-size=\"14.00\" text-anchor=\"middle\" x=\"380\" y=\"-529.3\">(None, 8, 64, 16)</text>\n",
       "<polyline fill=\"none\" points=\"311.5,-521.5 448.5,-521.5 \" stroke=\"black\"/>\n",
       "<text font-family=\"Times,serif\" font-size=\"14.00\" text-anchor=\"middle\" x=\"380\" y=\"-506.3\">(None, 64, 8, 16)</text>\n",
       "</g>\n",
       "<!-- 140115592938832&#45;&gt;140115592939784 -->\n",
       "<g class=\"edge\" id=\"edge5\"><title>140115592938832-&gt;140115592939784</title>\n",
       "<path d=\"M264,-581.366C264,-573.152 264,-563.658 264,-554.725\" fill=\"none\" stroke=\"black\"/>\n",
       "<polygon fill=\"black\" points=\"267.5,-554.607 264,-544.607 260.5,-554.607 267.5,-554.607\" stroke=\"black\"/>\n",
       "</g>\n",
       "<!-- 140115593017552 -->\n",
       "<g class=\"node\" id=\"node7\"><title>140115593017552</title>\n",
       "<polygon fill=\"none\" points=\"90,-415.5 90,-461.5 438,-461.5 438,-415.5 90,-415.5\" stroke=\"black\"/>\n",
       "<text font-family=\"Times,serif\" font-size=\"14.00\" text-anchor=\"middle\" x=\"161.5\" y=\"-434.8\">reshape: Reshape</text>\n",
       "<polyline fill=\"none\" points=\"233,-415.5 233,-461.5 \" stroke=\"black\"/>\n",
       "<text font-family=\"Times,serif\" font-size=\"14.00\" text-anchor=\"middle\" x=\"267\" y=\"-446.3\">input:</text>\n",
       "<polyline fill=\"none\" points=\"233,-438.5 301,-438.5 \" stroke=\"black\"/>\n",
       "<text font-family=\"Times,serif\" font-size=\"14.00\" text-anchor=\"middle\" x=\"267\" y=\"-423.3\">output:</text>\n",
       "<polyline fill=\"none\" points=\"301,-415.5 301,-461.5 \" stroke=\"black\"/>\n",
       "<text font-family=\"Times,serif\" font-size=\"14.00\" text-anchor=\"middle\" x=\"369.5\" y=\"-446.3\">(None, 64, 8, 16)</text>\n",
       "<polyline fill=\"none\" points=\"301,-438.5 438,-438.5 \" stroke=\"black\"/>\n",
       "<text font-family=\"Times,serif\" font-size=\"14.00\" text-anchor=\"middle\" x=\"369.5\" y=\"-423.3\">(None, 64, 128)</text>\n",
       "</g>\n",
       "<!-- 140115592939784&#45;&gt;140115593017552 -->\n",
       "<g class=\"edge\" id=\"edge6\"><title>140115592939784-&gt;140115593017552</title>\n",
       "<path d=\"M264,-498.366C264,-490.152 264,-480.658 264,-471.725\" fill=\"none\" stroke=\"black\"/>\n",
       "<polygon fill=\"black\" points=\"267.5,-471.607 264,-461.607 260.5,-471.607 267.5,-471.607\" stroke=\"black\"/>\n",
       "</g>\n",
       "<!-- 140115592475984 -->\n",
       "<g class=\"node\" id=\"node8\"><title>140115592475984</title>\n",
       "<polygon fill=\"none\" points=\"7.5,-332.5 7.5,-378.5 520.5,-378.5 520.5,-332.5 7.5,-332.5\" stroke=\"black\"/>\n",
       "<text font-family=\"Times,serif\" font-size=\"14.00\" text-anchor=\"middle\" x=\"166\" y=\"-351.8\">dense1(dense_1): TimeDistributed(Dense)</text>\n",
       "<polyline fill=\"none\" points=\"324.5,-332.5 324.5,-378.5 \" stroke=\"black\"/>\n",
       "<text font-family=\"Times,serif\" font-size=\"14.00\" text-anchor=\"middle\" x=\"358.5\" y=\"-363.3\">input:</text>\n",
       "<polyline fill=\"none\" points=\"324.5,-355.5 392.5,-355.5 \" stroke=\"black\"/>\n",
       "<text font-family=\"Times,serif\" font-size=\"14.00\" text-anchor=\"middle\" x=\"358.5\" y=\"-340.3\">output:</text>\n",
       "<polyline fill=\"none\" points=\"392.5,-332.5 392.5,-378.5 \" stroke=\"black\"/>\n",
       "<text font-family=\"Times,serif\" font-size=\"14.00\" text-anchor=\"middle\" x=\"456.5\" y=\"-363.3\">(None, 64, 128)</text>\n",
       "<polyline fill=\"none\" points=\"392.5,-355.5 520.5,-355.5 \" stroke=\"black\"/>\n",
       "<text font-family=\"Times,serif\" font-size=\"14.00\" text-anchor=\"middle\" x=\"456.5\" y=\"-340.3\">(None, 64, 32)</text>\n",
       "</g>\n",
       "<!-- 140115593017552&#45;&gt;140115592475984 -->\n",
       "<g class=\"edge\" id=\"edge7\"><title>140115593017552-&gt;140115592475984</title>\n",
       "<path d=\"M264,-415.366C264,-407.152 264,-397.658 264,-388.725\" fill=\"none\" stroke=\"black\"/>\n",
       "<polygon fill=\"black\" points=\"267.5,-388.607 264,-378.607 260.5,-388.607 267.5,-388.607\" stroke=\"black\"/>\n",
       "</g>\n",
       "<!-- 140115592926096 -->\n",
       "<g class=\"node\" id=\"node9\"><title>140115592926096</title>\n",
       "<polygon fill=\"none\" points=\"42.5,-249.5 42.5,-295.5 485.5,-295.5 485.5,-249.5 42.5,-249.5\" stroke=\"black\"/>\n",
       "<text font-family=\"Times,serif\" font-size=\"14.00\" text-anchor=\"middle\" x=\"166\" y=\"-268.8\">gru1(gru_1): Bidirectional(GRU)</text>\n",
       "<polyline fill=\"none\" points=\"289.5,-249.5 289.5,-295.5 \" stroke=\"black\"/>\n",
       "<text font-family=\"Times,serif\" font-size=\"14.00\" text-anchor=\"middle\" x=\"323.5\" y=\"-280.3\">input:</text>\n",
       "<polyline fill=\"none\" points=\"289.5,-272.5 357.5,-272.5 \" stroke=\"black\"/>\n",
       "<text font-family=\"Times,serif\" font-size=\"14.00\" text-anchor=\"middle\" x=\"323.5\" y=\"-257.3\">output:</text>\n",
       "<polyline fill=\"none\" points=\"357.5,-249.5 357.5,-295.5 \" stroke=\"black\"/>\n",
       "<text font-family=\"Times,serif\" font-size=\"14.00\" text-anchor=\"middle\" x=\"421.5\" y=\"-280.3\">(None, 64, 32)</text>\n",
       "<polyline fill=\"none\" points=\"357.5,-272.5 485.5,-272.5 \" stroke=\"black\"/>\n",
       "<text font-family=\"Times,serif\" font-size=\"14.00\" text-anchor=\"middle\" x=\"421.5\" y=\"-257.3\">(None, 64, 512)</text>\n",
       "</g>\n",
       "<!-- 140115592475984&#45;&gt;140115592926096 -->\n",
       "<g class=\"edge\" id=\"edge8\"><title>140115592475984-&gt;140115592926096</title>\n",
       "<path d=\"M264,-332.366C264,-324.152 264,-314.658 264,-305.725\" fill=\"none\" stroke=\"black\"/>\n",
       "<polygon fill=\"black\" points=\"267.5,-305.607 264,-295.607 260.5,-305.607 267.5,-305.607\" stroke=\"black\"/>\n",
       "</g>\n",
       "<!-- 140115592928728 -->\n",
       "<g class=\"node\" id=\"node10\"><title>140115592928728</title>\n",
       "<polygon fill=\"none\" points=\"38,-166.5 38,-212.5 490,-212.5 490,-166.5 38,-166.5\" stroke=\"black\"/>\n",
       "<text font-family=\"Times,serif\" font-size=\"14.00\" text-anchor=\"middle\" x=\"161.5\" y=\"-185.8\">gru2(gru_2): Bidirectional(GRU)</text>\n",
       "<polyline fill=\"none\" points=\"285,-166.5 285,-212.5 \" stroke=\"black\"/>\n",
       "<text font-family=\"Times,serif\" font-size=\"14.00\" text-anchor=\"middle\" x=\"319\" y=\"-197.3\">input:</text>\n",
       "<polyline fill=\"none\" points=\"285,-189.5 353,-189.5 \" stroke=\"black\"/>\n",
       "<text font-family=\"Times,serif\" font-size=\"14.00\" text-anchor=\"middle\" x=\"319\" y=\"-174.3\">output:</text>\n",
       "<polyline fill=\"none\" points=\"353,-166.5 353,-212.5 \" stroke=\"black\"/>\n",
       "<text font-family=\"Times,serif\" font-size=\"14.00\" text-anchor=\"middle\" x=\"421.5\" y=\"-197.3\">(None, 64, 512)</text>\n",
       "<polyline fill=\"none\" points=\"353,-189.5 490,-189.5 \" stroke=\"black\"/>\n",
       "<text font-family=\"Times,serif\" font-size=\"14.00\" text-anchor=\"middle\" x=\"421.5\" y=\"-174.3\">(None, 64, 1024)</text>\n",
       "</g>\n",
       "<!-- 140115592926096&#45;&gt;140115592928728 -->\n",
       "<g class=\"edge\" id=\"edge9\"><title>140115592926096-&gt;140115592928728</title>\n",
       "<path d=\"M264,-249.366C264,-241.152 264,-231.658 264,-222.725\" fill=\"none\" stroke=\"black\"/>\n",
       "<polygon fill=\"black\" points=\"267.5,-222.607 264,-212.607 260.5,-222.607 267.5,-222.607\" stroke=\"black\"/>\n",
       "</g>\n",
       "<!-- 140115646878664 -->\n",
       "<g class=\"node\" id=\"node11\"><title>140115646878664</title>\n",
       "<polygon fill=\"none\" points=\"0,-83.5 0,-129.5 528,-129.5 528,-83.5 0,-83.5\" stroke=\"black\"/>\n",
       "<text font-family=\"Times,serif\" font-size=\"14.00\" text-anchor=\"middle\" x=\"161.5\" y=\"-102.8\">softmax(dense_2): TimeDistributed(Dense)</text>\n",
       "<polyline fill=\"none\" points=\"323,-83.5 323,-129.5 \" stroke=\"black\"/>\n",
       "<text font-family=\"Times,serif\" font-size=\"14.00\" text-anchor=\"middle\" x=\"357\" y=\"-114.3\">input:</text>\n",
       "<polyline fill=\"none\" points=\"323,-106.5 391,-106.5 \" stroke=\"black\"/>\n",
       "<text font-family=\"Times,serif\" font-size=\"14.00\" text-anchor=\"middle\" x=\"357\" y=\"-91.3\">output:</text>\n",
       "<polyline fill=\"none\" points=\"391,-83.5 391,-129.5 \" stroke=\"black\"/>\n",
       "<text font-family=\"Times,serif\" font-size=\"14.00\" text-anchor=\"middle\" x=\"459.5\" y=\"-114.3\">(None, 64, 1024)</text>\n",
       "<polyline fill=\"none\" points=\"391,-106.5 528,-106.5 \" stroke=\"black\"/>\n",
       "<text font-family=\"Times,serif\" font-size=\"14.00\" text-anchor=\"middle\" x=\"459.5\" y=\"-91.3\">(None, 64, 28)</text>\n",
       "</g>\n",
       "<!-- 140115592928728&#45;&gt;140115646878664 -->\n",
       "<g class=\"edge\" id=\"edge10\"><title>140115592928728-&gt;140115646878664</title>\n",
       "<path d=\"M264,-166.366C264,-158.152 264,-148.658 264,-139.725\" fill=\"none\" stroke=\"black\"/>\n",
       "<polygon fill=\"black\" points=\"267.5,-139.607 264,-129.607 260.5,-139.607 267.5,-139.607\" stroke=\"black\"/>\n",
       "</g>\n",
       "<!-- 140115573097528 -->\n",
       "<g class=\"node\" id=\"node15\"><title>140115573097528</title>\n",
       "<polygon fill=\"none\" points=\"637,-0.5 637,-46.5 1177,-46.5 1177,-0.5 637,-0.5\" stroke=\"black\"/>\n",
       "<text font-family=\"Times,serif\" font-size=\"14.00\" text-anchor=\"middle\" x=\"690\" y=\"-19.8\">ctc: Lambda</text>\n",
       "<polyline fill=\"none\" points=\"743,-0.5 743,-46.5 \" stroke=\"black\"/>\n",
       "<text font-family=\"Times,serif\" font-size=\"14.00\" text-anchor=\"middle\" x=\"777\" y=\"-31.3\">input:</text>\n",
       "<polyline fill=\"none\" points=\"743,-23.5 811,-23.5 \" stroke=\"black\"/>\n",
       "<text font-family=\"Times,serif\" font-size=\"14.00\" text-anchor=\"middle\" x=\"777\" y=\"-8.3\">output:</text>\n",
       "<polyline fill=\"none\" points=\"811,-0.5 811,-46.5 \" stroke=\"black\"/>\n",
       "<text font-family=\"Times,serif\" font-size=\"14.00\" text-anchor=\"middle\" x=\"994\" y=\"-31.3\">[(None, 64, 28), (None, 16), (None, 1), (None, 1)]</text>\n",
       "<polyline fill=\"none\" points=\"811,-23.5 1177,-23.5 \" stroke=\"black\"/>\n",
       "<text font-family=\"Times,serif\" font-size=\"14.00\" text-anchor=\"middle\" x=\"994\" y=\"-8.3\">(None, 1)</text>\n",
       "</g>\n",
       "<!-- 140115646878664&#45;&gt;140115573097528 -->\n",
       "<g class=\"edge\" id=\"edge11\"><title>140115646878664-&gt;140115573097528</title>\n",
       "<path d=\"M438.853,-83.4734C526.673,-72.4106 633.072,-59.0073 722.229,-47.7759\" fill=\"none\" stroke=\"black\"/>\n",
       "<polygon fill=\"black\" points=\"722.697,-51.2447 732.182,-46.5222 721.823,-44.2996 722.697,-51.2447\" stroke=\"black\"/>\n",
       "</g>\n",
       "<!-- 140115646878216 -->\n",
       "<g class=\"node\" id=\"node12\"><title>140115646878216</title>\n",
       "<polygon fill=\"none\" points=\"546.5,-83.5 546.5,-129.5 899.5,-129.5 899.5,-83.5 546.5,-83.5\" stroke=\"black\"/>\n",
       "<text font-family=\"Times,serif\" font-size=\"14.00\" text-anchor=\"middle\" x=\"643\" y=\"-102.8\">input_labels: InputLayer</text>\n",
       "<polyline fill=\"none\" points=\"739.5,-83.5 739.5,-129.5 \" stroke=\"black\"/>\n",
       "<text font-family=\"Times,serif\" font-size=\"14.00\" text-anchor=\"middle\" x=\"773.5\" y=\"-114.3\">input:</text>\n",
       "<polyline fill=\"none\" points=\"739.5,-106.5 807.5,-106.5 \" stroke=\"black\"/>\n",
       "<text font-family=\"Times,serif\" font-size=\"14.00\" text-anchor=\"middle\" x=\"773.5\" y=\"-91.3\">output:</text>\n",
       "<polyline fill=\"none\" points=\"807.5,-83.5 807.5,-129.5 \" stroke=\"black\"/>\n",
       "<text font-family=\"Times,serif\" font-size=\"14.00\" text-anchor=\"middle\" x=\"853.5\" y=\"-114.3\">(None, 16)</text>\n",
       "<polyline fill=\"none\" points=\"807.5,-106.5 899.5,-106.5 \" stroke=\"black\"/>\n",
       "<text font-family=\"Times,serif\" font-size=\"14.00\" text-anchor=\"middle\" x=\"853.5\" y=\"-91.3\">(None, 16)</text>\n",
       "</g>\n",
       "<!-- 140115646878216&#45;&gt;140115573097528 -->\n",
       "<g class=\"edge\" id=\"edge12\"><title>140115646878216-&gt;140115573097528</title>\n",
       "<path d=\"M773.279,-83.3664C796.199,-73.2765 823.502,-61.2572 847.444,-50.7177\" fill=\"none\" stroke=\"black\"/>\n",
       "<polygon fill=\"black\" points=\"849.04,-53.8393 856.782,-46.6068 846.219,-47.4326 849.04,-53.8393\" stroke=\"black\"/>\n",
       "</g>\n",
       "<!-- 140115573431824 -->\n",
       "<g class=\"node\" id=\"node13\"><title>140115573431824</title>\n",
       "<polygon fill=\"none\" points=\"918,-83.5 918,-129.5 1266,-129.5 1266,-83.5 918,-83.5\" stroke=\"black\"/>\n",
       "<text font-family=\"Times,serif\" font-size=\"14.00\" text-anchor=\"middle\" x=\"1016.5\" y=\"-102.8\">input_length: InputLayer</text>\n",
       "<polyline fill=\"none\" points=\"1115,-83.5 1115,-129.5 \" stroke=\"black\"/>\n",
       "<text font-family=\"Times,serif\" font-size=\"14.00\" text-anchor=\"middle\" x=\"1149\" y=\"-114.3\">input:</text>\n",
       "<polyline fill=\"none\" points=\"1115,-106.5 1183,-106.5 \" stroke=\"black\"/>\n",
       "<text font-family=\"Times,serif\" font-size=\"14.00\" text-anchor=\"middle\" x=\"1149\" y=\"-91.3\">output:</text>\n",
       "<polyline fill=\"none\" points=\"1183,-83.5 1183,-129.5 \" stroke=\"black\"/>\n",
       "<text font-family=\"Times,serif\" font-size=\"14.00\" text-anchor=\"middle\" x=\"1224.5\" y=\"-114.3\">(None, 1)</text>\n",
       "<polyline fill=\"none\" points=\"1183,-106.5 1266,-106.5 \" stroke=\"black\"/>\n",
       "<text font-family=\"Times,serif\" font-size=\"14.00\" text-anchor=\"middle\" x=\"1224.5\" y=\"-91.3\">(None, 1)</text>\n",
       "</g>\n",
       "<!-- 140115573431824&#45;&gt;140115573097528 -->\n",
       "<g class=\"edge\" id=\"edge13\"><title>140115573431824-&gt;140115573097528</title>\n",
       "<path d=\"M1041.45,-83.3664C1018.4,-73.2765 990.952,-61.2572 966.88,-50.7177\" fill=\"none\" stroke=\"black\"/>\n",
       "<polygon fill=\"black\" points=\"968.055,-47.4115 957.491,-46.6068 965.248,-53.8238 968.055,-47.4115\" stroke=\"black\"/>\n",
       "</g>\n",
       "<!-- 140115573537760 -->\n",
       "<g class=\"node\" id=\"node14\"><title>140115573537760</title>\n",
       "<polygon fill=\"none\" points=\"1284.5,-83.5 1284.5,-129.5 1629.5,-129.5 1629.5,-83.5 1284.5,-83.5\" stroke=\"black\"/>\n",
       "<text font-family=\"Times,serif\" font-size=\"14.00\" text-anchor=\"middle\" x=\"1381.5\" y=\"-102.8\">label_length: InputLayer</text>\n",
       "<polyline fill=\"none\" points=\"1478.5,-83.5 1478.5,-129.5 \" stroke=\"black\"/>\n",
       "<text font-family=\"Times,serif\" font-size=\"14.00\" text-anchor=\"middle\" x=\"1512.5\" y=\"-114.3\">input:</text>\n",
       "<polyline fill=\"none\" points=\"1478.5,-106.5 1546.5,-106.5 \" stroke=\"black\"/>\n",
       "<text font-family=\"Times,serif\" font-size=\"14.00\" text-anchor=\"middle\" x=\"1512.5\" y=\"-91.3\">output:</text>\n",
       "<polyline fill=\"none\" points=\"1546.5,-83.5 1546.5,-129.5 \" stroke=\"black\"/>\n",
       "<text font-family=\"Times,serif\" font-size=\"14.00\" text-anchor=\"middle\" x=\"1588\" y=\"-114.3\">(None, 1)</text>\n",
       "<polyline fill=\"none\" points=\"1546.5,-106.5 1629.5,-106.5 \" stroke=\"black\"/>\n",
       "<text font-family=\"Times,serif\" font-size=\"14.00\" text-anchor=\"middle\" x=\"1588\" y=\"-91.3\">(None, 1)</text>\n",
       "</g>\n",
       "<!-- 140115573537760&#45;&gt;140115573097528 -->\n",
       "<g class=\"edge\" id=\"edge14\"><title>140115573537760-&gt;140115573097528</title>\n",
       "<path d=\"M1307.44,-83.4734C1232.85,-72.489 1142.6,-59.1973 1066.67,-48.0152\" fill=\"none\" stroke=\"black\"/>\n",
       "<polygon fill=\"black\" points=\"1066.94,-44.5167 1056.53,-46.5222 1065.92,-51.442 1066.94,-44.5167\" stroke=\"black\"/>\n",
       "</g>\n",
       "</g>\n",
       "</svg>"
      ],
      "text/plain": [
       "<IPython.core.display.SVG object>"
      ]
     },
     "execution_count": 22,
     "metadata": {},
     "output_type": "execute_result"
    }
   ],
   "source": [
    "SVG(model_to_dot(model, show_shapes=True).create(prog='dot', format='svg'))"
   ]
  },
  {
   "cell_type": "markdown",
   "metadata": {},
   "source": [
    "And finally load weights"
   ]
  },
  {
   "cell_type": "code",
   "execution_count": 23,
   "metadata": {
    "collapsed": true
   },
   "outputs": [],
   "source": [
    "model.load_weights(os.path.join(model_dir, \"weights19.h5\"))"
   ]
  },
  {
   "cell_type": "markdown",
   "metadata": {},
   "source": [
    "And history"
   ]
  },
  {
   "cell_type": "code",
   "execution_count": 24,
   "metadata": {
    "collapsed": true
   },
   "outputs": [],
   "source": [
    "hist_full = pd.read_csv(os.path.join(model_dir, \"hist.csv\"), index_col=0)"
   ]
  },
  {
   "cell_type": "markdown",
   "metadata": {
    "collapsed": true
   },
   "source": [
    "# Evaluation"
   ]
  },
  {
   "cell_type": "markdown",
   "metadata": {},
   "source": [
    "Let's see how well the training was done. Here we're going to explore three metrics:\n",
    "* **CTC loss** (see lectures for the description)\n",
    "* **Edit distance** - number of elementary operations (deletion, insertion, swapping) neede to transform one word to another\n",
    "* **Normalized ED** - normalized version of edit distance; equals to the edit distance dividede by the length of target word."
   ]
  },
  {
   "cell_type": "code",
   "execution_count": 25,
   "metadata": {},
   "outputs": [
    {
     "data": {
      "image/png": "[encoded data removed]",
      "text/plain": [
       "<matplotlib.figure.Figure at 0x7f6f3411f6a0>"
      ]
     },
     "metadata": {},
     "output_type": "display_data"
    }
   ],
   "source": [
    "plt.figure(figsize=(20, 8))\n",
    "\n",
    "ax = plt.subplot(121)\n",
    "hist_full.plot(y=[0, 1], lw=3, ax=ax, style=[\"b\", \"g\"])\n",
    "plt.xticks(hist_full.index, hist_full.index)\n",
    "plt.xlabel(\"Epochs\")\n",
    "plt.ylabel(\"CTC Loss\")\n",
    "\n",
    "ax = plt.subplot(122)\n",
    "lns1 = hist_full.plot(y=[2], lw=3, ax=ax, style=\"b\")\n",
    "plt.xticks(hist_full.index, hist_full.index)\n",
    "plt.xlabel(\"Epochs\")\n",
    "plt.ylabel(\"ED\")\n",
    "ax = ax.twinx()\n",
    "lns2 = hist_full.plot(y=[3], lw=3, ax=ax, style=\"g\")\n",
    "lns = lns1.lines + lns2.lines\n",
    "labs = [l.get_label() for l in lns]\n",
    "ax.legend(lns, labs, loc=0)\n",
    "plt.ylabel(\"Normalized ED\")\n",
    "\n",
    "plt.show()"
   ]
  },
  {
   "cell_type": "markdown",
   "metadata": {},
   "source": [
    "As one can notice from the graph, mean edit distane almost equals to zero which means that almost all the words from the validation set are recognized correctly"
   ]
  },
  {
   "cell_type": "markdown",
   "metadata": {},
   "source": [
    "# Interactive"
   ]
  },
  {
   "cell_type": "markdown",
   "metadata": {},
   "source": [
    "Here one can try his/her own words with the length no more than 16 (longer words simply do not fit into the canvas)."
   ]
  },
  {
   "cell_type": "code",
   "execution_count": 32,
   "metadata": {
    "collapsed": true
   },
   "outputs": [],
   "source": [
    "string_list = [\"asdbsfb\", \"vehicle\", \"personal\", \"diversification\"]"
   ]
  },
  {
   "cell_type": "markdown",
   "metadata": {},
   "source": [
    "Let's use special function (see `ocr_utils.py`) to put these words into the image"
   ]
  },
  {
   "cell_type": "code",
   "execution_count": 33,
   "metadata": {
    "collapsed": true
   },
   "outputs": [],
   "source": [
    "X_test, _ = generate_sample(string_list, setting)\n",
    "y_test = X_test[\"source_str\"]"
   ]
  },
  {
   "cell_type": "markdown",
   "metadata": {},
   "source": [
    "There is a special function `decode_batch` defined in the `ocr_utils.py` which takes prediction function and images as an input, make predictions and decode them into the word sequence. Note that there is an option to use ***beam search*** for decoding the sequence. Implementation of decoding is done with TF routine for CTC."
   ]
  },
  {
   "cell_type": "code",
   "execution_count": 34,
   "metadata": {
    "collapsed": true
   },
   "outputs": [],
   "source": [
    "preds = decode_batch(test_func, X_test[\"input_data\"])"
   ]
  },
  {
   "cell_type": "markdown",
   "metadata": {},
   "source": [
    "Let's see how good are our predictions"
   ]
  },
  {
   "cell_type": "code",
   "execution_count": 35,
   "metadata": {},
   "outputs": [
    {
     "name": "stdout",
     "output_type": "stream",
     "text": [
      "Mean edit distance :  0.0\n",
      "Mean normed edit distance :  0.0\n"
     ]
    }
   ],
   "source": [
    "mean_ed = 0.0\n",
    "mean_norm_ed = 0.0\n",
    "for i in range(len(y_test)):\n",
    "    mean_ed += float(editdistance.eval(y_test[i], preds[i]))\n",
    "    mean_norm_ed += float(editdistance.eval(y_test[i], preds[i])) / float(len(y_test[i]))\n",
    "mean_ed /= len(y_test)\n",
    "mean_norm_ed /= len(y_test)\n",
    "print(\"Mean edit distance : \", round(mean_ed, 3))\n",
    "print(\"Mean normed edit distance : \", round(mean_norm_ed, 3))"
   ]
  },
  {
   "cell_type": "markdown",
   "metadata": {},
   "source": [
    "And look at them in the visual format"
   ]
  },
  {
   "cell_type": "code",
   "execution_count": 36,
   "metadata": {},
   "outputs": [
    {
     "data": {
      "image/png": "[encoded data removed]",
      "text/plain": [
       "<matplotlib.figure.Figure at 0x7f6f1868fda0>"
      ]
     },
     "metadata": {},
     "output_type": "display_data"
    }
   ],
   "source": [
    "plt.figure(figsize=(13, 1.2 * int(np.ceil(len(string_list) * 1. / 2))))\n",
    "for i in range(len(string_list)):\n",
    "    plt.subplot(int(np.ceil(len(string_list) * 1. / 2)), 2, i + 1)\n",
    "    draw(X_test[\"input_data\"][i, :, :, 0])\n",
    "    plt.xlabel(\"Truth = \\\"{0}\\\"      Decoded = \\\"{1}\\\"\".format(X_test['source_str'][i], preds[i]))"
   ]
  },
  {
   "cell_type": "markdown",
   "metadata": {},
   "source": [
    "Get the raw probability distributions (without decoding them into the sequence of letters)"
   ]
  },
  {
   "cell_type": "code",
   "execution_count": 37,
   "metadata": {
    "collapsed": true
   },
   "outputs": [],
   "source": [
    "preds_distro = test_func([X_test[\"input_data\"]])[0]"
   ]
  },
  {
   "cell_type": "markdown",
   "metadata": {},
   "source": [
    "As you should know till this point, CTC introduces additional **NULL** label which corresponds to the absence of the any other label. For the error computation is is collapsed and removed in the sensible way.\n",
    "\n",
    "In TF implementation NULL class is always the last one.\n",
    "\n",
    "Let's take one interactive example (e.g. the first one, note that it is correctly recognized) and see when (in terms of timesteps) do we predict real letter and when do we predict NULL label. In other words let's see where the letters are detected using our approach."
   ]
  },
  {
   "cell_type": "code",
   "execution_count": 38,
   "metadata": {},
   "outputs": [
    {
     "data": {
      "image/png": "[encoded data removed]",
      "text/plain": [
       "<matplotlib.figure.Figure at 0x7f6ef8f0aa90>"
      ]
     },
     "metadata": {},
     "output_type": "display_data"
    }
   ],
   "source": [
    "plt.figure(figsize=(8, 3))\n",
    "plt.plot(np.arange(2, preds_distro.shape[1]), np.argmax(preds_distro[0][2:], axis=1) < 27)\n",
    "plt.ylim([0.0, 1.2])\n",
    "plt.xlim([0, 65])\n",
    "plt.yticks([0.0, 1.0], [\"NULL\", \"Letter\"])\n",
    "plt.xlabel(\"Time step\")\n",
    "plt.title(\"\\\"\" + string_list[0] + \"\\\" recognition\");"
   ]
  },
  {
   "cell_type": "markdown",
   "metadata": {},
   "source": [
    "As one can see the recognition pikes are and the initial letters in the image are in the same part of the timesteps/columns. That's great! It means that our algorithm works right."
   ]
  },
  {
   "cell_type": "markdown",
   "metadata": {},
   "source": [
    "Let's also take a look into another interesting feature. Let's draw the probability of the most probable label across the sequence. Moreover, different colors represent different predicted labels"
   ]
  },
  {
   "cell_type": "code",
   "execution_count": 39,
   "metadata": {},
   "outputs": [
    {
     "data": {
      "image/png": "[encoded data removed]",
      "text/plain": [
       "<matplotlib.figure.Figure at 0x7f6f18708b70>"
      ]
     },
     "metadata": {},
     "output_type": "display_data"
    }
   ],
   "source": [
    "plt.figure(figsize=(8, 3))\n",
    "word_num = 0\n",
    "dic = np.unique(np.argmax(preds_distro[word_num], axis=1)[2:])\n",
    "plt.scatter(np.arange(preds_distro.shape[1])[2:], \n",
    "            np.max(preds_distro[word_num][2:], axis=1), \n",
    "            c=np.array(list(map(lambda x: np.where(dic == x)[0][0], \n",
    "                                np.argmax(preds_distro[word_num], axis=1)[2:]))), cmap=\"jet\")\n",
    "plt.ylim(0, 1.2)\n",
    "plt.xlim(0, 65)\n",
    "plt.xlabel(\"Time step\")\n",
    "plt.title(\"\\\"\" + string_list[0] + \"\\\" recognition\");"
   ]
  }
 ],
 "metadata": {
  "anaconda-cloud": {},
  "kernelspec": {
   "display_name": "Python 3",
   "language": "python",
   "name": "python3"
  },
  "language_info": {
   "codemirror_mode": {
    "name": "ipython",
    "version": 3
   },
   "file_extension": ".py",
   "mimetype": "text/x-python",
   "name": "python",
   "nbconvert_exporter": "python",
   "pygments_lexer": "ipython3",
   "version": "3.6.0"
  },
  "toc": {
   "colors": {
    "hover_highlight": "#DAA520",
    "navigate_num": "#000000",
    "navigate_text": "#333333",
    "running_highlight": "#FF0000",
    "selected_highlight": "#FFD700",
    "sidebar_border": "#EEEEEE",
    "wrapper_background": "#FFFFFF"
   },
   "moveMenuLeft": true,
   "nav_menu": {
    "height": "12px",
    "width": "252px"
   },
   "navigate_menu": true,
   "number_sections": true,
   "sideBar": true,
   "threshold": 4,
   "toc_cell": false,
   "toc_position": {
    "height": "704px",
    "left": "0px",
    "right": "1388px",
    "top": "106px",
    "width": "212px"
   },
   "toc_section_display": "block",
   "toc_window_display": true,
   "widenNotebook": false
  }
 },
 "nbformat": 4,
 "nbformat_minor": 1
}
