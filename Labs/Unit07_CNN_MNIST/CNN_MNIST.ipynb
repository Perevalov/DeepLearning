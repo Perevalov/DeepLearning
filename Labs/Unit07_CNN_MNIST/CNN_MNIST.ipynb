{
 "cells": [
  {
   "cell_type": "markdown",
   "metadata": {},
   "source": [
    "# Convolutional Neural Networks"
   ]
  },
  {
   "cell_type": "markdown",
   "metadata": {},
   "source": [
    "In this notebook we're going to explore handwritten digit recognition task using MNIST database and CNNs"
   ]
  },
  {
   "cell_type": "code",
   "execution_count": 1,
   "metadata": {},
   "outputs": [
    {
     "name": "stderr",
     "output_type": "stream",
     "text": [
      "Using TensorFlow backend.\n"
     ]
    }
   ],
   "source": [
    "import numpy as np\n",
    "import pandas as pd\n",
    "\n",
    "from keras.datasets import mnist\n",
    "from keras.models import Sequential\n",
    "from keras.layers import Dense, Dropout, Activation, Flatten\n",
    "from keras.layers import Convolution2D, MaxPooling2D\n",
    "from keras.utils.np_utils import to_categorical\n",
    "from keras import backend as K\n",
    "from keras.utils.vis_utils import model_to_dot\n",
    "\n",
    "from IPython.display import SVG\n",
    "\n",
    "import matplotlib\n",
    "import matplotlib.pyplot as plt\n",
    "import seaborn as sns\n",
    "%matplotlib inline"
   ]
  },
  {
   "cell_type": "markdown",
   "metadata": {},
   "source": [
    "Set style"
   ]
  },
  {
   "cell_type": "code",
   "execution_count": 2,
   "metadata": {
    "collapsed": true
   },
   "outputs": [],
   "source": [
    "sns.set(style=\"whitegrid\", font_scale=1.3)\n",
    "matplotlib.rcParams[\"figure.figsize\"] = (10, 8)\n",
    "matplotlib.rcParams[\"legend.framealpha\"] = 1\n",
    "matplotlib.rcParams[\"legend.frameon\"] = True"
   ]
  },
  {
   "cell_type": "markdown",
   "metadata": {},
   "source": [
    "Just for the sake of reproducibility"
   ]
  },
  {
   "cell_type": "code",
   "execution_count": 3,
   "metadata": {
    "collapsed": true
   },
   "outputs": [],
   "source": [
    "np.random.seed(41)"
   ]
  },
  {
   "cell_type": "markdown",
   "metadata": {},
   "source": [
    "# Data"
   ]
  },
  {
   "cell_type": "markdown",
   "metadata": {},
   "source": [
    "In this tutorial we're going to use MNIST dataset with handwritten digits."
   ]
  },
  {
   "cell_type": "markdown",
   "metadata": {},
   "source": [
    "## MNIST overview"
   ]
  },
  {
   "cell_type": "markdown",
   "metadata": {},
   "source": [
    "Let's download MNIST dataset. There is a special function in Keras for that purpose (because MNIST is extremely popular)"
   ]
  },
  {
   "cell_type": "code",
   "execution_count": 4,
   "metadata": {},
   "outputs": [
    {
     "name": "stdout",
     "output_type": "stream",
     "text": [
      "Downloading data from https://s3.amazonaws.com/img-datasets/mnist.npz\n",
      "11460608/11490434 [============================>.] - ETA: 0s60000 train samples\n",
      "10000 test samples\n"
     ]
    }
   ],
   "source": [
    "(X_train, y_train), (X_test, y_test) = mnist.load_data()\n",
    "print(len(X_train), 'train samples')\n",
    "print(len(X_test), 'test samples')"
   ]
  },
  {
   "cell_type": "code",
   "execution_count": 5,
   "metadata": {},
   "outputs": [
    {
     "data": {
      "image/png": "[encoded data removed]",
      "text/plain": [
       "<matplotlib.figure.Figure at 0x7f8efc689390>"
      ]
     },
     "metadata": {},
     "output_type": "display_data"
    }
   ],
   "source": [
    "plt.figure(figsize=(12, 5))\n",
    "for num, i in enumerate(np.random.choice(len(X_train), 10)):\n",
    "    plt.subplot(2, 5, num + 1)\n",
    "    plt.imshow(X_train[i], cmap=\"Greys_r\")\n",
    "    plt.axis(\"off\")\n",
    "    plt.title(str(y_train[i]))"
   ]
  },
  {
   "cell_type": "markdown",
   "metadata": {},
   "source": [
    "Let's see objects are distributed among classes"
   ]
  },
  {
   "cell_type": "code",
   "execution_count": 6,
   "metadata": {},
   "outputs": [
    {
     "data": {
      "image/png": "[encoded data removed]",
      "text/plain": [
       "<matplotlib.figure.Figure at 0x7f8ef0b5e400>"
      ]
     },
     "metadata": {},
     "output_type": "display_data"
    }
   ],
   "source": [
    "x_bars, y_bars = np.unique(y_train, return_counts=True)\n",
    "plt.bar(x_bars, y_bars)\n",
    "plt.xlim([-1, 10])\n",
    "plt.xticks(np.arange(0, 10))\n",
    "plt.xlabel(\"Digit\", fontsize=14)\n",
    "plt.ylabel(\"Number of pics\", fontsize=14)\n",
    "plt.show()"
   ]
  },
  {
   "cell_type": "markdown",
   "metadata": {},
   "source": [
    "As one can see, the task is pretty balanced"
   ]
  },
  {
   "cell_type": "markdown",
   "metadata": {},
   "source": [
    "## Data preparation"
   ]
  },
  {
   "cell_type": "markdown",
   "metadata": {},
   "source": [
    "First of all, let's predefine image parameters:\n",
    "* **img_rows, img_cols** $-$ 2D dimension of a pictures; for MNIST it is $28 \\times 28$\n",
    "* **nb_classes** $-$ number of classes (digits in our case)"
   ]
  },
  {
   "cell_type": "code",
   "execution_count": 7,
   "metadata": {
    "collapsed": true
   },
   "outputs": [],
   "source": [
    "img_rows, img_cols = 28, 28\n",
    "nb_classes = 10"
   ]
  },
  {
   "cell_type": "markdown",
   "metadata": {},
   "source": [
    "Theano and Tensorflow both are tensor-based libraries. It means that all objects inside it, all inputs and outputs are **tensors**. One can treat tensor as a simple multidimensional array."
   ]
  },
  {
   "cell_type": "markdown",
   "metadata": {},
   "source": [
    "The thing that is different in Theano and Tensorflow is order of these dimensions inside tensor.\n",
    "\n",
    "With Theano yo're going to have 4-dimensional tensor with the following dimensions: **(Objects, Channels, Image rows,Image columns)**. Assume that $\\text{X_train}$ is our tensor. Then $\\text{X_train}[0]$ gives you one trainig object - it is an image with few channels in general case. $\\text{X_train}[0][0]$ gives you the first channel of the first object. And so on. The logic of tensors should be clear now.\n",
    "\n",
    "In Tensorflow the order is the following: **(Objects, Image rows,Image columns, Channels)**\n",
    "\n",
    "Thus we need to check what dimension order do we have and reshape our tensor in accordance with it:"
   ]
  },
  {
   "cell_type": "code",
   "execution_count": 8,
   "metadata": {
    "collapsed": true
   },
   "outputs": [],
   "source": [
    "if K.image_dim_ordering() == 'th':\n",
    "    X_train = X_train.reshape(X_train.shape[0], 1, img_rows, img_cols)\n",
    "    X_test = X_test.reshape(X_test.shape[0], 1, img_rows, img_cols)\n",
    "    input_shape = (1, img_rows, img_cols)\n",
    "else:\n",
    "    X_train = X_train.reshape(X_train.shape[0], img_rows, img_cols, 1)\n",
    "    X_test = X_test.reshape(X_test.shape[0], img_rows, img_cols, 1)\n",
    "    input_shape = (img_rows, img_cols, 1)"
   ]
  },
  {
   "cell_type": "markdown",
   "metadata": {},
   "source": [
    "Here we have grayscale image and thus the number of the channels is $1$. Here I used Tensorflow library with the corresponding order of dimensions"
   ]
  },
  {
   "cell_type": "code",
   "execution_count": 9,
   "metadata": {},
   "outputs": [
    {
     "name": "stdout",
     "output_type": "stream",
     "text": [
      "X_train shape: (60000, 28, 28, 1)\n"
     ]
    }
   ],
   "source": [
    "print('X_train shape:', X_train.shape)"
   ]
  },
  {
   "cell_type": "markdown",
   "metadata": {},
   "source": [
    "Tensorflow prefers to work with $\\text{float32}$ data type. So the next step is to cast data. Also let's have our data in $[0; 1]$ interval $-$ it's common choice for grayscale images."
   ]
  },
  {
   "cell_type": "code",
   "execution_count": 10,
   "metadata": {
    "collapsed": true
   },
   "outputs": [],
   "source": [
    "X_train = X_train.astype('float32')\n",
    "X_test = X_test.astype('float32')\n",
    "X_train /= 255\n",
    "X_test /= 255"
   ]
  },
  {
   "cell_type": "markdown",
   "metadata": {},
   "source": [
    "Last step is to convert labels into [One-Hot Encoding](https://en.wikipedia.org/wiki/One-hot) because we're going to learn them through the softmax layer in CNN"
   ]
  },
  {
   "cell_type": "code",
   "execution_count": 11,
   "metadata": {
    "collapsed": true
   },
   "outputs": [],
   "source": [
    "y_train = to_categorical(y_train, nb_classes)\n",
    "y_test = to_categorical(y_test, nb_classes)"
   ]
  },
  {
   "cell_type": "markdown",
   "metadata": {},
   "source": [
    "# Dense baseline model"
   ]
  },
  {
   "cell_type": "markdown",
   "metadata": {},
   "source": [
    "First of all, let's build MLP model and see how it performs"
   ]
  },
  {
   "cell_type": "code",
   "execution_count": 12,
   "metadata": {
    "collapsed": true
   },
   "outputs": [],
   "source": [
    "model_dense = Sequential()"
   ]
  },
  {
   "cell_type": "code",
   "execution_count": 13,
   "metadata": {
    "collapsed": true
   },
   "outputs": [],
   "source": [
    "model_dense.add(Dense(128, input_shape=(img_rows * img_cols,), activation=\"relu\"))\n",
    "model_dense.add(Dropout(0.5))\n",
    "model_dense.add(Dense(128, activation=\"relu\"))\n",
    "model_dense.add(Dropout(0.5))\n",
    "model_dense.add(Dense(128, activation=\"relu\"))\n",
    "model_dense.add(Dropout(0.5))\n",
    "model_dense.add(Dense(nb_classes, activation=\"softmax\"))"
   ]
  },
  {
   "cell_type": "markdown",
   "metadata": {},
   "source": [
    "Our model the the following architercture"
   ]
  },
  {
   "cell_type": "code",
   "execution_count": 14,
   "metadata": {},
   "outputs": [
    {
     "name": "stdout",
     "output_type": "stream",
     "text": [
      "_________________________________________________________________\n",
      "Layer (type)                 Output Shape              Param #   \n",
      "=================================================================\n",
      "dense_1 (Dense)              (None, 128)               100480    \n",
      "_________________________________________________________________\n",
      "dropout_1 (Dropout)          (None, 128)               0         \n",
      "_________________________________________________________________\n",
      "dense_2 (Dense)              (None, 128)               16512     \n",
      "_________________________________________________________________\n",
      "dropout_2 (Dropout)          (None, 128)               0         \n",
      "_________________________________________________________________\n",
      "dense_3 (Dense)              (None, 128)               16512     \n",
      "_________________________________________________________________\n",
      "dropout_3 (Dropout)          (None, 128)               0         \n",
      "_________________________________________________________________\n",
      "dense_4 (Dense)              (None, 10)                1290      \n",
      "=================================================================\n",
      "Total params: 134,794\n",
      "Trainable params: 134,794\n",
      "Non-trainable params: 0\n",
      "_________________________________________________________________\n"
     ]
    }
   ],
   "source": [
    "model_dense.summary()"
   ]
  },
  {
   "cell_type": "markdown",
   "metadata": {},
   "source": [
    "Compile model"
   ]
  },
  {
   "cell_type": "code",
   "execution_count": 15,
   "metadata": {
    "collapsed": true
   },
   "outputs": [],
   "source": [
    "model_dense.compile(loss='categorical_crossentropy',\n",
    "                    optimizer='adam',\n",
    "                    metrics=['accuracy'])"
   ]
  },
  {
   "cell_type": "markdown",
   "metadata": {},
   "source": [
    "## Training"
   ]
  },
  {
   "cell_type": "code",
   "execution_count": 16,
   "metadata": {},
   "outputs": [
    {
     "name": "stdout",
     "output_type": "stream",
     "text": [
      "Train on 60000 samples, validate on 10000 samples\n",
      "Epoch 1/20\n",
      "60000/60000 [==============================] - 2s - loss: 0.7976 - acc: 0.7406 - val_loss: 0.2202 - val_acc: 0.9371\n",
      "Epoch 2/20\n",
      "60000/60000 [==============================] - 2s - loss: 0.3609 - acc: 0.8989 - val_loss: 0.1661 - val_acc: 0.9518\n",
      "Epoch 3/20\n",
      "60000/60000 [==============================] - 2s - loss: 0.2954 - acc: 0.9190 - val_loss: 0.1456 - val_acc: 0.9578\n",
      "Epoch 4/20\n",
      "60000/60000 [==============================] - 2s - loss: 0.2541 - acc: 0.9307 - val_loss: 0.1326 - val_acc: 0.9627\n",
      "Epoch 5/20\n",
      "60000/60000 [==============================] - 2s - loss: 0.2300 - acc: 0.9363 - val_loss: 0.1229 - val_acc: 0.9658\n",
      "Epoch 6/20\n",
      "60000/60000 [==============================] - 2s - loss: 0.2199 - acc: 0.9405 - val_loss: 0.1173 - val_acc: 0.9655\n",
      "Epoch 7/20\n",
      "60000/60000 [==============================] - 2s - loss: 0.2040 - acc: 0.9436 - val_loss: 0.1076 - val_acc: 0.9694\n",
      "Epoch 8/20\n",
      "60000/60000 [==============================] - 2s - loss: 0.1914 - acc: 0.9474 - val_loss: 0.1112 - val_acc: 0.9683\n",
      "Epoch 9/20\n",
      "60000/60000 [==============================] - 2s - loss: 0.1837 - acc: 0.9483 - val_loss: 0.1002 - val_acc: 0.9714\n",
      "Epoch 10/20\n",
      "60000/60000 [==============================] - 2s - loss: 0.1788 - acc: 0.9518 - val_loss: 0.1041 - val_acc: 0.9712\n",
      "Epoch 11/20\n",
      "60000/60000 [==============================] - 2s - loss: 0.1746 - acc: 0.9508 - val_loss: 0.0984 - val_acc: 0.9723\n",
      "Epoch 12/20\n",
      "60000/60000 [==============================] - 3s - loss: 0.1700 - acc: 0.9519 - val_loss: 0.1049 - val_acc: 0.9710\n",
      "Epoch 13/20\n",
      "60000/60000 [==============================] - 3s - loss: 0.1612 - acc: 0.9552 - val_loss: 0.0971 - val_acc: 0.9717\n",
      "Epoch 14/20\n",
      "60000/60000 [==============================] - 3s - loss: 0.1614 - acc: 0.9558 - val_loss: 0.1002 - val_acc: 0.9716\n",
      "Epoch 15/20\n",
      "60000/60000 [==============================] - 3s - loss: 0.1560 - acc: 0.9569 - val_loss: 0.0956 - val_acc: 0.9730\n",
      "Epoch 16/20\n",
      "60000/60000 [==============================] - 3s - loss: 0.1522 - acc: 0.9580 - val_loss: 0.0931 - val_acc: 0.9726\n",
      "Epoch 17/20\n",
      "60000/60000 [==============================] - 3s - loss: 0.1468 - acc: 0.9587 - val_loss: 0.0945 - val_acc: 0.9744\n",
      "Epoch 18/20\n",
      "60000/60000 [==============================] - 3s - loss: 0.1446 - acc: 0.9598 - val_loss: 0.0919 - val_acc: 0.9755\n",
      "Epoch 19/20\n",
      "60000/60000 [==============================] - 3s - loss: 0.1397 - acc: 0.9616 - val_loss: 0.0975 - val_acc: 0.9738\n",
      "Epoch 20/20\n",
      "60000/60000 [==============================] - 3s - loss: 0.1409 - acc: 0.9607 - val_loss: 0.0931 - val_acc: 0.9743\n"
     ]
    }
   ],
   "source": [
    "hist = model_dense.fit(X_train.reshape((len(X_train), img_cols * img_rows)), y_train, \n",
    "                       validation_data = (X_test.reshape((len(X_test), img_cols * img_rows)), y_test), \n",
    "                       epochs=20, batch_size=128)"
   ]
  },
  {
   "cell_type": "markdown",
   "metadata": {},
   "source": [
    "## Evaluation"
   ]
  },
  {
   "cell_type": "markdown",
   "metadata": {},
   "source": [
    "Learning process visualization"
   ]
  },
  {
   "cell_type": "code",
   "execution_count": 17,
   "metadata": {},
   "outputs": [
    {
     "data": {
      "image/png": "[encoded data removed]",
      "text/plain": [
       "<matplotlib.figure.Figure at 0x7f5d009219b0>"
      ]
     },
     "metadata": {},
     "output_type": "display_data"
    }
   ],
   "source": [
    "plt.figure(figsize=(20, 8))\n",
    "plt.suptitle(\"Dense model training\", fontsize=18)\n",
    "plt.subplot(121)\n",
    "plt.plot(hist.history[\"loss\"], label=\"Train\")\n",
    "plt.plot(hist.history[\"val_loss\"], label=\"Test\")\n",
    "plt.grid(\"on\")\n",
    "plt.xlabel(\"Epoch\", fontsize=14)\n",
    "plt.ylabel(\"Crossentropy\", fontsize=14)\n",
    "plt.legend(loc=\"upper right\")\n",
    "plt.subplot(122)\n",
    "plt.plot(hist.history[\"acc\"], label=\"Train\")\n",
    "plt.grid(\"on\")\n",
    "plt.plot(hist.history[\"val_acc\"], label=\"Test\")\n",
    "plt.xlabel(\"Epoch\", fontsize=14)\n",
    "plt.ylabel(\"Accuracy\", fontsize=14)\n",
    "plt.legend(loc=\"lower right\")\n",
    "plt.ylim([0.88, 1.0]);"
   ]
  },
  {
   "cell_type": "markdown",
   "metadata": {},
   "source": [
    "Table to store the results of the experiments"
   ]
  },
  {
   "cell_type": "code",
   "execution_count": 18,
   "metadata": {
    "collapsed": true
   },
   "outputs": [],
   "source": [
    "score_train = model_dense.evaluate(X_train.reshape((len(X_train), img_cols * img_rows)), y_train, verbose=0)\n",
    "score_test = model_dense.evaluate(X_test.reshape((len(X_test), img_cols * img_rows)), y_test, verbose=0)"
   ]
  },
  {
   "cell_type": "code",
   "execution_count": 19,
   "metadata": {
    "collapsed": true
   },
   "outputs": [],
   "source": [
    "results = pd.DataFrame(columns=[\"Accuracy Train\", \"Accuracy Test\", \"Loss Train\", \"Loss Test\"])\n",
    "results.loc[len(results)] = np.array([score_train[1], score_test[1], score_train[0], score_test[0]])\n",
    "results.index = [\"MLP\"]"
   ]
  },
  {
   "cell_type": "code",
   "execution_count": 20,
   "metadata": {},
   "outputs": [
    {
     "data": {
      "text/html": [
       "<div>\n",
       "<style>\n",
       "    .dataframe thead tr:only-child th {\n",
       "        text-align: right;\n",
       "    }\n",
       "\n",
       "    .dataframe thead th {\n",
       "        text-align: left;\n",
       "    }\n",
       "\n",
       "    .dataframe tbody tr th {\n",
       "        vertical-align: top;\n",
       "    }\n",
       "</style>\n",
       "<table border=\"1\" class=\"dataframe\">\n",
       "  <thead>\n",
       "    <tr style=\"text-align: right;\">\n",
       "      <th></th>\n",
       "      <th>Accuracy Train</th>\n",
       "      <th>Accuracy Test</th>\n",
       "      <th>Loss Train</th>\n",
       "      <th>Loss Test</th>\n",
       "    </tr>\n",
       "  </thead>\n",
       "  <tbody>\n",
       "    <tr>\n",
       "      <th>MLP</th>\n",
       "      <td>0.9862</td>\n",
       "      <td>0.9746</td>\n",
       "      <td>0.045773</td>\n",
       "      <td>0.090305</td>\n",
       "    </tr>\n",
       "  </tbody>\n",
       "</table>\n",
       "</div>"
      ],
      "text/plain": [
       "     Accuracy Train  Accuracy Test  Loss Train  Loss Test\n",
       "MLP          0.9862         0.9746    0.045773   0.090305"
      ]
     },
     "execution_count": 20,
     "metadata": {},
     "output_type": "execute_result"
    }
   ],
   "source": [
    "results"
   ]
  },
  {
   "cell_type": "markdown",
   "metadata": {},
   "source": [
    "# Building CNN model"
   ]
  },
  {
   "cell_type": "markdown",
   "metadata": {},
   "source": [
    "Now it's time to build the model step-by-step"
   ]
  },
  {
   "cell_type": "code",
   "execution_count": 21,
   "metadata": {
    "collapsed": true
   },
   "outputs": [],
   "source": [
    "model_cnn = Sequential()"
   ]
  },
  {
   "cell_type": "markdown",
   "metadata": {},
   "source": [
    "Out model is going to be *Sequential* which means that every new added layer will be automatically connected to the previous one."
   ]
  },
  {
   "cell_type": "markdown",
   "metadata": {},
   "source": [
    "Firstly, let's define hyperparameters of the network:\n",
    "* **filters** $-$ number of filters (or kernels) to use in every layer; in fact this is the same as having multiple channels in the image\n",
    "* **pool_size** $-$ size of the pooling window\n",
    "* **kernel_size** $-$ size of the convolutional filters"
   ]
  },
  {
   "cell_type": "code",
   "execution_count": 22,
   "metadata": {
    "collapsed": true
   },
   "outputs": [],
   "source": [
    "filters = 32\n",
    "kernel_size = (3, 3)\n",
    "pool_size = (2, 2)"
   ]
  },
  {
   "cell_type": "markdown",
   "metadata": {},
   "source": [
    "Now let's add first layer of the network. It is 2D Convolutional layer. Only unexplained thing here is *padding*. This is the parameter that defines how should we pad the data after applying convolutions. $\\text{padding} = \\text{'valid'}$ means that we're not going to pad images and the dimension of it is going to shrink from layer to layer."
   ]
  },
  {
   "cell_type": "code",
   "execution_count": 23,
   "metadata": {
    "collapsed": true
   },
   "outputs": [],
   "source": [
    "model_cnn.add(Convolution2D(filters=filters, \n",
    "                            kernel_size=kernel_size,\n",
    "                            padding=\"valid\",\n",
    "                            input_shape=input_shape))"
   ]
  },
  {
   "cell_type": "markdown",
   "metadata": {},
   "source": [
    "Next step is to add nonlinearity to enable our network to learn complex dependencies. We're going to use ReLU activation function because it is less exposed to vanishing gradient problem and faster to train."
   ]
  },
  {
   "cell_type": "code",
   "execution_count": 24,
   "metadata": {
    "collapsed": true
   },
   "outputs": [],
   "source": [
    "model_cnn.add(Activation('relu'))"
   ]
  },
  {
   "cell_type": "markdown",
   "metadata": {},
   "source": [
    "Let's stack one more Convolution layer on top of that:"
   ]
  },
  {
   "cell_type": "code",
   "execution_count": 25,
   "metadata": {
    "collapsed": true
   },
   "outputs": [],
   "source": [
    "model_cnn.add(Convolution2D(filters=filters, \n",
    "                            kernel_size=kernel_size,\n",
    "                            padding=\"valid\"))\n",
    "model_cnn.add(Activation('relu'))"
   ]
  },
  {
   "cell_type": "markdown",
   "metadata": {},
   "source": [
    "Now it's time to apply pooling. Note that the strategies of combining convolutional and pooling layers may be different. For further details see [here](http://cs231n.stanford.edu/)"
   ]
  },
  {
   "cell_type": "code",
   "execution_count": 26,
   "metadata": {
    "collapsed": true
   },
   "outputs": [],
   "source": [
    "model_cnn.add(MaxPooling2D(pool_size=pool_size))"
   ]
  },
  {
   "cell_type": "markdown",
   "metadata": {},
   "source": [
    "At this point we consider that we've already distinguish some meaningful features from the pictures. So it's time to classify them. For that purpose the common approach is to append fully-connected part. \n",
    "\n",
    "But before that we need to pull all the obtained feature into one vector so that one object has 1D-vector of features. It is done by means of $\\text{Flatten}$ layer."
   ]
  },
  {
   "cell_type": "code",
   "execution_count": 27,
   "metadata": {
    "collapsed": true
   },
   "outputs": [],
   "source": [
    "model_cnn.add(Flatten())"
   ]
  },
  {
   "cell_type": "markdown",
   "metadata": {},
   "source": [
    "Now let's add FC part with the [dropout](https://www.cs.toronto.edu/~hinton/absps/JMLRdropout.pdf) to avoid overfitting."
   ]
  },
  {
   "cell_type": "code",
   "execution_count": 28,
   "metadata": {
    "collapsed": true
   },
   "outputs": [],
   "source": [
    "model_cnn.add(Dropout(0.5))\n",
    "model_cnn.add(Dense(128, activation=\"relu\"))\n",
    "model_cnn.add(Dropout(0.5))\n",
    "model_cnn.add(Dense(nb_classes, activation=\"softmax\"))"
   ]
  },
  {
   "cell_type": "markdown",
   "metadata": {},
   "source": [
    "The final layer here is usual $\\text{Softmax}$ with the number of classe. So as the output of the network we observe the probability of each class."
   ]
  },
  {
   "cell_type": "markdown",
   "metadata": {},
   "source": [
    "Now let's compile our model.\n",
    "* **optimizer** $-$ here we use accelerated gradient descent algorithm with special adaptive way of choosing learning rate; for more details see this great [overview](http://sebastianruder.com/optimizing-gradient-descent/) of gradient descent optimization algorithms.\n",
    "* **loss** $-$ usual choice for multiclass classification is softmax output layer in combination with categotical crossentropy loss function which is\n",
    "$$\n",
    "\\mathcal{L}(\\text{true}, \\text{pred}) = -\\sum_{j=1}^{k}\\text{true}_j \\cdot \\log \\{\\text{pred}_j\\}\n",
    "$$\n",
    "* **metrics** $-$ additional metrics that we're going to trace while training; it doesn't influence training process at all"
   ]
  },
  {
   "cell_type": "code",
   "execution_count": 29,
   "metadata": {
    "collapsed": true
   },
   "outputs": [],
   "source": [
    "model_cnn.compile(loss='categorical_crossentropy',\n",
    "                  optimizer='adam',\n",
    "                  metrics=['accuracy'])"
   ]
  },
  {
   "cell_type": "markdown",
   "metadata": {},
   "source": [
    "Let's take a look at our final model now:"
   ]
  },
  {
   "cell_type": "code",
   "execution_count": 30,
   "metadata": {},
   "outputs": [
    {
     "name": "stdout",
     "output_type": "stream",
     "text": [
      "_________________________________________________________________\n",
      "Layer (type)                 Output Shape              Param #   \n",
      "=================================================================\n",
      "conv2d_1 (Conv2D)            (None, 26, 26, 32)        320       \n",
      "_________________________________________________________________\n",
      "activation_1 (Activation)    (None, 26, 26, 32)        0         \n",
      "_________________________________________________________________\n",
      "conv2d_2 (Conv2D)            (None, 24, 24, 32)        9248      \n",
      "_________________________________________________________________\n",
      "activation_2 (Activation)    (None, 24, 24, 32)        0         \n",
      "_________________________________________________________________\n",
      "max_pooling2d_1 (MaxPooling2 (None, 12, 12, 32)        0         \n",
      "_________________________________________________________________\n",
      "flatten_1 (Flatten)          (None, 4608)              0         \n",
      "_________________________________________________________________\n",
      "dropout_4 (Dropout)          (None, 4608)              0         \n",
      "_________________________________________________________________\n",
      "dense_5 (Dense)              (None, 128)               589952    \n",
      "_________________________________________________________________\n",
      "dropout_5 (Dropout)          (None, 128)               0         \n",
      "_________________________________________________________________\n",
      "dense_6 (Dense)              (None, 10)                1290      \n",
      "=================================================================\n",
      "Total params: 600,810\n",
      "Trainable params: 600,810\n",
      "Non-trainable params: 0\n",
      "_________________________________________________________________\n"
     ]
    }
   ],
   "source": [
    "model_cnn.summary()"
   ]
  },
  {
   "cell_type": "code",
   "execution_count": 31,
   "metadata": {},
   "outputs": [
    {
     "data": {
      "image/svg+xml": [
       "<svg height=\"885pt\" viewBox=\"0.00 0.00 476.00 885.00\" width=\"476pt\" xmlns=\"http://www.w3.org/2000/svg\" xmlns:xlink=\"http://www.w3.org/1999/xlink\">\n",
       "<g class=\"graph\" id=\"graph0\" transform=\"scale(1 1) rotate(0) translate(4 881)\">\n",
       "<title>G</title>\n",
       "<polygon fill=\"white\" points=\"-4,4 -4,-881 472,-881 472,4 -4,4\" stroke=\"none\"/>\n",
       "<!-- 140037402322928 -->\n",
       "<g class=\"node\" id=\"node1\"><title>140037402322928</title>\n",
       "<polygon fill=\"none\" points=\"22,-830.5 22,-876.5 446,-876.5 446,-830.5 22,-830.5\" stroke=\"black\"/>\n",
       "<text font-family=\"Times,serif\" font-size=\"14.00\" text-anchor=\"middle\" x=\"131.5\" y=\"-849.8\">conv2d_1_input: InputLayer</text>\n",
       "<polyline fill=\"none\" points=\"241,-830.5 241,-876.5 \" stroke=\"black\"/>\n",
       "<text font-family=\"Times,serif\" font-size=\"14.00\" text-anchor=\"middle\" x=\"275\" y=\"-861.3\">input:</text>\n",
       "<polyline fill=\"none\" points=\"241,-853.5 309,-853.5 \" stroke=\"black\"/>\n",
       "<text font-family=\"Times,serif\" font-size=\"14.00\" text-anchor=\"middle\" x=\"275\" y=\"-838.3\">output:</text>\n",
       "<polyline fill=\"none\" points=\"309,-830.5 309,-876.5 \" stroke=\"black\"/>\n",
       "<text font-family=\"Times,serif\" font-size=\"14.00\" text-anchor=\"middle\" x=\"377.5\" y=\"-861.3\">(None, 28, 28, 1)</text>\n",
       "<polyline fill=\"none\" points=\"309,-853.5 446,-853.5 \" stroke=\"black\"/>\n",
       "<text font-family=\"Times,serif\" font-size=\"14.00\" text-anchor=\"middle\" x=\"377.5\" y=\"-838.3\">(None, 28, 28, 1)</text>\n",
       "</g>\n",
       "<!-- 140037418604472 -->\n",
       "<g class=\"node\" id=\"node2\"><title>140037418604472</title>\n",
       "<polygon fill=\"none\" points=\"51.5,-747.5 51.5,-793.5 416.5,-793.5 416.5,-747.5 51.5,-747.5\" stroke=\"black\"/>\n",
       "<text font-family=\"Times,serif\" font-size=\"14.00\" text-anchor=\"middle\" x=\"127\" y=\"-766.8\">conv2d_1: Conv2D</text>\n",
       "<polyline fill=\"none\" points=\"202.5,-747.5 202.5,-793.5 \" stroke=\"black\"/>\n",
       "<text font-family=\"Times,serif\" font-size=\"14.00\" text-anchor=\"middle\" x=\"236.5\" y=\"-778.3\">input:</text>\n",
       "<polyline fill=\"none\" points=\"202.5,-770.5 270.5,-770.5 \" stroke=\"black\"/>\n",
       "<text font-family=\"Times,serif\" font-size=\"14.00\" text-anchor=\"middle\" x=\"236.5\" y=\"-755.3\">output:</text>\n",
       "<polyline fill=\"none\" points=\"270.5,-747.5 270.5,-793.5 \" stroke=\"black\"/>\n",
       "<text font-family=\"Times,serif\" font-size=\"14.00\" text-anchor=\"middle\" x=\"343.5\" y=\"-778.3\">(None, 28, 28, 1)</text>\n",
       "<polyline fill=\"none\" points=\"270.5,-770.5 416.5,-770.5 \" stroke=\"black\"/>\n",
       "<text font-family=\"Times,serif\" font-size=\"14.00\" text-anchor=\"middle\" x=\"343.5\" y=\"-755.3\">(None, 26, 26, 32)</text>\n",
       "</g>\n",
       "<!-- 140037402322928&#45;&gt;140037418604472 -->\n",
       "<g class=\"edge\" id=\"edge1\"><title>140037402322928-&gt;140037418604472</title>\n",
       "<path d=\"M234,-830.366C234,-822.152 234,-812.658 234,-803.725\" fill=\"none\" stroke=\"black\"/>\n",
       "<polygon fill=\"black\" points=\"237.5,-803.607 234,-793.607 230.5,-803.607 237.5,-803.607\" stroke=\"black\"/>\n",
       "</g>\n",
       "<!-- 140037402219184 -->\n",
       "<g class=\"node\" id=\"node3\"><title>140037402219184</title>\n",
       "<polygon fill=\"none\" points=\"33.5,-664.5 33.5,-710.5 434.5,-710.5 434.5,-664.5 33.5,-664.5\" stroke=\"black\"/>\n",
       "<text font-family=\"Times,serif\" font-size=\"14.00\" text-anchor=\"middle\" x=\"127\" y=\"-683.8\">activation_1: Activation</text>\n",
       "<polyline fill=\"none\" points=\"220.5,-664.5 220.5,-710.5 \" stroke=\"black\"/>\n",
       "<text font-family=\"Times,serif\" font-size=\"14.00\" text-anchor=\"middle\" x=\"254.5\" y=\"-695.3\">input:</text>\n",
       "<polyline fill=\"none\" points=\"220.5,-687.5 288.5,-687.5 \" stroke=\"black\"/>\n",
       "<text font-family=\"Times,serif\" font-size=\"14.00\" text-anchor=\"middle\" x=\"254.5\" y=\"-672.3\">output:</text>\n",
       "<polyline fill=\"none\" points=\"288.5,-664.5 288.5,-710.5 \" stroke=\"black\"/>\n",
       "<text font-family=\"Times,serif\" font-size=\"14.00\" text-anchor=\"middle\" x=\"361.5\" y=\"-695.3\">(None, 26, 26, 32)</text>\n",
       "<polyline fill=\"none\" points=\"288.5,-687.5 434.5,-687.5 \" stroke=\"black\"/>\n",
       "<text font-family=\"Times,serif\" font-size=\"14.00\" text-anchor=\"middle\" x=\"361.5\" y=\"-672.3\">(None, 26, 26, 32)</text>\n",
       "</g>\n",
       "<!-- 140037418604472&#45;&gt;140037402219184 -->\n",
       "<g class=\"edge\" id=\"edge2\"><title>140037418604472-&gt;140037402219184</title>\n",
       "<path d=\"M234,-747.366C234,-739.152 234,-729.658 234,-720.725\" fill=\"none\" stroke=\"black\"/>\n",
       "<polygon fill=\"black\" points=\"237.5,-720.607 234,-710.607 230.5,-720.607 237.5,-720.607\" stroke=\"black\"/>\n",
       "</g>\n",
       "<!-- 140037402190064 -->\n",
       "<g class=\"node\" id=\"node4\"><title>140037402190064</title>\n",
       "<polygon fill=\"none\" points=\"51.5,-581.5 51.5,-627.5 416.5,-627.5 416.5,-581.5 51.5,-581.5\" stroke=\"black\"/>\n",
       "<text font-family=\"Times,serif\" font-size=\"14.00\" text-anchor=\"middle\" x=\"127\" y=\"-600.8\">conv2d_2: Conv2D</text>\n",
       "<polyline fill=\"none\" points=\"202.5,-581.5 202.5,-627.5 \" stroke=\"black\"/>\n",
       "<text font-family=\"Times,serif\" font-size=\"14.00\" text-anchor=\"middle\" x=\"236.5\" y=\"-612.3\">input:</text>\n",
       "<polyline fill=\"none\" points=\"202.5,-604.5 270.5,-604.5 \" stroke=\"black\"/>\n",
       "<text font-family=\"Times,serif\" font-size=\"14.00\" text-anchor=\"middle\" x=\"236.5\" y=\"-589.3\">output:</text>\n",
       "<polyline fill=\"none\" points=\"270.5,-581.5 270.5,-627.5 \" stroke=\"black\"/>\n",
       "<text font-family=\"Times,serif\" font-size=\"14.00\" text-anchor=\"middle\" x=\"343.5\" y=\"-612.3\">(None, 26, 26, 32)</text>\n",
       "<polyline fill=\"none\" points=\"270.5,-604.5 416.5,-604.5 \" stroke=\"black\"/>\n",
       "<text font-family=\"Times,serif\" font-size=\"14.00\" text-anchor=\"middle\" x=\"343.5\" y=\"-589.3\">(None, 24, 24, 32)</text>\n",
       "</g>\n",
       "<!-- 140037402219184&#45;&gt;140037402190064 -->\n",
       "<g class=\"edge\" id=\"edge3\"><title>140037402219184-&gt;140037402190064</title>\n",
       "<path d=\"M234,-664.366C234,-656.152 234,-646.658 234,-637.725\" fill=\"none\" stroke=\"black\"/>\n",
       "<polygon fill=\"black\" points=\"237.5,-637.607 234,-627.607 230.5,-637.607 237.5,-637.607\" stroke=\"black\"/>\n",
       "</g>\n",
       "<!-- 140037402190176 -->\n",
       "<g class=\"node\" id=\"node5\"><title>140037402190176</title>\n",
       "<polygon fill=\"none\" points=\"33.5,-498.5 33.5,-544.5 434.5,-544.5 434.5,-498.5 33.5,-498.5\" stroke=\"black\"/>\n",
       "<text font-family=\"Times,serif\" font-size=\"14.00\" text-anchor=\"middle\" x=\"127\" y=\"-517.8\">activation_2: Activation</text>\n",
       "<polyline fill=\"none\" points=\"220.5,-498.5 220.5,-544.5 \" stroke=\"black\"/>\n",
       "<text font-family=\"Times,serif\" font-size=\"14.00\" text-anchor=\"middle\" x=\"254.5\" y=\"-529.3\">input:</text>\n",
       "<polyline fill=\"none\" points=\"220.5,-521.5 288.5,-521.5 \" stroke=\"black\"/>\n",
       "<text font-family=\"Times,serif\" font-size=\"14.00\" text-anchor=\"middle\" x=\"254.5\" y=\"-506.3\">output:</text>\n",
       "<polyline fill=\"none\" points=\"288.5,-498.5 288.5,-544.5 \" stroke=\"black\"/>\n",
       "<text font-family=\"Times,serif\" font-size=\"14.00\" text-anchor=\"middle\" x=\"361.5\" y=\"-529.3\">(None, 24, 24, 32)</text>\n",
       "<polyline fill=\"none\" points=\"288.5,-521.5 434.5,-521.5 \" stroke=\"black\"/>\n",
       "<text font-family=\"Times,serif\" font-size=\"14.00\" text-anchor=\"middle\" x=\"361.5\" y=\"-506.3\">(None, 24, 24, 32)</text>\n",
       "</g>\n",
       "<!-- 140037402190064&#45;&gt;140037402190176 -->\n",
       "<g class=\"edge\" id=\"edge4\"><title>140037402190064-&gt;140037402190176</title>\n",
       "<path d=\"M234,-581.366C234,-573.152 234,-563.658 234,-554.725\" fill=\"none\" stroke=\"black\"/>\n",
       "<polygon fill=\"black\" points=\"237.5,-554.607 234,-544.607 230.5,-554.607 237.5,-554.607\" stroke=\"black\"/>\n",
       "</g>\n",
       "<!-- 140037402191016 -->\n",
       "<g class=\"node\" id=\"node6\"><title>140037402191016</title>\n",
       "<polygon fill=\"none\" points=\"0,-415.5 0,-461.5 468,-461.5 468,-415.5 0,-415.5\" stroke=\"black\"/>\n",
       "<text font-family=\"Times,serif\" font-size=\"14.00\" text-anchor=\"middle\" x=\"127\" y=\"-434.8\">max_pooling2d_1: MaxPooling2D</text>\n",
       "<polyline fill=\"none\" points=\"254,-415.5 254,-461.5 \" stroke=\"black\"/>\n",
       "<text font-family=\"Times,serif\" font-size=\"14.00\" text-anchor=\"middle\" x=\"288\" y=\"-446.3\">input:</text>\n",
       "<polyline fill=\"none\" points=\"254,-438.5 322,-438.5 \" stroke=\"black\"/>\n",
       "<text font-family=\"Times,serif\" font-size=\"14.00\" text-anchor=\"middle\" x=\"288\" y=\"-423.3\">output:</text>\n",
       "<polyline fill=\"none\" points=\"322,-415.5 322,-461.5 \" stroke=\"black\"/>\n",
       "<text font-family=\"Times,serif\" font-size=\"14.00\" text-anchor=\"middle\" x=\"395\" y=\"-446.3\">(None, 24, 24, 32)</text>\n",
       "<polyline fill=\"none\" points=\"322,-438.5 468,-438.5 \" stroke=\"black\"/>\n",
       "<text font-family=\"Times,serif\" font-size=\"14.00\" text-anchor=\"middle\" x=\"395\" y=\"-423.3\">(None, 12, 12, 32)</text>\n",
       "</g>\n",
       "<!-- 140037402190176&#45;&gt;140037402191016 -->\n",
       "<g class=\"edge\" id=\"edge5\"><title>140037402190176-&gt;140037402191016</title>\n",
       "<path d=\"M234,-498.366C234,-490.152 234,-480.658 234,-471.725\" fill=\"none\" stroke=\"black\"/>\n",
       "<polygon fill=\"black\" points=\"237.5,-471.607 234,-461.607 230.5,-471.607 237.5,-471.607\" stroke=\"black\"/>\n",
       "</g>\n",
       "<!-- 140037402221200 -->\n",
       "<g class=\"node\" id=\"node7\"><title>140037402221200</title>\n",
       "<polygon fill=\"none\" points=\"57,-332.5 57,-378.5 411,-378.5 411,-332.5 57,-332.5\" stroke=\"black\"/>\n",
       "<text font-family=\"Times,serif\" font-size=\"14.00\" text-anchor=\"middle\" x=\"127\" y=\"-351.8\">flatten_1: Flatten</text>\n",
       "<polyline fill=\"none\" points=\"197,-332.5 197,-378.5 \" stroke=\"black\"/>\n",
       "<text font-family=\"Times,serif\" font-size=\"14.00\" text-anchor=\"middle\" x=\"231\" y=\"-363.3\">input:</text>\n",
       "<polyline fill=\"none\" points=\"197,-355.5 265,-355.5 \" stroke=\"black\"/>\n",
       "<text font-family=\"Times,serif\" font-size=\"14.00\" text-anchor=\"middle\" x=\"231\" y=\"-340.3\">output:</text>\n",
       "<polyline fill=\"none\" points=\"265,-332.5 265,-378.5 \" stroke=\"black\"/>\n",
       "<text font-family=\"Times,serif\" font-size=\"14.00\" text-anchor=\"middle\" x=\"338\" y=\"-363.3\">(None, 12, 12, 32)</text>\n",
       "<polyline fill=\"none\" points=\"265,-355.5 411,-355.5 \" stroke=\"black\"/>\n",
       "<text font-family=\"Times,serif\" font-size=\"14.00\" text-anchor=\"middle\" x=\"338\" y=\"-340.3\">(None, 4608)</text>\n",
       "</g>\n",
       "<!-- 140037402191016&#45;&gt;140037402221200 -->\n",
       "<g class=\"edge\" id=\"edge6\"><title>140037402191016-&gt;140037402221200</title>\n",
       "<path d=\"M234,-415.366C234,-407.152 234,-397.658 234,-388.725\" fill=\"none\" stroke=\"black\"/>\n",
       "<polygon fill=\"black\" points=\"237.5,-388.607 234,-378.607 230.5,-388.607 237.5,-388.607\" stroke=\"black\"/>\n",
       "</g>\n",
       "<!-- 140037401909456 -->\n",
       "<g class=\"node\" id=\"node8\"><title>140037401909456</title>\n",
       "<polygon fill=\"none\" points=\"66.5,-249.5 66.5,-295.5 401.5,-295.5 401.5,-249.5 66.5,-249.5\" stroke=\"black\"/>\n",
       "<text font-family=\"Times,serif\" font-size=\"14.00\" text-anchor=\"middle\" x=\"145\" y=\"-268.8\">dropout_4: Dropout</text>\n",
       "<polyline fill=\"none\" points=\"223.5,-249.5 223.5,-295.5 \" stroke=\"black\"/>\n",
       "<text font-family=\"Times,serif\" font-size=\"14.00\" text-anchor=\"middle\" x=\"257.5\" y=\"-280.3\">input:</text>\n",
       "<polyline fill=\"none\" points=\"223.5,-272.5 291.5,-272.5 \" stroke=\"black\"/>\n",
       "<text font-family=\"Times,serif\" font-size=\"14.00\" text-anchor=\"middle\" x=\"257.5\" y=\"-257.3\">output:</text>\n",
       "<polyline fill=\"none\" points=\"291.5,-249.5 291.5,-295.5 \" stroke=\"black\"/>\n",
       "<text font-family=\"Times,serif\" font-size=\"14.00\" text-anchor=\"middle\" x=\"346.5\" y=\"-280.3\">(None, 4608)</text>\n",
       "<polyline fill=\"none\" points=\"291.5,-272.5 401.5,-272.5 \" stroke=\"black\"/>\n",
       "<text font-family=\"Times,serif\" font-size=\"14.00\" text-anchor=\"middle\" x=\"346.5\" y=\"-257.3\">(None, 4608)</text>\n",
       "</g>\n",
       "<!-- 140037402221200&#45;&gt;140037401909456 -->\n",
       "<g class=\"edge\" id=\"edge7\"><title>140037402221200-&gt;140037401909456</title>\n",
       "<path d=\"M234,-332.366C234,-324.152 234,-314.658 234,-305.725\" fill=\"none\" stroke=\"black\"/>\n",
       "<polygon fill=\"black\" points=\"237.5,-305.607 234,-295.607 230.5,-305.607 237.5,-305.607\" stroke=\"black\"/>\n",
       "</g>\n",
       "<!-- 140037401908952 -->\n",
       "<g class=\"node\" id=\"node9\"><title>140037401908952</title>\n",
       "<polygon fill=\"none\" points=\"81,-166.5 81,-212.5 387,-212.5 387,-166.5 81,-166.5\" stroke=\"black\"/>\n",
       "<text font-family=\"Times,serif\" font-size=\"14.00\" text-anchor=\"middle\" x=\"145\" y=\"-185.8\">dense_5: Dense</text>\n",
       "<polyline fill=\"none\" points=\"209,-166.5 209,-212.5 \" stroke=\"black\"/>\n",
       "<text font-family=\"Times,serif\" font-size=\"14.00\" text-anchor=\"middle\" x=\"243\" y=\"-197.3\">input:</text>\n",
       "<polyline fill=\"none\" points=\"209,-189.5 277,-189.5 \" stroke=\"black\"/>\n",
       "<text font-family=\"Times,serif\" font-size=\"14.00\" text-anchor=\"middle\" x=\"243\" y=\"-174.3\">output:</text>\n",
       "<polyline fill=\"none\" points=\"277,-166.5 277,-212.5 \" stroke=\"black\"/>\n",
       "<text font-family=\"Times,serif\" font-size=\"14.00\" text-anchor=\"middle\" x=\"332\" y=\"-197.3\">(None, 4608)</text>\n",
       "<polyline fill=\"none\" points=\"277,-189.5 387,-189.5 \" stroke=\"black\"/>\n",
       "<text font-family=\"Times,serif\" font-size=\"14.00\" text-anchor=\"middle\" x=\"332\" y=\"-174.3\">(None, 128)</text>\n",
       "</g>\n",
       "<!-- 140037401909456&#45;&gt;140037401908952 -->\n",
       "<g class=\"edge\" id=\"edge8\"><title>140037401909456-&gt;140037401908952</title>\n",
       "<path d=\"M234,-249.366C234,-241.152 234,-231.658 234,-222.725\" fill=\"none\" stroke=\"black\"/>\n",
       "<polygon fill=\"black\" points=\"237.5,-222.607 234,-212.607 230.5,-222.607 237.5,-222.607\" stroke=\"black\"/>\n",
       "</g>\n",
       "<!-- 140037401908616 -->\n",
       "<g class=\"node\" id=\"node10\"><title>140037401908616</title>\n",
       "<polygon fill=\"none\" points=\"71,-83.5 71,-129.5 397,-129.5 397,-83.5 71,-83.5\" stroke=\"black\"/>\n",
       "<text font-family=\"Times,serif\" font-size=\"14.00\" text-anchor=\"middle\" x=\"149.5\" y=\"-102.8\">dropout_5: Dropout</text>\n",
       "<polyline fill=\"none\" points=\"228,-83.5 228,-129.5 \" stroke=\"black\"/>\n",
       "<text font-family=\"Times,serif\" font-size=\"14.00\" text-anchor=\"middle\" x=\"262\" y=\"-114.3\">input:</text>\n",
       "<polyline fill=\"none\" points=\"228,-106.5 296,-106.5 \" stroke=\"black\"/>\n",
       "<text font-family=\"Times,serif\" font-size=\"14.00\" text-anchor=\"middle\" x=\"262\" y=\"-91.3\">output:</text>\n",
       "<polyline fill=\"none\" points=\"296,-83.5 296,-129.5 \" stroke=\"black\"/>\n",
       "<text font-family=\"Times,serif\" font-size=\"14.00\" text-anchor=\"middle\" x=\"346.5\" y=\"-114.3\">(None, 128)</text>\n",
       "<polyline fill=\"none\" points=\"296,-106.5 397,-106.5 \" stroke=\"black\"/>\n",
       "<text font-family=\"Times,serif\" font-size=\"14.00\" text-anchor=\"middle\" x=\"346.5\" y=\"-91.3\">(None, 128)</text>\n",
       "</g>\n",
       "<!-- 140037401908952&#45;&gt;140037401908616 -->\n",
       "<g class=\"edge\" id=\"edge9\"><title>140037401908952-&gt;140037401908616</title>\n",
       "<path d=\"M234,-166.366C234,-158.152 234,-148.658 234,-139.725\" fill=\"none\" stroke=\"black\"/>\n",
       "<polygon fill=\"black\" points=\"237.5,-139.607 234,-129.607 230.5,-139.607 237.5,-139.607\" stroke=\"black\"/>\n",
       "</g>\n",
       "<!-- 140037401910128 -->\n",
       "<g class=\"node\" id=\"node11\"><title>140037401910128</title>\n",
       "<polygon fill=\"none\" points=\"85.5,-0.5 85.5,-46.5 382.5,-46.5 382.5,-0.5 85.5,-0.5\" stroke=\"black\"/>\n",
       "<text font-family=\"Times,serif\" font-size=\"14.00\" text-anchor=\"middle\" x=\"149.5\" y=\"-19.8\">dense_6: Dense</text>\n",
       "<polyline fill=\"none\" points=\"213.5,-0.5 213.5,-46.5 \" stroke=\"black\"/>\n",
       "<text font-family=\"Times,serif\" font-size=\"14.00\" text-anchor=\"middle\" x=\"247.5\" y=\"-31.3\">input:</text>\n",
       "<polyline fill=\"none\" points=\"213.5,-23.5 281.5,-23.5 \" stroke=\"black\"/>\n",
       "<text font-family=\"Times,serif\" font-size=\"14.00\" text-anchor=\"middle\" x=\"247.5\" y=\"-8.3\">output:</text>\n",
       "<polyline fill=\"none\" points=\"281.5,-0.5 281.5,-46.5 \" stroke=\"black\"/>\n",
       "<text font-family=\"Times,serif\" font-size=\"14.00\" text-anchor=\"middle\" x=\"332\" y=\"-31.3\">(None, 128)</text>\n",
       "<polyline fill=\"none\" points=\"281.5,-23.5 382.5,-23.5 \" stroke=\"black\"/>\n",
       "<text font-family=\"Times,serif\" font-size=\"14.00\" text-anchor=\"middle\" x=\"332\" y=\"-8.3\">(None, 10)</text>\n",
       "</g>\n",
       "<!-- 140037401908616&#45;&gt;140037401910128 -->\n",
       "<g class=\"edge\" id=\"edge10\"><title>140037401908616-&gt;140037401910128</title>\n",
       "<path d=\"M234,-83.3664C234,-75.1516 234,-65.6579 234,-56.7252\" fill=\"none\" stroke=\"black\"/>\n",
       "<polygon fill=\"black\" points=\"237.5,-56.6068 234,-46.6068 230.5,-56.6069 237.5,-56.6068\" stroke=\"black\"/>\n",
       "</g>\n",
       "</g>\n",
       "</svg>"
      ],
      "text/plain": [
       "<IPython.core.display.SVG object>"
      ]
     },
     "execution_count": 31,
     "metadata": {},
     "output_type": "execute_result"
    }
   ],
   "source": [
    "SVG(model_to_dot(model_cnn, show_shapes=True).create(prog='dot', format='svg'))"
   ]
  },
  {
   "cell_type": "markdown",
   "metadata": {},
   "source": [
    "## Training"
   ]
  },
  {
   "cell_type": "markdown",
   "metadata": {},
   "source": [
    "Training parameters are the following:\n",
    "* nb_epoch $-$ number of epochs to train. here we choose 12; one may condiser using some stopping criterias\n",
    "* **batch_size** $-$ parameter that controls how frequent do we update gradient; with $\\text{batch_size}=1$ optimization is nothing but pure Stohastic Gradient Descent (update gradient after passing each one object); with $\\text{batch_size}=\\textit{number of objects}$ it will be usual Gradient Descent which updates gradient only after passing all objects. Choosing value between this two one can control speed and convergence of training process."
   ]
  },
  {
   "cell_type": "code",
   "execution_count": 32,
   "metadata": {
    "collapsed": true
   },
   "outputs": [],
   "source": [
    "batch_size = 128\n",
    "epochs = 5"
   ]
  },
  {
   "cell_type": "markdown",
   "metadata": {},
   "source": [
    "Train!"
   ]
  },
  {
   "cell_type": "code",
   "execution_count": 33,
   "metadata": {},
   "outputs": [
    {
     "name": "stdout",
     "output_type": "stream",
     "text": [
      "Train on 60000 samples, validate on 10000 samples\n",
      "Epoch 1/5\n",
      "60000/60000 [==============================] - 4s - loss: 0.3012 - acc: 0.9083 - val_loss: 0.0619 - val_acc: 0.9810\n",
      "Epoch 2/5\n",
      "60000/60000 [==============================] - 4s - loss: 0.1086 - acc: 0.9675 - val_loss: 0.0460 - val_acc: 0.9852\n",
      "Epoch 3/5\n",
      "60000/60000 [==============================] - 4s - loss: 0.0864 - acc: 0.9739 - val_loss: 0.0404 - val_acc: 0.9871\n",
      "Epoch 4/5\n",
      "60000/60000 [==============================] - 4s - loss: 0.0715 - acc: 0.9782 - val_loss: 0.0327 - val_acc: 0.9892\n",
      "Epoch 5/5\n",
      "60000/60000 [==============================] - 4s - loss: 0.0648 - acc: 0.9798 - val_loss: 0.0327 - val_acc: 0.9883\n"
     ]
    }
   ],
   "source": [
    "hist = model_cnn.fit(X_train, y_train, \n",
    "                     batch_size=batch_size, \n",
    "                     epochs=epochs,\n",
    "                     validation_data=(X_test, y_test))"
   ]
  },
  {
   "cell_type": "markdown",
   "metadata": {},
   "source": [
    "## Evaluation"
   ]
  },
  {
   "cell_type": "markdown",
   "metadata": {},
   "source": [
    "Visualization of learning process:"
   ]
  },
  {
   "cell_type": "code",
   "execution_count": 34,
   "metadata": {},
   "outputs": [
    {
     "data": {
      "image/png": "[encoded data removed]",
      "text/plain": [
       "<matplotlib.figure.Figure at 0x7f5ce2f15080>"
      ]
     },
     "metadata": {},
     "output_type": "display_data"
    }
   ],
   "source": [
    "plt.figure(figsize=(20, 8))\n",
    "plt.suptitle(\"CNN model training\", fontsize=18)\n",
    "plt.subplot(121)\n",
    "plt.plot(hist.history[\"loss\"], label=\"Train\")\n",
    "plt.plot(hist.history[\"val_loss\"], label=\"Test\")\n",
    "plt.grid(\"on\")\n",
    "plt.xlabel(\"Epoch\", fontsize=14)\n",
    "plt.ylabel(\"Crossentropy\", fontsize=14)\n",
    "plt.legend(loc=\"upper right\")\n",
    "plt.subplot(122)\n",
    "plt.plot(hist.history[\"acc\"], label=\"Train\")\n",
    "plt.grid(\"on\")\n",
    "plt.plot(hist.history[\"val_acc\"], label=\"Test\")\n",
    "plt.xlabel(\"Epoch\", fontsize=14)\n",
    "plt.ylabel(\"Accuracy\", fontsize=14)\n",
    "plt.legend(loc=\"lower right\")\n",
    "plt.ylim([0.88, 1.0]);"
   ]
  },
  {
   "cell_type": "markdown",
   "metadata": {},
   "source": [
    "Final evaluation of the model:"
   ]
  },
  {
   "cell_type": "code",
   "execution_count": 35,
   "metadata": {
    "collapsed": true
   },
   "outputs": [],
   "source": [
    "score_train = model_cnn.evaluate(X_train, y_train, verbose=0)\n",
    "score_test = model_cnn.evaluate(X_test, y_test, verbose=0)"
   ]
  },
  {
   "cell_type": "code",
   "execution_count": 36,
   "metadata": {
    "collapsed": true
   },
   "outputs": [],
   "source": [
    "results.loc[len(results)] = np.array([score_train[1], score_test[1], score_train[0], score_test[0]])\n",
    "results.index = [\"MLP\", \"CNN\"]"
   ]
  },
  {
   "cell_type": "code",
   "execution_count": 37,
   "metadata": {},
   "outputs": [
    {
     "data": {
      "text/html": [
       "<div>\n",
       "<style>\n",
       "    .dataframe thead tr:only-child th {\n",
       "        text-align: right;\n",
       "    }\n",
       "\n",
       "    .dataframe thead th {\n",
       "        text-align: left;\n",
       "    }\n",
       "\n",
       "    .dataframe tbody tr th {\n",
       "        vertical-align: top;\n",
       "    }\n",
       "</style>\n",
       "<table border=\"1\" class=\"dataframe\">\n",
       "  <thead>\n",
       "    <tr style=\"text-align: right;\">\n",
       "      <th></th>\n",
       "      <th>Accuracy Train</th>\n",
       "      <th>Accuracy Test</th>\n",
       "      <th>Loss Train</th>\n",
       "      <th>Loss Test</th>\n",
       "    </tr>\n",
       "  </thead>\n",
       "  <tbody>\n",
       "    <tr>\n",
       "      <th>MLP</th>\n",
       "      <td>0.9862</td>\n",
       "      <td>0.9746</td>\n",
       "      <td>0.045773</td>\n",
       "      <td>0.090305</td>\n",
       "    </tr>\n",
       "    <tr>\n",
       "      <th>CNN</th>\n",
       "      <td>0.9934</td>\n",
       "      <td>0.9883</td>\n",
       "      <td>0.021616</td>\n",
       "      <td>0.032652</td>\n",
       "    </tr>\n",
       "  </tbody>\n",
       "</table>\n",
       "</div>"
      ],
      "text/plain": [
       "     Accuracy Train  Accuracy Test  Loss Train  Loss Test\n",
       "MLP          0.9862         0.9746    0.045773   0.090305\n",
       "CNN          0.9934         0.9883    0.021616   0.032652"
      ]
     },
     "execution_count": 37,
     "metadata": {},
     "output_type": "execute_result"
    }
   ],
   "source": [
    "results"
   ]
  }
 ],
 "metadata": {
  "anaconda-cloud": {},
  "kernelspec": {
   "display_name": "Python 3",
   "language": "python",
   "name": "python3"
  },
  "language_info": {
   "codemirror_mode": {
    "name": "ipython",
    "version": 3
   },
   "file_extension": ".py",
   "mimetype": "text/x-python",
   "name": "python",
   "nbconvert_exporter": "python",
   "pygments_lexer": "ipython3",
   "version": "3.6.2"
  },
  "toc": {
   "nav_menu": {
    "height": "192px",
    "width": "252px"
   },
   "number_sections": true,
   "sideBar": true,
   "skip_h1_title": false,
   "toc_cell": false,
   "toc_position": {},
   "toc_section_display": "block",
   "toc_window_display": true
  }
 },
 "nbformat": 4,
 "nbformat_minor": 1
}
