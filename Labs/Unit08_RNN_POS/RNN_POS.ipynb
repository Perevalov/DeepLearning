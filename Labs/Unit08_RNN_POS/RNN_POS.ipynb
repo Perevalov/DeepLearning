{
 "cells": [
  {
   "cell_type": "markdown",
   "metadata": {},
   "source": [
    "<a id='begin'></a>\n",
    "# Recurrent Neural Networks"
   ]
  },
  {
   "cell_type": "markdown",
   "metadata": {},
   "source": [
    "In this notebook we're going to solve the task of part-of-speech (POS) tagging using RNNs"
   ]
  },
  {
   "cell_type": "code",
   "execution_count": 1,
   "metadata": {},
   "outputs": [
    {
     "name": "stderr",
     "output_type": "stream",
     "text": [
      "Using TensorFlow backend.\n"
     ]
    }
   ],
   "source": [
    "import numpy as np\n",
    "import nltk\n",
    "\n",
    "from sklearn.model_selection import train_test_split\n",
    "\n",
    "from keras.models import Model\n",
    "from keras.layers import Embedding\n",
    "from keras.layers import Input, LSTM, SimpleRNN, TimeDistributed, Dense\n",
    "from keras.preprocessing.sequence import pad_sequences\n",
    "from keras.utils.np_utils import to_categorical\n",
    "from keras.utils.vis_utils import model_to_dot\n",
    "\n",
    "from IPython.display import SVG\n",
    "\n",
    "import matplotlib\n",
    "import matplotlib.pyplot as plt\n",
    "import seaborn as sns\n",
    "\n",
    "%matplotlib inline"
   ]
  },
  {
   "cell_type": "markdown",
   "metadata": {},
   "source": [
    "Set style"
   ]
  },
  {
   "cell_type": "code",
   "execution_count": 2,
   "metadata": {
    "collapsed": true
   },
   "outputs": [],
   "source": [
    "sns.set(style=\"whitegrid\", font_scale=1.3)\n",
    "matplotlib.rcParams[\"figure.figsize\"] = (10, 8)\n",
    "matplotlib.rcParams[\"legend.framealpha\"] = 1\n",
    "matplotlib.rcParams[\"legend.frameon\"] = True"
   ]
  },
  {
   "cell_type": "markdown",
   "metadata": {},
   "source": [
    "Random seed is put here just for the sake of reproducibility"
   ]
  },
  {
   "cell_type": "code",
   "execution_count": 3,
   "metadata": {
    "collapsed": true
   },
   "outputs": [],
   "source": [
    "np.random.seed(41)"
   ]
  },
  {
   "cell_type": "markdown",
   "metadata": {},
   "source": [
    "# Loading data"
   ]
  },
  {
   "cell_type": "markdown",
   "metadata": {},
   "source": [
    "In this demo we're going to use [NLTK](http://www.nltk.org/) python library which provides lots of function to work with natural language and text corpuses. "
   ]
  },
  {
   "cell_type": "markdown",
   "metadata": {},
   "source": [
    "## Preparation - setting NLTK"
   ]
  },
  {
   "cell_type": "markdown",
   "metadata": {},
   "source": [
    "Downloading Brown [[1](http://www.hit.uib.no/icame/brown/bcm.html#bc2), [2](https://en.wikipedia.org/wiki/Brown_Corpus)] corpus with part-of-speech tagging and list of tags used."
   ]
  },
  {
   "cell_type": "code",
   "execution_count": 4,
   "metadata": {},
   "outputs": [
    {
     "name": "stdout",
     "output_type": "stream",
     "text": [
      "[nltk_data] Downloading package brown to /root/nltk_data...\n",
      "[nltk_data]   Unzipping corpora/brown.zip.\n",
      "[nltk_data] Downloading package tagsets to /root/nltk_data...\n",
      "[nltk_data]   Unzipping help/tagsets.zip.\n"
     ]
    },
    {
     "data": {
      "text/plain": [
       "True"
      ]
     },
     "execution_count": 4,
     "metadata": {},
     "output_type": "execute_result"
    }
   ],
   "source": [
    "nltk.download(\"brown\")\n",
    "nltk.download(\"tagsets\")"
   ]
  },
  {
   "cell_type": "markdown",
   "metadata": {},
   "source": [
    "Below there is a full list of tags for Brown corpus. As one can see, there are quite a few of them (about a hundred)."
   ]
  },
  {
   "cell_type": "code",
   "execution_count": 5,
   "metadata": {
    "collapsed": true
   },
   "outputs": [],
   "source": [
    "# nltk.help.brown_tagset()"
   ]
  },
  {
   "cell_type": "markdown",
   "metadata": {},
   "source": [
    "Thus for simplicity we're going to use *Universal tagset*[[1](http://www.lrec-conf.org/proceedings/lrec2012/pdf/274_Paper.pdf), [2](https://github.com/slavpetrov/universal-pos-tags)] here. This tagset was suggested by Google (also they provide rules to cast all famous tegsets into universal) and has only 12 categories"
   ]
  },
  {
   "cell_type": "markdown",
   "metadata": {},
   "source": [
    "Let's download it"
   ]
  },
  {
   "cell_type": "code",
   "execution_count": 6,
   "metadata": {},
   "outputs": [
    {
     "name": "stdout",
     "output_type": "stream",
     "text": [
      "[nltk_data] Downloading package universal_tagset to /root/nltk_data...\n",
      "[nltk_data]   Unzipping taggers/universal_tagset.zip.\n"
     ]
    },
    {
     "data": {
      "text/plain": [
       "True"
      ]
     },
     "execution_count": 6,
     "metadata": {},
     "output_type": "execute_result"
    }
   ],
   "source": [
    "nltk.download(\"universal_tagset\")"
   ]
  },
  {
   "cell_type": "markdown",
   "metadata": {},
   "source": [
    "And take a look into [categories](http://www.nltk.org/book/ch05.html)"
   ]
  },
  {
   "cell_type": "markdown",
   "metadata": {},
   "source": [
    "| Tag | Meaning | English Examples\n",
    "| :- | :- | :-\n",
    "| ADJ | adjective | new, good, high, special, big, local\n",
    "| ADP | adposition | on, of, at, with, by, into, under\n",
    "| ADV | adverb | really, already, still, early, now\n",
    "| CONJ| conjunction | and, or, but, if, while, although\n",
    "| DET | determiner, article | the, a, some, most, every, no, which\n",
    "| NOUN | noun | year, home, costs, time, Africa\n",
    "| NUM | numeral | twenty-four, fourth, 1991, 14:24\n",
    "| PRT | particle | at, on, out, over per, that, up, with\n",
    "| PRON | pronoun | he, their, her, its, my, I, us\n",
    "| VERB | verb | is, say, told, given, playing, would\n",
    "| . | punctuation marks | . , ; !\n",
    "| X | other | ersatz, esprit, dunno, gr8, univeristy"
   ]
  },
  {
   "cell_type": "markdown",
   "metadata": {},
   "source": [
    "## Brief analysis of Brown corpus"
   ]
  },
  {
   "cell_type": "markdown",
   "metadata": {},
   "source": [
    "First of all, let's see how many words and sentences we have:"
   ]
  },
  {
   "cell_type": "code",
   "execution_count": 7,
   "metadata": {},
   "outputs": [
    {
     "name": "stdout",
     "output_type": "stream",
     "text": [
      "Words: 1161192\n",
      "Sentences: 57340\n"
     ]
    }
   ],
   "source": [
    "total_number_of_words = len(nltk.corpus.brown.words())\n",
    "sentences_lengths_distribution = list(map(lambda sen: len(sen), nltk.corpus.brown.sents()))\n",
    "print(\"Words:\", total_number_of_words)\n",
    "print(\"Sentences:\", len(sentences_lengths_distribution))"
   ]
  },
  {
   "cell_type": "code",
   "execution_count": 8,
   "metadata": {},
   "outputs": [
    {
     "name": "stdout",
     "output_type": "stream",
     "text": [
      "Maximum sentence length: 180\n",
      "Mean sentence length: 20.25\n"
     ]
    }
   ],
   "source": [
    "MAX_SEQUENCE_LENGTH = np.max(sentences_lengths_distribution)\n",
    "MEAN_SEQUENCE_LENGTH = np.mean(sentences_lengths_distribution)\n",
    "print(\"Maximum sentence length:\", MAX_SEQUENCE_LENGTH)\n",
    "print(\"Mean sentence length:\", np.round(MEAN_SEQUENCE_LENGTH, 2))"
   ]
  },
  {
   "cell_type": "markdown",
   "metadata": {},
   "source": [
    "Sentence lenghts distribution"
   ]
  },
  {
   "cell_type": "code",
   "execution_count": 9,
   "metadata": {},
   "outputs": [
    {
     "data": {
      "image/png": "[encoded data removed]",
      "text/plain": [
       "<matplotlib.figure.Figure at 0x7f400783c7b8>"
      ]
     },
     "metadata": {},
     "output_type": "display_data"
    }
   ],
   "source": [
    "plt.hist(sentences_lengths_distribution, bins=100, label=\"Lengths distribution\", edgecolor=\"k\")\n",
    "plt.xlim([0, MAX_SEQUENCE_LENGTH])\n",
    "ylims = plt.ylim()\n",
    "plt.plot([MEAN_SEQUENCE_LENGTH, MEAN_SEQUENCE_LENGTH], [ylims[0], ylims[1]], c=\"r\", lw=3, label=\"Mean length\")\n",
    "plt.ylim([ylims[0], ylims[1]])\n",
    "plt.legend()\n",
    "plt.xlabel(\"Length\", fontsize=14)\n",
    "plt.ylabel(\"Number of sentences\", fontsize=14)\n",
    "plt.show()"
   ]
  },
  {
   "cell_type": "markdown",
   "metadata": {},
   "source": [
    "Secondly, let's see onto words distribution over categories"
   ]
  },
  {
   "cell_type": "code",
   "execution_count": 10,
   "metadata": {},
   "outputs": [
    {
     "name": "stdout",
     "output_type": "stream",
     "text": [
      "[('NOUN', 275558), ('VERB', 182750), ('.', 147565), ('ADP', 144766), ('DET', 137019), ('ADJ', 83721), ('ADV', 56239), ('PRON', 49334), ('CONJ', 38151), ('PRT', 29829), ('NUM', 14874), ('X', 1386)]\n"
     ]
    }
   ],
   "source": [
    "brown_tagged = nltk.corpus.brown.tagged_words(tagset='universal')\n",
    "tag_fd = nltk.FreqDist(tag for (word, tag) in brown_tagged)\n",
    "most_common_pos = tag_fd.most_common()\n",
    "print(most_common_pos)\n",
    "most_common_pos = list(zip(*most_common_pos))"
   ]
  },
  {
   "cell_type": "markdown",
   "metadata": {},
   "source": [
    "Visualizing"
   ]
  },
  {
   "cell_type": "code",
   "execution_count": 11,
   "metadata": {},
   "outputs": [
    {
     "data": {
      "image/png": "[encoded data removed]",
      "text/plain": [
       "<matplotlib.figure.Figure at 0x7f3fff0e1a20>"
      ]
     },
     "metadata": {},
     "output_type": "display_data"
    }
   ],
   "source": [
    "plt.bar(np.arange(len(most_common_pos[0])), most_common_pos[1])\n",
    "plt.xlim([-1, len(most_common_pos[0])])\n",
    "plt.xticks(np.arange(len(most_common_pos[0])), \n",
    "           most_common_pos[0]);"
   ]
  },
  {
   "cell_type": "markdown",
   "metadata": {},
   "source": [
    "# Data pre-processing"
   ]
  },
  {
   "cell_type": "markdown",
   "metadata": {},
   "source": [
    "Read tagged corpus sentence by sentence"
   ]
  },
  {
   "cell_type": "code",
   "execution_count": 12,
   "metadata": {
    "collapsed": true
   },
   "outputs": [],
   "source": [
    "data = nltk.corpus.brown.tagged_sents(tagset=\"universal\")"
   ]
  },
  {
   "cell_type": "code",
   "execution_count": 13,
   "metadata": {},
   "outputs": [
    {
     "name": "stdout",
     "output_type": "stream",
     "text": [
      "Example of sentence:\n"
     ]
    },
    {
     "data": {
      "text/plain": [
       "[('The', 'DET'),\n",
       " ('Fulton', 'NOUN'),\n",
       " ('County', 'NOUN'),\n",
       " ('Grand', 'ADJ'),\n",
       " ('Jury', 'NOUN'),\n",
       " ('said', 'VERB'),\n",
       " ('Friday', 'NOUN'),\n",
       " ('an', 'DET'),\n",
       " ('investigation', 'NOUN'),\n",
       " ('of', 'ADP'),\n",
       " (\"Atlanta's\", 'NOUN'),\n",
       " ('recent', 'ADJ'),\n",
       " ('primary', 'NOUN'),\n",
       " ('election', 'NOUN'),\n",
       " ('produced', 'VERB'),\n",
       " ('``', '.'),\n",
       " ('no', 'DET'),\n",
       " ('evidence', 'NOUN'),\n",
       " (\"''\", '.'),\n",
       " ('that', 'ADP'),\n",
       " ('any', 'DET'),\n",
       " ('irregularities', 'NOUN'),\n",
       " ('took', 'VERB'),\n",
       " ('place', 'NOUN'),\n",
       " ('.', '.')]"
      ]
     },
     "execution_count": 13,
     "metadata": {},
     "output_type": "execute_result"
    }
   ],
   "source": [
    "print(\"Example of sentence:\")\n",
    "data[0]"
   ]
  },
  {
   "cell_type": "markdown",
   "metadata": {},
   "source": [
    "## Enumeration encoding"
   ]
  },
  {
   "cell_type": "markdown",
   "metadata": {},
   "source": [
    "Next goal is to transform our corpus into numerical representation."
   ]
  },
  {
   "cell_type": "markdown",
   "metadata": {},
   "source": [
    "First step it to encode all the words enumeration encoding - in other words we're just goind to enumerate the vocabulary."
   ]
  },
  {
   "cell_type": "markdown",
   "metadata": {},
   "source": [
    "For that purpose we're going to build two vocabularies:\n",
    "* Words vocabulary $-$ array that contains all the words that occur in the corpues\n",
    "* Tags vocabulary $-$ array with all possible part-of-speech tags (12 tags from universal tagset)"
   ]
  },
  {
   "cell_type": "code",
   "execution_count": 14,
   "metadata": {
    "collapsed": true
   },
   "outputs": [],
   "source": [
    "words_vocabulary = np.unique(nltk.corpus.brown.words())\n",
    "tags_vocabulary = np.unique(list(zip(*nltk.corpus.brown.tagged_words(tagset=\"universal\")))[1])"
   ]
  },
  {
   "cell_type": "code",
   "execution_count": 15,
   "metadata": {},
   "outputs": [
    {
     "name": "stdout",
     "output_type": "stream",
     "text": [
      "Size of words vocabulary: 56057\n"
     ]
    }
   ],
   "source": [
    "print(\"Size of words vocabulary:\", len(words_vocabulary))"
   ]
  },
  {
   "cell_type": "markdown",
   "metadata": {},
   "source": [
    "Now let's construct python dictionary from that vocabularies. These dictionaries will be a lookup tables in which we're going to look while looping over corpus and transforming it from words to numbers."
   ]
  },
  {
   "cell_type": "code",
   "execution_count": 16,
   "metadata": {
    "collapsed": true
   },
   "outputs": [],
   "source": [
    "words_index = dict(zip(words_vocabulary, np.arange(1, len(words_vocabulary) + 1)))\n",
    "tags_index = dict(zip(tags_vocabulary, np.arange(1, len(tags_vocabulary) + 1)))"
   ]
  },
  {
   "cell_type": "markdown",
   "metadata": {},
   "source": [
    "Important thing here is that we enumerate all words and tags staring from $1$. The reason is that we're going to pad all the sequences with $0$ to have them with equal lengths. Actually it is the constraint of the Keras (and any other deep learning library which works with tensors). Keras requires to have all inputs to be fed as one tensor. And to form a tensor all dimensions should have the same number of components. Thus all the sequences should be of the same length.\n",
    "\n",
    "But at the same time Keras provides nice and easy way to overcome this restriction. One can use *masked* input which means that all the zeros in the input sequences will be treated as empty places and predictions at these places won't be taken in account during the loss computation."
   ]
  },
  {
   "cell_type": "markdown",
   "metadata": {},
   "source": [
    "Now let's just iterate over the corpus and replace every word with its index in the lookup table"
   ]
  },
  {
   "cell_type": "code",
   "execution_count": 17,
   "metadata": {
    "collapsed": true
   },
   "outputs": [],
   "source": [
    "sentences_indexed = []\n",
    "tags_indexed = []\n",
    "for sentences in data:\n",
    "    sent_ind = []\n",
    "    tag_ind = []\n",
    "    for word, tag in sentences:\n",
    "        sent_ind.append(words_index[word])\n",
    "        tag_ind.append(tags_index[tag])\n",
    "    sentences_indexed.append(sent_ind)\n",
    "    tags_indexed.append(tag_ind)"
   ]
  },
  {
   "cell_type": "markdown",
   "metadata": {},
   "source": [
    "And then pad these sequences to the same length (equal to the maximum length of the sentence)"
   ]
  },
  {
   "cell_type": "code",
   "execution_count": 18,
   "metadata": {
    "collapsed": true
   },
   "outputs": [],
   "source": [
    "sentences_indexed = pad_sequences(sentences_indexed, maxlen=MAX_SEQUENCE_LENGTH)\n",
    "tags_indexed = pad_sequences(tags_indexed, maxlen=MAX_SEQUENCE_LENGTH)"
   ]
  },
  {
   "cell_type": "markdown",
   "metadata": {},
   "source": [
    "Now we have each object of the corpus in the following form:"
   ]
  },
  {
   "cell_type": "code",
   "execution_count": 19,
   "metadata": {},
   "outputs": [
    {
     "name": "stdout",
     "output_type": "stream",
     "text": [
      "Sentence:\n",
      " [    0     0     0     0     0     0     0     0     0     0     0     0\n",
      "     0     0     0     0     0     0     0     0     0     0     0     0\n",
      "     0     0     0     0     0     0     0     0     0     0     0     0\n",
      "     0     0     0     0     0     0     0     0     0     0     0     0\n",
      "     0     0     0     0     0     0     0     0     0     0     0     0\n",
      "     0     0     0     0     0     0     0     0     0     0     0     0\n",
      "     0     0     0     0     0     0     0     0     0     0     0     0\n",
      "     0     0     0     0     0     0     0     0     0     0     0     0\n",
      "     0     0     0     0     0     0     0     0     0     0     0     0\n",
      "     0     0     0     0     0     0     0     0     0     0     0     0\n",
      "     0     0     0     0     0     0     0     0     0     0     0     0\n",
      "     0     0     0     0     0     0     0     0     0     0     0     0\n",
      "     0     0     0     0     0     0     0     0     0     0     0 17591\n",
      "  8187  5896  8688 10433 47062  8137 20449 36446 41066  3265 45364 44001\n",
      " 29543 44136 19348 40493 30360   323 51916 20732 36543 52532 43033   406]\n",
      "--------------------------------------------------------------------------\n",
      "Tags:\n",
      " [ 0  0  0  0  0  0  0  0  0  0  0  0  0  0  0  0  0  0  0  0  0  0  0  0  0\n",
      "  0  0  0  0  0  0  0  0  0  0  0  0  0  0  0  0  0  0  0  0  0  0  0  0  0\n",
      "  0  0  0  0  0  0  0  0  0  0  0  0  0  0  0  0  0  0  0  0  0  0  0  0  0\n",
      "  0  0  0  0  0  0  0  0  0  0  0  0  0  0  0  0  0  0  0  0  0  0  0  0  0\n",
      "  0  0  0  0  0  0  0  0  0  0  0  0  0  0  0  0  0  0  0  0  0  0  0  0  0\n",
      "  0  0  0  0  0  0  0  0  0  0  0  0  0  0  0  0  0  0  0  0  0  0  0  0  0\n",
      "  0  0  0  0  0  6  7  7  2  7 11  7  6  7  3  7  2  7  7 11  1  6  7  1  3\n",
      "  6  7 11  7  1]\n"
     ]
    }
   ],
   "source": [
    "print(\"Sentence:\\n\", sentences_indexed[0])\n",
    "print(\"--------------------------------------------------------------------------\")\n",
    "print(\"Tags:\\n\", tags_indexed[0])"
   ]
  },
  {
   "cell_type": "markdown",
   "metadata": {},
   "source": [
    "## Word embeddings"
   ]
  },
  {
   "cell_type": "markdown",
   "metadata": {},
   "source": [
    "Next (and one of the most important) step is to embed our words into the low-dimensional space that will reflect similarity notion between words. A brief introduction to word-vectors can be found here [[1](http://cs224d.stanford.edu/lecture_notes/notes1.pdf), [2](http://sebastianruder.com/word-embeddings-1/index.html)].\n",
    "\n",
    "Here we're going to use word embedding pre-trained on full English Wikipedia dump using Word2Vec with Skip-gram architecture, negative sampling loss function and dimension of 100."
   ]
  },
  {
   "cell_type": "markdown",
   "metadata": {},
   "source": [
    "First of all, let's simply load all the embedding space in the same dictionary format. To complete this step you need to have $\\text{wiki_w2v.vec}$ in the same folder with this notebook. The downloading is done by the following command:"
   ]
  },
  {
   "cell_type": "code",
   "execution_count": 20,
   "metadata": {},
   "outputs": [
    {
     "name": "stdout",
     "output_type": "stream",
     "text": [
      "--2017-10-22 19:54:55--  https://www.dropbox.com/s/9pu6mt769kj8803/pretrained_embedding.tar.gz\n",
      "Resolving www.dropbox.com (www.dropbox.com)... 162.125.66.1, 2620:100:6022:1::a27d:4201\n",
      "Connecting to www.dropbox.com (www.dropbox.com)|162.125.66.1|:443... connected.\n",
      "HTTP request sent, awaiting response... 302 Found\n",
      "Location: https://dl.dropboxusercontent.com/content_link/a8SjUVCuFbZIYibRtMyShxbnpsWavLvoDoevo6pDz8P2RWLkyUBIhsIuRmYawvrh/file [following]\n",
      "--2017-10-22 19:54:56--  https://dl.dropboxusercontent.com/content_link/a8SjUVCuFbZIYibRtMyShxbnpsWavLvoDoevo6pDz8P2RWLkyUBIhsIuRmYawvrh/file\n",
      "Resolving dl.dropboxusercontent.com (dl.dropboxusercontent.com)... 162.125.66.6, 2620:100:6022:6::a27d:4206\n",
      "Connecting to dl.dropboxusercontent.com (dl.dropboxusercontent.com)|162.125.66.6|:443... connected.\n",
      "HTTP request sent, awaiting response... 200 OK\n",
      "Length: 866689471 (827M) [application/octet-stream]\n",
      "Saving to: 'pretrained_embedding.tar.gz'\n",
      "\n",
      "pretrained_embeddin 100%[===================>] 826.54M  50.2MB/s    in 21s     \n",
      "\n",
      "2017-10-22 19:55:18 (39.4 MB/s) - 'pretrained_embedding.tar.gz' saved [866689471/866689471]\n",
      "\n",
      "wiki_w2v.vec\n"
     ]
    }
   ],
   "source": [
    "!wget https://www.dropbox.com/s/9pu6mt769kj8803/pretrained_embedding.tar.gz\n",
    "!tar -xvzf pretrained_embedding.tar.gz"
   ]
  },
  {
   "cell_type": "code",
   "execution_count": 21,
   "metadata": {
    "collapsed": true
   },
   "outputs": [],
   "source": [
    "embeddings_index = {}\n",
    "f = open(\"./wiki_w2v.vec\")\n",
    "f.readline()\n",
    "for line in f:\n",
    "    values = line.split()\n",
    "    word = values[0]\n",
    "    coefs = np.asarray(values[1:], dtype='float32')\n",
    "    embeddings_index[word] = coefs\n",
    "f.close()"
   ]
  },
  {
   "cell_type": "markdown",
   "metadata": {},
   "source": [
    "Embedding dimension can be found as a number of coordinates for arbitrary word."
   ]
  },
  {
   "cell_type": "code",
   "execution_count": 22,
   "metadata": {
    "collapsed": true
   },
   "outputs": [],
   "source": [
    "EMBEDDING_DIM = len(embeddings_index[\"the\"])"
   ]
  },
  {
   "cell_type": "markdown",
   "metadata": {},
   "source": [
    "Word-vectors for word is just a 100-dimensional vector of numbers"
   ]
  },
  {
   "cell_type": "code",
   "execution_count": 23,
   "metadata": {},
   "outputs": [
    {
     "name": "stdout",
     "output_type": "stream",
     "text": [
      "\"the\"\n",
      " [-0.139744    0.20813    -0.118162    0.061692   -0.002767    0.19353899\n",
      " -0.137596   -0.081763    0.10003    -0.023349   -0.35396001 -0.086922\n",
      " -0.10971     0.14912     0.24900199  0.090235   -0.175136    0.100408\n",
      "  0.227097   -0.38284701  0.20857599  0.203307   -0.060234    0.137311\n",
      "  0.100868   -0.005166   -0.06901    -0.29135701 -0.077014    0.077363\n",
      " -0.67388499  0.33003101 -0.32567599 -0.003312   -0.069184   -0.016198\n",
      " -0.20462    -0.01192     0.105787    0.039009    0.38602901  0.014063\n",
      " -0.34556401 -0.185229   -0.19212601 -0.051685   -0.055161   -0.279562\n",
      " -0.31859699 -0.17527901  0.223395   -0.40426299  0.030896   -0.27991199\n",
      " -0.018625   -0.072526    0.0099      0.31887901  0.26463899 -0.157149\n",
      " -0.41845399  0.030546    0.30279899  0.126863    0.057413   -0.278595\n",
      " -0.49134201 -0.37145299  0.37209201 -0.18141     0.34714001  0.076957\n",
      " -0.20196401 -0.257523    0.095072    0.019826   -0.176595    0.39072999\n",
      "  0.165888    0.17529801 -0.37434199 -0.088488    0.097903   -0.004904\n",
      " -0.224013   -0.02797     0.05367    -0.081368    0.249916    0.184791\n",
      " -0.61333501 -0.32723299 -0.33728999  0.38315001  0.123009   -0.25866601\n",
      "  0.15735     0.057887    0.116886    0.0856    ]\n"
     ]
    }
   ],
   "source": [
    "print(\"\\\"the\\\"\\n\", embeddings_index[\"the\"])"
   ]
  },
  {
   "cell_type": "markdown",
   "metadata": {},
   "source": [
    "Now let's filter out only those words that are in our corpus. If we will find word from corpus that is not in the embedding vocabulary then we're going to assign it with all zeros (yes, stupid solution that inevitably put some error, but for now we're ok with this)"
   ]
  },
  {
   "cell_type": "code",
   "execution_count": 24,
   "metadata": {
    "collapsed": true
   },
   "outputs": [],
   "source": [
    "embedding_matrix = np.zeros((len(words_index) + 1, EMBEDDING_DIM))\n",
    "for word, i in words_index.items():\n",
    "    embedding_vector = embeddings_index.get(word)\n",
    "    if embedding_vector is not None:\n",
    "        # words not found in embedding index will be all-zeros.\n",
    "        embedding_matrix[i] = embedding_vector"
   ]
  },
  {
   "cell_type": "markdown",
   "metadata": {},
   "source": [
    "Further we're going to initialize input layer of the network with this embeddings"
   ]
  },
  {
   "cell_type": "markdown",
   "metadata": {},
   "source": [
    "# RNN-based part-of-speech tagger"
   ]
  },
  {
   "cell_type": "markdown",
   "metadata": {},
   "source": [
    "In \"strict\" mathematical formulation we need to solve a sequence-2-sequence classification tasks. Let's find out what each word here means:\n",
    "\n",
    "* **Seq-2-Seq**. This paradigm stands for the situation when we have a sequence of features as an input and we need to predict also a sequence. In general case length of the sequences can be different and we need to find out how to align them properly. But in our case the lengths of the sequences have to be the same from the nature of the task.\n",
    "* **Classification**. Actually assigning each word with the part-of-speech tag is nothing but choosing between 12 possible labels for each timestep. Thus we have the classification task with 12 classes."
   ]
  },
  {
   "cell_type": "markdown",
   "metadata": {},
   "source": [
    "## Train/Validation splitting"
   ]
  },
  {
   "cell_type": "markdown",
   "metadata": {},
   "source": [
    "Let's come up with our final training data"
   ]
  },
  {
   "cell_type": "markdown",
   "metadata": {},
   "source": [
    "Every element of $\\text{X}$ is just the sequence of word numbers in dictionary that corresponds to the words in real sentence."
   ]
  },
  {
   "cell_type": "code",
   "execution_count": 25,
   "metadata": {
    "collapsed": true
   },
   "outputs": [],
   "source": [
    "X = sentences_indexed"
   ]
  },
  {
   "cell_type": "markdown",
   "metadata": {},
   "source": [
    "$y$ need to be [one-hot-encoded](https://en.wikipedia.org/wiki/One-hot) vectors as we usually do with NN"
   ]
  },
  {
   "cell_type": "code",
   "execution_count": 26,
   "metadata": {
    "collapsed": true
   },
   "outputs": [],
   "source": [
    "y = np.array([to_categorical(seq, len(tags_vocabulary) + 1) for seq in tags_indexed])"
   ]
  },
  {
   "cell_type": "markdown",
   "metadata": {},
   "source": [
    "Finally one training sample looks the following:"
   ]
  },
  {
   "cell_type": "code",
   "execution_count": 27,
   "metadata": {},
   "outputs": [
    {
     "name": "stdout",
     "output_type": "stream",
     "text": [
      "Feature sequence:\n",
      " [    0     0     0     0     0     0     0     0     0     0     0     0\n",
      "     0     0     0     0     0     0     0     0     0     0     0     0\n",
      "     0     0     0     0     0     0     0     0     0     0     0     0\n",
      "     0     0     0     0     0     0     0     0     0     0     0     0\n",
      "     0     0     0     0     0     0     0     0     0     0     0     0\n",
      "     0     0     0     0     0     0     0     0     0     0     0     0\n",
      "     0     0     0     0     0     0     0     0     0     0     0     0\n",
      "     0     0     0     0     0     0     0     0     0     0     0     0\n",
      "     0     0     0     0     0     0     0     0     0     0     0     0\n",
      "     0     0     0     0     0     0     0     0     0     0     0     0\n",
      "     0     0     0     0     0     0     0     0     0     0     0     0\n",
      "     0     0     0     0     0     0     0     0     0     0     0     0\n",
      "     0     0     0     0     0     0     0     0     0     0     0 17591\n",
      "  8187  5896  8688 10433 47062  8137 20449 36446 41066  3265 45364 44001\n",
      " 29543 44136 19348 40493 30360   323 51916 20732 36543 52532 43033   406]\n",
      "--------------------------------------------------------------------------\n",
      "Label sequence:\n",
      " [[ 1.  0.  0. ...,  0.  0.  0.]\n",
      " [ 1.  0.  0. ...,  0.  0.  0.]\n",
      " [ 1.  0.  0. ...,  0.  0.  0.]\n",
      " ..., \n",
      " [ 0.  0.  0. ...,  0.  1.  0.]\n",
      " [ 0.  0.  0. ...,  0.  0.  0.]\n",
      " [ 0.  1.  0. ...,  0.  0.  0.]]\n"
     ]
    }
   ],
   "source": [
    "print(\"Feature sequence:\\n\", X[0])\n",
    "print(\"--------------------------------------------------------------------------\")\n",
    "print(\"Label sequence:\\n\", y[0])"
   ]
  },
  {
   "cell_type": "markdown",
   "metadata": {},
   "source": [
    "Let's split our data into train and validation in fraction of $\\frac{1}{4}$."
   ]
  },
  {
   "cell_type": "code",
   "execution_count": 28,
   "metadata": {
    "collapsed": true
   },
   "outputs": [],
   "source": [
    "X_train, X_val, y_train, y_val = train_test_split(X, y, test_size=0.2, random_state=21)"
   ]
  },
  {
   "cell_type": "markdown",
   "metadata": {},
   "source": [
    "## Defining model architecture"
   ]
  },
  {
   "cell_type": "markdown",
   "metadata": {},
   "source": [
    "The first layer is just the input layer that takes prepared sequences"
   ]
  },
  {
   "cell_type": "code",
   "execution_count": 29,
   "metadata": {
    "collapsed": true
   },
   "outputs": [],
   "source": [
    "sequence_input = Input(shape=(MAX_SEQUENCE_LENGTH,), \n",
    "                       dtype='int32', \n",
    "                       name=\"Input\")"
   ]
  },
  {
   "cell_type": "markdown",
   "metadata": {},
   "source": [
    "Next layer is Keras Embedding layer. In fact this layer just converts every enumerated word from input into its word-vector using lookup table.\n",
    "\n",
    "Arguments are the following:\n",
    "* input_dim $-$ size of the input vocabulary\n",
    "* output_dim $-$ dimension of the embedding\n",
    "* **weights** $-$ actual embedding matrix; here we have pre-trained one, but actually can learn it from scratch if we have big enough corpus\n",
    "* input_length $-$ the lenght of the sequences in the input\n",
    "* **trainable** $-$ whether we want to train this weigths or not; because we already have pre-trained word embedding we don't want to do it\n",
    "* **mask_zero** $-$ setting this option to $\\text{True}$ means all the zeros in the input will be treated as empty places (as we discussed before) and the mask will be created (and passed forward through all layers)\n",
    "* name $-$ name of the layer to display"
   ]
  },
  {
   "cell_type": "code",
   "execution_count": 30,
   "metadata": {
    "collapsed": true
   },
   "outputs": [],
   "source": [
    "embedded_sequences = Embedding(input_dim=len(words_index) + 1,\n",
    "                               output_dim=EMBEDDING_DIM,\n",
    "                               weights=[embedding_matrix],\n",
    "                               input_length=MAX_SEQUENCE_LENGTH,\n",
    "                               trainable=False, \n",
    "                               mask_zero=True, \n",
    "                               name=\"Embedding\")(sequence_input)"
   ]
  },
  {
   "cell_type": "markdown",
   "metadata": {},
   "source": [
    "After this layer each sentence is represented as a sequence of length $180$ where each element is $100$-dimensional vector."
   ]
  },
  {
   "cell_type": "markdown",
   "metadata": {},
   "source": [
    "Now let's create main \"logical\" part for our tagger - LSTM layer. As we want to do sequence-2-sequence learning, we require our layer to return sequences. It means that for every train sentence it will return sequence of the same length ($180$) where each object is the new feature vector generated by $128$ LSTM-cells (and thus feature dimensionality if $128$)"
   ]
  },
  {
   "cell_type": "code",
   "execution_count": 31,
   "metadata": {
    "collapsed": true
   },
   "outputs": [],
   "source": [
    "recurrent = LSTM(units=128, \n",
    "                 return_sequences=True, \n",
    "                 name=\"LSTM\")(embedded_sequences)"
   ]
  },
  {
   "cell_type": "markdown",
   "metadata": {},
   "source": [
    "After obtaining new meaningful representation of the sentence which accounts for recurrent relations inside it, we need to do a classification for each timestep (out of $180$). For this purpose we're going to use special wrapper over a simple $\\text{Dense}$ layer which called $\\text{TimeDistributed}$ and just pass through fully-conected layer each element of the sequence.\n",
    "\n",
    "Here the number of nodes is chosen to be $128$ because it seems to be enough for this task. But one can experiment with multilayer classification part of the network\n",
    "\n",
    "Also we're going to use ReLU activation function because it is less exposed to vanishing gradient problem."
   ]
  },
  {
   "cell_type": "code",
   "execution_count": 32,
   "metadata": {
    "collapsed": true
   },
   "outputs": [],
   "source": [
    "dense = TimeDistributed(Dense(units=128, \n",
    "                              activation='relu'), \n",
    "                        name=\"Dense\")(recurrent)"
   ]
  },
  {
   "cell_type": "markdown",
   "metadata": {},
   "source": [
    "And the final layer is usual softmax $\\text{Dense}$ layer (with the same $\\text{TimeDistributed}$ wrapper)"
   ]
  },
  {
   "cell_type": "code",
   "execution_count": 33,
   "metadata": {
    "collapsed": true
   },
   "outputs": [],
   "source": [
    "out = TimeDistributed(Dense(units=len(tags_vocabulary) + 1, \n",
    "                            activation='softmax'), \n",
    "                      name=\"Softmax\")(dense)"
   ]
  },
  {
   "cell_type": "markdown",
   "metadata": {},
   "source": [
    "Let's finally build all the pieces together and create a Keras model"
   ]
  },
  {
   "cell_type": "code",
   "execution_count": 34,
   "metadata": {
    "collapsed": true
   },
   "outputs": [],
   "source": [
    "model = Model(inputs=[sequence_input], \n",
    "              outputs=[out])"
   ]
  },
  {
   "cell_type": "markdown",
   "metadata": {},
   "source": [
    "And see how it looks like:"
   ]
  },
  {
   "cell_type": "code",
   "execution_count": 35,
   "metadata": {},
   "outputs": [
    {
     "name": "stdout",
     "output_type": "stream",
     "text": [
      "_________________________________________________________________\n",
      "Layer (type)                 Output Shape              Param #   \n",
      "=================================================================\n",
      "Input (InputLayer)           (None, 180)               0         \n",
      "_________________________________________________________________\n",
      "Embedding (Embedding)        (None, 180, 100)          5605800   \n",
      "_________________________________________________________________\n",
      "LSTM (LSTM)                  (None, 180, 128)          117248    \n",
      "_________________________________________________________________\n",
      "Dense (TimeDistributed)      (None, 180, 128)          16512     \n",
      "_________________________________________________________________\n",
      "Softmax (TimeDistributed)    (None, 180, 13)           1677      \n",
      "=================================================================\n",
      "Total params: 5,741,237\n",
      "Trainable params: 135,437\n",
      "Non-trainable params: 5,605,800\n",
      "_________________________________________________________________\n"
     ]
    }
   ],
   "source": [
    "model.summary()"
   ]
  },
  {
   "cell_type": "code",
   "execution_count": 36,
   "metadata": {},
   "outputs": [
    {
     "data": {
      "image/svg+xml": [
       "<svg height=\"387pt\" viewBox=\"0.00 0.00 538.00 387.00\" width=\"538pt\" xmlns=\"http://www.w3.org/2000/svg\" xmlns:xlink=\"http://www.w3.org/1999/xlink\">\n",
       "<g class=\"graph\" id=\"graph0\" transform=\"scale(1 1) rotate(0) translate(4 383)\">\n",
       "<title>G</title>\n",
       "<polygon fill=\"white\" points=\"-4,4 -4,-383 534,-383 534,4 -4,4\" stroke=\"none\"/>\n",
       "<!-- 139912326157144 -->\n",
       "<g class=\"node\" id=\"node1\"><title>139912326157144</title>\n",
       "<polygon fill=\"none\" points=\"108,-332.5 108,-378.5 422,-378.5 422,-332.5 108,-332.5\" stroke=\"black\"/>\n",
       "<text font-family=\"Times,serif\" font-size=\"14.00\" text-anchor=\"middle\" x=\"180.5\" y=\"-351.8\">Input: InputLayer</text>\n",
       "<polyline fill=\"none\" points=\"253,-332.5 253,-378.5 \" stroke=\"black\"/>\n",
       "<text font-family=\"Times,serif\" font-size=\"14.00\" text-anchor=\"middle\" x=\"287\" y=\"-363.3\">input:</text>\n",
       "<polyline fill=\"none\" points=\"253,-355.5 321,-355.5 \" stroke=\"black\"/>\n",
       "<text font-family=\"Times,serif\" font-size=\"14.00\" text-anchor=\"middle\" x=\"287\" y=\"-340.3\">output:</text>\n",
       "<polyline fill=\"none\" points=\"321,-332.5 321,-378.5 \" stroke=\"black\"/>\n",
       "<text font-family=\"Times,serif\" font-size=\"14.00\" text-anchor=\"middle\" x=\"371.5\" y=\"-363.3\">(None, 180)</text>\n",
       "<polyline fill=\"none\" points=\"321,-355.5 422,-355.5 \" stroke=\"black\"/>\n",
       "<text font-family=\"Times,serif\" font-size=\"14.00\" text-anchor=\"middle\" x=\"371.5\" y=\"-340.3\">(None, 180)</text>\n",
       "</g>\n",
       "<!-- 139912326109336 -->\n",
       "<g class=\"node\" id=\"node2\"><title>139912326109336</title>\n",
       "<polygon fill=\"none\" points=\"68,-249.5 68,-295.5 462,-295.5 462,-249.5 68,-249.5\" stroke=\"black\"/>\n",
       "<text font-family=\"Times,serif\" font-size=\"14.00\" text-anchor=\"middle\" x=\"162.5\" y=\"-268.8\">Embedding: Embedding</text>\n",
       "<polyline fill=\"none\" points=\"257,-249.5 257,-295.5 \" stroke=\"black\"/>\n",
       "<text font-family=\"Times,serif\" font-size=\"14.00\" text-anchor=\"middle\" x=\"291\" y=\"-280.3\">input:</text>\n",
       "<polyline fill=\"none\" points=\"257,-272.5 325,-272.5 \" stroke=\"black\"/>\n",
       "<text font-family=\"Times,serif\" font-size=\"14.00\" text-anchor=\"middle\" x=\"291\" y=\"-257.3\">output:</text>\n",
       "<polyline fill=\"none\" points=\"325,-249.5 325,-295.5 \" stroke=\"black\"/>\n",
       "<text font-family=\"Times,serif\" font-size=\"14.00\" text-anchor=\"middle\" x=\"393.5\" y=\"-280.3\">(None, 180)</text>\n",
       "<polyline fill=\"none\" points=\"325,-272.5 462,-272.5 \" stroke=\"black\"/>\n",
       "<text font-family=\"Times,serif\" font-size=\"14.00\" text-anchor=\"middle\" x=\"393.5\" y=\"-257.3\">(None, 180, 100)</text>\n",
       "</g>\n",
       "<!-- 139912326157144&#45;&gt;139912326109336 -->\n",
       "<g class=\"edge\" id=\"edge1\"><title>139912326157144-&gt;139912326109336</title>\n",
       "<path d=\"M265,-332.366C265,-324.152 265,-314.658 265,-305.725\" fill=\"none\" stroke=\"black\"/>\n",
       "<polygon fill=\"black\" points=\"268.5,-305.607 265,-295.607 261.5,-305.607 268.5,-305.607\" stroke=\"black\"/>\n",
       "</g>\n",
       "<!-- 139912326110232 -->\n",
       "<g class=\"node\" id=\"node3\"><title>139912326110232</title>\n",
       "<polygon fill=\"none\" points=\"107,-166.5 107,-212.5 423,-212.5 423,-166.5 107,-166.5\" stroke=\"black\"/>\n",
       "<text font-family=\"Times,serif\" font-size=\"14.00\" text-anchor=\"middle\" x=\"162.5\" y=\"-185.8\">LSTM: LSTM</text>\n",
       "<polyline fill=\"none\" points=\"218,-166.5 218,-212.5 \" stroke=\"black\"/>\n",
       "<text font-family=\"Times,serif\" font-size=\"14.00\" text-anchor=\"middle\" x=\"252\" y=\"-197.3\">input:</text>\n",
       "<polyline fill=\"none\" points=\"218,-189.5 286,-189.5 \" stroke=\"black\"/>\n",
       "<text font-family=\"Times,serif\" font-size=\"14.00\" text-anchor=\"middle\" x=\"252\" y=\"-174.3\">output:</text>\n",
       "<polyline fill=\"none\" points=\"286,-166.5 286,-212.5 \" stroke=\"black\"/>\n",
       "<text font-family=\"Times,serif\" font-size=\"14.00\" text-anchor=\"middle\" x=\"354.5\" y=\"-197.3\">(None, 180, 100)</text>\n",
       "<polyline fill=\"none\" points=\"286,-189.5 423,-189.5 \" stroke=\"black\"/>\n",
       "<text font-family=\"Times,serif\" font-size=\"14.00\" text-anchor=\"middle\" x=\"354.5\" y=\"-174.3\">(None, 180, 128)</text>\n",
       "</g>\n",
       "<!-- 139912326109336&#45;&gt;139912326110232 -->\n",
       "<g class=\"edge\" id=\"edge2\"><title>139912326109336-&gt;139912326110232</title>\n",
       "<path d=\"M265,-249.366C265,-241.152 265,-231.658 265,-222.725\" fill=\"none\" stroke=\"black\"/>\n",
       "<polygon fill=\"black\" points=\"268.5,-222.607 265,-212.607 261.5,-222.607 268.5,-222.607\" stroke=\"black\"/>\n",
       "</g>\n",
       "<!-- 139910036680208 -->\n",
       "<g class=\"node\" id=\"node4\"><title>139910036680208</title>\n",
       "<polygon fill=\"none\" points=\"7,-83.5 7,-129.5 523,-129.5 523,-83.5 7,-83.5\" stroke=\"black\"/>\n",
       "<text font-family=\"Times,serif\" font-size=\"14.00\" text-anchor=\"middle\" x=\"162.5\" y=\"-102.8\">Dense(dense_1): TimeDistributed(Dense)</text>\n",
       "<polyline fill=\"none\" points=\"318,-83.5 318,-129.5 \" stroke=\"black\"/>\n",
       "<text font-family=\"Times,serif\" font-size=\"14.00\" text-anchor=\"middle\" x=\"352\" y=\"-114.3\">input:</text>\n",
       "<polyline fill=\"none\" points=\"318,-106.5 386,-106.5 \" stroke=\"black\"/>\n",
       "<text font-family=\"Times,serif\" font-size=\"14.00\" text-anchor=\"middle\" x=\"352\" y=\"-91.3\">output:</text>\n",
       "<polyline fill=\"none\" points=\"386,-83.5 386,-129.5 \" stroke=\"black\"/>\n",
       "<text font-family=\"Times,serif\" font-size=\"14.00\" text-anchor=\"middle\" x=\"454.5\" y=\"-114.3\">(None, 180, 128)</text>\n",
       "<polyline fill=\"none\" points=\"386,-106.5 523,-106.5 \" stroke=\"black\"/>\n",
       "<text font-family=\"Times,serif\" font-size=\"14.00\" text-anchor=\"middle\" x=\"454.5\" y=\"-91.3\">(None, 180, 128)</text>\n",
       "</g>\n",
       "<!-- 139912326110232&#45;&gt;139910036680208 -->\n",
       "<g class=\"edge\" id=\"edge3\"><title>139912326110232-&gt;139910036680208</title>\n",
       "<path d=\"M265,-166.366C265,-158.152 265,-148.658 265,-139.725\" fill=\"none\" stroke=\"black\"/>\n",
       "<polygon fill=\"black\" points=\"268.5,-139.607 265,-129.607 261.5,-139.607 268.5,-139.607\" stroke=\"black\"/>\n",
       "</g>\n",
       "<!-- 139910036589984 -->\n",
       "<g class=\"node\" id=\"node5\"><title>139910036589984</title>\n",
       "<polygon fill=\"none\" points=\"0,-0.5 0,-46.5 530,-46.5 530,-0.5 0,-0.5\" stroke=\"black\"/>\n",
       "<text font-family=\"Times,serif\" font-size=\"14.00\" text-anchor=\"middle\" x=\"162.5\" y=\"-19.8\">Softmax(dense_2): TimeDistributed(Dense)</text>\n",
       "<polyline fill=\"none\" points=\"325,-0.5 325,-46.5 \" stroke=\"black\"/>\n",
       "<text font-family=\"Times,serif\" font-size=\"14.00\" text-anchor=\"middle\" x=\"359\" y=\"-31.3\">input:</text>\n",
       "<polyline fill=\"none\" points=\"325,-23.5 393,-23.5 \" stroke=\"black\"/>\n",
       "<text font-family=\"Times,serif\" font-size=\"14.00\" text-anchor=\"middle\" x=\"359\" y=\"-8.3\">output:</text>\n",
       "<polyline fill=\"none\" points=\"393,-0.5 393,-46.5 \" stroke=\"black\"/>\n",
       "<text font-family=\"Times,serif\" font-size=\"14.00\" text-anchor=\"middle\" x=\"461.5\" y=\"-31.3\">(None, 180, 128)</text>\n",
       "<polyline fill=\"none\" points=\"393,-23.5 530,-23.5 \" stroke=\"black\"/>\n",
       "<text font-family=\"Times,serif\" font-size=\"14.00\" text-anchor=\"middle\" x=\"461.5\" y=\"-8.3\">(None, 180, 13)</text>\n",
       "</g>\n",
       "<!-- 139910036680208&#45;&gt;139910036589984 -->\n",
       "<g class=\"edge\" id=\"edge4\"><title>139910036680208-&gt;139910036589984</title>\n",
       "<path d=\"M265,-83.3664C265,-75.1516 265,-65.6579 265,-56.7252\" fill=\"none\" stroke=\"black\"/>\n",
       "<polygon fill=\"black\" points=\"268.5,-56.6068 265,-46.6068 261.5,-56.6069 268.5,-56.6068\" stroke=\"black\"/>\n",
       "</g>\n",
       "</g>\n",
       "</svg>"
      ],
      "text/plain": [
       "<IPython.core.display.SVG object>"
      ]
     },
     "execution_count": 36,
     "metadata": {},
     "output_type": "execute_result"
    }
   ],
   "source": [
    "SVG(model_to_dot(model, show_shapes=True).create(prog='dot', format='svg'))"
   ]
  },
  {
   "cell_type": "markdown",
   "metadata": {},
   "source": [
    "Now it's time to compile the model. Remember here, that we passed the mask for the input through all the network from the embedding layer and loss will be calculated in correspondance with this mask.\n",
    "\n",
    "* **optimizer** $-$ here we use accelerated gradient descent algorithm with special adaptive way of choosing learning rate; for more details see this great [overview](http://sebastianruder.com/optimizing-gradient-descent/) of gradient descent optimization algorithms.\n",
    "* **loss** $-$ usual choice for multiclass classification is softmax output layer in combination with categotical crossentropy loss function which is\n",
    "$$\n",
    "\\mathcal{L}(\\text{true}, \\text{pred}) = -\\sum_{j=1}^{k}\\text{true}_j \\cdot \\log \\{\\text{pred}_j\\}\n",
    "$$\n",
    "* **metrics** $-$ additional metrics that we're going to trace while training; it doesn't influence training process at all"
   ]
  },
  {
   "cell_type": "code",
   "execution_count": 37,
   "metadata": {
    "collapsed": true
   },
   "outputs": [],
   "source": [
    "model.compile(optimizer='adam', \n",
    "              loss='categorical_crossentropy', \n",
    "              metrics=['accuracy'])"
   ]
  },
  {
   "cell_type": "markdown",
   "metadata": {},
   "source": [
    "Now we're finally ready to train!\n",
    "\n",
    "* nb_epoch $-$ number of epochs to train. here we choose 10; one may condiser using some stopping criterias\n",
    "* **batch_size** $-$ parameter that controls how frequent do we update gradient; with $\\text{batch_size}=1$ optimization is nothing but pure Stohastic Gradient Descent (update gradient after passing each one object); with $\\text{batch_size}=\\text{number of objects}$ it will be usual Gradient Descent which updates gradient only after passing all objects. Choosing value between this two one can control speed and convergence of training process."
   ]
  },
  {
   "cell_type": "markdown",
   "metadata": {},
   "source": [
    "## Training & Evaluation"
   ]
  },
  {
   "cell_type": "code",
   "execution_count": 38,
   "metadata": {
    "scrolled": false
   },
   "outputs": [
    {
     "name": "stdout",
     "output_type": "stream",
     "text": [
      "Train on 45872 samples, validate on 11468 samples\n",
      "Epoch 1/10\n",
      "45872/45872 [==============================] - 95s - loss: 1.1762 - acc: 0.6197 - val_loss: 0.6033 - val_acc: 0.8023\n",
      "Epoch 2/10\n",
      "45872/45872 [==============================] - 94s - loss: 0.5334 - acc: 0.8224 - val_loss: 0.5029 - val_acc: 0.8297\n",
      "Epoch 3/10\n",
      "45872/45872 [==============================] - 95s - loss: 0.4738 - acc: 0.8406 - val_loss: 0.4599 - val_acc: 0.8434\n",
      "Epoch 4/10\n",
      "45872/45872 [==============================] - 97s - loss: 0.4452 - acc: 0.8483 - val_loss: 0.4402 - val_acc: 0.8486\n",
      "Epoch 5/10\n",
      "45872/45872 [==============================] - 98s - loss: 0.4269 - acc: 0.8534 - val_loss: 0.4259 - val_acc: 0.8522\n",
      "Epoch 6/10\n",
      "45872/45872 [==============================] - 99s - loss: 0.4135 - acc: 0.8574 - val_loss: 0.4165 - val_acc: 0.8555\n",
      "Epoch 7/10\n",
      "45872/45872 [==============================] - 98s - loss: 0.4033 - acc: 0.8606 - val_loss: 0.4065 - val_acc: 0.8580\n",
      "Epoch 8/10\n",
      "45872/45872 [==============================] - 99s - loss: 0.3954 - acc: 0.8629 - val_loss: 0.3989 - val_acc: 0.8606\n",
      "Epoch 9/10\n",
      "45872/45872 [==============================] - 97s - loss: 0.3882 - acc: 0.8651 - val_loss: 0.3958 - val_acc: 0.8611\n",
      "Epoch 10/10\n",
      "45872/45872 [==============================] - 99s - loss: 0.3829 - acc: 0.8665 - val_loss: 0.3909 - val_acc: 0.8624\n",
      "CPU times: user 55min 24s, sys: 11min 43s, total: 1h 7min 8s\n",
      "Wall time: 16min 17s\n"
     ]
    }
   ],
   "source": [
    "%%time\n",
    "hist = model.fit(X_train, y_train, \n",
    "                 epochs=10, \n",
    "                 batch_size=256, \n",
    "                 validation_data=(X_val, y_val))"
   ]
  },
  {
   "cell_type": "markdown",
   "metadata": {},
   "source": [
    "Let's see evolution of loss throughout the training"
   ]
  },
  {
   "cell_type": "code",
   "execution_count": 39,
   "metadata": {},
   "outputs": [
    {
     "data": {
      "image/png": "[encoded data removed]",
      "text/plain": [
       "<matplotlib.figure.Figure at 0x7f3f24131ef0>"
      ]
     },
     "metadata": {},
     "output_type": "display_data"
    }
   ],
   "source": [
    "plt.figure(figsize=(20, 8))\n",
    "plt.suptitle(\"Loss evolution\", fontsize=18)\n",
    "\n",
    "plt.subplot(121)\n",
    "plt.plot(hist.history[\"loss\"], label=\"Train\")\n",
    "plt.plot(hist.history[\"val_loss\"], label=\"Test\")\n",
    "plt.legend()\n",
    "plt.xlabel(\"Epoch\", fontsize=14)\n",
    "plt.ylabel(\"Crossentropy\", fontsize=14)\n",
    "\n",
    "plt.subplot(122)\n",
    "plt.plot(hist.history[\"acc\"], label=\"Train\")\n",
    "plt.plot(hist.history[\"val_acc\"], label=\"Test\")\n",
    "plt.legend()\n",
    "plt.xlabel(\"Epoch\", fontsize=14)\n",
    "plt.ylabel(\"Accuracy\", fontsize=14);"
   ]
  },
  {
   "cell_type": "markdown",
   "metadata": {},
   "source": [
    "And final accuracy of classification:"
   ]
  },
  {
   "cell_type": "code",
   "execution_count": 40,
   "metadata": {},
   "outputs": [],
   "source": [
    "preds_train = model.predict(X_train)\n",
    "preds_val = model.predict(X_val)"
   ]
  },
  {
   "cell_type": "markdown",
   "metadata": {},
   "source": [
    "Let's define masked accuracy function (for now Keras doesn't support metrics calculation with mask)"
   ]
  },
  {
   "cell_type": "code",
   "execution_count": 41,
   "metadata": {
    "collapsed": true
   },
   "outputs": [],
   "source": [
    "def masked_accuracy(y_true, y_pred):\n",
    "    right = 0\n",
    "    total = 0\n",
    "    for i in range(len(y_pred)):\n",
    "        idxs = np.argmax(y_true[i], axis=-1) != 0\n",
    "        total += np.sum(idxs)\n",
    "        right += np.sum(np.argmax(y_true[i], axis=-1)[idxs] == np.argmax(y_pred[i], axis=-1)[idxs])\n",
    "    return right * 1. / total"
   ]
  },
  {
   "cell_type": "code",
   "execution_count": 42,
   "metadata": {},
   "outputs": [
    {
     "name": "stdout",
     "output_type": "stream",
     "text": [
      "Train accuracy: 0.867\n",
      "Validation accuracy: 0.862\n"
     ]
    }
   ],
   "source": [
    "print(\"Train accuracy:\", np.round(masked_accuracy(y_train, preds_train), 3))\n",
    "print(\"Validation accuracy:\", np.round(masked_accuracy(y_val, preds_val), 3))"
   ]
  }
 ],
 "metadata": {
  "anaconda-cloud": {},
  "kernelspec": {
   "display_name": "Python 3",
   "language": "python",
   "name": "python3"
  },
  "language_info": {
   "codemirror_mode": {
    "name": "ipython",
    "version": 3
   },
   "file_extension": ".py",
   "mimetype": "text/x-python",
   "name": "python",
   "nbconvert_exporter": "python",
   "pygments_lexer": "ipython3",
   "version": "3.6.2"
  },
  "toc": {
   "nav_menu": {
    "height": "228px",
    "width": "252px"
   },
   "number_sections": true,
   "sideBar": true,
   "skip_h1_title": false,
   "toc_cell": false,
   "toc_position": {
    "height": "704px",
    "left": "0px",
    "right": "1388px",
    "top": "106px",
    "width": "212px"
   },
   "toc_section_display": "block",
   "toc_window_display": true
  }
 },
 "nbformat": 4,
 "nbformat_minor": 1
}
