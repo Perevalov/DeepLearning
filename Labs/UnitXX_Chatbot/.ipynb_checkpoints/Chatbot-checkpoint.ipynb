{
 "cells": [
  {
   "cell_type": "code",
   "execution_count": 1,
   "metadata": {},
   "outputs": [
    {
     "name": "stderr",
     "output_type": "stream",
     "text": [
      "Using TensorFlow backend.\n",
      "/opt/conda/lib/python3.6/site-packages/sklearn/cross_validation.py:44: DeprecationWarning: This module was deprecated in version 0.18 in favor of the model_selection module into which all the refactored classes and functions are moved. Also note that the interface of the new CV iterators are different from that of this module. This module will be removed in 0.20.\n",
      "  \"This module will be removed in 0.20.\", DeprecationWarning)\n"
     ]
    }
   ],
   "source": [
    "import json\n",
    "from string import digits\n",
    "\n",
    "import numpy as np\n",
    "import pandas as pd\n",
    "\n",
    "from keras.datasets import reuters\n",
    "from keras.models import Model\n",
    "from keras.layers import Input, Embedding, Lambda\n",
    "from keras.preprocessing.text import Tokenizer\n",
    "from keras.preprocessing.sequence import pad_sequences\n",
    "from keras.utils.vis_utils import model_to_dot\n",
    "from keras.losses import cosine_proximity\n",
    "\n",
    "from seq2seq import SimpleSeq2Seq\n",
    "\n",
    "from sklearn.cross_validation import train_test_split\n",
    "from sklearn.neighbors import NearestNeighbors\n",
    "\n",
    "import matplotlib\n",
    "import matplotlib.pyplot as plt\n",
    "import seaborn as sns\n",
    "\n",
    "from IPython.display import SVG\n",
    "\n",
    "%matplotlib inline"
   ]
  },
  {
   "cell_type": "code",
   "execution_count": 2,
   "metadata": {
    "collapsed": true
   },
   "outputs": [],
   "source": [
    "sns.set(style=\"whitegrid\", font_scale=1.3)\n",
    "matplotlib.rcParams[\"legend.framealpha\"] = 1\n",
    "matplotlib.rcParams[\"legend.frameon\"] = True\n",
    "matplotlib.rcParams[\"figure.figsize\"] = (10, 8)\n",
    "matplotlib.rcParams[\"grid.linestyle\"] = \"dashed\""
   ]
  },
  {
   "cell_type": "markdown",
   "metadata": {},
   "source": [
    "# Load data"
   ]
  },
  {
   "cell_type": "code",
   "execution_count": 3,
   "metadata": {
    "collapsed": true
   },
   "outputs": [],
   "source": [
    "with open(\"./conversations.corpus.json\") as f:\n",
    "    data = json.load(f)"
   ]
  },
  {
   "cell_type": "markdown",
   "metadata": {},
   "source": [
    "# Splitting"
   ]
  },
  {
   "cell_type": "code",
   "execution_count": 4,
   "metadata": {
    "collapsed": true
   },
   "outputs": [],
   "source": [
    "X = []\n",
    "y = []\n",
    "for conversation in data[\"conversations\"]:\n",
    "    for i in range(len(conversation) - 1):\n",
    "        \n",
    "        question = conversation[i]\n",
    "        answer = conversation[i + 1]\n",
    "        \n",
    "        X.append(question)\n",
    "        y.append(answer)"
   ]
  },
  {
   "cell_type": "markdown",
   "metadata": {},
   "source": [
    "# Tokenization"
   ]
  },
  {
   "cell_type": "code",
   "execution_count": 5,
   "metadata": {
    "collapsed": true
   },
   "outputs": [],
   "source": [
    "filters = '!\"#$%&()*+,-./:;<=>?@[\\\\]^_`{|}~\\t\\n' + digits\n",
    "tk = Tokenizer(filters=filters)"
   ]
  },
  {
   "cell_type": "code",
   "execution_count": 6,
   "metadata": {
    "collapsed": true
   },
   "outputs": [],
   "source": [
    "tk.fit_on_texts(X + y)"
   ]
  },
  {
   "cell_type": "code",
   "execution_count": 7,
   "metadata": {},
   "outputs": [
    {
     "name": "stdout",
     "output_type": "stream",
     "text": [
      "234 unique words\n"
     ]
    }
   ],
   "source": [
    "number_of_words = len(tk.word_counts)\n",
    "print(number_of_words, \"unique words\")"
   ]
  },
  {
   "cell_type": "code",
   "execution_count": 8,
   "metadata": {
    "collapsed": true
   },
   "outputs": [],
   "source": [
    "X_tokenized = tk.texts_to_sequences(X)\n",
    "y_tokenized = tk.texts_to_sequences(y)"
   ]
  },
  {
   "cell_type": "markdown",
   "metadata": {},
   "source": [
    "# Padding"
   ]
  },
  {
   "cell_type": "code",
   "execution_count": 9,
   "metadata": {
    "collapsed": true
   },
   "outputs": [],
   "source": [
    "lenghts = np.array(list(map(lambda x: len(x), X_tokenized + y_tokenized)))"
   ]
  },
  {
   "cell_type": "code",
   "execution_count": 10,
   "metadata": {},
   "outputs": [
    {
     "name": "stdout",
     "output_type": "stream",
     "text": [
      "Maximum sentence length: 27\n",
      "Mean sentence length: 5.93\n",
      "95% percentile of sentence lengths: 12.45\n"
     ]
    }
   ],
   "source": [
    "MAX_SEQUENCE_LENGTH = np.max(lenghts)\n",
    "MEAN_SEQUENCE_LENGTH = np.mean(lenghts)\n",
    "print(\"Maximum sentence length:\", MAX_SEQUENCE_LENGTH)\n",
    "print(\"Mean sentence length:\", np.round(MEAN_SEQUENCE_LENGTH, 2))\n",
    "print(\"95% percentile of sentence lengths:\", np.round(np.percentile(lenghts, 95), 2))"
   ]
  },
  {
   "cell_type": "code",
   "execution_count": 11,
   "metadata": {
    "collapsed": true
   },
   "outputs": [],
   "source": [
    "MAX_SEQUENCE_LENGTH = 20"
   ]
  },
  {
   "cell_type": "code",
   "execution_count": 12,
   "metadata": {
    "collapsed": true
   },
   "outputs": [],
   "source": [
    "X_padded = pad_sequences(X_tokenized, maxlen=MAX_SEQUENCE_LENGTH)\n",
    "y_padded = pad_sequences(y_tokenized, maxlen=MAX_SEQUENCE_LENGTH)"
   ]
  },
  {
   "cell_type": "markdown",
   "metadata": {},
   "source": [
    "# Embedding"
   ]
  },
  {
   "cell_type": "code",
   "execution_count": 13,
   "metadata": {
    "collapsed": true
   },
   "outputs": [],
   "source": [
    "embeddings_index = {}\n",
    "f = open(\"./wiki_w2v.vec\")\n",
    "f.readline()\n",
    "for line in f:\n",
    "    values = line.split()\n",
    "    word = values[0]\n",
    "    coefs = np.asarray(values[1:], dtype='float32')\n",
    "    embeddings_index[word] = coefs\n",
    "f.close()"
   ]
  },
  {
   "cell_type": "code",
   "execution_count": 14,
   "metadata": {},
   "outputs": [
    {
     "name": "stdout",
     "output_type": "stream",
     "text": [
      "Embedding dimension is 100\n"
     ]
    }
   ],
   "source": [
    "EMBEDDING_DIM = len(embeddings_index[\"the\"])\n",
    "print(\"Embedding dimension is\", EMBEDDING_DIM)"
   ]
  },
  {
   "cell_type": "markdown",
   "metadata": {},
   "source": [
    "Select only those word-vectors from pre-trained model that are in our vocabulary"
   ]
  },
  {
   "cell_type": "code",
   "execution_count": 15,
   "metadata": {
    "collapsed": true
   },
   "outputs": [],
   "source": [
    "embedding_matrix = np.zeros((number_of_words + 1, EMBEDDING_DIM))\n",
    "for word, i in tk.word_index.items():\n",
    "    embedding_vector = embeddings_index.get(word)\n",
    "    if embedding_vector is not None:\n",
    "        # words not found in embedding index will be all-zeros.\n",
    "        embedding_matrix[i] = embedding_vector"
   ]
  },
  {
   "cell_type": "markdown",
   "metadata": {},
   "source": [
    "# Train/test split"
   ]
  },
  {
   "cell_type": "code",
   "execution_count": 16,
   "metadata": {
    "collapsed": true
   },
   "outputs": [],
   "source": [
    "X_train, X_valid, y_train, y_valid = train_test_split(X_padded, y_padded, \n",
    "                                                      random_state=21, \n",
    "                                                      test_size=0.2)"
   ]
  },
  {
   "cell_type": "markdown",
   "metadata": {},
   "source": [
    "# Architecture"
   ]
  },
  {
   "cell_type": "code",
   "execution_count": 17,
   "metadata": {
    "collapsed": true
   },
   "outputs": [],
   "source": [
    "inp_data = Input(shape=(MAX_SEQUENCE_LENGTH,), \n",
    "                 dtype=np.int32, \n",
    "                 name=\"input_data\")"
   ]
  },
  {
   "cell_type": "code",
   "execution_count": 18,
   "metadata": {
    "collapsed": true
   },
   "outputs": [],
   "source": [
    "emb_data = Embedding(input_dim=number_of_words + 1,\n",
    "                     output_dim=EMBEDDING_DIM,\n",
    "                     weights=[embedding_matrix],\n",
    "                     input_length=MAX_SEQUENCE_LENGTH,\n",
    "                     trainable=False,\n",
    "                     mask_zero=False, \n",
    "                     name=\"embedded_data\")(inp_data)"
   ]
  },
  {
   "cell_type": "code",
   "execution_count": 19,
   "metadata": {
    "collapsed": true
   },
   "outputs": [],
   "source": [
    "inp_labels = Input(shape=(MAX_SEQUENCE_LENGTH,), \n",
    "                   dtype=np.int32, \n",
    "                   name=\"input_labels\")"
   ]
  },
  {
   "cell_type": "code",
   "execution_count": 20,
   "metadata": {
    "collapsed": true
   },
   "outputs": [],
   "source": [
    "emb_labels = Embedding(input_dim=number_of_words + 1,\n",
    "                       output_dim=EMBEDDING_DIM,\n",
    "                       weights=[embedding_matrix],\n",
    "                       input_length=MAX_SEQUENCE_LENGTH,\n",
    "                       trainable=False, \n",
    "                       mask_zero=False, \n",
    "                       name=\"embedded_labels\")(inp_labels)"
   ]
  },
  {
   "cell_type": "code",
   "execution_count": 21,
   "metadata": {
    "collapsed": true
   },
   "outputs": [],
   "source": [
    "encdec = SimpleSeq2Seq(output_dim=EMBEDDING_DIM, \n",
    "                       output_length=MAX_SEQUENCE_LENGTH, \n",
    "                       hidden_dim=128, \n",
    "                       input_dim=EMBEDDING_DIM, \n",
    "                       input_length=MAX_SEQUENCE_LENGTH)(emb_data)"
   ]
  },
  {
   "cell_type": "code",
   "execution_count": 22,
   "metadata": {
    "collapsed": true
   },
   "outputs": [],
   "source": [
    "loss = Lambda(function=lambda args: cosine_proximity(*args), \n",
    "              output_shape=(1,), \n",
    "              name=\"cosine_proximity\")([emb_labels, encdec])"
   ]
  },
  {
   "cell_type": "code",
   "execution_count": 23,
   "metadata": {
    "collapsed": true
   },
   "outputs": [],
   "source": [
    "model = Model(inputs=[inp_data, inp_labels], outputs=[loss])"
   ]
  },
  {
   "cell_type": "code",
   "execution_count": 24,
   "metadata": {},
   "outputs": [
    {
     "data": {
      "image/svg+xml": [
       "<svg height=\"304pt\" viewBox=\"0.00 0.00 832.00 304.00\" width=\"832pt\" xmlns=\"http://www.w3.org/2000/svg\" xmlns:xlink=\"http://www.w3.org/1999/xlink\">\n",
       "<g class=\"graph\" id=\"graph0\" transform=\"scale(1 1) rotate(0) translate(4 300)\">\n",
       "<title>G</title>\n",
       "<polygon fill=\"white\" points=\"-4,4 -4,-300 828,-300 828,4 -4,4\" stroke=\"none\"/>\n",
       "<!-- 140343226534544 -->\n",
       "<g class=\"node\" id=\"node1\"><title>140343226534544</title>\n",
       "<polygon fill=\"none\" points=\"37.5,-249.5 37.5,-295.5 379.5,-295.5 379.5,-249.5 37.5,-249.5\" stroke=\"black\"/>\n",
       "<text font-family=\"Times,serif\" font-size=\"14.00\" text-anchor=\"middle\" x=\"128.5\" y=\"-268.8\">input_data: InputLayer</text>\n",
       "<polyline fill=\"none\" points=\"219.5,-249.5 219.5,-295.5 \" stroke=\"black\"/>\n",
       "<text font-family=\"Times,serif\" font-size=\"14.00\" text-anchor=\"middle\" x=\"253.5\" y=\"-280.3\">input:</text>\n",
       "<polyline fill=\"none\" points=\"219.5,-272.5 287.5,-272.5 \" stroke=\"black\"/>\n",
       "<text font-family=\"Times,serif\" font-size=\"14.00\" text-anchor=\"middle\" x=\"253.5\" y=\"-257.3\">output:</text>\n",
       "<polyline fill=\"none\" points=\"287.5,-249.5 287.5,-295.5 \" stroke=\"black\"/>\n",
       "<text font-family=\"Times,serif\" font-size=\"14.00\" text-anchor=\"middle\" x=\"333.5\" y=\"-280.3\">(None, 20)</text>\n",
       "<polyline fill=\"none\" points=\"287.5,-272.5 379.5,-272.5 \" stroke=\"black\"/>\n",
       "<text font-family=\"Times,serif\" font-size=\"14.00\" text-anchor=\"middle\" x=\"333.5\" y=\"-257.3\">(None, 20)</text>\n",
       "</g>\n",
       "<!-- 140341617195048 -->\n",
       "<g class=\"node\" id=\"node3\"><title>140341617195048</title>\n",
       "<polygon fill=\"none\" points=\"0,-166.5 0,-212.5 417,-212.5 417,-166.5 0,-166.5\" stroke=\"black\"/>\n",
       "<text font-family=\"Times,serif\" font-size=\"14.00\" text-anchor=\"middle\" x=\"110.5\" y=\"-185.8\">embedded_data: Embedding</text>\n",
       "<polyline fill=\"none\" points=\"221,-166.5 221,-212.5 \" stroke=\"black\"/>\n",
       "<text font-family=\"Times,serif\" font-size=\"14.00\" text-anchor=\"middle\" x=\"255\" y=\"-197.3\">input:</text>\n",
       "<polyline fill=\"none\" points=\"221,-189.5 289,-189.5 \" stroke=\"black\"/>\n",
       "<text font-family=\"Times,serif\" font-size=\"14.00\" text-anchor=\"middle\" x=\"255\" y=\"-174.3\">output:</text>\n",
       "<polyline fill=\"none\" points=\"289,-166.5 289,-212.5 \" stroke=\"black\"/>\n",
       "<text font-family=\"Times,serif\" font-size=\"14.00\" text-anchor=\"middle\" x=\"353\" y=\"-197.3\">(None, 20)</text>\n",
       "<polyline fill=\"none\" points=\"289,-189.5 417,-189.5 \" stroke=\"black\"/>\n",
       "<text font-family=\"Times,serif\" font-size=\"14.00\" text-anchor=\"middle\" x=\"353\" y=\"-174.3\">(None, 20, 100)</text>\n",
       "</g>\n",
       "<!-- 140343226534544&#45;&gt;140341617195048 -->\n",
       "<g class=\"edge\" id=\"edge1\"><title>140343226534544-&gt;140341617195048</title>\n",
       "<path d=\"M208.5,-249.366C208.5,-241.152 208.5,-231.658 208.5,-222.725\" fill=\"none\" stroke=\"black\"/>\n",
       "<polygon fill=\"black\" points=\"212,-222.607 208.5,-212.607 205,-222.607 212,-222.607\" stroke=\"black\"/>\n",
       "</g>\n",
       "<!-- 140341173783128 -->\n",
       "<g class=\"node\" id=\"node2\"><title>140341173783128</title>\n",
       "<polygon fill=\"none\" points=\"435,-166.5 435,-212.5 788,-212.5 788,-166.5 435,-166.5\" stroke=\"black\"/>\n",
       "<text font-family=\"Times,serif\" font-size=\"14.00\" text-anchor=\"middle\" x=\"531.5\" y=\"-185.8\">input_labels: InputLayer</text>\n",
       "<polyline fill=\"none\" points=\"628,-166.5 628,-212.5 \" stroke=\"black\"/>\n",
       "<text font-family=\"Times,serif\" font-size=\"14.00\" text-anchor=\"middle\" x=\"662\" y=\"-197.3\">input:</text>\n",
       "<polyline fill=\"none\" points=\"628,-189.5 696,-189.5 \" stroke=\"black\"/>\n",
       "<text font-family=\"Times,serif\" font-size=\"14.00\" text-anchor=\"middle\" x=\"662\" y=\"-174.3\">output:</text>\n",
       "<polyline fill=\"none\" points=\"696,-166.5 696,-212.5 \" stroke=\"black\"/>\n",
       "<text font-family=\"Times,serif\" font-size=\"14.00\" text-anchor=\"middle\" x=\"742\" y=\"-197.3\">(None, 20)</text>\n",
       "<polyline fill=\"none\" points=\"696,-189.5 788,-189.5 \" stroke=\"black\"/>\n",
       "<text font-family=\"Times,serif\" font-size=\"14.00\" text-anchor=\"middle\" x=\"742\" y=\"-174.3\">(None, 20)</text>\n",
       "</g>\n",
       "<!-- 140341173816064 -->\n",
       "<g class=\"node\" id=\"node4\"><title>140341173816064</title>\n",
       "<polygon fill=\"none\" points=\"397,-83.5 397,-129.5 824,-129.5 824,-83.5 397,-83.5\" stroke=\"black\"/>\n",
       "<text font-family=\"Times,serif\" font-size=\"14.00\" text-anchor=\"middle\" x=\"512.5\" y=\"-102.8\">embedded_labels: Embedding</text>\n",
       "<polyline fill=\"none\" points=\"628,-83.5 628,-129.5 \" stroke=\"black\"/>\n",
       "<text font-family=\"Times,serif\" font-size=\"14.00\" text-anchor=\"middle\" x=\"662\" y=\"-114.3\">input:</text>\n",
       "<polyline fill=\"none\" points=\"628,-106.5 696,-106.5 \" stroke=\"black\"/>\n",
       "<text font-family=\"Times,serif\" font-size=\"14.00\" text-anchor=\"middle\" x=\"662\" y=\"-91.3\">output:</text>\n",
       "<polyline fill=\"none\" points=\"696,-83.5 696,-129.5 \" stroke=\"black\"/>\n",
       "<text font-family=\"Times,serif\" font-size=\"14.00\" text-anchor=\"middle\" x=\"760\" y=\"-114.3\">(None, 20)</text>\n",
       "<polyline fill=\"none\" points=\"696,-106.5 824,-106.5 \" stroke=\"black\"/>\n",
       "<text font-family=\"Times,serif\" font-size=\"14.00\" text-anchor=\"middle\" x=\"760\" y=\"-91.3\">(None, 20, 100)</text>\n",
       "</g>\n",
       "<!-- 140341173783128&#45;&gt;140341173816064 -->\n",
       "<g class=\"edge\" id=\"edge2\"><title>140341173783128-&gt;140341173816064</title>\n",
       "<path d=\"M611.227,-166.366C611.125,-158.152 611.008,-148.658 610.898,-139.725\" fill=\"none\" stroke=\"black\"/>\n",
       "<polygon fill=\"black\" points=\"614.396,-139.563 610.773,-129.607 607.397,-139.649 614.396,-139.563\" stroke=\"black\"/>\n",
       "</g>\n",
       "<!-- 140340877599632 -->\n",
       "<g class=\"node\" id=\"node5\"><title>140340877599632</title>\n",
       "<polygon fill=\"none\" points=\"41.5,-83.5 41.5,-129.5 377.5,-129.5 377.5,-83.5 41.5,-83.5\" stroke=\"black\"/>\n",
       "<text font-family=\"Times,serif\" font-size=\"14.00\" text-anchor=\"middle\" x=\"111.5\" y=\"-102.8\">model_14: Model</text>\n",
       "<polyline fill=\"none\" points=\"181.5,-83.5 181.5,-129.5 \" stroke=\"black\"/>\n",
       "<text font-family=\"Times,serif\" font-size=\"14.00\" text-anchor=\"middle\" x=\"215.5\" y=\"-114.3\">input:</text>\n",
       "<polyline fill=\"none\" points=\"181.5,-106.5 249.5,-106.5 \" stroke=\"black\"/>\n",
       "<text font-family=\"Times,serif\" font-size=\"14.00\" text-anchor=\"middle\" x=\"215.5\" y=\"-91.3\">output:</text>\n",
       "<polyline fill=\"none\" points=\"249.5,-83.5 249.5,-129.5 \" stroke=\"black\"/>\n",
       "<text font-family=\"Times,serif\" font-size=\"14.00\" text-anchor=\"middle\" x=\"313.5\" y=\"-114.3\">(None, 20, 100)</text>\n",
       "<polyline fill=\"none\" points=\"249.5,-106.5 377.5,-106.5 \" stroke=\"black\"/>\n",
       "<text font-family=\"Times,serif\" font-size=\"14.00\" text-anchor=\"middle\" x=\"313.5\" y=\"-91.3\">(None, 20, 100)</text>\n",
       "</g>\n",
       "<!-- 140341617195048&#45;&gt;140340877599632 -->\n",
       "<g class=\"edge\" id=\"edge3\"><title>140341617195048-&gt;140340877599632</title>\n",
       "<path d=\"M208.773,-166.366C208.875,-158.152 208.992,-148.658 209.102,-139.725\" fill=\"none\" stroke=\"black\"/>\n",
       "<polygon fill=\"black\" points=\"212.603,-139.649 209.227,-129.607 205.604,-139.563 212.603,-139.649\" stroke=\"black\"/>\n",
       "</g>\n",
       "<!-- 140340207162648 -->\n",
       "<g class=\"node\" id=\"node6\"><title>140340207162648</title>\n",
       "<polygon fill=\"none\" points=\"142.5,-0.5 142.5,-46.5 676.5,-46.5 676.5,-0.5 142.5,-0.5\" stroke=\"black\"/>\n",
       "<text font-family=\"Times,serif\" font-size=\"14.00\" text-anchor=\"middle\" x=\"245.5\" y=\"-19.8\">cosine_proximity: Lambda</text>\n",
       "<polyline fill=\"none\" points=\"348.5,-0.5 348.5,-46.5 \" stroke=\"black\"/>\n",
       "<text font-family=\"Times,serif\" font-size=\"14.00\" text-anchor=\"middle\" x=\"382.5\" y=\"-31.3\">input:</text>\n",
       "<polyline fill=\"none\" points=\"348.5,-23.5 416.5,-23.5 \" stroke=\"black\"/>\n",
       "<text font-family=\"Times,serif\" font-size=\"14.00\" text-anchor=\"middle\" x=\"382.5\" y=\"-8.3\">output:</text>\n",
       "<polyline fill=\"none\" points=\"416.5,-0.5 416.5,-46.5 \" stroke=\"black\"/>\n",
       "<text font-family=\"Times,serif\" font-size=\"14.00\" text-anchor=\"middle\" x=\"546.5\" y=\"-31.3\">[(None, 20, 100), (None, 20, 100)]</text>\n",
       "<polyline fill=\"none\" points=\"416.5,-23.5 676.5,-23.5 \" stroke=\"black\"/>\n",
       "<text font-family=\"Times,serif\" font-size=\"14.00\" text-anchor=\"middle\" x=\"546.5\" y=\"-8.3\">(None, 1)</text>\n",
       "</g>\n",
       "<!-- 140341173816064&#45;&gt;140340207162648 -->\n",
       "<g class=\"edge\" id=\"edge4\"><title>140341173816064-&gt;140340207162648</title>\n",
       "<path d=\"M555.841,-83.4734C530.475,-73.2512 500.15,-61.0308 473.701,-50.3719\" fill=\"none\" stroke=\"black\"/>\n",
       "<polygon fill=\"black\" points=\"474.731,-47.0137 464.148,-46.5222 472.115,-53.5064 474.731,-47.0137\" stroke=\"black\"/>\n",
       "</g>\n",
       "<!-- 140340877599632&#45;&gt;140340207162648 -->\n",
       "<g class=\"edge\" id=\"edge5\"><title>140340877599632-&gt;140340207162648</title>\n",
       "<path d=\"M263.887,-83.4734C289.127,-73.2512 319.301,-61.0308 345.619,-50.3719\" fill=\"none\" stroke=\"black\"/>\n",
       "<polygon fill=\"black\" points=\"347.169,-53.5202 355.124,-46.5222 344.542,-47.0321 347.169,-53.5202\" stroke=\"black\"/>\n",
       "</g>\n",
       "</g>\n",
       "</svg>"
      ],
      "text/plain": [
       "<IPython.core.display.SVG object>"
      ]
     },
     "execution_count": 24,
     "metadata": {},
     "output_type": "execute_result"
    }
   ],
   "source": [
    "SVG(model_to_dot(model, show_shapes=True).create(prog='dot', format='svg'))"
   ]
  },
  {
   "cell_type": "code",
   "execution_count": 25,
   "metadata": {
    "collapsed": true
   },
   "outputs": [],
   "source": [
    "model.compile(loss={\"cosine_proximity\": lambda y_true, y_pred: y_pred}, \n",
    "              optimizer=\"adam\")"
   ]
  },
  {
   "cell_type": "code",
   "execution_count": 26,
   "metadata": {
    "collapsed": true
   },
   "outputs": [],
   "source": [
    "model_predictive = Model(inputs=[inp_data], outputs=[encdec])"
   ]
  },
  {
   "cell_type": "markdown",
   "metadata": {},
   "source": [
    "# Training"
   ]
  },
  {
   "cell_type": "code",
   "execution_count": 27,
   "metadata": {
    "collapsed": true
   },
   "outputs": [],
   "source": [
    "train_data = ({\"input_data\": X_train, \n",
    "               \"input_labels\": y_train}, \n",
    "              {\"cosine_proximity\": np.zeros([X_train.shape[0]])})"
   ]
  },
  {
   "cell_type": "code",
   "execution_count": 28,
   "metadata": {
    "collapsed": true
   },
   "outputs": [],
   "source": [
    "valid_data = ({\"input_data\": X_valid, \n",
    "               \"input_labels\": y_valid}, \n",
    "              {\"cosine_proximity\": np.zeros([X_valid.shape[0]])})"
   ]
  },
  {
   "cell_type": "code",
   "execution_count": 29,
   "metadata": {},
   "outputs": [
    {
     "name": "stderr",
     "output_type": "stream",
     "text": [
      "/opt/conda/lib/python3.6/site-packages/keras/backend/tensorflow_backend.py:2252: UserWarning: Expected no kwargs, you passed 1\n",
      "kwargs passed to function are ignored with Tensorflow backend\n",
      "  warnings.warn('\\n'.join(msg))\n"
     ]
    }
   ],
   "source": [
    "hist = model.fit(*train_data, \n",
    "                 epochs=40, \n",
    "                 validation_data=valid_data, \n",
    "                 verbose=0)"
   ]
  },
  {
   "cell_type": "code",
   "execution_count": 30,
   "metadata": {},
   "outputs": [
    {
     "data": {
      "image/png": "[encoded data removed]",
      "text/plain": [
       "<matplotlib.figure.Figure at 0x7fa35db47f98>"
      ]
     },
     "metadata": {},
     "output_type": "display_data"
    }
   ],
   "source": [
    "plt.plot(hist.history[\"loss\"], label=\"Train\")\n",
    "plt.plot(hist.history[\"val_loss\"], label=\"Test\")\n",
    "plt.xlabel(\"Epoch\", fontsize=14)\n",
    "plt.ylabel(\"Cosine proximity\", fontsize=14)\n",
    "plt.legend();"
   ]
  },
  {
   "cell_type": "code",
   "execution_count": 31,
   "metadata": {},
   "outputs": [
    {
     "name": "stderr",
     "output_type": "stream",
     "text": [
      "/opt/conda/lib/python3.6/site-packages/keras/backend/tensorflow_backend.py:2252: UserWarning: Expected no kwargs, you passed 1\n",
      "kwargs passed to function are ignored with Tensorflow backend\n",
      "  warnings.warn('\\n'.join(msg))\n"
     ]
    }
   ],
   "source": [
    "preds = model_predictive.predict(X_valid)"
   ]
  },
  {
   "cell_type": "markdown",
   "metadata": {},
   "source": [
    "# Reconstruct answers"
   ]
  },
  {
   "cell_type": "code",
   "execution_count": 32,
   "metadata": {
    "collapsed": true
   },
   "outputs": [],
   "source": [
    "class Embeddings(object):\n",
    "    \n",
    "    def __init__(self, embedding_dict):\n",
    "        \"\"\"\n",
    "        Implements simple routine to work with word vector\n",
    "        using pre-trained embedding and sklearn nearest\n",
    "        neighbors module\n",
    "        \n",
    "        Args:\n",
    "            embedding_dict(dict): words as keys and vectors as values\n",
    "\n",
    "        Return:\n",
    "            self\n",
    "        \"\"\"\n",
    "        # initialize word and vector arrays\n",
    "        self.words = np.array(list(embedding_dict.keys()))\n",
    "        self.vectors = np.array(list(embedding_dict.values()))\n",
    "        # fir nearest neighbors model with cosine similatiry between word-vectors\n",
    "        self._nn = NearestNeighbors(metric=\"cosine\", n_jobs=1, algorithm=\"brute\")\n",
    "        self._nn.fit(self.vectors)\n",
    "        \n",
    "    def get_vector(self, word):\n",
    "        \"\"\"\n",
    "        Return the word-vector for given word if it is in the vocabulary\n",
    "        \n",
    "        Args:\n",
    "            word(str): word to look up for\n",
    "            \n",
    "        Return:\n",
    "            vector(ndarray): vector for given word\n",
    "        \"\"\"\n",
    "        \n",
    "        assert (word in self.words), \"Word is not in the vocabulary\"\n",
    "        word_idx = np.where(self.words == word)[0]\n",
    "        return self.vectors[word_idx]\n",
    "            \n",
    "    def closest(self, word, n_closest=1, include_itself=True):\n",
    "        \"\"\"\n",
    "        Find the closest word in the vocabulary to the given data\n",
    "        \n",
    "        Args:\n",
    "            word(str or ndarray): if str then the corresponding\n",
    "                                  vector will be retrieved first;\n",
    "                                  ndarray will be treated as a\n",
    "                                  word-vector\n",
    "            n_closest(int): number of closest words to return\n",
    "            include_itself(bool): whether to include the vector\n",
    "                                  itself if it is in the vocabulary\n",
    "                                  \n",
    "        Return:\n",
    "            words(ndarray of str): array with closest words\n",
    "        \"\"\"\n",
    "        # check which input do we have\n",
    "        if type(word) is str:\n",
    "            word_vector = self.get_vector(word)\n",
    "        else:\n",
    "            word_vector = word\n",
    "        # distinguish between returning itself and not\n",
    "        if include_itself:\n",
    "            closest_idxs = self._nn.kneighbors(word_vector, n_neighbors=n_closest)\n",
    "            return self.words[closest_idxs[1][0]]\n",
    "        else:\n",
    "            closest_idxs = self._nn.kneighbors(word_vector, n_neighbors=n_closest + 1)\n",
    "            return self.words[closest_idxs[1][0][1:]]"
   ]
  },
  {
   "cell_type": "code",
   "execution_count": 33,
   "metadata": {
    "collapsed": true
   },
   "outputs": [],
   "source": [
    "restricted_dict = dict(list(zip([\"NULL\"] + list(tk.word_index.keys()), embedding_matrix)))"
   ]
  },
  {
   "cell_type": "code",
   "execution_count": 34,
   "metadata": {
    "collapsed": true
   },
   "outputs": [],
   "source": [
    "w2v = Embeddings(restricted_dict)"
   ]
  },
  {
   "cell_type": "code",
   "execution_count": 35,
   "metadata": {
    "collapsed": true
   },
   "outputs": [],
   "source": [
    "inv_word_index = {v: k for k, v in tk.word_index.items()}\n",
    "inv_word_index[0] = \"NULL\""
   ]
  },
  {
   "cell_type": "code",
   "execution_count": 36,
   "metadata": {
    "collapsed": true
   },
   "outputs": [],
   "source": [
    "pred_text = []\n",
    "true_text = []\n",
    "for sentence_idx in range(len(preds)):\n",
    "    pred = []\n",
    "    true = []\n",
    "    for word_idx in range(len(preds[sentence_idx])):\n",
    "        pred.append(w2v.closest([preds[sentence_idx][word_idx]])[0])\n",
    "        true.append(inv_word_index[y_valid[sentence_idx][word_idx]])\n",
    "    pred_text.append(pred)\n",
    "    true_text.append(true)"
   ]
  },
  {
   "cell_type": "markdown",
   "metadata": {
    "collapsed": true
   },
   "source": [
    "## Comparison of answers"
   ]
  },
  {
   "cell_type": "code",
   "execution_count": 37,
   "metadata": {},
   "outputs": [
    {
     "name": "stdout",
     "output_type": "stream",
     "text": [
      "True text:\n",
      " ['NULL', 'NULL', 'NULL', 'NULL', 'NULL', 'NULL', 'NULL', 'NULL', 'NULL', 'NULL', 'NULL', 'NULL', 'NULL', 'NULL', 'NULL', 'NULL', 'what', 'else', 'is', 'delicious']\n",
      "Pred text:\n",
      " ['so', 'anyway', 'anyway', 'anyway', 'anyway', 'anyway', 'anyway', 'anyway', 'anyway', 'anyway', 'anyway', 'anyway', 'anyway', 'anyway', 'anyway', 'anyway', 'anyway', 'anyway', 'anyway', 'anyway']\n"
     ]
    }
   ],
   "source": [
    "idx = 0\n",
    "print(\"True text:\\n\", true_text[idx])\n",
    "print(\"Pred text:\\n\", pred_text[idx])"
   ]
  }
 ],
 "metadata": {
  "kernelspec": {
   "display_name": "Python 3",
   "language": "python",
   "name": "python3"
  },
  "language_info": {
   "codemirror_mode": {
    "name": "ipython",
    "version": 3
   },
   "file_extension": ".py",
   "mimetype": "text/x-python",
   "name": "python",
   "nbconvert_exporter": "python",
   "pygments_lexer": "ipython3",
   "version": "3.6.2"
  },
  "toc": {
   "nav_menu": {
    "height": "12px",
    "width": "252px"
   },
   "number_sections": true,
   "sideBar": true,
   "skip_h1_title": false,
   "toc_cell": false,
   "toc_position": {},
   "toc_section_display": "block",
   "toc_window_display": true
  }
 },
 "nbformat": 4,
 "nbformat_minor": 2
}
